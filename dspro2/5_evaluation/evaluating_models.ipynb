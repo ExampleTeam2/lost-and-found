{
 "cells": [
  {
   "cell_type": "code",
   "execution_count": 1,
   "metadata": {
    "scrolled": true
   },
   "outputs": [],
   "source": [
    "# important for gpuhub\n",
    "# !pip install -r ../../requirements.txt --upgrade"
   ]
  },
  {
   "cell_type": "markdown",
   "metadata": {},
   "source": [
    "## Importing Libraries and tokens"
   ]
  },
  {
   "cell_type": "code",
   "execution_count": 2,
   "metadata": {},
   "outputs": [],
   "source": [
    "import wandb\n",
    "import os\n",
    "import pickle\n",
    "import torch\n",
    "\n",
    "# load .env file\n",
    "from dotenv import load_dotenv\n",
    "from wandb_downloader import WandbDownloader\n",
    "from geo_model_tester import GeoModelTester\n",
    "from image_data_handler_test import TestImageDataHandler\n",
    "\n",
    "os.environ['CUDA_LAUNCH_BLOCKING'] = '1'"
   ]
  },
  {
   "cell_type": "code",
   "execution_count": 3,
   "metadata": {},
   "outputs": [],
   "source": [
    "WANDB_TOKEN = os.getenv('WANDB_TOKEN')\n",
    "# Define where to run\n",
    "env_path = '../../.env'\n",
    "if not WANDB_TOKEN and os.path.exists(env_path):\n",
    "  load_dotenv(env_path)\n",
    "  WANDB_TOKEN = os.getenv('WANDB_TOKEN')"
   ]
  },
  {
   "cell_type": "code",
   "execution_count": 4,
   "metadata": {},
   "outputs": [
    {
     "name": "stdout",
     "output_type": "stream",
     "text": [
      "No GPU found.\n"
     ]
    }
   ],
   "source": [
    "# Check if GPU is available\n",
    "if torch.cuda.is_available():\n",
    "    print(\"GPU is available.\")\n",
    "    \n",
    "    # Print the name of the GPU\n",
    "    print(f\"GPU Name: {torch.cuda.get_device_name(0)}\")\n",
    "    \n",
    "    # Print the total and available memory\n",
    "    total_memory = torch.cuda.get_device_properties(0).total_memory / 1e9  # Convert bytes to GB\n",
    "    print(f\"Total Memory: {total_memory:.2f} GB\")\n",
    "\n",
    "    allocated_memory = torch.cuda.memory_allocated(0) / 1e9  # Convert bytes to GB\n",
    "    print(f\"Allocated Memory: {allocated_memory:.2f} GB\")\n",
    "\n",
    "    cached_memory = torch.cuda.memory_reserved(0) / 1e9  # Convert bytes to GB\n",
    "    print(f\"Cached Memory: {cached_memory:.2f} GB\")\n",
    "\n",
    "    # Print other properties\n",
    "    device_properties = torch.cuda.get_device_properties(0)\n",
    "    print(f\"CUDA Capability: {device_properties.major}.{device_properties.minor}\")\n",
    "    print(f\"Multi-Processor Count: {device_properties.multi_processor_count}\")\n",
    "else:\n",
    "    print(\"No GPU found.\")"
   ]
  },
  {
   "cell_type": "markdown",
   "metadata": {},
   "source": [
    "## Loading files from wandb"
   ]
  },
  {
   "cell_type": "code",
   "execution_count": 5,
   "metadata": {},
   "outputs": [
    {
     "name": "stderr",
     "output_type": "stream",
     "text": [
      "Failed to detect the name of this notebook, you can set it manually with the WANDB_NOTEBOOK_NAME environment variable to enable code saving.\n",
      "\u001b[34m\u001b[1mwandb\u001b[0m: Currently logged in as: \u001b[33mkillusions\u001b[0m. Use \u001b[1m`wandb login --relogin`\u001b[0m to force relogin\n"
     ]
    },
    {
     "data": {
      "text/plain": [
       "True"
      ]
     },
     "execution_count": 5,
     "metadata": {},
     "output_type": "execute_result"
    }
   ],
   "source": [
    "wandb.login(key=WANDB_TOKEN) if WANDB_TOKEN else wandb.login()"
   ]
  },
  {
   "cell_type": "code",
   "execution_count": 6,
   "metadata": {},
   "outputs": [
    {
     "name": "stdout",
     "output_type": "stream",
     "text": [
      "{'Best Run 1': {'files': {'artifact/906640740/wandb_manifest.json': 'https://api.wandb.ai/files/nlp_ls/dspro2-predicting-region/ctgys9z9/artifact/906640740/wandb_manifest.json',\n",
      "                          'best_model': 'https://api.wandb.ai/files/nlp_ls/dspro2-predicting-region/ctgys9z9/best_model_checkpointmodel_efficientnet_b1_lr_0.1_opt_adamW_weightDecay_0.1_imgSize_[80, '\n",
      "                                        '130]_predict_coordinates_False.pth',\n",
      "                          'country_to_index.json': 'https://api.wandb.ai/files/nlp_ls/dspro2-predicting-region/ctgys9z9/country_to_index.json',\n",
      "                          'files/country_to_index.json': 'https://api.wandb.ai/files/nlp_ls/dspro2-predicting-region/ctgys9z9/files/country_to_index.json',\n",
      "                          'files/region_index_to_country_index.json': 'https://api.wandb.ai/files/nlp_ls/dspro2-predicting-region/ctgys9z9/files/region_index_to_country_index.json',\n",
      "                          'files/region_index_to_middle_point.json': 'https://api.wandb.ai/files/nlp_ls/dspro2-predicting-region/ctgys9z9/files/region_index_to_middle_point.json',\n",
      "                          'files/region_to_index.json': 'https://api.wandb.ai/files/nlp_ls/dspro2-predicting-region/ctgys9z9/files/region_to_index.json',\n",
      "                          'files/test_data.pth': 'https://api.wandb.ai/files/nlp_ls/dspro2-predicting-region/ctgys9z9/files/test_data.pth',\n",
      "                          'region_index_to_country_index.json': 'https://api.wandb.ai/files/nlp_ls/dspro2-predicting-region/ctgys9z9/region_index_to_country_index.json',\n",
      "                          'region_index_to_middle_point.json': 'https://api.wandb.ai/files/nlp_ls/dspro2-predicting-region/ctgys9z9/region_index_to_middle_point.json',\n",
      "                          'region_to_index.json': 'https://api.wandb.ai/files/nlp_ls/dspro2-predicting-region/ctgys9z9/region_to_index.json',\n",
      "                          'test_data': 'https://api.wandb.ai/files/nlp_ls/dspro2-predicting-region/ctgys9z9/test_data.pth',\n",
      "                          'test_data.pth': 'https://api.wandb.ai/files/nlp_ls/dspro2-predicting-region/ctgys9z9/test_data.pth',\n",
      "                          'wandb-metadata.json': 'https://api.wandb.ai/files/nlp_ls/dspro2-predicting-region/ctgys9z9/wandb-metadata.json',\n",
      "                          'wandb-summary.json': 'https://api.wandb.ai/files/nlp_ls/dspro2-predicting-region/ctgys9z9/wandb-summary.json'},\n",
      "                'id': 'ctgys9z9',\n",
      "                'metrics': {'Validation Accuracy Top 1': 0.00030672964848782285, '_wandb': {'runtime': 6838}, 'Train Distance (km)': 6446.020624437562, 'Train Accuracy Top 3': 0.0003680788039191629, 'Train Accuracy Top 5': 0.00047324417646749513, 'Train Accuracy Top 3 Country': 0, 'Validation Accuracy Top 3 Country': 0, 'Validation Accuracy Top 5 Country': 0, '_runtime': 6832.326695203781, 'Train Loss': 40.48067048294357, '_timestamp': 1718981337.1843271, 'Train Accuracy Top 1': 0.0002453858692794419, 'Validation Distance (km)': 6145.270552990467, 'Validation Accuracy Top 1 Country': 0, '_step': 49, 'Validation Loss': 62.3754750607259, 'Validation Accuracy Top 3': 0.0003680755781853874, 'Train Accuracy Top 1 Country': 0, 'Train Accuracy Top 5 Country': 0, 'Validation Accuracy Top 5': 0.000429421507882952},\n",
      "                'parameters': {'data_augmentation': 'base_augmentation',\n",
      "                               'dataset_identifier': '63289b51067a4c6ede4c44c23a329d82ab4964ed43942794430a9b71ec685b5c',\n",
      "                               'dataset_size': 81505,\n",
      "                               'different_countries': 75,\n",
      "                               'different_regions': 4596,\n",
      "                               'epochs': 50,\n",
      "                               'input_image_size': [80, 130],\n",
      "                               'learning_rate': 0.1,\n",
      "                               'mapped_data': True,\n",
      "                               'model_name': 'efficientnet_b1',\n",
      "                               'optimizer': 'adamW',\n",
      "                               'predict_coordinates': False,\n",
      "                               'predict_regions': True,\n",
      "                               'seed': 42,\n",
      "                               'weight_decay': 0.1}}}\n"
     ]
    }
   ],
   "source": [
    "# Example usage:\n",
    "entity = \"nlp_ls\"\n",
    "project = \"dspro2-predicting-region\"\n",
    "predict_coordinates=False\n",
    "predict_regions=True\n",
    "metric_name = \"Validation Accuracy Top 1\"\n",
    "data_augmentation = \"base_augmentation\" # or \"full_augmentation_v2\"\n",
    "datasize = 81505  # Replace with the desired datasize\n",
    "file_names_to_download = [\".pth\", \".json\"]\n",
    "image_size = [80, 130]\n",
    "\n",
    "downloader = WandbDownloader(entity, project, data_augmentation, datasize, image_size)\n",
    "run_data = downloader.get_and_collect_best_runs(metric_name, file_names_to_download)\n",
    "\n",
    "# Now run_data contains all necessary information for further processing\n",
    "import pprint\n",
    "pprint.pprint(run_data)"
   ]
  },
  {
   "cell_type": "code",
   "execution_count": 7,
   "metadata": {},
   "outputs": [
    {
     "data": {
      "text/plain": [
       "dict_keys(['Best Run 1'])"
      ]
     },
     "execution_count": 7,
     "metadata": {},
     "output_type": "execute_result"
    }
   ],
   "source": [
    "run_data.keys()"
   ]
  },
  {
   "cell_type": "code",
   "execution_count": 8,
   "metadata": {},
   "outputs": [
    {
     "name": "stdout",
     "output_type": "stream",
     "text": [
      "Validation Accuracy Top 1:  0.00030672964848782285\n",
      "Validation Accuracy Top 3:  0.0003680755781853874\n",
      "Validation Accuracy Top 5:  0.000429421507882952\n"
     ]
    }
   ],
   "source": [
    "# Print the validation accuracy for the top 1, 3, and 5 predictions\n",
    "for i in [1, 3, 5]:\n",
    "    print(f\"Validation Accuracy Top {i}: \", run_data[\"Best Run 1\"][\"metrics\"][f\"Validation Accuracy Top {i}\"])"
   ]
  },
  {
   "cell_type": "code",
   "execution_count": 9,
   "metadata": {},
   "outputs": [
    {
     "data": {
      "text/plain": [
       "{'seed': 42,\n",
       " 'epochs': 50,\n",
       " 'optimizer': 'adamW',\n",
       " 'model_name': 'efficientnet_b1',\n",
       " 'mapped_data': True,\n",
       " 'dataset_size': 81505,\n",
       " 'weight_decay': 0.1,\n",
       " 'learning_rate': 0.1,\n",
       " 'predict_regions': True,\n",
       " 'input_image_size': [80, 130],\n",
       " 'data_augmentation': 'base_augmentation',\n",
       " 'different_regions': 4596,\n",
       " 'dataset_identifier': '63289b51067a4c6ede4c44c23a329d82ab4964ed43942794430a9b71ec685b5c',\n",
       " 'different_countries': 75,\n",
       " 'predict_coordinates': False}"
      ]
     },
     "execution_count": 9,
     "metadata": {},
     "output_type": "execute_result"
    }
   ],
   "source": [
    "run_data[\"Best Run 1\"][\"parameters\"]"
   ]
  },
  {
   "cell_type": "code",
   "execution_count": 10,
   "metadata": {},
   "outputs": [
    {
     "data": {
      "text/plain": [
       "{'artifact/906640740/wandb_manifest.json': 'https://api.wandb.ai/files/nlp_ls/dspro2-predicting-region/ctgys9z9/artifact/906640740/wandb_manifest.json',\n",
       " 'best_model': 'https://api.wandb.ai/files/nlp_ls/dspro2-predicting-region/ctgys9z9/best_model_checkpointmodel_efficientnet_b1_lr_0.1_opt_adamW_weightDecay_0.1_imgSize_[80, 130]_predict_coordinates_False.pth',\n",
       " 'country_to_index.json': 'https://api.wandb.ai/files/nlp_ls/dspro2-predicting-region/ctgys9z9/country_to_index.json',\n",
       " 'files/country_to_index.json': 'https://api.wandb.ai/files/nlp_ls/dspro2-predicting-region/ctgys9z9/files/country_to_index.json',\n",
       " 'files/region_index_to_country_index.json': 'https://api.wandb.ai/files/nlp_ls/dspro2-predicting-region/ctgys9z9/files/region_index_to_country_index.json',\n",
       " 'files/region_index_to_middle_point.json': 'https://api.wandb.ai/files/nlp_ls/dspro2-predicting-region/ctgys9z9/files/region_index_to_middle_point.json',\n",
       " 'files/region_to_index.json': 'https://api.wandb.ai/files/nlp_ls/dspro2-predicting-region/ctgys9z9/files/region_to_index.json',\n",
       " 'files/test_data.pth': 'https://api.wandb.ai/files/nlp_ls/dspro2-predicting-region/ctgys9z9/files/test_data.pth',\n",
       " 'region_index_to_country_index.json': 'https://api.wandb.ai/files/nlp_ls/dspro2-predicting-region/ctgys9z9/region_index_to_country_index.json',\n",
       " 'region_index_to_middle_point.json': 'https://api.wandb.ai/files/nlp_ls/dspro2-predicting-region/ctgys9z9/region_index_to_middle_point.json',\n",
       " 'region_to_index.json': 'https://api.wandb.ai/files/nlp_ls/dspro2-predicting-region/ctgys9z9/region_to_index.json',\n",
       " 'test_data.pth': 'https://api.wandb.ai/files/nlp_ls/dspro2-predicting-region/ctgys9z9/test_data.pth',\n",
       " 'wandb-metadata.json': 'https://api.wandb.ai/files/nlp_ls/dspro2-predicting-region/ctgys9z9/wandb-metadata.json',\n",
       " 'wandb-summary.json': 'https://api.wandb.ai/files/nlp_ls/dspro2-predicting-region/ctgys9z9/wandb-summary.json',\n",
       " 'test_data': 'https://api.wandb.ai/files/nlp_ls/dspro2-predicting-region/ctgys9z9/test_data.pth'}"
      ]
     },
     "execution_count": 10,
     "metadata": {},
     "output_type": "execute_result"
    }
   ],
   "source": [
    "run_data[\"Best Run 1\"][\"files\"]"
   ]
  },
  {
   "cell_type": "markdown",
   "metadata": {},
   "source": [
    "## Loading metrics for best runs for each datasize, with and without augmentation"
   ]
  },
  {
   "cell_type": "code",
   "execution_count": 11,
   "metadata": {},
   "outputs": [],
   "source": [
    "# Load best runs\n",
    "def load_best_runs(entity, project, metric_name, data_augmentation, datasize, image_size, file_names_to_download):\n",
    "    downloader = WandbDownloader(entity, project, data_augmentation, datasize, image_size)\n",
    "    return downloader.get_and_collect_best_runs(metric_name, file_names_to_download)"
   ]
  },
  {
   "cell_type": "code",
   "execution_count": 12,
   "metadata": {},
   "outputs": [],
   "source": [
    "# Parameters & Configurations\n",
    "entity = \"nlp_ls\"\n",
    "metric_name = \"Validation Accuracy Top 1\"\n",
    "file_names_to_download = [\".pth\", \".json\"]\n",
    "\n",
    "configurations = [\n",
    "    {\"project\": \"dspro2-predicting-country\", \"data_augmentation\": \"base_augmentation\", \"datasize\": 81505, \"image_size\": [80, 130]},\n",
    "    {\"project\": \"dspro2-predicting-country\", \"data_augmentation\": \"full_augmentation_v2\", \"datasize\": 81505, \"image_size\": [80, 130]},\n",
    "    {\"project\": \"dspro2-basemodel-predicting-country\", \"data_augmentation\": \"base_augmentation\", \"datasize\": 330000, \"image_size\": [80, 130]},\n",
    "    {\"project\": \"dspro2-basemodel-predicting-country\", \"data_augmentation\": \"base_augmentation\", \"datasize\": 79000, \"image_size\": [180, 320]},\n",
    "]\n",
    "\n",
    "# Collect results and save them\n",
    "results = {}\n",
    "for config in configurations:\n",
    "    key = f\"{config['project']}_{config['data_augmentation']}_{config['datasize']}_{config['image_size']}\"\n",
    "    results[key] = load_best_runs(entity, config['project'], metric_name, config['data_augmentation'], config['datasize'], config['image_size'], file_names_to_download)"
   ]
  },
  {
   "cell_type": "code",
   "execution_count": 13,
   "metadata": {},
   "outputs": [
    {
     "data": {
      "text/plain": [
       "{'dspro2-predicting-country_base_augmentation_81505_[80, 130]': {},\n",
       " 'dspro2-predicting-country_full_augmentation_v2_81505_[80, 130]': {},\n",
       " 'dspro2-basemodel-predicting-country_base_augmentation_330000_[80, 130]': {},\n",
       " 'dspro2-basemodel-predicting-country_base_augmentation_79000_[180, 320]': {}}"
      ]
     },
     "execution_count": 13,
     "metadata": {},
     "output_type": "execute_result"
    }
   ],
   "source": [
    "results"
   ]
  },
  {
   "cell_type": "code",
   "execution_count": 14,
   "metadata": {},
   "outputs": [
    {
     "name": "stdout",
     "output_type": "stream",
     "text": [
      "Results saved to best_runs.json\n"
     ]
    }
   ],
   "source": [
    "import json\n",
    "\n",
    "# Save results to a JSON file\n",
    "# TODO: Fix\n",
    "# with open('best_runs.json', 'w') as json_file:\n",
    "    # json.dump(results, json_file, indent=4)\n",
    "\n",
    "print(\"Results saved to best_runs.json\")"
   ]
  },
  {
   "cell_type": "code",
   "execution_count": null,
   "metadata": {},
   "outputs": [],
   "source": []
  },
  {
   "cell_type": "code",
   "execution_count": null,
   "metadata": {},
   "outputs": [],
   "source": []
  },
  {
   "cell_type": "markdown",
   "metadata": {},
   "source": [
    "## Loading data and creating data loader"
   ]
  },
  {
   "cell_type": "code",
   "execution_count": 15,
   "metadata": {},
   "outputs": [
    {
     "name": "stdout",
     "output_type": "stream",
     "text": [
      "Loading test data from test_data.pth\n",
      "Test data loaded from cache.\n",
      "Loaded 75 countries.\n",
      "Loaded 4596 regions.\n",
      "Loaded 4596 region middle points.\n",
      "Loaded 2676 region to country index mappings.\n"
     ]
    }
   ],
   "source": [
    "cache = True\n",
    "\n",
    "# Creating Dataloaders with the classes\n",
    "test_dataset = run_data[\"Best Run 1\"][\"files\"]['test_data']\n",
    "files = run_data[\"Best Run 1\"][\"files\"]\n",
    "country_to_index = files.get('country_to_index.json', None)\n",
    "region_to_index = files.get('region_to_index.json', None)\n",
    "region_index_to_middle_point = files.get('region_index_to_middle_point.json', None)\n",
    "region_index_to_country_index = files.get('region_index_to_country_index.json', None)\n",
    "\n",
    "data_handler = TestImageDataHandler(test_dataset, country_to_index, region_to_index, region_index_to_middle_point, region_index_to_country_index, cache=cache)\n",
    "test_dataloader = data_handler.test_loader\n",
    "country_to_index = data_handler.country_to_index\n",
    "region_to_index = data_handler.region_to_index\n",
    "region_index_to_middle_point = data_handler.region_index_to_middle_point\n",
    "region_index_to_country_index = data_handler.region_index_to_country_index\n",
    "\n",
    "num_regions = data_handler.num_regions\n",
    "num_countries = data_handler.num_countries"
   ]
  },
  {
   "cell_type": "markdown",
   "metadata": {},
   "source": [
    "## Evaluating the model"
   ]
  },
  {
   "cell_type": "code",
   "execution_count": 16,
   "metadata": {},
   "outputs": [],
   "source": [
    "num_classes = None if predict_coordinates else (num_regions if predict_regions else num_countries)\n",
    "\n",
    "if num_classes == 0:\n",
    "    raise ValueError(\"No classes detected. Please check the data.\")\n",
    "\n",
    "geo_model_tester = GeoModelTester(\n",
    "    datasize=1000, \n",
    "    train_dataloader=None, \n",
    "    val_dataloader=None, \n",
    "    test_dataloader=test_dataloader, \n",
    "    num_classes=num_classes, \n",
    "    predict_coordinates=predict_coordinates, \n",
    "    country_to_index=country_to_index,\n",
    "    region_to_index=region_to_index,\n",
    "    region_index_to_middle_point=region_index_to_middle_point,\n",
    "    region_index_to_country_index=region_index_to_country_index,\n",
    "    predict_regions=predict_regions if not predict_coordinates else None\n",
    ")"
   ]
  },
  {
   "cell_type": "code",
   "execution_count": 17,
   "metadata": {},
   "outputs": [
    {
     "name": "stdout",
     "output_type": "stream",
     "text": [
      "Test Loss: 53.8091, Test Distance: 3717.8838, Test Top 1 Accuracy: 0.0427, Test Top 3 Accuracy: 0.0901, Test Top 5 Accuracy: 0.1233\n",
      "Test Top 1 Accuracy (Country): 0.2304, Test Top 3 Accuracy (Country): 0.2940, Test Top 5 Accuracy (Country): 0.3360\n"
     ]
    }
   ],
   "source": [
    "# TODO: Debug the region problem because old dataset does not have regions\n",
    "# TODO: Test the model from best runs\n",
    "# TODO: Show the different models with the best results (also do it for different data sizes and mapped/non-mapped data)\n",
    "model_name = run_data[\"Best Run 1\"][\"parameters\"][\"model_name\"]\n",
    "pretrained_weights = run_data[\"Best Run 1\"][\"files\"]['best_model']\n",
    "\n",
    "geo_model_tester.test(model_type=model_name, model_path=pretrained_weights)"
   ]
  }
 ],
 "metadata": {
  "kernelspec": {
   "display_name": "Python 3 (ipykernel)",
   "language": "python",
   "name": "python3"
  },
  "language_info": {
   "codemirror_mode": {
    "name": "ipython",
    "version": 3
   },
   "file_extension": ".py",
   "mimetype": "text/x-python",
   "name": "python",
   "nbconvert_exporter": "python",
   "pygments_lexer": "ipython3",
   "version": "3.12.3"
  }
 },
 "nbformat": 4,
 "nbformat_minor": 4
}
