{
 "cells": [
  {
   "cell_type": "code",
   "execution_count": 1,
   "metadata": {
    "scrolled": true
   },
   "outputs": [],
   "source": [
    "# important for gpuhub\n",
    "# !pip install -r ../../requirements.txt --upgrade"
   ]
  },
  {
   "cell_type": "markdown",
   "metadata": {},
   "source": [
    "## Importing Libraries and tokens"
   ]
  },
  {
   "cell_type": "code",
   "execution_count": 2,
   "metadata": {},
   "outputs": [],
   "source": [
    "import wandb\n",
    "import os\n",
    "import torch\n",
    "\n",
    "# load .env file\n",
    "from dotenv import load_dotenv\n",
    "from wandb_downloader import WandbDownloader\n",
    "from geo_model_tester import GeoModelTester\n",
    "from image_data_handler_test import TestImageDataHandler\n",
    "\n",
    "os.environ['CUDA_LAUNCH_BLOCKING'] = '1'"
   ]
  },
  {
   "cell_type": "code",
   "execution_count": 3,
   "metadata": {},
   "outputs": [],
   "source": [
    "WANDB_TOKEN = os.getenv('WANDB_TOKEN')\n",
    "# Define where to run\n",
    "env_path = '../../.env'\n",
    "if not WANDB_TOKEN and os.path.exists(env_path):\n",
    "  load_dotenv(env_path)\n",
    "  WANDB_TOKEN = os.getenv('WANDB_TOKEN')"
   ]
  },
  {
   "cell_type": "code",
   "execution_count": 4,
   "metadata": {},
   "outputs": [
    {
     "name": "stdout",
     "output_type": "stream",
     "text": [
      "No GPU found.\n"
     ]
    }
   ],
   "source": [
    "# Check if GPU is available\n",
    "if torch.cuda.is_available():\n",
    "    print(\"GPU is available.\")\n",
    "    \n",
    "    # Print the name of the GPU\n",
    "    print(f\"GPU Name: {torch.cuda.get_device_name(0)}\")\n",
    "    \n",
    "    # Print the total and available memory\n",
    "    total_memory = torch.cuda.get_device_properties(0).total_memory / 1e9  # Convert bytes to GB\n",
    "    print(f\"Total Memory: {total_memory:.2f} GB\")\n",
    "\n",
    "    allocated_memory = torch.cuda.memory_allocated(0) / 1e9  # Convert bytes to GB\n",
    "    print(f\"Allocated Memory: {allocated_memory:.2f} GB\")\n",
    "\n",
    "    cached_memory = torch.cuda.memory_reserved(0) / 1e9  # Convert bytes to GB\n",
    "    print(f\"Cached Memory: {cached_memory:.2f} GB\")\n",
    "\n",
    "    # Print other properties\n",
    "    device_properties = torch.cuda.get_device_properties(0)\n",
    "    print(f\"CUDA Capability: {device_properties.major}.{device_properties.minor}\")\n",
    "    print(f\"Multi-Processor Count: {device_properties.multi_processor_count}\")\n",
    "else:\n",
    "    print(\"No GPU found.\")"
   ]
  },
  {
   "cell_type": "markdown",
   "metadata": {},
   "source": [
    "## Loading files from wandb"
   ]
  },
  {
   "cell_type": "code",
   "execution_count": 5,
   "metadata": {},
   "outputs": [
    {
     "name": "stderr",
     "output_type": "stream",
     "text": [
      "Failed to detect the name of this notebook, you can set it manually with the WANDB_NOTEBOOK_NAME environment variable to enable code saving.\n",
      "\u001b[34m\u001b[1mwandb\u001b[0m: Currently logged in as: \u001b[33mluki-st\u001b[0m (\u001b[33mnlp_ls\u001b[0m). Use \u001b[1m`wandb login --relogin`\u001b[0m to force relogin\n",
      "\u001b[34m\u001b[1mwandb\u001b[0m: \u001b[33mWARNING\u001b[0m If you're specifying your api key in code, ensure this code is not shared publicly.\n",
      "\u001b[34m\u001b[1mwandb\u001b[0m: \u001b[33mWARNING\u001b[0m Consider setting the WANDB_API_KEY environment variable, or running `wandb login` from the command line.\n",
      "\u001b[34m\u001b[1mwandb\u001b[0m: Appending key for api.wandb.ai to your netrc file: /Users/lukasstoeckli/.netrc\n"
     ]
    },
    {
     "data": {
      "text/plain": [
       "True"
      ]
     },
     "execution_count": 5,
     "metadata": {},
     "output_type": "execute_result"
    }
   ],
   "source": [
    "wandb.login(key=WANDB_TOKEN) if WANDB_TOKEN else wandb.login()"
   ]
  },
  {
   "cell_type": "code",
   "execution_count": 6,
   "metadata": {},
   "outputs": [
    {
     "name": "stdout",
     "output_type": "stream",
     "text": [
      "{'Best Run 1': {'files': {'artifact/858477759/wandb_manifest.json': 'https://api.wandb.ai/files/nlp_ls/dspro2-predicting-country/10adb1sx/artifact/858477759/wandb_manifest.json',\n",
      "                          'best_model': 'https://api.wandb.ai/files/nlp_ls/dspro2-predicting-country/10adb1sx/best_model_checkpointmodel_efficientnet_b3_lr_0.01_opt_adamW_weightDecay_0.1_imgSize_[80, '\n",
      "                                        '130]_predict_coordinates_False.pth',\n",
      "                          'country_to_index.json': 'https://api.wandb.ai/files/nlp_ls/dspro2-predicting-country/10adb1sx/country_to_index.json',\n",
      "                          'files/country_to_index.json': 'https://api.wandb.ai/files/nlp_ls/dspro2-predicting-country/10adb1sx/files/country_to_index.json',\n",
      "                          'test_data': 'https://api.wandb.ai/files/nlp_ls/dspro2-predicting-country/yns8ucfa/test_data.pth',\n",
      "                          'wandb-metadata.json': 'https://api.wandb.ai/files/nlp_ls/dspro2-predicting-country/10adb1sx/wandb-metadata.json',\n",
      "                          'wandb-summary.json': 'https://api.wandb.ai/files/nlp_ls/dspro2-predicting-country/10adb1sx/wandb-summary.json'},\n",
      "                'id': '10adb1sx',\n",
      "                'metrics': {'Validation Accuracy Top 1': 0.38654070302435434, 'test_data_run_id': 'yns8ucfa', '_timestamp': 1717365134.8293135, 'Train Accuracy Top 3': 0.9998071968169948, 'Validation Accuracy Top 5': 0.7050487700141096, '_step': 34, '_runtime': 9167.00570654869, 'Train Loss': 0.01511603515645834, 'Train Accuracy Top 5': 0.9999474173137258, 'Validation Accuracy Top 3': 0.6087970063186308, '_wandb': {'runtime': 9434}, 'Validation Loss': 4.8439223723472695, 'Train Accuracy Top 1': 0.9953727236078734},\n",
      "                'parameters': {'data_augmentation': 'full_augmentation_v2',\n",
      "                               'dataset_identifier': '63289b51067a4c6ede4c44c23a329d82ab4964ed43942794430a9b71ec685b5c',\n",
      "                               'dataset_size': 81505,\n",
      "                               'different_countries': 75,\n",
      "                               'epochs': 50,\n",
      "                               'input_image_size': [80, 130],\n",
      "                               'learning_rate': 0.01,\n",
      "                               'mapped_data': True,\n",
      "                               'model_name': 'efficientnet_b3',\n",
      "                               'optimizer': 'adamW',\n",
      "                               'predict_coordinates': False,\n",
      "                               'seed': 42,\n",
      "                               'weight_decay': 0.1}},\n",
      " 'Best Run 2': {'files': {'artifact/857253719/wandb_manifest.json': 'https://api.wandb.ai/files/nlp_ls/dspro2-predicting-country/argnrgbc/artifact/857253719/wandb_manifest.json',\n",
      "                          'best_model': 'https://api.wandb.ai/files/nlp_ls/dspro2-predicting-country/argnrgbc/best_model_checkpointmodel_efficientnet_b1_lr_0.01_opt_adamW_weightDecay_0.1_imgSize_[80, '\n",
      "                                        '130]_predict_coordinates_False.pth',\n",
      "                          'country_to_index.json': 'https://api.wandb.ai/files/nlp_ls/dspro2-predicting-country/argnrgbc/country_to_index.json',\n",
      "                          'files/country_to_index.json': 'https://api.wandb.ai/files/nlp_ls/dspro2-predicting-country/argnrgbc/files/country_to_index.json',\n",
      "                          'test_data': 'https://api.wandb.ai/files/nlp_ls/dspro2-predicting-country/yns8ucfa/test_data.pth',\n",
      "                          'wandb-metadata.json': 'https://api.wandb.ai/files/nlp_ls/dspro2-predicting-country/argnrgbc/wandb-metadata.json',\n",
      "                          'wandb-summary.json': 'https://api.wandb.ai/files/nlp_ls/dspro2-predicting-country/argnrgbc/wandb-summary.json'},\n",
      "                'id': 'argnrgbc',\n",
      "                'metrics': {'Validation Accuracy Top 1': 0.3758665112569781, 'test_data_run_id': 'yns8ucfa', 'Train Accuracy Top 3': 0.9968099836993672, '_wandb': {'runtime': 3861}, '_runtime': 3668.524580955506, 'Train Loss': 0.08550690934369871, '_timestamp': 1717266899.448895, 'Validation Loss': 4.139037082242232, 'Train Accuracy Top 1': 0.9750933342681366, 'Train Accuracy Top 5': 0.9989483462745168, '_step': 19, 'Validation Accuracy Top 3': 0.6119256487332065, 'Validation Accuracy Top 5': 0.7123489356481197},\n",
      "                'parameters': {'data_augmentation': 'full_augmentation_v2',\n",
      "                               'dataset_identifier': '63289b51067a4c6ede4c44c23a329d82ab4964ed43942794430a9b71ec685b5c',\n",
      "                               'dataset_size': 81505,\n",
      "                               'different_countries': 75,\n",
      "                               'epochs': 50,\n",
      "                               'input_image_size': [80, 130],\n",
      "                               'learning_rate': 0.01,\n",
      "                               'mapped_data': True,\n",
      "                               'model_name': 'efficientnet_b1',\n",
      "                               'optimizer': 'adamW',\n",
      "                               'predict_coordinates': False,\n",
      "                               'seed': 42,\n",
      "                               'weight_decay': 0.1}},\n",
      " 'Best Run 3': {'files': {'artifact/858477765/wandb_manifest.json': 'https://api.wandb.ai/files/nlp_ls/dspro2-predicting-country/qtxsj5jc/artifact/858477765/wandb_manifest.json',\n",
      "                          'best_model': 'https://api.wandb.ai/files/nlp_ls/dspro2-predicting-country/qtxsj5jc/best_model_checkpointmodel_efficientnet_b3_lr_0.01_opt_adamW_weightDecay_0.01_imgSize_[80, '\n",
      "                                        '130]_predict_coordinates_False.pth',\n",
      "                          'country_to_index.json': 'https://api.wandb.ai/files/nlp_ls/dspro2-predicting-country/qtxsj5jc/country_to_index.json',\n",
      "                          'files/country_to_index.json': 'https://api.wandb.ai/files/nlp_ls/dspro2-predicting-country/qtxsj5jc/files/country_to_index.json',\n",
      "                          'test_data': 'https://api.wandb.ai/files/nlp_ls/dspro2-predicting-country/yns8ucfa/test_data.pth',\n",
      "                          'wandb-metadata.json': 'https://api.wandb.ai/files/nlp_ls/dspro2-predicting-country/qtxsj5jc/wandb-metadata.json',\n",
      "                          'wandb-summary.json': 'https://api.wandb.ai/files/nlp_ls/dspro2-predicting-country/qtxsj5jc/wandb-summary.json'},\n",
      "                'id': 'qtxsj5jc',\n",
      "                'metrics': {'Validation Accuracy Top 1': 0.372921906631495, 'test_data_run_id': 'yns8ucfa', 'Validation Loss': 5.29617777485605, 'Train Accuracy Top 3': 0.9993514802026188, 'Validation Accuracy Top 3': 0.5943193669100055, '_wandb': {'runtime': 5631}, '_runtime': 5363.879630804062, 'Train Loss': 0.028790465996844417, 'Validation Accuracy Top 5': 0.6929636218636893, 'Train Accuracy Top 5': 0.9998071968169948, '_step': 20, '_timestamp': 1717370778.1993098, 'Train Accuracy Top 1': 0.9910609433333918},\n",
      "                'parameters': {'data_augmentation': 'full_augmentation_v2',\n",
      "                               'dataset_identifier': '63289b51067a4c6ede4c44c23a329d82ab4964ed43942794430a9b71ec685b5c',\n",
      "                               'dataset_size': 81505,\n",
      "                               'different_countries': 75,\n",
      "                               'epochs': 50,\n",
      "                               'input_image_size': [80, 130],\n",
      "                               'learning_rate': 0.01,\n",
      "                               'mapped_data': True,\n",
      "                               'model_name': 'efficientnet_b3',\n",
      "                               'optimizer': 'adamW',\n",
      "                               'predict_coordinates': False,\n",
      "                               'seed': 42,\n",
      "                               'weight_decay': 0.01}},\n",
      " 'Best Run 4': {'files': {'artifact/857361634/wandb_manifest.json': 'https://api.wandb.ai/files/nlp_ls/dspro2-predicting-country/u5tu2qac/artifact/857361634/wandb_manifest.json',\n",
      "                          'best_model': 'https://api.wandb.ai/files/nlp_ls/dspro2-predicting-country/u5tu2qac/best_model_checkpointmodel_efficientnet_b1_lr_0.01_opt_adamW_weightDecay_0.001_imgSize_[80, '\n",
      "                                        '130]_predict_coordinates_False.pth',\n",
      "                          'country_to_index.json': 'https://api.wandb.ai/files/nlp_ls/dspro2-predicting-country/u5tu2qac/country_to_index.json',\n",
      "                          'files/country_to_index.json': 'https://api.wandb.ai/files/nlp_ls/dspro2-predicting-country/u5tu2qac/files/country_to_index.json',\n",
      "                          'test_data': 'https://api.wandb.ai/files/nlp_ls/dspro2-predicting-country/yns8ucfa/test_data.pth',\n",
      "                          'wandb-metadata.json': 'https://api.wandb.ai/files/nlp_ls/dspro2-predicting-country/u5tu2qac/wandb-metadata.json',\n",
      "                          'wandb-summary.json': 'https://api.wandb.ai/files/nlp_ls/dspro2-predicting-country/u5tu2qac/wandb-summary.json'},\n",
      "                'id': 'u5tu2qac',\n",
      "                'metrics': {'Validation Accuracy Top 1': 0.3726151769830072, 'test_data_run_id': 'yns8ucfa', '_step': 20, '_wandb': {'runtime': 4051}, 'Train Loss': 0.08136431025377555, '_timestamp': 1717275031.92692, 'Train Accuracy Top 5': 0.9989834013986996, '_runtime': 3859.003124952316, 'Validation Loss': 4.587394208324795, 'Train Accuracy Top 1': 0.9749355862093142, 'Train Accuracy Top 3': 0.997160534941195, 'Validation Accuracy Top 3': 0.6058524016931477, 'Validation Accuracy Top 5': 0.7075026072020122},\n",
      "                'parameters': {'data_augmentation': 'full_augmentation_v2',\n",
      "                               'dataset_identifier': '63289b51067a4c6ede4c44c23a329d82ab4964ed43942794430a9b71ec685b5c',\n",
      "                               'dataset_size': 81505,\n",
      "                               'different_countries': 75,\n",
      "                               'epochs': 50,\n",
      "                               'input_image_size': [80, 130],\n",
      "                               'learning_rate': 0.01,\n",
      "                               'mapped_data': True,\n",
      "                               'model_name': 'efficientnet_b1',\n",
      "                               'optimizer': 'adamW',\n",
      "                               'predict_coordinates': False,\n",
      "                               'seed': 42,\n",
      "                               'weight_decay': 0.001}},\n",
      " 'Best Run 5': {'files': {'artifact/857299318/wandb_manifest.json': 'https://api.wandb.ai/files/nlp_ls/dspro2-predicting-country/qpi4p8oe/artifact/857299318/wandb_manifest.json',\n",
      "                          'best_model': 'https://api.wandb.ai/files/nlp_ls/dspro2-predicting-country/qpi4p8oe/best_model_checkpointmodel_efficientnet_b1_lr_0.01_opt_adamW_weightDecay_0.01_imgSize_[80, '\n",
      "                                        '130]_predict_coordinates_False.pth',\n",
      "                          'country_to_index.json': 'https://api.wandb.ai/files/nlp_ls/dspro2-predicting-country/qpi4p8oe/country_to_index.json',\n",
      "                          'files/country_to_index.json': 'https://api.wandb.ai/files/nlp_ls/dspro2-predicting-country/qpi4p8oe/files/country_to_index.json',\n",
      "                          'test_data': 'https://api.wandb.ai/files/nlp_ls/dspro2-predicting-country/yns8ucfa/test_data.pth',\n",
      "                          'wandb-metadata.json': 'https://api.wandb.ai/files/nlp_ls/dspro2-predicting-country/qpi4p8oe/wandb-metadata.json',\n",
      "                          'wandb-summary.json': 'https://api.wandb.ai/files/nlp_ls/dspro2-predicting-country/qpi4p8oe/wandb-summary.json'},\n",
      "                'id': 'qpi4p8oe',\n",
      "                'metrics': {'Validation Accuracy Top 1': 0.37028403165449975, 'test_data_run_id': 'yns8ucfa', 'Validation Accuracy Top 3': 0.6062204772713331, '_step': 20, '_runtime': 3859.898419857025, 'Train Loss': 0.08394834814318336, 'Validation Loss': 4.5022117954830065, 'Train Accuracy Top 3': 0.9968275112614586, '_wandb': {'runtime': 4052}, '_timestamp': 1717270970.928882, 'Train Accuracy Top 1': 0.9738839324838308, 'Train Accuracy Top 5': 0.998965873836608, 'Validation Accuracy Top 5': 0.710753941475983},\n",
      "                'parameters': {'data_augmentation': 'full_augmentation_v2',\n",
      "                               'dataset_identifier': '63289b51067a4c6ede4c44c23a329d82ab4964ed43942794430a9b71ec685b5c',\n",
      "                               'dataset_size': 81505,\n",
      "                               'different_countries': 75,\n",
      "                               'epochs': 50,\n",
      "                               'input_image_size': [80, 130],\n",
      "                               'learning_rate': 0.01,\n",
      "                               'mapped_data': True,\n",
      "                               'model_name': 'efficientnet_b1',\n",
      "                               'optimizer': 'adamW',\n",
      "                               'predict_coordinates': False,\n",
      "                               'seed': 42,\n",
      "                               'weight_decay': 0.01}}}\n"
     ]
    }
   ],
   "source": [
    "# Example usage:\n",
    "entity = \"nlp_ls\"\n",
    "project = \"dspro2-predicting-country\"\n",
    "metric_name = \"Validation Accuracy Top 1\"\n",
    "data_augmentation = \"full_augmentation_v2\"  # Replace with the desired augmentation\n",
    "datasize = 81505  # Replace with the desired datasize\n",
    "file_names_to_download = [\".pth\", \".json\"]\n",
    "image_size = [80, 130]\n",
    "\n",
    "downloader = WandbDownloader(entity, project, data_augmentation, datasize, image_size)\n",
    "run_data = downloader.get_and_collect_best_runs(metric_name, file_names_to_download)\n",
    "\n",
    "# Now run_data contains all necessary information for further processing\n",
    "import pprint\n",
    "pprint.pprint(run_data)"
   ]
  },
  {
   "cell_type": "code",
   "execution_count": 7,
   "metadata": {},
   "outputs": [
    {
     "name": "stdout",
     "output_type": "stream",
     "text": [
      "Validation Accuracy Top 1:  0.38654070302435434\n",
      "Validation Accuracy Top 3:  0.6087970063186308\n",
      "Validation Accuracy Top 5:  0.7050487700141096\n"
     ]
    }
   ],
   "source": [
    "# Print the validation accuracy for the top 1, 3, and 5 predictions\n",
    "for i in [1, 3, 5]:\n",
    "    print(f\"Validation Accuracy Top {i}: \", run_data[\"Best Run 1\"][\"metrics\"][f\"Validation Accuracy Top {i}\"])"
   ]
  },
  {
   "cell_type": "code",
   "execution_count": 8,
   "metadata": {},
   "outputs": [
    {
     "data": {
      "text/plain": [
       "{'artifact/858477759/wandb_manifest.json': 'https://api.wandb.ai/files/nlp_ls/dspro2-predicting-country/10adb1sx/artifact/858477759/wandb_manifest.json',\n",
       " 'best_model': 'https://api.wandb.ai/files/nlp_ls/dspro2-predicting-country/10adb1sx/best_model_checkpointmodel_efficientnet_b3_lr_0.01_opt_adamW_weightDecay_0.1_imgSize_[80, 130]_predict_coordinates_False.pth',\n",
       " 'country_to_index.json': 'https://api.wandb.ai/files/nlp_ls/dspro2-predicting-country/10adb1sx/country_to_index.json',\n",
       " 'files/country_to_index.json': 'https://api.wandb.ai/files/nlp_ls/dspro2-predicting-country/10adb1sx/files/country_to_index.json',\n",
       " 'wandb-metadata.json': 'https://api.wandb.ai/files/nlp_ls/dspro2-predicting-country/10adb1sx/wandb-metadata.json',\n",
       " 'wandb-summary.json': 'https://api.wandb.ai/files/nlp_ls/dspro2-predicting-country/10adb1sx/wandb-summary.json',\n",
       " 'test_data': 'https://api.wandb.ai/files/nlp_ls/dspro2-predicting-country/yns8ucfa/test_data.pth'}"
      ]
     },
     "execution_count": 8,
     "metadata": {},
     "output_type": "execute_result"
    }
   ],
   "source": [
    "run_data[\"Best Run 1\"][\"files\"]"
   ]
  },
  {
   "cell_type": "markdown",
   "metadata": {},
   "source": [
    "## Loading data and creating data loader"
   ]
  },
  {
   "cell_type": "code",
   "execution_count": 9,
   "metadata": {},
   "outputs": [
    {
     "name": "stdout",
     "output_type": "stream",
     "text": [
      "Loading test data from test_data.pth\n",
      "Test data loaded.\n"
     ]
    }
   ],
   "source": [
    "# Creating Dataloaders with the classes\n",
    "test_dataset = run_data[\"Best Run 1\"][\"files\"]['test_data']\n",
    "files = run_data[\"Best Run 1\"][\"files\"]\n",
    "country_to_index = files.get('country_to_index.json', None)\n",
    "region_to_index = files.get('region_to_index.json', None)\n",
    "region_index_to_middle_point = files.get('region_index_to_middle_point.json', None)\n",
    "region_index_to_country_index = files.get('region_index_to_country_index.json', None)\n",
    "\n",
    "data_handler = TestImageDataHandler(test_dataset, country_to_index, region_to_index, region_index_to_middle_point, region_index_to_country_index)\n",
    "test_dataloader = data_handler.test_loader\n",
    "country_to_index = data_handler.country_to_index\n",
    "region_to_index = data_handler.region_to_index\n",
    "region_index_to_middle_point = data_handler.region_index_to_middle_point\n",
    "region_index_to_country_index = data_handler.region_index_to_country_index"
   ]
  },
  {
   "cell_type": "markdown",
   "metadata": {},
   "source": [
    "## Evaluating the model"
   ]
  },
  {
   "cell_type": "code",
   "execution_count": 10,
   "metadata": {},
   "outputs": [],
   "source": [
    "num_classes = run_data[\"Best Run 1\"][\"parameters\"][\"different_countries\"]\n",
    "\n",
    "geo_model_tester = GeoModelTester(\n",
    "    datasize=1000, \n",
    "    train_dataloader=None, \n",
    "    val_dataloader=None, \n",
    "    test_dataloader=test_dataloader, \n",
    "    num_classes=num_classes, \n",
    "    predict_coordinates=False, \n",
    "    country_to_index=country_to_index,\n",
    "    region_to_index=region_to_index,\n",
    "    region_index_to_middle_point=region_index_to_middle_point,\n",
    "    region_index_to_country_index=region_index_to_country_index,\n",
    "    predict_regions=False\n",
    ")"
   ]
  },
  {
   "cell_type": "code",
   "execution_count": 11,
   "metadata": {},
   "outputs": [
    {
     "ename": "TypeError",
     "evalue": "'bool' object is not subscriptable",
     "output_type": "error",
     "traceback": [
      "\u001b[0;31m---------------------------------------------------------------------------\u001b[0m",
      "\u001b[0;31mTypeError\u001b[0m                                 Traceback (most recent call last)",
      "Cell \u001b[0;32mIn[11], line 7\u001b[0m\n\u001b[1;32m      4\u001b[0m model_name \u001b[38;5;241m=\u001b[39m run_data[\u001b[38;5;124m\"\u001b[39m\u001b[38;5;124mBest Run 1\u001b[39m\u001b[38;5;124m\"\u001b[39m][\u001b[38;5;124m\"\u001b[39m\u001b[38;5;124mparameters\u001b[39m\u001b[38;5;124m\"\u001b[39m][\u001b[38;5;124m\"\u001b[39m\u001b[38;5;124mmodel_name\u001b[39m\u001b[38;5;124m\"\u001b[39m]\n\u001b[1;32m      5\u001b[0m pretrained_weights \u001b[38;5;241m=\u001b[39m run_data[\u001b[38;5;124m\"\u001b[39m\u001b[38;5;124mBest Run 1\u001b[39m\u001b[38;5;124m\"\u001b[39m][\u001b[38;5;124m\"\u001b[39m\u001b[38;5;124mfiles\u001b[39m\u001b[38;5;124m\"\u001b[39m][\u001b[38;5;124m'\u001b[39m\u001b[38;5;124mbest_model\u001b[39m\u001b[38;5;124m'\u001b[39m]\n\u001b[0;32m----> 7\u001b[0m \u001b[43mgeo_model_tester\u001b[49m\u001b[38;5;241;43m.\u001b[39;49m\u001b[43mtest\u001b[49m\u001b[43m(\u001b[49m\u001b[43mmodel_type\u001b[49m\u001b[38;5;241;43m=\u001b[39;49m\u001b[43mmodel_name\u001b[49m\u001b[43m,\u001b[49m\u001b[43m \u001b[49m\u001b[43mmodel_path\u001b[49m\u001b[38;5;241;43m=\u001b[39;49m\u001b[43mpretrained_weights\u001b[49m\u001b[43m)\u001b[49m\n",
      "File \u001b[0;32m~/GitLabProjects/DSPRO2/dspro2/dspro2/5_evaluation/geo_model_tester.py:35\u001b[0m, in \u001b[0;36mGeoModelTester.test\u001b[0;34m(self, model_type, model_path)\u001b[0m\n\u001b[1;32m     32\u001b[0m middle_points \u001b[38;5;241m=\u001b[39m \u001b[38;5;28mself\u001b[39m\u001b[38;5;241m.\u001b[39mregionHandler\u001b[38;5;241m.\u001b[39mregion_middle_points\u001b[38;5;241m.\u001b[39mto(\u001b[38;5;28mself\u001b[39m\u001b[38;5;241m.\u001b[39mdevice) \u001b[38;5;28;01mif\u001b[39;00m \u001b[38;5;28mself\u001b[39m\u001b[38;5;241m.\u001b[39muse_regions \u001b[38;5;28;01melse\u001b[39;00m \u001b[38;5;28;01mNone\u001b[39;00m\n\u001b[1;32m     34\u001b[0m \u001b[38;5;28;01mwith\u001b[39;00m torch\u001b[38;5;241m.\u001b[39mno_grad():\n\u001b[0;32m---> 35\u001b[0m \u001b[43m    \u001b[49m\u001b[38;5;28;43;01mfor\u001b[39;49;00m\u001b[43m \u001b[49m\u001b[43mimages\u001b[49m\u001b[43m,\u001b[49m\u001b[43m \u001b[49m\u001b[43mcoordinates\u001b[49m\u001b[43m,\u001b[49m\u001b[43m \u001b[49m\u001b[43mcountry_indices\u001b[49m\u001b[43m,\u001b[49m\u001b[43m \u001b[49m\u001b[43mregion_indices\u001b[49m\u001b[43m \u001b[49m\u001b[38;5;129;43;01min\u001b[39;49;00m\u001b[43m \u001b[49m\u001b[38;5;28;43mself\u001b[39;49m\u001b[38;5;241;43m.\u001b[39;49m\u001b[43mtest_dataloader\u001b[49m\u001b[43m:\u001b[49m\n\u001b[1;32m     36\u001b[0m \u001b[43m        \u001b[49m\u001b[43mimages\u001b[49m\u001b[43m \u001b[49m\u001b[38;5;241;43m=\u001b[39;49m\u001b[43m \u001b[49m\u001b[43mimages\u001b[49m\u001b[38;5;241;43m.\u001b[39;49m\u001b[43mto\u001b[49m\u001b[43m(\u001b[49m\u001b[38;5;28;43mself\u001b[39;49m\u001b[38;5;241;43m.\u001b[39;49m\u001b[43mdevice\u001b[49m\u001b[43m)\u001b[49m\n\u001b[1;32m     37\u001b[0m \u001b[43m        \u001b[49m\u001b[43mtargets\u001b[49m\u001b[43m \u001b[49m\u001b[38;5;241;43m=\u001b[39;49m\u001b[43m \u001b[49m\u001b[43mcoordinates\u001b[49m\u001b[38;5;241;43m.\u001b[39;49m\u001b[43mto\u001b[49m\u001b[43m(\u001b[49m\u001b[38;5;28;43mself\u001b[39;49m\u001b[38;5;241;43m.\u001b[39;49m\u001b[43mdevice\u001b[49m\u001b[43m)\u001b[49m\u001b[43m \u001b[49m\u001b[38;5;28;43;01mif\u001b[39;49;00m\u001b[43m \u001b[49m\u001b[38;5;28;43mself\u001b[39;49m\u001b[38;5;241;43m.\u001b[39;49m\u001b[43muse_coordinates\u001b[49m\u001b[43m \u001b[49m\u001b[38;5;28;43;01melse\u001b[39;49;00m\u001b[43m \u001b[49m\u001b[43m(\u001b[49m\u001b[43mcountry_indices\u001b[49m\u001b[38;5;241;43m.\u001b[39;49m\u001b[43mto\u001b[49m\u001b[43m(\u001b[49m\u001b[38;5;28;43mself\u001b[39;49m\u001b[38;5;241;43m.\u001b[39;49m\u001b[43mdevice\u001b[49m\u001b[43m)\u001b[49m\u001b[43m \u001b[49m\u001b[38;5;28;43;01mif\u001b[39;49;00m\u001b[43m \u001b[49m\u001b[38;5;28;43mself\u001b[39;49m\u001b[38;5;241;43m.\u001b[39;49m\u001b[43muse_regions\u001b[49m\u001b[43m \u001b[49m\u001b[38;5;28;43;01melse\u001b[39;49;00m\u001b[43m \u001b[49m\u001b[43mregion_indices\u001b[49m\u001b[38;5;241;43m.\u001b[39;49m\u001b[43mto\u001b[49m\u001b[43m(\u001b[49m\u001b[38;5;28;43mself\u001b[39;49m\u001b[38;5;241;43m.\u001b[39;49m\u001b[43mdevice\u001b[49m\u001b[43m)\u001b[49m\u001b[43m)\u001b[49m\n",
      "File \u001b[0;32m~/GitLabProjects/DSPRO2/dspro2/.venv/lib/python3.12/site-packages/torch/utils/data/dataloader.py:631\u001b[0m, in \u001b[0;36m_BaseDataLoaderIter.__next__\u001b[0;34m(self)\u001b[0m\n\u001b[1;32m    628\u001b[0m \u001b[38;5;28;01mif\u001b[39;00m \u001b[38;5;28mself\u001b[39m\u001b[38;5;241m.\u001b[39m_sampler_iter \u001b[38;5;129;01mis\u001b[39;00m \u001b[38;5;28;01mNone\u001b[39;00m:\n\u001b[1;32m    629\u001b[0m     \u001b[38;5;66;03m# TODO(https://github.com/pytorch/pytorch/issues/76750)\u001b[39;00m\n\u001b[1;32m    630\u001b[0m     \u001b[38;5;28mself\u001b[39m\u001b[38;5;241m.\u001b[39m_reset()  \u001b[38;5;66;03m# type: ignore[call-arg]\u001b[39;00m\n\u001b[0;32m--> 631\u001b[0m data \u001b[38;5;241m=\u001b[39m \u001b[38;5;28;43mself\u001b[39;49m\u001b[38;5;241;43m.\u001b[39;49m\u001b[43m_next_data\u001b[49m\u001b[43m(\u001b[49m\u001b[43m)\u001b[49m\n\u001b[1;32m    632\u001b[0m \u001b[38;5;28mself\u001b[39m\u001b[38;5;241m.\u001b[39m_num_yielded \u001b[38;5;241m+\u001b[39m\u001b[38;5;241m=\u001b[39m \u001b[38;5;241m1\u001b[39m\n\u001b[1;32m    633\u001b[0m \u001b[38;5;28;01mif\u001b[39;00m \u001b[38;5;28mself\u001b[39m\u001b[38;5;241m.\u001b[39m_dataset_kind \u001b[38;5;241m==\u001b[39m _DatasetKind\u001b[38;5;241m.\u001b[39mIterable \u001b[38;5;129;01mand\u001b[39;00m \\\n\u001b[1;32m    634\u001b[0m         \u001b[38;5;28mself\u001b[39m\u001b[38;5;241m.\u001b[39m_IterableDataset_len_called \u001b[38;5;129;01mis\u001b[39;00m \u001b[38;5;129;01mnot\u001b[39;00m \u001b[38;5;28;01mNone\u001b[39;00m \u001b[38;5;129;01mand\u001b[39;00m \\\n\u001b[1;32m    635\u001b[0m         \u001b[38;5;28mself\u001b[39m\u001b[38;5;241m.\u001b[39m_num_yielded \u001b[38;5;241m>\u001b[39m \u001b[38;5;28mself\u001b[39m\u001b[38;5;241m.\u001b[39m_IterableDataset_len_called:\n",
      "File \u001b[0;32m~/GitLabProjects/DSPRO2/dspro2/.venv/lib/python3.12/site-packages/torch/utils/data/dataloader.py:675\u001b[0m, in \u001b[0;36m_SingleProcessDataLoaderIter._next_data\u001b[0;34m(self)\u001b[0m\n\u001b[1;32m    673\u001b[0m \u001b[38;5;28;01mdef\u001b[39;00m \u001b[38;5;21m_next_data\u001b[39m(\u001b[38;5;28mself\u001b[39m):\n\u001b[1;32m    674\u001b[0m     index \u001b[38;5;241m=\u001b[39m \u001b[38;5;28mself\u001b[39m\u001b[38;5;241m.\u001b[39m_next_index()  \u001b[38;5;66;03m# may raise StopIteration\u001b[39;00m\n\u001b[0;32m--> 675\u001b[0m     data \u001b[38;5;241m=\u001b[39m \u001b[38;5;28;43mself\u001b[39;49m\u001b[38;5;241;43m.\u001b[39;49m\u001b[43m_dataset_fetcher\u001b[49m\u001b[38;5;241;43m.\u001b[39;49m\u001b[43mfetch\u001b[49m\u001b[43m(\u001b[49m\u001b[43mindex\u001b[49m\u001b[43m)\u001b[49m  \u001b[38;5;66;03m# may raise StopIteration\u001b[39;00m\n\u001b[1;32m    676\u001b[0m     \u001b[38;5;28;01mif\u001b[39;00m \u001b[38;5;28mself\u001b[39m\u001b[38;5;241m.\u001b[39m_pin_memory:\n\u001b[1;32m    677\u001b[0m         data \u001b[38;5;241m=\u001b[39m _utils\u001b[38;5;241m.\u001b[39mpin_memory\u001b[38;5;241m.\u001b[39mpin_memory(data, \u001b[38;5;28mself\u001b[39m\u001b[38;5;241m.\u001b[39m_pin_memory_device)\n",
      "File \u001b[0;32m~/GitLabProjects/DSPRO2/dspro2/.venv/lib/python3.12/site-packages/torch/utils/data/_utils/fetch.py:51\u001b[0m, in \u001b[0;36m_MapDatasetFetcher.fetch\u001b[0;34m(self, possibly_batched_index)\u001b[0m\n\u001b[1;32m     49\u001b[0m         data \u001b[38;5;241m=\u001b[39m \u001b[38;5;28mself\u001b[39m\u001b[38;5;241m.\u001b[39mdataset\u001b[38;5;241m.\u001b[39m__getitems__(possibly_batched_index)\n\u001b[1;32m     50\u001b[0m     \u001b[38;5;28;01melse\u001b[39;00m:\n\u001b[0;32m---> 51\u001b[0m         data \u001b[38;5;241m=\u001b[39m [\u001b[38;5;28;43mself\u001b[39;49m\u001b[38;5;241;43m.\u001b[39;49m\u001b[43mdataset\u001b[49m\u001b[43m[\u001b[49m\u001b[43midx\u001b[49m\u001b[43m]\u001b[49m \u001b[38;5;28;01mfor\u001b[39;00m idx \u001b[38;5;129;01min\u001b[39;00m possibly_batched_index]\n\u001b[1;32m     52\u001b[0m \u001b[38;5;28;01melse\u001b[39;00m:\n\u001b[1;32m     53\u001b[0m     data \u001b[38;5;241m=\u001b[39m \u001b[38;5;28mself\u001b[39m\u001b[38;5;241m.\u001b[39mdataset[possibly_batched_index]\n",
      "File \u001b[0;32m~/GitLabProjects/DSPRO2/dspro2/dspro2/5_evaluation/../4_modeling/custom_image_dataset.py:27\u001b[0m, in \u001b[0;36mCustomImageDataset.__getitem__\u001b[0;34m(self, idx)\u001b[0m\n\u001b[1;32m     25\u001b[0m image \u001b[38;5;241m=\u001b[39m \u001b[38;5;28mself\u001b[39m\u001b[38;5;241m.\u001b[39mimages[idx]\n\u001b[1;32m     26\u001b[0m country \u001b[38;5;241m=\u001b[39m \u001b[38;5;28mself\u001b[39m\u001b[38;5;241m.\u001b[39mcountries[idx]\n\u001b[0;32m---> 27\u001b[0m region \u001b[38;5;241m=\u001b[39m \u001b[38;5;28;43mself\u001b[39;49m\u001b[38;5;241;43m.\u001b[39;49m\u001b[43mregions\u001b[49m\u001b[43m[\u001b[49m\u001b[43midx\u001b[49m\u001b[43m]\u001b[49m\n\u001b[1;32m     28\u001b[0m \u001b[38;5;28;01mif\u001b[39;00m country \u001b[38;5;129;01mnot\u001b[39;00m \u001b[38;5;129;01min\u001b[39;00m \u001b[38;5;28mself\u001b[39m\u001b[38;5;241m.\u001b[39mcountry_to_index:\n\u001b[1;32m     29\u001b[0m     \u001b[38;5;28;01mraise\u001b[39;00m \u001b[38;5;167;01mValueError\u001b[39;00m(\u001b[38;5;124mf\u001b[39m\u001b[38;5;124m\"\u001b[39m\u001b[38;5;124mCountry \u001b[39m\u001b[38;5;124m'\u001b[39m\u001b[38;5;132;01m{\u001b[39;00mcountry\u001b[38;5;132;01m}\u001b[39;00m\u001b[38;5;124m'\u001b[39m\u001b[38;5;124m at index \u001b[39m\u001b[38;5;132;01m{\u001b[39;00midx\u001b[38;5;132;01m}\u001b[39;00m\u001b[38;5;124m is not in the country_to_index mapping.\u001b[39m\u001b[38;5;124m\"\u001b[39m)\n",
      "\u001b[0;31mTypeError\u001b[0m: 'bool' object is not subscriptable"
     ]
    }
   ],
   "source": [
    "# TODO: Debug the region problem because old dataset does not have regions\n",
    "# TODO: Test the model from best runs\n",
    "# TODO: Show the different models with the best results (also do it for different data sizes and mapped/non-mapped data)\n",
    "model_name = run_data[\"Best Run 1\"][\"parameters\"][\"model_name\"]\n",
    "pretrained_weights = run_data[\"Best Run 1\"][\"files\"]['best_model']\n",
    "\n",
    "geo_model_tester.test(model_type=model_name, model_path=pretrained_weights)"
   ]
  }
 ],
 "metadata": {
  "kernelspec": {
   "display_name": "Python 3 (ipykernel)",
   "language": "python",
   "name": "python3"
  },
  "language_info": {
   "codemirror_mode": {
    "name": "ipython",
    "version": 3
   },
   "file_extension": ".py",
   "mimetype": "text/x-python",
   "name": "python",
   "nbconvert_exporter": "python",
   "pygments_lexer": "ipython3",
   "version": "3.12.3"
  }
 },
 "nbformat": 4,
 "nbformat_minor": 4
}
