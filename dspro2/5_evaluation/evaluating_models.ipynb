{
 "cells": [
  {
   "cell_type": "code",
   "execution_count": 1,
   "metadata": {
    "scrolled": true
   },
   "outputs": [],
   "source": [
    "# important for gpuhub\n",
    "# !pip install -r ../../requirements.txt --upgrade"
   ]
  },
  {
   "cell_type": "markdown",
   "metadata": {},
   "source": [
    "## Importing Libraries and tokens"
   ]
  },
  {
   "cell_type": "code",
   "execution_count": 14,
   "metadata": {},
   "outputs": [],
   "source": [
    "import wandb\n",
    "import sys\n",
    "import os\n",
    "\n",
    "import torch\n",
    "from torchvision import transforms\n",
    "\n",
    "# load .env file\n",
    "from dotenv import load_dotenv\n",
    "from wandb_downloader import WandbDownloader\n",
    "from geo_model_tester import GeoModelTester\n",
    "from image_data_handler_test import TestImageDataHandler\n",
    "\n",
    "sys.path.insert(0, '../')\n",
    "from data_loader import get_data_to_load, hash_filenames\n",
    "\n",
    "os.environ['CUDA_LAUNCH_BLOCKING'] = '1'"
   ]
  },
  {
   "cell_type": "code",
   "execution_count": 15,
   "metadata": {},
   "outputs": [],
   "source": [
    "WANDB_TOKEN = os.getenv('WANDB_TOKEN')\n",
    "# Define where to run\n",
    "env_path = '../../.env'\n",
    "if not WANDB_TOKEN and os.path.exists(env_path):\n",
    "  load_dotenv(env_path)\n",
    "  WANDB_TOKEN = os.getenv('WANDB_TOKEN')"
   ]
  },
  {
   "cell_type": "code",
   "execution_count": 16,
   "metadata": {},
   "outputs": [
    {
     "name": "stdout",
     "output_type": "stream",
     "text": [
      "No GPU found.\n"
     ]
    }
   ],
   "source": [
    "# Check if GPU is available\n",
    "if torch.cuda.is_available():\n",
    "    print(\"GPU is available.\")\n",
    "    \n",
    "    # Print the name of the GPU\n",
    "    print(f\"GPU Name: {torch.cuda.get_device_name(0)}\")\n",
    "    \n",
    "    # Print the total and available memory\n",
    "    total_memory = torch.cuda.get_device_properties(0).total_memory / 1e9  # Convert bytes to GB\n",
    "    print(f\"Total Memory: {total_memory:.2f} GB\")\n",
    "\n",
    "    allocated_memory = torch.cuda.memory_allocated(0) / 1e9  # Convert bytes to GB\n",
    "    print(f\"Allocated Memory: {allocated_memory:.2f} GB\")\n",
    "\n",
    "    cached_memory = torch.cuda.memory_reserved(0) / 1e9  # Convert bytes to GB\n",
    "    print(f\"Cached Memory: {cached_memory:.2f} GB\")\n",
    "\n",
    "    # Print other properties\n",
    "    device_properties = torch.cuda.get_device_properties(0)\n",
    "    print(f\"CUDA Capability: {device_properties.major}.{device_properties.minor}\")\n",
    "    print(f\"Multi-Processor Count: {device_properties.multi_processor_count}\")\n",
    "else:\n",
    "    print(\"No GPU found.\")"
   ]
  },
  {
   "cell_type": "markdown",
   "metadata": {},
   "source": [
    "## Loading data"
   ]
  },
  {
   "cell_type": "code",
   "execution_count": 25,
   "metadata": {},
   "outputs": [
    {
     "name": "stdout",
     "output_type": "stream",
     "text": [
      "Getting files list from remote\n",
      "Got files list from remote\n",
      "Parsed files list from remote\n",
      "All remote files: 705681\n",
      "All local files: 4200\n",
      "Relevant files: 705681\n",
      "Downloading 158878 files\n",
      "Downloaded 1000 files\n",
      "Downloaded 2000 files\n",
      "Downloaded 3000 files\n",
      "Downloaded 4000 files\n",
      "Downloaded 5000 files\n",
      "Downloaded 6000 files\n",
      "Downloaded 7000 files\n",
      "Downloaded 8000 files\n",
      "Downloaded 9000 files\n",
      "Downloaded 10000 files\n",
      "Downloaded 11000 files\n",
      "Downloaded 12000 files\n",
      "Downloaded 13000 files\n",
      "Downloaded 14000 files\n",
      "Downloaded 15000 files\n",
      "Downloaded 16000 files\n",
      "Downloaded 17000 files\n",
      "Downloaded 18000 files\n",
      "Downloaded 19000 files\n",
      "Downloaded 20000 files\n",
      "Downloaded 21000 files\n",
      "Downloaded 22000 files\n",
      "Downloaded 23000 files\n",
      "Downloaded 24000 files\n",
      "Downloaded 25000 files\n",
      "Downloaded 26000 files\n",
      "Downloaded 27000 files\n",
      "Downloaded 28000 files\n",
      "Downloaded 29000 files\n",
      "Downloaded 30000 files\n",
      "Downloaded 31000 files\n",
      "Downloaded 32000 files\n",
      "Downloaded 33000 files\n",
      "Downloaded 34000 files\n",
      "Downloaded 35000 files\n",
      "Downloaded 36000 files\n",
      "Downloaded 37000 files\n",
      "Downloaded 38000 files\n",
      "Downloaded 39000 files\n",
      "Downloaded 40000 files\n",
      "Downloaded 41000 files\n",
      "Downloaded 42000 files\n",
      "Downloaded 43000 files\n",
      "Downloaded 44000 files\n",
      "Downloaded 45000 files\n",
      "Downloaded 46000 files\n",
      "Downloaded 47000 files\n",
      "Downloaded 48000 files\n",
      "Downloaded 49000 files\n",
      "Downloaded 50000 files\n",
      "Downloaded 51000 files\n",
      "Downloaded 52000 files\n",
      "Downloaded 53000 files\n",
      "Downloaded 54000 files\n",
      "Downloaded 55000 files\n",
      "Downloaded 56000 files\n",
      "Downloaded 57000 files\n",
      "Downloaded 58000 files\n",
      "Downloaded 59000 files\n",
      "Downloaded 60000 files\n",
      "Downloaded 61000 files\n",
      "Downloaded 62000 files\n"
     ]
    }
   ],
   "source": [
    "# set number of files to load, 0 for all\n",
    "NUMBER_OF_FILES = 0 # 100000\n",
    "# Set to False to use non-mapped data (singleplayer distribution), has more data\n",
    "USE_MAPPED = True\n",
    "\n",
    "# get list with local data and file paths\n",
    "list_files, zip_load_callback, additional_save_callback = get_data_to_load(loading_file='../3_data_preparation/04_data_cleaning/updated_data_list_more' if USE_MAPPED else '../3_data_preparation/04_data_cleaning/updated_data_list_non_mapped', \n",
    "                              file_location='../3_data_preparation/01_enriching/.data', image_file_location='../1_data_collection/.data', allow_new_file_creation=False, \n",
    "                              from_remote_only=True, download_link='default', limit=NUMBER_OF_FILES, shuffle_seed=42, allow_file_location_env=True, allow_json_file_location_env=True, \n",
    "                              allow_image_file_location_env=True, allow_download_link_env=True, return_zip_load_and_additional_save_callback=True)"
   ]
  },
  {
   "cell_type": "code",
   "execution_count": null,
   "metadata": {},
   "outputs": [
    {
     "name": "stdout",
     "output_type": "stream",
     "text": [
      "79000\n"
     ]
    }
   ],
   "source": [
    "NUMBER_OF_FILES = len(list_files) // 2\n",
    "print(NUMBER_OF_FILES)"
   ]
  },
  {
   "cell_type": "markdown",
   "metadata": {},
   "source": [
    "## Loading files from wandb"
   ]
  },
  {
   "cell_type": "code",
   "execution_count": 17,
   "metadata": {},
   "outputs": [
    {
     "name": "stderr",
     "output_type": "stream",
     "text": [
      "Failed to detect the name of this notebook, you can set it manually with the WANDB_NOTEBOOK_NAME environment variable to enable code saving.\n",
      "\u001b[34m\u001b[1mwandb\u001b[0m: Currently logged in as: \u001b[33mluki-st\u001b[0m (\u001b[33mnlp_ls\u001b[0m). Use \u001b[1m`wandb login --relogin`\u001b[0m to force relogin\n",
      "\u001b[34m\u001b[1mwandb\u001b[0m: \u001b[33mWARNING\u001b[0m If you're specifying your api key in code, ensure this code is not shared publicly.\n",
      "\u001b[34m\u001b[1mwandb\u001b[0m: \u001b[33mWARNING\u001b[0m Consider setting the WANDB_API_KEY environment variable, or running `wandb login` from the command line.\n",
      "\u001b[34m\u001b[1mwandb\u001b[0m: Appending key for api.wandb.ai to your netrc file: /Users/lukasstoeckli/.netrc\n"
     ]
    },
    {
     "data": {
      "text/plain": [
       "True"
      ]
     },
     "execution_count": 17,
     "metadata": {},
     "output_type": "execute_result"
    }
   ],
   "source": [
    "wandb.login(key=WANDB_TOKEN) if WANDB_TOKEN else wandb.login()"
   ]
  },
  {
   "cell_type": "code",
   "execution_count": 18,
   "metadata": {},
   "outputs": [
    {
     "name": "stdout",
     "output_type": "stream",
     "text": [
      "{'Best Run 1': {'files': {'artifact/858477759/wandb_manifest.json': 'https://api.wandb.ai/files/nlp_ls/dspro2-predicting-country/10adb1sx/artifact/858477759/wandb_manifest.json',\n",
      "                          'best_model': 'https://api.wandb.ai/files/nlp_ls/dspro2-predicting-country/10adb1sx/best_model_checkpointmodel_efficientnet_b3_lr_0.01_opt_adamW_weightDecay_0.1_imgSize_[80, '\n",
      "                                        '130]_predict_coordinates_False.pth',\n",
      "                          'country_to_index.json': 'https://api.wandb.ai/files/nlp_ls/dspro2-predicting-country/10adb1sx/country_to_index.json',\n",
      "                          'files/country_to_index.json': 'https://api.wandb.ai/files/nlp_ls/dspro2-predicting-country/10adb1sx/files/country_to_index.json',\n",
      "                          'test_data': 'https://api.wandb.ai/files/nlp_ls/dspro2-predicting-country/yns8ucfa/test_data.pth',\n",
      "                          'wandb-metadata.json': 'https://api.wandb.ai/files/nlp_ls/dspro2-predicting-country/10adb1sx/wandb-metadata.json',\n",
      "                          'wandb-summary.json': 'https://api.wandb.ai/files/nlp_ls/dspro2-predicting-country/10adb1sx/wandb-summary.json'},\n",
      "                'id': '10adb1sx',\n",
      "                'metrics': {'Validation Accuracy Top 1': 0.38654070302435434, 'test_data_run_id': 'yns8ucfa', '_step': 34, '_timestamp': 1717365134.8293135, 'Validation Loss': 4.8439223723472695, 'Train Accuracy Top 1': 0.9953727236078734, 'Train Accuracy Top 3': 0.9998071968169948, 'Validation Accuracy Top 3': 0.6087970063186308, 'Validation Accuracy Top 5': 0.7050487700141096, '_wandb': {'runtime': 9434}, '_runtime': 9167.00570654869, 'Train Loss': 0.01511603515645834, 'Train Accuracy Top 5': 0.9999474173137258},\n",
      "                'parameters': {'data_augmentation': 'full_augmentation_v2',\n",
      "                               'dataset_identifier': '63289b51067a4c6ede4c44c23a329d82ab4964ed43942794430a9b71ec685b5c',\n",
      "                               'dataset_size': 81505,\n",
      "                               'different_countries': 75,\n",
      "                               'epochs': 50,\n",
      "                               'input_image_size': [80, 130],\n",
      "                               'learning_rate': 0.01,\n",
      "                               'mapped_data': True,\n",
      "                               'model_name': 'efficientnet_b3',\n",
      "                               'optimizer': 'adamW',\n",
      "                               'predict_coordinates': False,\n",
      "                               'seed': 42,\n",
      "                               'weight_decay': 0.1}},\n",
      " 'Best Run 2': {'files': {'artifact/857253719/wandb_manifest.json': 'https://api.wandb.ai/files/nlp_ls/dspro2-predicting-country/argnrgbc/artifact/857253719/wandb_manifest.json',\n",
      "                          'best_model': 'https://api.wandb.ai/files/nlp_ls/dspro2-predicting-country/argnrgbc/best_model_checkpointmodel_efficientnet_b1_lr_0.01_opt_adamW_weightDecay_0.1_imgSize_[80, '\n",
      "                                        '130]_predict_coordinates_False.pth',\n",
      "                          'country_to_index.json': 'https://api.wandb.ai/files/nlp_ls/dspro2-predicting-country/argnrgbc/country_to_index.json',\n",
      "                          'files/country_to_index.json': 'https://api.wandb.ai/files/nlp_ls/dspro2-predicting-country/argnrgbc/files/country_to_index.json',\n",
      "                          'test_data': 'https://api.wandb.ai/files/nlp_ls/dspro2-predicting-country/yns8ucfa/test_data.pth',\n",
      "                          'wandb-metadata.json': 'https://api.wandb.ai/files/nlp_ls/dspro2-predicting-country/argnrgbc/wandb-metadata.json',\n",
      "                          'wandb-summary.json': 'https://api.wandb.ai/files/nlp_ls/dspro2-predicting-country/argnrgbc/wandb-summary.json'},\n",
      "                'id': 'argnrgbc',\n",
      "                'metrics': {'Validation Accuracy Top 1': 0.3758665112569781, 'test_data_run_id': 'yns8ucfa', 'Validation Accuracy Top 3': 0.6119256487332065, '_step': 19, '_wandb': {'runtime': 3861}, 'Train Loss': 0.08550690934369871, 'Validation Loss': 4.139037082242232, 'Train Accuracy Top 3': 0.9968099836993672, 'Train Accuracy Top 5': 0.9989483462745168, 'Validation Accuracy Top 5': 0.7123489356481197, '_runtime': 3668.524580955506, '_timestamp': 1717266899.448895, 'Train Accuracy Top 1': 0.9750933342681366},\n",
      "                'parameters': {'data_augmentation': 'full_augmentation_v2',\n",
      "                               'dataset_identifier': '63289b51067a4c6ede4c44c23a329d82ab4964ed43942794430a9b71ec685b5c',\n",
      "                               'dataset_size': 81505,\n",
      "                               'different_countries': 75,\n",
      "                               'epochs': 50,\n",
      "                               'input_image_size': [80, 130],\n",
      "                               'learning_rate': 0.01,\n",
      "                               'mapped_data': True,\n",
      "                               'model_name': 'efficientnet_b1',\n",
      "                               'optimizer': 'adamW',\n",
      "                               'predict_coordinates': False,\n",
      "                               'seed': 42,\n",
      "                               'weight_decay': 0.1}},\n",
      " 'Best Run 3': {'files': {'artifact/858477765/wandb_manifest.json': 'https://api.wandb.ai/files/nlp_ls/dspro2-predicting-country/qtxsj5jc/artifact/858477765/wandb_manifest.json',\n",
      "                          'best_model': 'https://api.wandb.ai/files/nlp_ls/dspro2-predicting-country/qtxsj5jc/best_model_checkpointmodel_efficientnet_b3_lr_0.01_opt_adamW_weightDecay_0.01_imgSize_[80, '\n",
      "                                        '130]_predict_coordinates_False.pth',\n",
      "                          'country_to_index.json': 'https://api.wandb.ai/files/nlp_ls/dspro2-predicting-country/qtxsj5jc/country_to_index.json',\n",
      "                          'files/country_to_index.json': 'https://api.wandb.ai/files/nlp_ls/dspro2-predicting-country/qtxsj5jc/files/country_to_index.json',\n",
      "                          'test_data': 'https://api.wandb.ai/files/nlp_ls/dspro2-predicting-country/yns8ucfa/test_data.pth',\n",
      "                          'wandb-metadata.json': 'https://api.wandb.ai/files/nlp_ls/dspro2-predicting-country/qtxsj5jc/wandb-metadata.json',\n",
      "                          'wandb-summary.json': 'https://api.wandb.ai/files/nlp_ls/dspro2-predicting-country/qtxsj5jc/wandb-summary.json'},\n",
      "                'id': 'qtxsj5jc',\n",
      "                'metrics': {'Validation Accuracy Top 1': 0.372921906631495, 'test_data_run_id': 'yns8ucfa', 'Train Accuracy Top 1': 0.9910609433333918, 'Train Accuracy Top 5': 0.9998071968169948, 'Validation Accuracy Top 3': 0.5943193669100055, '_step': 20, '_wandb': {'runtime': 5631}, '_runtime': 5363.879630804062, '_timestamp': 1717370778.1993098, 'Validation Loss': 5.29617777485605, 'Train Loss': 0.028790465996844417, 'Train Accuracy Top 3': 0.9993514802026188, 'Validation Accuracy Top 5': 0.6929636218636893},\n",
      "                'parameters': {'data_augmentation': 'full_augmentation_v2',\n",
      "                               'dataset_identifier': '63289b51067a4c6ede4c44c23a329d82ab4964ed43942794430a9b71ec685b5c',\n",
      "                               'dataset_size': 81505,\n",
      "                               'different_countries': 75,\n",
      "                               'epochs': 50,\n",
      "                               'input_image_size': [80, 130],\n",
      "                               'learning_rate': 0.01,\n",
      "                               'mapped_data': True,\n",
      "                               'model_name': 'efficientnet_b3',\n",
      "                               'optimizer': 'adamW',\n",
      "                               'predict_coordinates': False,\n",
      "                               'seed': 42,\n",
      "                               'weight_decay': 0.01}},\n",
      " 'Best Run 4': {'files': {'artifact/857361634/wandb_manifest.json': 'https://api.wandb.ai/files/nlp_ls/dspro2-predicting-country/u5tu2qac/artifact/857361634/wandb_manifest.json',\n",
      "                          'best_model': 'https://api.wandb.ai/files/nlp_ls/dspro2-predicting-country/u5tu2qac/best_model_checkpointmodel_efficientnet_b1_lr_0.01_opt_adamW_weightDecay_0.001_imgSize_[80, '\n",
      "                                        '130]_predict_coordinates_False.pth',\n",
      "                          'country_to_index.json': 'https://api.wandb.ai/files/nlp_ls/dspro2-predicting-country/u5tu2qac/country_to_index.json',\n",
      "                          'files/country_to_index.json': 'https://api.wandb.ai/files/nlp_ls/dspro2-predicting-country/u5tu2qac/files/country_to_index.json',\n",
      "                          'test_data': 'https://api.wandb.ai/files/nlp_ls/dspro2-predicting-country/yns8ucfa/test_data.pth',\n",
      "                          'wandb-metadata.json': 'https://api.wandb.ai/files/nlp_ls/dspro2-predicting-country/u5tu2qac/wandb-metadata.json',\n",
      "                          'wandb-summary.json': 'https://api.wandb.ai/files/nlp_ls/dspro2-predicting-country/u5tu2qac/wandb-summary.json'},\n",
      "                'id': 'u5tu2qac',\n",
      "                'metrics': {'Validation Accuracy Top 1': 0.3726151769830072, 'test_data_run_id': 'yns8ucfa', 'Validation Accuracy Top 3': 0.6058524016931477, 'Validation Accuracy Top 5': 0.7075026072020122, 'Train Loss': 0.08136431025377555, '_timestamp': 1717275031.92692, 'Train Accuracy Top 1': 0.9749355862093142, 'Train Accuracy Top 3': 0.997160534941195, 'Train Accuracy Top 5': 0.9989834013986996, '_step': 20, '_wandb': {'runtime': 4051}, '_runtime': 3859.003124952316, 'Validation Loss': 4.587394208324795},\n",
      "                'parameters': {'data_augmentation': 'full_augmentation_v2',\n",
      "                               'dataset_identifier': '63289b51067a4c6ede4c44c23a329d82ab4964ed43942794430a9b71ec685b5c',\n",
      "                               'dataset_size': 81505,\n",
      "                               'different_countries': 75,\n",
      "                               'epochs': 50,\n",
      "                               'input_image_size': [80, 130],\n",
      "                               'learning_rate': 0.01,\n",
      "                               'mapped_data': True,\n",
      "                               'model_name': 'efficientnet_b1',\n",
      "                               'optimizer': 'adamW',\n",
      "                               'predict_coordinates': False,\n",
      "                               'seed': 42,\n",
      "                               'weight_decay': 0.001}},\n",
      " 'Best Run 5': {'files': {'artifact/857299318/wandb_manifest.json': 'https://api.wandb.ai/files/nlp_ls/dspro2-predicting-country/qpi4p8oe/artifact/857299318/wandb_manifest.json',\n",
      "                          'best_model': 'https://api.wandb.ai/files/nlp_ls/dspro2-predicting-country/qpi4p8oe/best_model_checkpointmodel_efficientnet_b1_lr_0.01_opt_adamW_weightDecay_0.01_imgSize_[80, '\n",
      "                                        '130]_predict_coordinates_False.pth',\n",
      "                          'country_to_index.json': 'https://api.wandb.ai/files/nlp_ls/dspro2-predicting-country/qpi4p8oe/country_to_index.json',\n",
      "                          'files/country_to_index.json': 'https://api.wandb.ai/files/nlp_ls/dspro2-predicting-country/qpi4p8oe/files/country_to_index.json',\n",
      "                          'test_data': 'https://api.wandb.ai/files/nlp_ls/dspro2-predicting-country/yns8ucfa/test_data.pth',\n",
      "                          'wandb-metadata.json': 'https://api.wandb.ai/files/nlp_ls/dspro2-predicting-country/qpi4p8oe/wandb-metadata.json',\n",
      "                          'wandb-summary.json': 'https://api.wandb.ai/files/nlp_ls/dspro2-predicting-country/qpi4p8oe/wandb-summary.json'},\n",
      "                'id': 'qpi4p8oe',\n",
      "                'metrics': {'Validation Accuracy Top 1': 0.37028403165449975, 'test_data_run_id': 'yns8ucfa', 'Train Loss': 0.08394834814318336, '_timestamp': 1717270970.928882, 'Validation Loss': 4.5022117954830065, 'Train Accuracy Top 1': 0.9738839324838308, 'Train Accuracy Top 3': 0.9968275112614586, 'Validation Accuracy Top 3': 0.6062204772713331, 'Validation Accuracy Top 5': 0.710753941475983, '_step': 20, '_wandb': {'runtime': 4052}, '_runtime': 3859.898419857025, 'Train Accuracy Top 5': 0.998965873836608},\n",
      "                'parameters': {'data_augmentation': 'full_augmentation_v2',\n",
      "                               'dataset_identifier': '63289b51067a4c6ede4c44c23a329d82ab4964ed43942794430a9b71ec685b5c',\n",
      "                               'dataset_size': 81505,\n",
      "                               'different_countries': 75,\n",
      "                               'epochs': 50,\n",
      "                               'input_image_size': [80, 130],\n",
      "                               'learning_rate': 0.01,\n",
      "                               'mapped_data': True,\n",
      "                               'model_name': 'efficientnet_b1',\n",
      "                               'optimizer': 'adamW',\n",
      "                               'predict_coordinates': False,\n",
      "                               'seed': 42,\n",
      "                               'weight_decay': 0.01}}}\n"
     ]
    }
   ],
   "source": [
    "# Example usage:\n",
    "entity = \"nlp_ls\"\n",
    "project = \"dspro2-predicting-country\"\n",
    "metric_name = \"Validation Accuracy Top 1\"\n",
    "data_augmentation = \"full_augmentation_v2\"  # Replace with the desired augmentation\n",
    "datasize = 81505  # Replace with the desired datasize\n",
    "file_names_to_download = [\".pth\", \".json\"]\n",
    "image_size = [80, 130]\n",
    "\n",
    "downloader = WandbDownloader(entity, project, data_augmentation, datasize, image_size)\n",
    "run_data = downloader.get_and_collect_best_runs(metric_name, file_names_to_download)\n",
    "\n",
    "# Now run_data contains all necessary information for further processing\n",
    "import pprint\n",
    "pprint.pprint(run_data)"
   ]
  },
  {
   "cell_type": "code",
   "execution_count": 19,
   "metadata": {},
   "outputs": [
    {
     "name": "stdout",
     "output_type": "stream",
     "text": [
      "Validation Accuracy Top 1:  0.38654070302435434\n",
      "Validation Accuracy Top 3:  0.6087970063186308\n",
      "Validation Accuracy Top 5:  0.7050487700141096\n"
     ]
    }
   ],
   "source": [
    "for i in [1, 3, 5]:\n",
    "    print(f\"Validation Accuracy Top {i}: \", run_data[\"Best Run 1\"][\"metrics\"][f\"Validation Accuracy Top {i}\"])\n"
   ]
  },
  {
   "cell_type": "code",
   "execution_count": 20,
   "metadata": {},
   "outputs": [
    {
     "data": {
      "text/plain": [
       "{'artifact/858477759/wandb_manifest.json': 'https://api.wandb.ai/files/nlp_ls/dspro2-predicting-country/10adb1sx/artifact/858477759/wandb_manifest.json',\n",
       " 'best_model': 'https://api.wandb.ai/files/nlp_ls/dspro2-predicting-country/10adb1sx/best_model_checkpointmodel_efficientnet_b3_lr_0.01_opt_adamW_weightDecay_0.1_imgSize_[80, 130]_predict_coordinates_False.pth',\n",
       " 'country_to_index.json': 'https://api.wandb.ai/files/nlp_ls/dspro2-predicting-country/10adb1sx/country_to_index.json',\n",
       " 'files/country_to_index.json': 'https://api.wandb.ai/files/nlp_ls/dspro2-predicting-country/10adb1sx/files/country_to_index.json',\n",
       " 'wandb-metadata.json': 'https://api.wandb.ai/files/nlp_ls/dspro2-predicting-country/10adb1sx/wandb-metadata.json',\n",
       " 'wandb-summary.json': 'https://api.wandb.ai/files/nlp_ls/dspro2-predicting-country/10adb1sx/wandb-summary.json',\n",
       " 'test_data': 'https://api.wandb.ai/files/nlp_ls/dspro2-predicting-country/yns8ucfa/test_data.pth'}"
      ]
     },
     "execution_count": 20,
     "metadata": {},
     "output_type": "execute_result"
    }
   ],
   "source": [
    "run_data[\"Best Run 1\"][\"files\"]"
   ]
  },
  {
   "cell_type": "markdown",
   "metadata": {},
   "source": [
    "## Processing and loading data"
   ]
  },
  {
   "cell_type": "code",
   "execution_count": 22,
   "metadata": {},
   "outputs": [],
   "source": [
    "data_augmentation = \"full_augmentation_v2\"\n",
    "\n",
    "# Default was 50, 50\n",
    "image_size = [80, 130]\n",
    "# Original size is  pixelHeight: 180, pixelWidth: 320\n",
    "# image_size = [180, 320]\n",
    "\n",
    "train_ratio = 0.7\n",
    "val_ratio = 0.2\n",
    "test_ratio = 0.1\n",
    "\n",
    "preprocessing_config = { 'data_augmentation': data_augmentation, 'height': image_size[0], 'width': image_size[1], 'train_ratio': train_ratio, 'val_ratio': val_ratio, 'test_ratio': test_ratio }\n",
    "\n",
    "base_transform = transforms.Compose([\n",
    "          transforms.Resize((image_size[0], image_size[1])),\n",
    "        ])\n",
    "augmented_transform = None\n",
    "final_transform = transforms.Compose([\n",
    "          transforms.ToTensor(),\n",
    "          transforms.Normalize((0.5, 0.5, 0.5), (0.5, 0.5, 0.5))\n",
    "        ])\n",
    "\n",
    "if data_augmentation == \"full_augmentation_v2\":\n",
    "    augmented_transform = transforms.Compose([\n",
    "        # Disabled because black bars really hurt the performance at this size (only for v2)\n",
    "        # transforms.RandomPerspective(distortion_scale=0.75, p=0.5),  # Randomly apply perspective transformation\n",
    "        transforms.RandomResizedCrop((image_size[0], image_size[1]), scale=(0.75, 1.0)),  # Randomly crop the image and resize it to the original size\n",
    "        transforms.RandomRotation(10),          # Randomly rotate the image by up to 10 degrees\n",
    "        transforms.ColorJitter(\n",
    "            brightness=(0.5, 1.5),  # Randomly change brightness (lower limit to simulate night, upper limit for bright daylight)\n",
    "            contrast=(0.5, 1.5),    # Randomly change contrast\n",
    "            saturation=(0.5, 1.5),  # Randomly change saturation\n",
    "            hue=(-0.1, 0.1)         # Randomly change hue\n",
    "        )\n",
    "    ])"
   ]
  },
  {
   "cell_type": "code",
   "execution_count": 23,
   "metadata": {},
   "outputs": [
    {
     "ename": "NameError",
     "evalue": "name 'list_files' is not defined",
     "output_type": "error",
     "traceback": [
      "\u001b[0;31m---------------------------------------------------------------------------\u001b[0m",
      "\u001b[0;31mNameError\u001b[0m                                 Traceback (most recent call last)",
      "Cell \u001b[0;32mIn[23], line 4\u001b[0m\n\u001b[1;32m      1\u001b[0m \u001b[38;5;66;03m# Creating Dataloaders with the classes\u001b[39;00m\n\u001b[1;32m      2\u001b[0m \n\u001b[1;32m      3\u001b[0m \u001b[38;5;66;03m# Hash the files list to get a unique identifier for the data\u001b[39;00m\n\u001b[0;32m----> 4\u001b[0m hashed_filenames \u001b[38;5;241m=\u001b[39m hash_filenames(\u001b[43mlist_files\u001b[49m)\n\u001b[1;32m      6\u001b[0m cache \u001b[38;5;241m=\u001b[39m \u001b[38;5;28;01mTrue\u001b[39;00m\n\u001b[1;32m      8\u001b[0m data_handler \u001b[38;5;241m=\u001b[39m TestImageDataHandler(list_files, base_transform, augmented_transform, final_transform, preprocessing_config, batch_size\u001b[38;5;241m=\u001b[39m\u001b[38;5;241m200\u001b[39m, cache\u001b[38;5;241m=\u001b[39mcache, cache_zip_load_callback\u001b[38;5;241m=\u001b[39mzip_load_callback, cache_additional_save_callback\u001b[38;5;241m=\u001b[39madditional_save_callback)\n",
      "\u001b[0;31mNameError\u001b[0m: name 'list_files' is not defined"
     ]
    }
   ],
   "source": [
    "# Creating Dataloaders with the classes\n",
    "\n",
    "# Hash the files list to get a unique identifier for the data\n",
    "hashed_filenames = hash_filenames(list_files)\n",
    "\n",
    "cache = True\n",
    "\n",
    "data_handler = TestImageDataHandler(list_files, base_transform, augmented_transform, final_transform, preprocessing_config, batch_size=200, cache=cache, cache_zip_load_callback=zip_load_callback, cache_additional_save_callback=additional_save_callback)\n",
    "test_dataloader = data_handler.test_loader\n",
    "country_to_index = data_handler.country_to_index\n",
    "test_data_path = data_handler.test_data_path\n",
    "\n",
    "# Load the country_to_index mapping and print the count of different countries\n",
    "print(\"Dataset size:\", NUMBER_OF_FILES)\n",
    "print(\"Dataset identifier:\", hashed_filenames)\n",
    "print(f\"Count of different countries: {len(country_to_index)}\")"
   ]
  },
  {
   "cell_type": "markdown",
   "metadata": {},
   "source": [
    "## Evaluating the model"
   ]
  },
  {
   "cell_type": "code",
   "execution_count": null,
   "metadata": {
    "editable": true,
    "slideshow": {
     "slide_type": ""
    },
    "tags": []
   },
   "outputs": [],
   "source": [
    "# TODO: Load model and files from wandb before the Datahandeler is created\n",
    "# TODO: Create the Dataloader\n",
    "# TODO: Test the model\n",
    "# TODO: Show the different models with the best results (also do it for different data sizes and mapped/non-mapped data)"
   ]
  },
  {
   "cell_type": "code",
   "execution_count": null,
   "metadata": {},
   "outputs": [],
   "source": [
    "run_data[\"Best Run 1\"][\"files\"]"
   ]
  },
  {
   "cell_type": "code",
   "execution_count": null,
   "metadata": {},
   "outputs": [],
   "source": [
    "best_run_files = run_data[\"Best Run 1\"][\"files\"]\n",
    "\n",
    "geo_model_tester = GeoModelTester(\n",
    "    datasize=1000, \n",
    "    train_dataloader=None, \n",
    "    val_dataloader=None, \n",
    "    test_dataloader=test_dataloader, \n",
    "    model_url=best_run_files['best_model'], \n",
    "    num_classes=2, \n",
    "    predict_coordinates=False, \n",
    "    country_to_index_url=best_run_files['country_to_index.json'], \n",
    "    predict_regions=False\n",
    ")\n",
    "\n"
   ]
  },
  {
   "cell_type": "code",
   "execution_count": null,
   "metadata": {},
   "outputs": [],
   "source": [
    "geo_model_tester.test()"
   ]
  }
 ],
 "metadata": {
  "kernelspec": {
   "display_name": "Python 3 (ipykernel)",
   "language": "python",
   "name": "python3"
  },
  "language_info": {
   "codemirror_mode": {
    "name": "ipython",
    "version": 3
   },
   "file_extension": ".py",
   "mimetype": "text/x-python",
   "name": "python",
   "nbconvert_exporter": "python",
   "pygments_lexer": "ipython3",
   "version": "3.12.3"
  }
 },
 "nbformat": 4,
 "nbformat_minor": 4
}
