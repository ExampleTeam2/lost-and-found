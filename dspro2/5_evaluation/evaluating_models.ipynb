{
 "cells": [
  {
   "cell_type": "code",
   "execution_count": 13,
   "metadata": {
    "scrolled": true
   },
   "outputs": [],
   "source": [
    "# important for gpuhub\n",
    "# !pip install -r ../../requirements.txt --upgrade"
   ]
  },
  {
   "cell_type": "markdown",
   "metadata": {},
   "source": [
    "## Importing Libraries and tokens"
   ]
  },
  {
   "cell_type": "code",
   "execution_count": 14,
   "metadata": {},
   "outputs": [],
   "source": [
    "import wandb\n",
    "import os\n",
    "import torch\n",
    "\n",
    "# load .env file\n",
    "from dotenv import load_dotenv\n",
    "from wandb_downloader import WandbDownloader\n",
    "from geo_model_tester import GeoModelTester\n",
    "from image_data_handler_test import TestImageDataHandler\n",
    "from best_run_loader import BestRunLoader\n",
    "\n",
    "os.environ[\"CUDA_LAUNCH_BLOCKING\"] = \"1\""
   ]
  },
  {
   "cell_type": "code",
   "execution_count": 15,
   "metadata": {},
   "outputs": [],
   "source": [
    "WANDB_TOKEN = os.getenv(\"WANDB_TOKEN\")\n",
    "# Define where to run\n",
    "env_path = \"../../.env\"\n",
    "if not WANDB_TOKEN and os.path.exists(env_path):\n",
    "    load_dotenv(env_path)\n",
    "    WANDB_TOKEN = os.getenv(\"WANDB_TOKEN\")"
   ]
  },
  {
   "cell_type": "code",
   "execution_count": 16,
   "metadata": {},
   "outputs": [
    {
     "name": "stdout",
     "output_type": "stream",
     "text": [
      "No GPU found.\n"
     ]
    }
   ],
   "source": [
    "# Check if GPU is available\n",
    "if torch.cuda.is_available():\n",
    "    print(\"GPU is available.\")\n",
    "\n",
    "    # Print the name of the GPU\n",
    "    print(f\"GPU Name: {torch.cuda.get_device_name(0)}\")\n",
    "\n",
    "    # Print the total and available memory\n",
    "    total_memory = torch.cuda.get_device_properties(0).total_memory / 1e9  # Convert bytes to GB\n",
    "    print(f\"Total Memory: {total_memory:.2f} GB\")\n",
    "\n",
    "    allocated_memory = torch.cuda.memory_allocated(0) / 1e9  # Convert bytes to GB\n",
    "    print(f\"Allocated Memory: {allocated_memory:.2f} GB\")\n",
    "\n",
    "    cached_memory = torch.cuda.memory_reserved(0) / 1e9  # Convert bytes to GB\n",
    "    print(f\"Cached Memory: {cached_memory:.2f} GB\")\n",
    "\n",
    "    # Print other properties\n",
    "    device_properties = torch.cuda.get_device_properties(0)\n",
    "    print(f\"CUDA Capability: {device_properties.major}.{device_properties.minor}\")\n",
    "    print(f\"Multi-Processor Count: {device_properties.multi_processor_count}\")\n",
    "else:\n",
    "    print(\"No GPU found.\")"
   ]
  },
  {
   "cell_type": "markdown",
   "metadata": {},
   "source": [
    "## Loading files from wandb"
   ]
  },
  {
   "cell_type": "code",
   "execution_count": 17,
   "metadata": {},
   "outputs": [
    {
     "data": {
      "text/plain": [
       "True"
      ]
     },
     "execution_count": 17,
     "metadata": {},
     "output_type": "execute_result"
    }
   ],
   "source": [
    "wandb.login(key=WANDB_TOKEN) if WANDB_TOKEN else wandb.login()"
   ]
  },
  {
   "cell_type": "code",
   "execution_count": 18,
   "metadata": {},
   "outputs": [
    {
     "name": "stdout",
     "output_type": "stream",
     "text": [
      "dspro2-predicting-region: Found 5 matching runs for datasize 332786 and base_augmentation.\n",
      "{'Best Run 1': {'files': {'best_model': 'https://api.wandb.ai/files/nlp_ls/dspro2-predicting-region/kwlp08u6/best_model_checkpointmodel_efficientnet_b1_lr_0.01_opt_adamW_weightDecay_0.01_imgSize_[80, '\n",
      "                                        '130]_predict_coordinates_False.pth',\n",
      "                          'country_to_index.json': 'https://api.wandb.ai/files/nlp_ls/dspro2-predicting-region/kwlp08u6/run-20240623_193550-kwlp08u6/country_to_index.json',\n",
      "                          'region_index_to_country_index.json': 'https://api.wandb.ai/files/nlp_ls/dspro2-predicting-region/kwlp08u6/run-20240623_193550-kwlp08u6/region_index_to_country_index.json',\n",
      "                          'region_index_to_middle_point.json': 'https://api.wandb.ai/files/nlp_ls/dspro2-predicting-region/kwlp08u6/run-20240623_193550-kwlp08u6/region_index_to_middle_point.json',\n",
      "                          'region_to_index.json': 'https://api.wandb.ai/files/nlp_ls/dspro2-predicting-region/kwlp08u6/run-20240623_193550-kwlp08u6/region_to_index.json',\n",
      "                          'test_data': 'https://api.wandb.ai/files/nlp_ls/dspro2-predicting-region/9rzu773s/run-20240623_013047-9rzu773s/test_data.pth',\n",
      "                          'wandb-metadata.json': 'https://api.wandb.ai/files/nlp_ls/dspro2-predicting-region/kwlp08u6/wandb-metadata.json',\n",
      "                          'wandb-summary.json': 'https://api.wandb.ai/files/nlp_ls/dspro2-predicting-region/kwlp08u6/wandb-summary.json',\n",
      "                          'wandb_manifest.json': 'https://api.wandb.ai/files/nlp_ls/dspro2-predicting-region/kwlp08u6/artifact/918441477/wandb_manifest.json'},\n",
      "                'id': 'kwlp08u6',\n",
      "                'metrics': {'Validation Accuracy Top 1': 0.2021875985996965, 'test_data_run_id': '9rzu773s', '_step': 18, '_runtime': 14794.201100826263, 'Train Loss': 31.59490244752216, 'Train Accuracy Top 3 Country': 0.8792144236960722, 'Validation Accuracy Top 5 Country': 0.7297203900416185, '_wandb': {'runtime': 15616}, '_timestamp': 1719186144.3180728, 'Validation Loss': 43.18054808910306, 'Train Distance (km)': 592.7114378815603, 'Train Accuracy Top 3': 0.5535350933676755, 'Train Accuracy Top 5': 0.6625541961794377, 'Validation Accuracy Top 3': 0.34047508150908246, 'Train Accuracy Top 5 Country': 0.9032367460828504, 'Validation Accuracy Top 1 Country': 0.642246495485073, 'Train Accuracy Top 1': 0.33346211633397727, 'Train Accuracy Top 1 Country': 0.8132174286327538, 'Validation Accuracy Top 3 Country': 0.7017894436347792, 'Validation Distance (km)': 1694.240664029676, 'Validation Accuracy Top 5': 0.4164250191565125},\n",
      "                'parameters': {'data_augmentation': 'base_augmentation',\n",
      "                               'dataset_identifier': '22a493044dbe99c1d431b9ee4656792efbb09ece4182274670ba5faec505d9cf',\n",
      "                               'dataset_size': 332786,\n",
      "                               'different_countries': 138,\n",
      "                               'different_regions': 4596,\n",
      "                               'epochs': 50,\n",
      "                               'input_image_size': [80, 130],\n",
      "                               'learning_rate': 0.01,\n",
      "                               'mapped_data': False,\n",
      "                               'model_name': 'efficientnet_b1',\n",
      "                               'optimizer': 'adamW',\n",
      "                               'predict_coordinates': False,\n",
      "                               'predict_regions': True,\n",
      "                               'seed': 42,\n",
      "                               'weight_decay': 0.01}},\n",
      " 'Best Run 2': {'files': {'best_model': 'https://api.wandb.ai/files/nlp_ls/dspro2-predicting-region/j3e89vyc/best_model_checkpointmodel_efficientnet_b1_lr_0.001_opt_adamW_weightDecay_0.01_imgSize_[80, '\n",
      "                                        '130]_predict_coordinates_False.pth',\n",
      "                          'country_to_index.json': 'https://api.wandb.ai/files/nlp_ls/dspro2-predicting-region/j3e89vyc/run-20240623_235617-j3e89vyc/country_to_index.json',\n",
      "                          'region_index_to_country_index.json': 'https://api.wandb.ai/files/nlp_ls/dspro2-predicting-region/j3e89vyc/run-20240623_235617-j3e89vyc/region_index_to_country_index.json',\n",
      "                          'region_index_to_middle_point.json': 'https://api.wandb.ai/files/nlp_ls/dspro2-predicting-region/j3e89vyc/run-20240623_235617-j3e89vyc/region_index_to_middle_point.json',\n",
      "                          'region_to_index.json': 'https://api.wandb.ai/files/nlp_ls/dspro2-predicting-region/j3e89vyc/run-20240623_235617-j3e89vyc/region_to_index.json',\n",
      "                          'test_data': 'https://api.wandb.ai/files/nlp_ls/dspro2-predicting-region/9rzu773s/run-20240623_013047-9rzu773s/test_data.pth',\n",
      "                          'wandb-metadata.json': 'https://api.wandb.ai/files/nlp_ls/dspro2-predicting-region/j3e89vyc/wandb-metadata.json',\n",
      "                          'wandb-summary.json': 'https://api.wandb.ai/files/nlp_ls/dspro2-predicting-region/j3e89vyc/wandb-summary.json',\n",
      "                          'wandb_manifest.json': 'https://api.wandb.ai/files/nlp_ls/dspro2-predicting-region/j3e89vyc/artifact/918720850/wandb_manifest.json'},\n",
      "                'id': 'j3e89vyc',\n",
      "                'metrics': {'Validation Accuracy Top 1': 0.1932629174992863, 'test_data_run_id': '9rzu773s', '_step': 23, 'Train Distance (km)': 1597.1920106662162, 'Train Accuracy Top 1': 0.25206696716033483, 'Validation Distance (km)': 2054.560850906435, 'Validation Accuracy Top 1 Country': 0.5951890860465465, '_wandb': {'runtime': 19723}, '_timestamp': 1719205878.7016218, 'Validation Loss': 41.482155724050656, 'Train Accuracy Top 3 Country': 0.7412577806396222, 'Validation Accuracy Top 3 Country': 0.6614180326637319, 'Train Loss': 36.468011656695786, 'Train Accuracy Top 5': 0.49647134578235674, 'Validation Accuracy Top 5 Country': 0.6934807758763165, '_runtime': 18900.99837565422, 'Train Accuracy Top 3': 0.4131058166988624, 'Validation Accuracy Top 3': 0.32058235797887524, 'Validation Accuracy Top 5': 0.3921901528013582, 'Train Accuracy Top 1 Country': 0.6612191457394291, 'Train Accuracy Top 5 Country': 0.7762009014810045},\n",
      "                'parameters': {'data_augmentation': 'base_augmentation',\n",
      "                               'dataset_identifier': '22a493044dbe99c1d431b9ee4656792efbb09ece4182274670ba5faec505d9cf',\n",
      "                               'dataset_size': 332786,\n",
      "                               'different_countries': 138,\n",
      "                               'different_regions': 4596,\n",
      "                               'epochs': 50,\n",
      "                               'input_image_size': [80, 130],\n",
      "                               'learning_rate': 0.001,\n",
      "                               'mapped_data': False,\n",
      "                               'model_name': 'efficientnet_b1',\n",
      "                               'optimizer': 'adamW',\n",
      "                               'predict_coordinates': False,\n",
      "                               'predict_regions': True,\n",
      "                               'seed': 42,\n",
      "                               'weight_decay': 0.01}},\n",
      " 'Best Run 3': {'files': {'test_data': 'https://api.wandb.ai/files/nlp_ls/dspro2-predicting-region/9rzu773s/run-20240623_013047-9rzu773s/test_data.pth',\n",
      "                          'wandb-metadata.json': 'https://api.wandb.ai/files/nlp_ls/dspro2-predicting-region/l6rpqs54/wandb-metadata.json',\n",
      "                          'wandb_manifest.json': 'https://api.wandb.ai/files/nlp_ls/dspro2-predicting-region/l6rpqs54/artifact/914982243/wandb_manifest.json'},\n",
      "                'id': 'l6rpqs54',\n",
      "                'metrics': {'Validation Accuracy Top 1': 0.16456571059392702, 'test_data_run_id': '9rzu773s', 'Train Distance (km)': 1305.4339309971845, 'Train Accuracy Top 1': 0.20836230950847823, 'Train Accuracy Top 3': 0.3647778493238893, 'Train Accuracy Top 5 Country': 0.795428203477141, '_runtime': 13003.22681260109, 'Validation Loss': 42.942523138531776, 'Train Accuracy Top 3 Country': 0.7630822064820777, 'Validation Accuracy Top 3 Country': 0.6518773382213742, '_step': 35, 'Train Loss': 35.30804692003316, 'Validation Accuracy Top 5': 0.35761828207401175, 'Validation Accuracy Top 1 Country': 0.5949336658803732, 'Validation Accuracy Top 3': 0.28643117928993195, 'Train Accuracy Top 1 Country': 0.6929770336982185, 'Validation Accuracy Top 5 Country': 0.680018630647415, '_timestamp': 1719139088.9463897, 'Train Accuracy Top 5': 0.4552564928096158, 'Validation Distance (km)': 1974.4620608827645},\n",
      "                'parameters': {'data_augmentation': 'base_augmentation',\n",
      "                               'dataset_identifier': '22a493044dbe99c1d431b9ee4656792efbb09ece4182274670ba5faec505d9cf',\n",
      "                               'dataset_size': 332786,\n",
      "                               'different_countries': 138,\n",
      "                               'different_regions': 4596,\n",
      "                               'epochs': 50,\n",
      "                               'input_image_size': [80, 130],\n",
      "                               'learning_rate': 0.1,\n",
      "                               'mapped_data': False,\n",
      "                               'model_name': 'efficientnet_b1',\n",
      "                               'optimizer': 'adamW',\n",
      "                               'predict_coordinates': False,\n",
      "                               'predict_regions': True,\n",
      "                               'seed': 42,\n",
      "                               'weight_decay': 0.01}},\n",
      " 'Best Run 4': {'files': {'country_to_index.json': 'https://api.wandb.ai/files/nlp_ls/dspro2-predicting-region/gtp7iunj/run-20240622_231030-gtp7iunj/country_to_index.json',\n",
      "                          'region_index_to_country_index.json': 'https://api.wandb.ai/files/nlp_ls/dspro2-predicting-region/gtp7iunj/run-20240622_231030-gtp7iunj/region_index_to_country_index.json',\n",
      "                          'region_index_to_middle_point.json': 'https://api.wandb.ai/files/nlp_ls/dspro2-predicting-region/gtp7iunj/run-20240622_231030-gtp7iunj/region_index_to_middle_point.json',\n",
      "                          'region_to_index.json': 'https://api.wandb.ai/files/nlp_ls/dspro2-predicting-region/gtp7iunj/run-20240622_231030-gtp7iunj/region_to_index.json',\n",
      "                          'test_data': 'https://api.wandb.ai/files/nlp_ls/dspro2-predicting-region/9rzu773s/run-20240623_013047-9rzu773s/test_data.pth',\n",
      "                          'wandb-metadata.json': 'https://api.wandb.ai/files/nlp_ls/dspro2-predicting-region/gtp7iunj/wandb-metadata.json',\n",
      "                          'wandb-summary.json': 'https://api.wandb.ai/files/nlp_ls/dspro2-predicting-region/gtp7iunj/wandb-summary.json',\n",
      "                          'wandb_manifest.json': 'https://api.wandb.ai/files/nlp_ls/dspro2-predicting-region/gtp7iunj/artifact/914815656/wandb_manifest.json'},\n",
      "                'id': 'gtp7iunj',\n",
      "                'metrics': {'Validation Accuracy Top 1': 0.15879621978154063, 'test_data_run_id': '9rzu773s', 'Validation Accuracy Top 3 Country': 0.6445903511276049, 'Train Accuracy Top 1': 0.20168276454174716, 'Train Accuracy Top 5 Country': 0.7912041210560206, 'Validation Accuracy Top 5 Country': 0.6734378051895368, '_runtime': 41066.83079838753, 'Validation Loss': 43.31859249872039, 'Train Loss': 35.29232343231075, 'Train Accuracy Top 3': 0.35450096587250485, 'Validation Distance (km)': 1995.3496889702997, 'Validation Accuracy Top 5': 0.3474615742897066, 'Train Accuracy Top 1 Country': 0.6901910281176218, '_step': 50, '_wandb': {'runtime': 41067}, 'Train Accuracy Top 3 Country': 0.7596437003648852, 'Train Accuracy Top 5': 0.4446147241897403, 'Validation Accuracy Top 3': 0.27582373003590904, 'Validation Accuracy Top 1 Country': 0.5875264810613459, '_timestamp': 1719138897.0388143, 'Train Distance (km)': 1317.4714518860387},\n",
      "                'parameters': {'data_augmentation': 'base_augmentation',\n",
      "                               'dataset_identifier': '22a493044dbe99c1d431b9ee4656792efbb09ece4182274670ba5faec505d9cf',\n",
      "                               'dataset_size': 332786,\n",
      "                               'different_countries': 138,\n",
      "                               'different_regions': 4596,\n",
      "                               'epochs': 50,\n",
      "                               'input_image_size': [80, 130],\n",
      "                               'learning_rate': 0.1,\n",
      "                               'mapped_data': False,\n",
      "                               'model_name': 'efficientnet_b1',\n",
      "                               'optimizer': 'adamW',\n",
      "                               'predict_coordinates': False,\n",
      "                               'predict_regions': True,\n",
      "                               'seed': 42,\n",
      "                               'weight_decay': 0.01}},\n",
      " 'Best Run 5': {'files': {'test_data': 'https://api.wandb.ai/files/nlp_ls/dspro2-predicting-region/9rzu773s/run-20240623_013047-9rzu773s/test_data.pth',\n",
      "                          'wandb-metadata.json': 'https://api.wandb.ai/files/nlp_ls/dspro2-predicting-region/5ny8wzv0/wandb-metadata.json',\n",
      "                          'wandb-summary.json': 'https://api.wandb.ai/files/nlp_ls/dspro2-predicting-region/5ny8wzv0/wandb-summary.json',\n",
      "                          'wandb_manifest.json': 'https://api.wandb.ai/files/nlp_ls/dspro2-predicting-region/5ny8wzv0/artifact/919686856/wandb_manifest.json'},\n",
      "                'id': '5ny8wzv0',\n",
      "                'metrics': {'Validation Accuracy Top 1': 0.1586008984779963, 'test_data_run_id': '9rzu773s', 'Train Distance (km)': 1498.028577352035, 'Train Accuracy Top 5': 0.3930628890319811, 'Validation Distance (km)': 1905.494091968543, 'Validation Accuracy Top 5': 0.3535916582778671, 'Validation Accuracy Top 1 Country': 0.6042790390191866, '_wandb': {'runtime': 19511}, 'Train Accuracy Top 3': 0.3102983472848251, 'Validation Accuracy Top 3': 0.28159322084829547, 'Train Accuracy Top 1 Country': 0.654934535308006, 'Validation Accuracy Top 5 Country': 0.694682753128897, 'Validation Loss': 41.51635728458454, '_timestamp': 1719225924.844463, 'Train Accuracy Top 1': 0.17329040566645204, 'Train Accuracy Top 3 Country': 0.7275123417042284, 'Validation Accuracy Top 3 Country': 0.6659254473609086, '_runtime': 19205.718095064163, 'Train Loss': 36.92041713532611, 'Train Accuracy Top 5 Country': 0.7625155612792445, '_step': 17},\n",
      "                'parameters': {'data_augmentation': 'base_augmentation',\n",
      "                               'dataset_identifier': '22a493044dbe99c1d431b9ee4656792efbb09ece4182274670ba5faec505d9cf',\n",
      "                               'dataset_size': 332786,\n",
      "                               'different_countries': 138,\n",
      "                               'different_regions': 4596,\n",
      "                               'epochs': 50,\n",
      "                               'input_image_size': [80, 130],\n",
      "                               'learning_rate': 0.1,\n",
      "                               'mapped_data': False,\n",
      "                               'model_name': 'efficientnet_b3',\n",
      "                               'optimizer': 'adamW',\n",
      "                               'predict_coordinates': False,\n",
      "                               'predict_regions': True,\n",
      "                               'seed': 42,\n",
      "                               'weight_decay': 0.01}}}\n"
     ]
    }
   ],
   "source": [
    "# Example usage:\n",
    "entity = \"nlp_ls\"\n",
    "predict_coordinates = False\n",
    "predict_regions = True\n",
    "project = \"dspro2-predicting-region\" if predict_regions else (\"dspro2-predicting-coordinates\" if predict_coordinates else \"dspro2-predicting-country\")\n",
    "metric_name = \"Validation Accuracy Top 1\" if not predict_coordinates else \"Validation Distance (km)\"\n",
    "metric_ascending = False if not predict_coordinates else True\n",
    "data_augmentation = \"base_augmentation\"  # or \"full_augmentation_v2\"\n",
    "datasize = 332786  # Replace with the desired datasize\n",
    "file_names_to_download = [\".pth\", \".json\"]\n",
    "image_size = [80, 130]\n",
    "\n",
    "downloader = WandbDownloader(entity, project, data_augmentation, datasize, image_size)\n",
    "run_data = downloader.get_and_collect_best_runs(metric_name, file_names_to_download, metric_ascending=metric_ascending)\n",
    "\n",
    "# Now run_data contains all necessary information for further processing\n",
    "import pprint\n",
    "\n",
    "pprint.pprint(run_data)"
   ]
  },
  {
   "cell_type": "code",
   "execution_count": 19,
   "metadata": {},
   "outputs": [
    {
     "data": {
      "text/plain": [
       "dict_keys(['Best Run 1', 'Best Run 2', 'Best Run 3', 'Best Run 4', 'Best Run 5'])"
      ]
     },
     "execution_count": 19,
     "metadata": {},
     "output_type": "execute_result"
    }
   ],
   "source": [
    "run_data.keys()"
   ]
  },
  {
   "cell_type": "code",
   "execution_count": 20,
   "metadata": {},
   "outputs": [
    {
     "name": "stdout",
     "output_type": "stream",
     "text": [
      "Validation Accuracy Top 1:  0.2021875985996965\n",
      "Validation Accuracy Top 3:  0.34047508150908246\n",
      "Validation Accuracy Top 5:  0.4164250191565125\n"
     ]
    }
   ],
   "source": [
    "# Print the validation accuracy for the top 1, 3, and 5 predictions\n",
    "if predict_coordinates:\n",
    "    print(f\"Validation Distance (km): \", run_data[\"Best Run 1\"][\"metrics\"][\"Validation Distance (km)\"])\n",
    "else:\n",
    "    for i in [1, 3, 5]:\n",
    "        print(f\"Validation Accuracy Top {i}: \", run_data[\"Best Run 1\"][\"metrics\"][f\"Validation Accuracy Top {i}\"])"
   ]
  },
  {
   "cell_type": "code",
   "execution_count": 21,
   "metadata": {},
   "outputs": [
    {
     "data": {
      "text/plain": [
       "{'seed': 42,\n",
       " 'epochs': 50,\n",
       " 'optimizer': 'adamW',\n",
       " 'model_name': 'efficientnet_b1',\n",
       " 'mapped_data': False,\n",
       " 'dataset_size': 332786,\n",
       " 'weight_decay': 0.01,\n",
       " 'learning_rate': 0.01,\n",
       " 'predict_regions': True,\n",
       " 'input_image_size': [80, 130],\n",
       " 'data_augmentation': 'base_augmentation',\n",
       " 'different_regions': 4596,\n",
       " 'dataset_identifier': '22a493044dbe99c1d431b9ee4656792efbb09ece4182274670ba5faec505d9cf',\n",
       " 'different_countries': 138,\n",
       " 'predict_coordinates': False}"
      ]
     },
     "execution_count": 21,
     "metadata": {},
     "output_type": "execute_result"
    }
   ],
   "source": [
    "run_data[\"Best Run 1\"][\"parameters\"]"
   ]
  },
  {
   "cell_type": "code",
   "execution_count": 22,
   "metadata": {},
   "outputs": [
    {
     "data": {
      "text/plain": [
       "{'wandb_manifest.json': 'https://api.wandb.ai/files/nlp_ls/dspro2-predicting-region/kwlp08u6/artifact/918441477/wandb_manifest.json',\n",
       " 'best_model': 'https://api.wandb.ai/files/nlp_ls/dspro2-predicting-region/kwlp08u6/best_model_checkpointmodel_efficientnet_b1_lr_0.01_opt_adamW_weightDecay_0.01_imgSize_[80, 130]_predict_coordinates_False.pth',\n",
       " 'country_to_index.json': 'https://api.wandb.ai/files/nlp_ls/dspro2-predicting-region/kwlp08u6/run-20240623_193550-kwlp08u6/country_to_index.json',\n",
       " 'region_index_to_country_index.json': 'https://api.wandb.ai/files/nlp_ls/dspro2-predicting-region/kwlp08u6/run-20240623_193550-kwlp08u6/region_index_to_country_index.json',\n",
       " 'region_index_to_middle_point.json': 'https://api.wandb.ai/files/nlp_ls/dspro2-predicting-region/kwlp08u6/run-20240623_193550-kwlp08u6/region_index_to_middle_point.json',\n",
       " 'region_to_index.json': 'https://api.wandb.ai/files/nlp_ls/dspro2-predicting-region/kwlp08u6/run-20240623_193550-kwlp08u6/region_to_index.json',\n",
       " 'wandb-metadata.json': 'https://api.wandb.ai/files/nlp_ls/dspro2-predicting-region/kwlp08u6/wandb-metadata.json',\n",
       " 'wandb-summary.json': 'https://api.wandb.ai/files/nlp_ls/dspro2-predicting-region/kwlp08u6/wandb-summary.json',\n",
       " 'test_data': 'https://api.wandb.ai/files/nlp_ls/dspro2-predicting-region/9rzu773s/run-20240623_013047-9rzu773s/test_data.pth'}"
      ]
     },
     "execution_count": 22,
     "metadata": {},
     "output_type": "execute_result"
    }
   ],
   "source": [
    "run_data[\"Best Run 1\"][\"files\"]"
   ]
  },
  {
   "cell_type": "markdown",
   "metadata": {},
   "source": [
    "## Loading metrics for best runs for each datasize, with and without augmentation"
   ]
  },
  {
   "cell_type": "code",
   "execution_count": 23,
   "metadata": {},
   "outputs": [],
   "source": [
    "# Create configuration entries\n",
    "def create_configurations(names, sizes, augmentations, image_size):\n",
    "    configurations = []\n",
    "    for name in names:\n",
    "        for size in sizes:\n",
    "            for aug in augmentations:\n",
    "                configurations.append({\"project\": f\"dspro2-predicting-{name}\", \"data_augmentation\": aug, \"datasize\": size, \"image_size\": image_size})\n",
    "    return configurations\n",
    "\n",
    "\n",
    "# Load best runs\n",
    "def load_best_runs(entity, project, metric_name, data_augmentation, datasize, image_size, file_names_to_download):\n",
    "    metric_ascending = False\n",
    "    if project.endswith(\"coordinates\"):\n",
    "        metric_ascending = True\n",
    "    downloader = WandbDownloader(entity, project, data_augmentation, datasize, image_size)\n",
    "    return downloader.get_and_collect_best_runs(metric_name, file_names_to_download, metric_ascending=metric_ascending)\n",
    "\n",
    "\n",
    "# Load best runs wit the configurations\n",
    "def load_results(entity, configurations, metric_name, file_names):\n",
    "    results = {}\n",
    "    for configs in configurations.values():\n",
    "        for config in configs:\n",
    "            key = f\"{config['project']}_{config['data_augmentation']}_{config['datasize']}_{config['image_size']}\"\n",
    "            results[key] = load_best_runs(entity, config[\"project\"], metric_name, config[\"data_augmentation\"], config[\"datasize\"], config[\"image_size\"], file_names)\n",
    "    return results"
   ]
  },
  {
   "cell_type": "code",
   "execution_count": 24,
   "metadata": {},
   "outputs": [
    {
     "name": "stdout",
     "output_type": "stream",
     "text": [
      "dspro2-predicting-coordinates: No matching runs found for datasize 81505 and base_augmentation.\n",
      "dspro2-predicting-coordinates: No matching runs found for datasize 81505 and full_augmentation_v2.\n",
      "dspro2-predicting-coordinates: Found 5 matching runs for datasize 332786 and base_augmentation.\n",
      "dspro2-predicting-coordinates: No matching runs found for datasize 332786 and full_augmentation_v2.\n",
      "dspro2-predicting-coordinates: Found 5 matching runs for datasize 79000 and base_augmentation.\n",
      "dspro2-predicting-region: Found 5 matching runs for datasize 81505 and base_augmentation.\n",
      "dspro2-predicting-region: Found 2 matching runs for datasize 81505 and full_augmentation_v2.\n",
      "dspro2-predicting-region: Found 5 matching runs for datasize 332786 and base_augmentation.\n",
      "dspro2-predicting-region: Found 3 matching runs for datasize 332786 and full_augmentation_v2.\n",
      "dspro2-predicting-region: Found 5 matching runs for datasize 79000 and base_augmentation.\n",
      "dspro2-predicting-country: Found 5 matching runs for datasize 81505 and base_augmentation.\n",
      "dspro2-predicting-country: Found 5 matching runs for datasize 81505 and full_augmentation_v2.\n",
      "dspro2-predicting-country: Found 5 matching runs for datasize 332786 and base_augmentation.\n",
      "dspro2-predicting-country: Found 1 matching runs for datasize 332786 and full_augmentation_v2.\n",
      "dspro2-predicting-country: Found 3 matching runs for datasize 79000 and base_augmentation.\n",
      "\n",
      " dict_keys(['dspro2-predicting-coordinates_base_augmentation_81505_(80, 130)', 'dspro2-predicting-coordinates_full_augmentation_v2_81505_(80, 130)', 'dspro2-predicting-coordinates_base_augmentation_332786_(80, 130)', 'dspro2-predicting-coordinates_full_augmentation_v2_332786_(80, 130)', 'dspro2-predicting-coordinates_base_augmentation_79000_(180, 320)', 'dspro2-predicting-region_base_augmentation_81505_(80, 130)', 'dspro2-predicting-region_full_augmentation_v2_81505_(80, 130)', 'dspro2-predicting-region_base_augmentation_332786_(80, 130)', 'dspro2-predicting-region_full_augmentation_v2_332786_(80, 130)', 'dspro2-predicting-region_base_augmentation_79000_(180, 320)', 'dspro2-predicting-country_base_augmentation_81505_(80, 130)', 'dspro2-predicting-country_full_augmentation_v2_81505_(80, 130)', 'dspro2-predicting-country_base_augmentation_332786_(80, 130)', 'dspro2-predicting-country_full_augmentation_v2_332786_(80, 130)', 'dspro2-predicting-country_base_augmentation_79000_(180, 320)']) \n",
      "\n",
      "dict_keys(['Best Run 1', 'Best Run 2', 'Best Run 3', 'Best Run 4', 'Best Run 5'])\n"
     ]
    }
   ],
   "source": [
    "# Example usage:\n",
    "entity = \"nlp_ls\"\n",
    "metric_name = \"Validation Accuracy Top 1\"\n",
    "project_names = [\"coordinates\", \"region\", \"country\"]\n",
    "file_names_to_download = [\".pth\", \".json\"]\n",
    "\n",
    "loader = BestRunLoader(entity, metric_name, project_names, file_names_to_download)\n",
    "\n",
    "# See the keys of the results\n",
    "print(\"\\n\", loader.results.keys(), \"\\n\")\n",
    "\n",
    "# See the keys of the results\n",
    "print(loader.results[\"dspro2-predicting-region_base_augmentation_81505_(80, 130)\"].keys())"
   ]
  },
  {
   "cell_type": "code",
   "execution_count": 25,
   "metadata": {},
   "outputs": [
    {
     "name": "stdout",
     "output_type": "stream",
     "text": [
      "Found runs for each project {'dspro2-predicting-coordinates': 10, 'dspro2-predicting-region': 20, 'dspro2-predicting-country': 19}\n"
     ]
    }
   ],
   "source": [
    "# Count runs per project\n",
    "project_run_counts = loader.count_runs_per_project()\n",
    "print(f\"Found runs for each project\", project_run_counts)"
   ]
  },
  {
   "cell_type": "markdown",
   "metadata": {},
   "source": [
    "## Loading data and creating data loader"
   ]
  },
  {
   "cell_type": "code",
   "execution_count": 14,
   "metadata": {},
   "outputs": [
    {
     "name": "stdout",
     "output_type": "stream",
     "text": [
      "Loaded 138 countries.\n",
      "Loaded 4596 regions.\n",
      "Loaded 4596 region middle points.\n",
      "Loaded 3595 region to country index mappings.\n",
      "Loading test data from test_data.pth\n",
      "Test data loaded from cache.\n"
     ]
    }
   ],
   "source": [
    "cache = True\n",
    "\n",
    "run = None\n",
    "\n",
    "for i in range(5):\n",
    "    run = run_data[f\"Best Run {i+1}\"]\n",
    "    if run[\"files\"].get(\"test_data\", None) and run[\"files\"].get(\"best_model\", None):\n",
    "        break\n",
    "    else:\n",
    "        run = None\n",
    "        print(f\"Run {i+1} does not contain the necessary files. Trying the next run...\")\n",
    "\n",
    "if run is None:\n",
    "    raise Exception(\"No run with the necessary files found.\")\n",
    "\n",
    "# Creating Dataloaders with the classes\n",
    "test_dataset = run[\"files\"][\"test_data\"]\n",
    "files = run[\"files\"]\n",
    "country_to_index = files.get(\"country_to_index.json\", None)\n",
    "region_to_index = files.get(\"region_to_index.json\", None)\n",
    "region_index_to_middle_point = files.get(\"region_index_to_middle_point.json\", None)\n",
    "region_index_to_country_index = files.get(\"region_index_to_country_index.json\", None)\n",
    "\n",
    "data_handler = TestImageDataHandler(test_dataset, country_to_index, region_to_index, region_index_to_middle_point, region_index_to_country_index, cache=cache)\n",
    "test_dataloader = data_handler.test_loader\n",
    "country_to_index = data_handler.country_to_index\n",
    "region_to_index = data_handler.region_to_index\n",
    "region_index_to_middle_point = data_handler.region_index_to_middle_point\n",
    "region_index_to_country_index = data_handler.region_index_to_country_index\n",
    "\n",
    "num_regions = data_handler.num_regions\n",
    "num_countries = data_handler.num_countries"
   ]
  },
  {
   "cell_type": "markdown",
   "metadata": {},
   "source": [
    "## Evaluating the model"
   ]
  },
  {
   "cell_type": "code",
   "execution_count": 15,
   "metadata": {},
   "outputs": [
    {
     "name": "stderr",
     "output_type": "stream",
     "text": [
      "/Users/linus/gitprojects/dspro2/dspro2/5_evaluation/../4_modeling/geo_model_harness.py:37: UserWarning: Creating a tensor from a list of numpy.ndarrays is extremely slow. Please consider converting the list to a single numpy.ndarray with numpy.array() before converting to a tensor. (Triggered internally at /Users/runner/work/pytorch/pytorch/pytorch/torch/csrc/utils/tensor_new.cpp:277.)\n",
      "  self.region_middle_points = torch.tensor([coordinates_to_cartesian(*coordinate) for coordinate in self.region_middle_points], dtype=torch.float32).to(self.device)\n"
     ]
    }
   ],
   "source": [
    "num_classes = 3 if predict_coordinates else (num_regions if predict_regions else num_countries)\n",
    "\n",
    "if num_classes == 0:\n",
    "    raise ValueError(\"No classes detected. Please check the data.\")\n",
    "\n",
    "geo_model_tester = GeoModelTester(test_dataloader=test_dataloader, num_classes=num_classes, predict_coordinates=predict_coordinates, country_to_index=country_to_index, region_to_index=region_to_index, region_index_to_middle_point=region_index_to_middle_point, region_index_to_country_index=region_index_to_country_index, predict_regions=predict_regions if not predict_coordinates else None)"
   ]
  },
  {
   "cell_type": "code",
   "execution_count": 16,
   "metadata": {},
   "outputs": [
    {
     "name": "stderr",
     "output_type": "stream",
     "text": [
      "/Users/linus/gitprojects/dspro2/.venv/lib/python3.12/site-packages/sklearn/metrics/_classification.py:2466: UserWarning: y_pred contains classes not in y_true\n",
      "  warnings.warn(\"y_pred contains classes not in y_true\")\n",
      "/Users/linus/gitprojects/dspro2/.venv/lib/python3.12/site-packages/sklearn/metrics/_classification.py:2466: UserWarning: y_pred contains classes not in y_true\n",
      "  warnings.warn(\"y_pred contains classes not in y_true\")\n"
     ]
    },
    {
     "name": "stdout",
     "output_type": "stream",
     "text": [
      "Test Loss: 43.8764, Test Distance: 1753.0771, Test Distance Median: 385.5583\n",
      "Test Top 1 Accuracy: 0.2005, Test Top 3 Accuracy: 0.3405, Test Top 5 Accuracy: 0.4153\n",
      "Test Top 1 Accuracy (Country): 0.6473, Test Top 3 Accuracy (Country): 0.7085, Test Top 5 Accuracy (Country): 0.7346\n",
      "Test Top 1 Balanced Accuracy: 0.0845, Test Top 1 Balanced Accuracy (Country): 0.5469\n",
      "Test Loss: 43.8764, Test Distance: 1753.0771, Test Distance Median: 385.5583\n",
      "Test Top 1 Accuracy: 0.2005, Test Top 3 Accuracy: 0.3405, Test Top 5 Accuracy: 0.4153\n",
      "Test Top 1 Accuracy (Country): 0.6473, Test Top 3 Accuracy (Country): 0.7085, Test Top 5 Accuracy (Country): 0.7346\n",
      "Test Top 1 Balanced Accuracy: 0.0845, Test Top 1 Balanced Accuracy (Country): 0.4161\n",
      "Accuracy per country:\n",
      "Country Faroe Islands: 1.00000\n",
      "Country Qatar: 1.00000\n",
      "Country Rwanda: 0.94737\n",
      "Country India: 0.93060\n",
      "Country Japan: 0.87262\n",
      "Country Senegal: 0.83824\n",
      "Country Ghana: 0.82278\n",
      "Country Lesotho: 0.82203\n",
      "Country United States: 0.81454\n",
      "Country Nigeria: 0.78090\n",
      "Country United Kingdom: 0.78068\n",
      "Country Kyrgyzstan: 0.77586\n",
      "Country Eswatini: 0.76923\n",
      "Country United Arab Emirates: 0.76667\n",
      "Country Singapore: 0.76224\n",
      "Country Kenya: 0.76042\n",
      "Country Pakistan: 0.75000\n",
      "Country Iceland: 0.73469\n",
      "Country Uganda: 0.72917\n",
      "Country Australia: 0.72608\n",
      "Country Bolivia, Plurinational State of: 0.71951\n",
      "Country Indonesia: 0.71535\n",
      "Country Andorra: 0.71429\n",
      "Country Switzerland: 0.71429\n",
      "Country Russian Federation: 0.70869\n",
      "Country Germany: 0.70510\n",
      "Country Malta: 0.68750\n",
      "Country Botswana: 0.68000\n",
      "Country Israel: 0.67742\n",
      "Country Sri Lanka: 0.67213\n",
      "Country Argentina: 0.66606\n",
      "Country Austria: 0.66132\n",
      "Country Brazil: 0.65678\n",
      "Country South Africa: 0.65458\n",
      "Country Finland: 0.64557\n",
      "Country Peru: 0.64398\n",
      "Country Korea, Republic of: 0.64072\n",
      "Country New Zealand: 0.62925\n",
      "Country Puerto Rico: 0.62162\n",
      "Country France: 0.60643\n",
      "Country Ecuador: 0.60630\n",
      "Country Guatemala: 0.60417\n",
      "Country Tunisia: 0.59091\n",
      "Country Uruguay: 0.58407\n",
      "Country Taiwan, Province of China: 0.58079\n",
      "Country Mexico: 0.58011\n",
      "Country Ukraine: 0.56497\n",
      "Country Thailand: 0.56397\n",
      "Country Philippines: 0.55394\n",
      "Country Netherlands: 0.54655\n",
      "Country Poland: 0.54610\n",
      "Country Türkiye: 0.54404\n",
      "Country Dominican Republic: 0.53846\n",
      "Country Chile: 0.53529\n",
      "Country Jordan: 0.53488\n",
      "Country Cambodia: 0.53061\n",
      "Country Egypt: 0.50000\n",
      "Country Guinea-Bissau: 0.50000\n",
      "Country Norway: 0.48223\n",
      "Country Italy: 0.47141\n",
      "Country North Macedonia: 0.46341\n",
      "Country Romania: 0.44444\n",
      "Country Spain: 0.44413\n",
      "Country Greece: 0.42553\n",
      "Country Croatia: 0.41209\n",
      "Country Serbia: 0.40000\n",
      "Country Ireland: 0.39336\n",
      "Country Montenegro: 0.39024\n",
      "Country Bulgaria: 0.38860\n",
      "Country Estonia: 0.38182\n",
      "Country Portugal: 0.35981\n",
      "Country Albania: 0.35821\n",
      "Country Lithuania: 0.33721\n",
      "Country Belgium: 0.33333\n",
      "Country Burkina Faso: 0.33333\n",
      "Country Virgin Islands, U.S.: 0.33333\n",
      "Country Malaysia: 0.32676\n",
      "Country Colombia: 0.31034\n",
      "Country Sweden: 0.30855\n",
      "Country Hong Kong: 0.30769\n",
      "Country Czechia: 0.28986\n",
      "Country Hungary: 0.25281\n",
      "Country Gambia: 0.25000\n",
      "Country Nepal: 0.25000\n",
      "Country Bangladesh: 0.24540\n",
      "Country Denmark: 0.22835\n",
      "Country Lao People's Democratic Republic: 0.22727\n",
      "Country Palestine, State of: 0.21951\n",
      "Country Latvia: 0.21918\n",
      "Country Canada: 0.17836\n",
      "Country Luxembourg: 0.13333\n",
      "Country Slovenia: 0.12903\n",
      "Country Bosnia and Herzegovina: 0.11111\n",
      "Country Jersey: 0.08333\n",
      "Country Slovakia: 0.07895\n",
      "Country Bhutan: 0.07143\n",
      "Country Armenia: 0.00000\n",
      "Country Belarus: 0.00000\n",
      "Country Brunei Darussalam: 0.00000\n",
      "Country China: 0.00000\n",
      "Country Costa Rica: 0.00000\n",
      "Country Curaçao: 0.00000\n",
      "Country Côte d'Ivoire: 0.00000\n",
      "Country Guinea: 0.00000\n",
      "Country Guyana: 0.00000\n",
      "Country Holy See (Vatican City State): 0.00000\n",
      "Country Isle of Man: 0.00000\n",
      "Country Kazakhstan: 0.00000\n",
      "Country Lebanon: 0.00000\n",
      "Country Liechtenstein: 0.00000\n",
      "Country Madagascar: 0.00000\n",
      "Country Monaco: 0.00000\n",
      "Country Namibia: 0.00000\n",
      "Country Panama: 0.00000\n",
      "Country Paraguay: 0.00000\n",
      "Country Réunion: 0.00000\n",
      "Country San Marino: 0.00000\n",
      "Country Syrian Arab Republic: 0.00000\n",
      "Country Tanzania, United Republic of: 0.00000\n",
      "Country Togo: 0.00000\n",
      "Country Viet Nam: 0.00000\n",
      "Country Zimbabwe: 0.00000\n",
      "Country Åland Islands: 0.00000\n"
     ]
    },
    {
     "name": "stderr",
     "output_type": "stream",
     "text": [
      "/Users/linus/gitprojects/dspro2/.venv/lib/python3.12/site-packages/sklearn/metrics/_classification.py:2466: UserWarning: y_pred contains classes not in y_true\n",
      "  warnings.warn(\"y_pred contains classes not in y_true\")\n",
      "/Users/linus/gitprojects/dspro2/.venv/lib/python3.12/site-packages/sklearn/metrics/_classification.py:2466: UserWarning: y_pred contains classes not in y_true\n",
      "  warnings.warn(\"y_pred contains classes not in y_true\")\n"
     ]
    }
   ],
   "source": [
    "# TODO: Test the model from best runs\n",
    "# TODO: Show the different models with the best results (also do it for different data sizes and mapped/non-mapped data)\n",
    "model_name = run[\"parameters\"][\"model_name\"]\n",
    "pretrained_weights = run[\"files\"][\"best_model\"]\n",
    "\n",
    "# Countries from 81k more mapped dataset\n",
    "countries_only = [\"Albania\", \"Argentina\", \"Australia\", \"Austria\", \"Bangladesh\", \"Belgium\", \"Bolivia, Plurinational State of\", \"Botswana\", \"Brazil\", \"Bulgaria\", \"Cambodia\", \"Canada\", \"Chile\", \"Colombia\", \"Croatia\", \"Czechia\", \"Denmark\", \"Dominican Republic\", \"Ecuador\", \"Estonia\", \"Eswatini\", \"Finland\", \"France\", \"Germany\", \"Ghana\", \"Greece\", \"Guatemala\", \"Hungary\", \"India\", \"Indonesia\", \"Ireland\", \"Israel\", \"Italy\", \"Japan\", \"Kenya\", \"Korea, Republic of\", \"Kyrgyzstan\", \"Lao People's Democratic Republic\", \"Latvia\", \"Lesotho\", \"Lithuania\", \"Malaysia\", \"Malta\", \"Mexico\", \"Montenegro\", \"Netherlands\", \"New Zealand\", \"Nigeria\", \"North Macedonia\", \"Norway\", \"Peru\", \"Philippines\", \"Poland\", \"Portugal\", \"Romania\", \"Russian Federation\", \"Rwanda\", \"Senegal\", \"Serbia\", \"Singapore\", \"Slovakia\", \"Slovenia\", \"South Africa\", \"Spain\", \"Sri Lanka\", \"Sweden\", \"Switzerland\", \"Thailand\", \"T\\u00fcrkiye\", \"Uganda\", \"Ukraine\", \"United Arab Emirates\", \"United Kingdom\", \"United States\", \"Uruguay\"]\n",
    "\n",
    "geo_model_tester.test(model_type=model_name, model_path=pretrained_weights, balanced_on_countries_only=countries_only, accuracy_per_country=False)\n",
    "\n",
    "if not predict_coordinates:\n",
    "    # And over all countries\n",
    "    geo_model_tester.test(model_type=model_name, model_path=pretrained_weights, balanced_on_countries_only=None, accuracy_per_country=True)"
   ]
  }
 ],
 "metadata": {
  "kernelspec": {
   "display_name": "Python 3 (ipykernel)",
   "language": "python",
   "name": "python3"
  },
  "language_info": {
   "codemirror_mode": {
    "name": "ipython",
    "version": 3
   },
   "file_extension": ".py",
   "mimetype": "text/x-python",
   "name": "python",
   "nbconvert_exporter": "python",
   "pygments_lexer": "ipython3",
   "version": "3.12.3"
  }
 },
 "nbformat": 4,
 "nbformat_minor": 4
}
