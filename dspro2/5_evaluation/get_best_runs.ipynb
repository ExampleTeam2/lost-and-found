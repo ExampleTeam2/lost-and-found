{
 "cells": [
  {
   "cell_type": "markdown",
   "metadata": {},
   "source": [
    "# Checking and comparing remote model metrics to get the best runs"
   ]
  },
  {
   "cell_type": "code",
   "execution_count": 1,
   "metadata": {},
   "outputs": [],
   "source": [
    "import sys\n",
    "\n",
    "\n",
    "from best_run_loader import BestRunLoader\n",
    "\n",
    "sys.path.insert(0, \"../\")\n",
    "from data_loader import resolve_env_variable"
   ]
  },
  {
   "cell_type": "code",
   "execution_count": 3,
   "metadata": {},
   "outputs": [
    {
     "name": "stderr",
     "output_type": "stream",
     "text": [
      "Failed to detect the name of this notebook, you can set it manually with the WANDB_NOTEBOOK_NAME environment variable to enable code saving.\n",
      "\u001b[34m\u001b[1mwandb\u001b[0m: Currently logged in as: \u001b[33mluki-st\u001b[0m (\u001b[33mnlp_ls\u001b[0m). Use \u001b[1m`wandb login --relogin`\u001b[0m to force relogin\n"
     ]
    },
    {
     "name": "stdout",
     "output_type": "stream",
     "text": [
      "dspro2-predicting-coordinates: Found 5 matching runs for datasize 81505 and base_augmentation.\n",
      "dspro2-predicting-coordinates: Found 5 matching runs for datasize 81505 and full_augmentation_v2.\n",
      "dspro2-predicting-coordinates: Found 5 matching runs for datasize 332786 and base_augmentation.\n",
      "Could not find test_data.pth for run wuz2hssk, looks like run fjtmr070 was deleted or is part of a different project.\n",
      "dspro2-predicting-coordinates: Found 5 matching runs for datasize 332786 and full_augmentation_v2.\n",
      "dspro2-predicting-coordinates: Found 5 matching runs for datasize 79000 and base_augmentation.\n",
      "dspro2-predicting-region: Found 5 matching runs for datasize 81505 and base_augmentation.\n",
      "Run 28kqrca5 is still running, skipping\n",
      "dspro2-predicting-region: Found 5 matching runs for datasize 81505 and full_augmentation_v2.\n",
      "dspro2-predicting-region: Found 5 matching runs for datasize 332786 and base_augmentation.\n",
      "dspro2-predicting-region: Found 5 matching runs for datasize 332786 and full_augmentation_v2.\n",
      "dspro2-predicting-region: Found 5 matching runs for datasize 79000 and base_augmentation.\n",
      "Could not find test_data.pth for run uk9kolsi, looks like run b6tzuedd was deleted or is part of a different project.\n",
      "dspro2-predicting-country: Found 5 matching runs for datasize 81505 and base_augmentation.\n",
      "dspro2-predicting-country: Found 5 matching runs for datasize 81505 and full_augmentation_v2.\n",
      "dspro2-predicting-country: Found 4 matching runs for datasize 332786 and base_augmentation.\n",
      "dspro2-predicting-country: Found 5 matching runs for datasize 332786 and full_augmentation_v2.\n",
      "dspro2-predicting-country: Found 2 matching runs for datasize 79000 and base_augmentation.\n",
      "\n",
      " dict_keys(['dspro2-predicting-coordinates_base_augmentation_81505_(80, 130)', 'dspro2-predicting-coordinates_full_augmentation_v2_81505_(80, 130)', 'dspro2-predicting-coordinates_base_augmentation_332786_(80, 130)', 'dspro2-predicting-coordinates_full_augmentation_v2_332786_(80, 130)', 'dspro2-predicting-coordinates_base_augmentation_79000_(180, 320)', 'dspro2-predicting-region_base_augmentation_81505_(80, 130)', 'dspro2-predicting-region_full_augmentation_v2_81505_(80, 130)', 'dspro2-predicting-region_base_augmentation_332786_(80, 130)', 'dspro2-predicting-region_full_augmentation_v2_332786_(80, 130)', 'dspro2-predicting-region_base_augmentation_79000_(180, 320)', 'dspro2-predicting-country_base_augmentation_81505_(80, 130)', 'dspro2-predicting-country_full_augmentation_v2_81505_(80, 130)', 'dspro2-predicting-country_base_augmentation_332786_(80, 130)', 'dspro2-predicting-country_full_augmentation_v2_332786_(80, 130)', 'dspro2-predicting-country_base_augmentation_79000_(180, 320)']) \n",
      "\n"
     ]
    }
   ],
   "source": [
    "entity = resolve_env_variable(\"nlp_ls\", \"WANDB_ENTITY\", True)  # Please provide your own entity\n",
    "if entity == \"nlp_ls\":\n",
    "    print(\"Please provide your own wandb entity if you are not part of our project, add WANDB_ENTITY to your .env.\")\n",
    "\n",
    "# Check availability of the best run\n",
    "metric_name = \"Best Validation Accuracy Top 1\"\n",
    "project_names = [\"coordinates\", \"region\", \"country\"]\n",
    "file_names_to_download = [\".pth\", \".json\"]\n",
    "\n",
    "loader = BestRunLoader(entity, metric_name, project_names, file_names_to_download)\n",
    "\n",
    "# See the keys of the results\n",
    "print(\"\\n\", loader.results.keys(), \"\\n\")"
   ]
  }
 ],
 "metadata": {
  "kernelspec": {
   "display_name": ".venv",
   "language": "python",
   "name": "python3"
  },
  "language_info": {
   "codemirror_mode": {
    "name": "ipython",
    "version": 3
   },
   "file_extension": ".py",
   "mimetype": "text/x-python",
   "name": "python",
   "nbconvert_exporter": "python",
   "pygments_lexer": "ipython3",
   "version": "3.10.14"
  }
 },
 "nbformat": 4,
 "nbformat_minor": 2
}
