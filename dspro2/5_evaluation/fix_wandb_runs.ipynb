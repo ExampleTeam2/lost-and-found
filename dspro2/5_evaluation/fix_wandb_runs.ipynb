{
 "cells": [
  {
   "cell_type": "code",
   "execution_count": 1,
   "metadata": {},
   "outputs": [
    {
     "name": "stderr",
     "output_type": "stream",
     "text": [
      "Failed to detect the name of this notebook, you can set it manually with the WANDB_NOTEBOOK_NAME environment variable to enable code saving.\n",
      "\u001b[34m\u001b[1mwandb\u001b[0m: Currently logged in as: \u001b[33mkillusions\u001b[0m. Use \u001b[1m`wandb login --relogin`\u001b[0m to force relogin\n"
     ]
    },
    {
     "name": "stdout",
     "output_type": "stream",
     "text": [
      "Successfully updated summary of run kwlp08u6 with test_data_run_id: 9rzu773s\n",
      "Successfully updated summary of run j3e89vyc with test_data_run_id: 9rzu773s\n",
      "Successfully updated summary of run gtp7iunj with test_data_run_id: 9rzu773s\n",
      "Successfully updated summary of run 5ny8wzv0 with test_data_run_id: 9rzu773s\n"
     ]
    }
   ],
   "source": [
    "import wandb\n",
    "\n",
    "# Log in to WandB\n",
    "wandb.login()\n",
    "\n",
    "# Replace with your entity, project, and run ID\n",
    "entity = \"nlp_ls\"\n",
    "project = \"dspro2-predicting-region\"\n",
    "run_ids = [\"kwlp08u6\", \"j3e89vyc\", \"gtp7iunj\", \"5ny8wzv0\"]\n",
    "\n",
    "# Value to add to the summary\n",
    "summary_key = \"test_data_run_id\"\n",
    "summary_value = \"9rzu773s\"\n",
    "\n",
    "# Access the run\n",
    "api = wandb.Api()\n",
    "for run_id in run_ids:\n",
    "  run = api.run(f\"{entity}/{project}/{run_id}\")\n",
    "\n",
    "  # Update the summary\n",
    "  run.summary[summary_key] = summary_value\n",
    "  run.summary.update()\n",
    "\n",
    "  print(f\"Successfully updated summary of run {run_id} with {summary_key}: {summary_value}\")\n"
   ]
  }
 ],
 "metadata": {
  "kernelspec": {
   "display_name": ".venv",
   "language": "python",
   "name": "python3"
  },
  "language_info": {
   "codemirror_mode": {
    "name": "ipython",
    "version": 3
   },
   "file_extension": ".py",
   "mimetype": "text/x-python",
   "name": "python",
   "nbconvert_exporter": "python",
   "pygments_lexer": "ipython3",
   "version": "3.12.3"
  }
 },
 "nbformat": 4,
 "nbformat_minor": 2
}
