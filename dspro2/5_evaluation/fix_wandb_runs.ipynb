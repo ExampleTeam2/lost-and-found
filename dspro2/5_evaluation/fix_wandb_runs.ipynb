{
 "cells": [
  {
   "cell_type": "code",
   "execution_count": 1,
   "metadata": {},
   "outputs": [
    {
     "name": "stderr",
     "output_type": "stream",
     "text": [
      "Failed to detect the name of this notebook, you can set it manually with the WANDB_NOTEBOOK_NAME environment variable to enable code saving.\n",
      "\u001b[34m\u001b[1mwandb\u001b[0m: Currently logged in as: \u001b[33mkillusions\u001b[0m. Use \u001b[1m`wandb login --relogin`\u001b[0m to force relogin\n"
     ]
    },
    {
     "name": "stdout",
     "output_type": "stream",
     "text": [
      "Successfully updated summary of run 8my0kcc5 with test_data_run_id: w1098m89\n",
      "Successfully updated summary of run l964tv8w with test_data_run_id: w1098m89\n",
      "Successfully updated summary of run jzr47aha with test_data_run_id: w1098m89\n",
      "Successfully updated summary of run 064k6n6n with test_data_run_id: w1098m89\n",
      "Successfully updated summary of run 11yf08nx with test_data_run_id: w1098m89\n"
     ]
    }
   ],
   "source": [
    "import wandb\n",
    "\n",
    "# Log in to WandB\n",
    "wandb.login()\n",
    "\n",
    "# Replace with your entity, project, and run ID\n",
    "entity = \"nlp_ls\"\n",
    "project = \"dspro2-predicting-region\"\n",
    "run_ids = [\"8my0kcc5\", \"l964tv8w\", \"jzr47aha\", \"064k6n6n\", \"11yf08nx\"]\n",
    "\n",
    "# Value to add to the summary\n",
    "summary_key = \"test_data_run_id\"\n",
    "summary_value = \"w1098m89\"\n",
    "\n",
    "# Access the run\n",
    "api = wandb.Api()\n",
    "for run_id in run_ids:\n",
    "    run = api.run(f\"{entity}/{project}/{run_id}\")\n",
    "\n",
    "    # Update the summary\n",
    "    run.summary[summary_key] = summary_value\n",
    "    run.summary.update()\n",
    "\n",
    "    print(f\"Successfully updated summary of run {run_id} with {summary_key}: {summary_value}\")"
   ]
  }
 ],
 "metadata": {
  "kernelspec": {
   "display_name": ".venv",
   "language": "python",
   "name": "python3"
  },
  "language_info": {
   "codemirror_mode": {
    "name": "ipython",
    "version": 3
   },
   "file_extension": ".py",
   "mimetype": "text/x-python",
   "name": "python",
   "nbconvert_exporter": "python",
   "pygments_lexer": "ipython3",
   "version": "3.12.3"
  }
 },
 "nbformat": 4,
 "nbformat_minor": 2
}
