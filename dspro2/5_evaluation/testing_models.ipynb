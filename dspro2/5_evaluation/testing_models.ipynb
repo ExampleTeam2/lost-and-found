{
 "cells": [
  {
   "cell_type": "code",
   "execution_count": 1,
   "metadata": {
    "scrolled": true
   },
   "outputs": [],
   "source": [
    "# important for gpuhub\n",
    "# !pip install -r ../../requirements.txt --upgrade"
   ]
  },
  {
   "cell_type": "markdown",
   "metadata": {},
   "source": [
    "## Importing Libraries and tokens"
   ]
  },
  {
   "cell_type": "code",
   "execution_count": 2,
   "metadata": {},
   "outputs": [],
   "source": [
    "import os\n",
    "\n",
    "import wandb\n",
    "import torch\n",
    "\n",
    "# load .env file\n",
    "from dotenv import load_dotenv\n",
    "\n",
    "from geo_model_tester import GeoModelTester\n",
    "from image_data_handler_test import TestImageDataHandler\n",
    "from best_run_loader import BestRunLoader\n",
    "from wandb_downloader import WandbDownloader\n",
    "\n",
    "os.environ[\"CUDA_LAUNCH_BLOCKING\"] = \"1\""
   ]
  },
  {
   "cell_type": "code",
   "execution_count": 3,
   "metadata": {},
   "outputs": [],
   "source": [
    "WANDB_TOKEN = os.getenv(\"WANDB_TOKEN\")\n",
    "# Define where to run\n",
    "env_path = \"../../.env\"\n",
    "if not WANDB_TOKEN and os.path.exists(env_path):\n",
    "    load_dotenv(env_path)\n",
    "    WANDB_TOKEN = os.getenv(\"WANDB_TOKEN\")"
   ]
  },
  {
   "cell_type": "code",
   "execution_count": 4,
   "metadata": {},
   "outputs": [
    {
     "name": "stdout",
     "output_type": "stream",
     "text": [
      "No GPU found.\n"
     ]
    }
   ],
   "source": [
    "# Check if GPU is available\n",
    "if torch.cuda.is_available():\n",
    "    print(\"GPU is available.\")\n",
    "\n",
    "    # Print the name of the GPU\n",
    "    print(f\"GPU Name: {torch.cuda.get_device_name(0)}\")\n",
    "\n",
    "    # Print the total and available memory\n",
    "    total_memory = torch.cuda.get_device_properties(0).total_memory / 1e9  # Convert bytes to GB\n",
    "    print(f\"Total Memory: {total_memory:.2f} GB\")\n",
    "\n",
    "    allocated_memory = torch.cuda.memory_allocated(0) / 1e9  # Convert bytes to GB\n",
    "    print(f\"Allocated Memory: {allocated_memory:.2f} GB\")\n",
    "\n",
    "    cached_memory = torch.cuda.memory_reserved(0) / 1e9  # Convert bytes to GB\n",
    "    print(f\"Cached Memory: {cached_memory:.2f} GB\")\n",
    "\n",
    "    # Print other properties\n",
    "    device_properties = torch.cuda.get_device_properties(0)\n",
    "    print(f\"CUDA Capability: {device_properties.major}.{device_properties.minor}\")\n",
    "    print(f\"Multi-Processor Count: {device_properties.multi_processor_count}\")\n",
    "else:\n",
    "    print(\"No GPU found.\")"
   ]
  },
  {
   "cell_type": "markdown",
   "metadata": {},
   "source": [
    "## Loading files from wandb"
   ]
  },
  {
   "cell_type": "code",
   "execution_count": 5,
   "metadata": {},
   "outputs": [
    {
     "name": "stderr",
     "output_type": "stream",
     "text": [
      "Failed to detect the name of this notebook, you can set it manually with the WANDB_NOTEBOOK_NAME environment variable to enable code saving.\n",
      "\u001b[34m\u001b[1mwandb\u001b[0m: Currently logged in as: \u001b[33mluki-st\u001b[0m (\u001b[33mnlp_ls\u001b[0m). Use \u001b[1m`wandb login --relogin`\u001b[0m to force relogin\n"
     ]
    },
    {
     "data": {
      "text/plain": [
       "True"
      ]
     },
     "execution_count": 5,
     "metadata": {},
     "output_type": "execute_result"
    }
   ],
   "source": [
    "wandb.login(key=WANDB_TOKEN) if WANDB_TOKEN else wandb.login()"
   ]
  },
  {
   "cell_type": "code",
   "execution_count": 6,
   "metadata": {},
   "outputs": [
    {
     "name": "stdout",
     "output_type": "stream",
     "text": [
      "dspro2-predicting-region: Found 5 matching runs for datasize 332786 and base_augmentation.\n"
     ]
    }
   ],
   "source": [
    "entity = \"nlp_ls\"\n",
    "predict_coordinates = False\n",
    "predict_regions = True\n",
    "project = \"dspro2-predicting-region\" if predict_regions else (\"dspro2-predicting-coordinates\" if predict_coordinates else \"dspro2-predicting-country\")\n",
    "metric_name = \"Best Validation Accuracy Top 1\" if not predict_coordinates else \"Best Validation Distance (km)\"\n",
    "metric_ascending = False if not predict_coordinates else True\n",
    "data_augmentation = \"base_augmentation\"  # or \"full_augmentation_v2\"\n",
    "datasize = 332786  # Replace with the desired datasize\n",
    "file_names_to_download = [\".pth\", \".json\"]\n",
    "image_size = [80, 130]\n",
    "\n",
    "downloader = WandbDownloader(entity, project, data_augmentation, datasize, image_size)\n",
    "run_data = downloader.get_and_collect_best_runs(metric_name, file_names_to_download, metric_ascending=metric_ascending)"
   ]
  },
  {
   "cell_type": "code",
   "execution_count": 7,
   "metadata": {},
   "outputs": [
    {
     "name": "stdout",
     "output_type": "stream",
     "text": [
      "\n",
      "Best Run 1: kwlp08u6\n",
      "Best Validation Accuracy Top 1:  0.2030440073921601\n",
      "Best Validation Accuracy Top 3:  0.3429992337395015\n",
      "Best Validation Accuracy Top 5:  0.4202563216491128\n",
      "\n",
      "Best Run 2: j3e89vyc\n",
      "Best Validation Accuracy Top 1:  0.1909340865724116\n",
      "Best Validation Accuracy Top 3:  0.32034196252835917\n",
      "Best Validation Accuracy Top 5:  0.3907177306669471\n",
      "\n",
      "Best Run 3: gtp7iunj\n",
      "Best Validation Accuracy Top 1:  0.1599380981714921\n",
      "Best Validation Accuracy Top 3:  0.2780023138062112\n",
      "Best Validation Accuracy Top 5:  0.34879877398320236\n",
      "\n",
      "Best Run 4: 9wly2kt2\n",
      "Best Validation Accuracy Top 1:  0.15693315504004088\n",
      "Best Validation Accuracy Top 3:  0.27634959508391305\n",
      "Best Validation Accuracy Top 5:  0.3485734032483435\n"
     ]
    }
   ],
   "source": [
    "# Print the validation accuracy for the top 1, 3, and 5 predictions\n",
    "for j in range(1, min(len(run_data), 6)):\n",
    "    print(f\"\\nBest Run {j}: {run_data[f'Best Run {j}']['id']}\")\n",
    "    if predict_coordinates:\n",
    "        print(f\"Best Validation Distance (km): \", run_data[f\"Best Run {j}\"][\"metrics\"][\"Best Validation Distance (km)\"])\n",
    "    else:\n",
    "        for i in [1, 3, 5]:\n",
    "            try:\n",
    "                print(f\"Best Validation Accuracy Top {i}: \", run_data[f\"Best Run {j}\"][\"metrics\"][f\"Best Validation Accuracy Top {i}\"])\n",
    "            except KeyError:\n",
    "                print(\"No validation accuracy found.\")"
   ]
  },
  {
   "cell_type": "code",
   "execution_count": 8,
   "metadata": {},
   "outputs": [
    {
     "data": {
      "text/plain": [
       "{'seed': 42,\n",
       " 'epochs': 50,\n",
       " 'optimizer': 'adamW',\n",
       " 'model_name': 'efficientnet_b1',\n",
       " 'mapped_data': False,\n",
       " 'dataset_size': 332786,\n",
       " 'weight_decay': 0.01,\n",
       " 'learning_rate': 0.01,\n",
       " 'predict_regions': True,\n",
       " 'input_image_size': [80, 130],\n",
       " 'data_augmentation': 'base_augmentation',\n",
       " 'different_regions': 4596,\n",
       " 'dataset_identifier': '22a493044dbe99c1d431b9ee4656792efbb09ece4182274670ba5faec505d9cf',\n",
       " 'different_countries': 138,\n",
       " 'predict_coordinates': False}"
      ]
     },
     "execution_count": 8,
     "metadata": {},
     "output_type": "execute_result"
    }
   ],
   "source": [
    "run_data[\"Best Run 1\"][\"parameters\"]"
   ]
  },
  {
   "cell_type": "code",
   "execution_count": 9,
   "metadata": {},
   "outputs": [
    {
     "data": {
      "text/plain": [
       "{'wandb_manifest.json': 'https://api.wandb.ai/files/nlp_ls/dspro2-predicting-region/kwlp08u6/artifact/918441477/wandb_manifest.json',\n",
       " 'best_model': 'https://api.wandb.ai/files/nlp_ls/dspro2-predicting-region/kwlp08u6/best_model_checkpointmodel_efficientnet_b1_lr_0.01_opt_adamW_weightDecay_0.01_imgSize_[80, 130]_predict_coordinates_False.pth',\n",
       " 'country_to_index.json': 'https://api.wandb.ai/files/nlp_ls/dspro2-predicting-region/kwlp08u6/run-20240623_193550-kwlp08u6/country_to_index.json',\n",
       " 'region_index_to_country_index.json': 'https://api.wandb.ai/files/nlp_ls/dspro2-predicting-region/kwlp08u6/run-20240623_193550-kwlp08u6/region_index_to_country_index.json',\n",
       " 'region_index_to_middle_point.json': 'https://api.wandb.ai/files/nlp_ls/dspro2-predicting-region/kwlp08u6/run-20240623_193550-kwlp08u6/region_index_to_middle_point.json',\n",
       " 'region_to_index.json': 'https://api.wandb.ai/files/nlp_ls/dspro2-predicting-region/kwlp08u6/run-20240623_193550-kwlp08u6/region_to_index.json',\n",
       " 'wandb-metadata.json': 'https://api.wandb.ai/files/nlp_ls/dspro2-predicting-region/kwlp08u6/wandb-metadata.json',\n",
       " 'wandb-summary.json': 'https://api.wandb.ai/files/nlp_ls/dspro2-predicting-region/kwlp08u6/wandb-summary.json',\n",
       " 'test_data': 'https://api.wandb.ai/files/nlp_ls/dspro2-predicting-region/9rzu773s/run-20240623_013047-9rzu773s/test_data.pth'}"
      ]
     },
     "execution_count": 9,
     "metadata": {},
     "output_type": "execute_result"
    }
   ],
   "source": [
    "run_data[\"Best Run 1\"][\"files\"]"
   ]
  },
  {
   "cell_type": "markdown",
   "metadata": {},
   "source": [
    "## Loading metrics for best runs for each datasize, with and without augmentation"
   ]
  },
  {
   "cell_type": "code",
   "execution_count": 10,
   "metadata": {},
   "outputs": [
    {
     "name": "stdout",
     "output_type": "stream",
     "text": [
      "dspro2-predicting-coordinates: Found 5 matching runs for datasize 81505 and base_augmentation.\n",
      "dspro2-predicting-coordinates: Found 5 matching runs for datasize 81505 and full_augmentation_v2.\n",
      "dspro2-predicting-coordinates: Found 5 matching runs for datasize 332786 and base_augmentation.\n",
      "Could not find test_data.pth for run wuz2hssk, looks like run fjtmr070 was deleted or is part of a different project.\n",
      "dspro2-predicting-coordinates: Found 5 matching runs for datasize 332786 and full_augmentation_v2.\n",
      "dspro2-predicting-coordinates: Found 5 matching runs for datasize 79000 and base_augmentation.\n",
      "dspro2-predicting-region: Found 5 matching runs for datasize 81505 and base_augmentation.\n",
      "Run 9e7305d3 is still running, skipping\n",
      "dspro2-predicting-region: Found 5 matching runs for datasize 81505 and full_augmentation_v2.\n",
      "dspro2-predicting-region: Found 5 matching runs for datasize 332786 and base_augmentation.\n",
      "dspro2-predicting-region: Found 5 matching runs for datasize 332786 and full_augmentation_v2.\n",
      "dspro2-predicting-region: Found 5 matching runs for datasize 79000 and base_augmentation.\n",
      "Could not find test_data.pth for run uk9kolsi, looks like run b6tzuedd was deleted or is part of a different project.\n",
      "dspro2-predicting-country: Found 5 matching runs for datasize 81505 and base_augmentation.\n",
      "dspro2-predicting-country: Found 5 matching runs for datasize 81505 and full_augmentation_v2.\n",
      "dspro2-predicting-country: Found 4 matching runs for datasize 332786 and base_augmentation.\n",
      "dspro2-predicting-country: Found 5 matching runs for datasize 332786 and full_augmentation_v2.\n",
      "dspro2-predicting-country: Found 2 matching runs for datasize 79000 and base_augmentation.\n",
      "\n",
      " dict_keys(['dspro2-predicting-coordinates_base_augmentation_81505_(80, 130)', 'dspro2-predicting-coordinates_full_augmentation_v2_81505_(80, 130)', 'dspro2-predicting-coordinates_base_augmentation_332786_(80, 130)', 'dspro2-predicting-coordinates_full_augmentation_v2_332786_(80, 130)', 'dspro2-predicting-coordinates_base_augmentation_79000_(180, 320)', 'dspro2-predicting-region_base_augmentation_81505_(80, 130)', 'dspro2-predicting-region_full_augmentation_v2_81505_(80, 130)', 'dspro2-predicting-region_base_augmentation_332786_(80, 130)', 'dspro2-predicting-region_full_augmentation_v2_332786_(80, 130)', 'dspro2-predicting-region_base_augmentation_79000_(180, 320)', 'dspro2-predicting-country_base_augmentation_81505_(80, 130)', 'dspro2-predicting-country_full_augmentation_v2_81505_(80, 130)', 'dspro2-predicting-country_base_augmentation_332786_(80, 130)', 'dspro2-predicting-country_full_augmentation_v2_332786_(80, 130)', 'dspro2-predicting-country_base_augmentation_79000_(180, 320)']) \n",
      "\n",
      "dict_keys(['Best Run 1', 'Best Run 2', 'Best Run 3', 'Best Run 4', 'Best Run 5'])\n"
     ]
    }
   ],
   "source": [
    "# Example usage:\n",
    "metric_name = \"Best Validation Accuracy Top 1\"\n",
    "project_names = [\"coordinates\", \"region\", \"country\"]\n",
    "file_names_to_download = [\".pth\", \".json\"]\n",
    "\n",
    "loader = BestRunLoader(entity, metric_name, project_names, file_names_to_download)\n",
    "\n",
    "# See the keys of the results\n",
    "print(\"\\n\", loader.results.keys(), \"\\n\")\n",
    "\n",
    "# See the keys of the results\n",
    "print(loader.results[\"dspro2-predicting-region_base_augmentation_81505_(80, 130)\"].keys())"
   ]
  },
  {
   "cell_type": "code",
   "execution_count": 11,
   "metadata": {},
   "outputs": [
    {
     "name": "stdout",
     "output_type": "stream",
     "text": [
      "Found runs for each project {'dspro2-predicting-coordinates': 25, 'dspro2-predicting-region': 25, 'dspro2-predicting-country': 21}\n"
     ]
    }
   ],
   "source": [
    "# Count runs per project\n",
    "project_run_counts = loader.count_runs_per_project()\n",
    "print(f\"Found runs for each project\", project_run_counts)"
   ]
  },
  {
   "cell_type": "code",
   "execution_count": 12,
   "metadata": {},
   "outputs": [
    {
     "name": "stdout",
     "output_type": "stream",
     "text": [
      "\n",
      "Best Run 1: bc69qzqh\n",
      "0.6398575656955692\n",
      "0.8168336914223898\n",
      "0.8735670177441892\n",
      "\n",
      "Best Run 2: kth52fnv\n",
      "0.6363117328004567\n",
      "0.8167735925597608\n",
      "0.8746187478401971\n",
      "\n",
      "Best Run 3: 8pqe6jmh\n",
      "0.6054659915561098\n",
      "0.803356521477831\n",
      "0.8711780879546854\n",
      "\n",
      "Best Run 4: elpusqol\n",
      "0.6046546569106179\n",
      "0.8028757305767988\n",
      "0.8695704433793591\n"
     ]
    }
   ],
   "source": [
    "# Print the validation accuracy for the top 1, 3, and 5 predictions\n",
    "coordinates_print = False\n",
    "\n",
    "for j in range(1, min(len(loader.results[\"dspro2-predicting-coordinates_base_augmentation_332786_(80, 130)\"]), 6)):\n",
    "    print(f\"\\nBest Run {j}:\", loader.results[\"dspro2-predicting-country_full_augmentation_v2_332786_(80, 130)\"][f\"Best Run {j}\"][f\"id\"])\n",
    "    if coordinates_print:\n",
    "        print(loader.results[\"dspro2-predicting-coordinates_base_augmentation_332786_(80, 130)\"][f\"Best Run {j}\"][\"metrics\"][f\"Validation Accuracy Top {i}\"])\n",
    "    else:\n",
    "        for i in [1, 3, 5]:\n",
    "            try:\n",
    "                # print(loader.results[\"dspro2-predicting-country_base_augmentation_332786_(80, 130)\"][f\"Best Run {j}\"][\"metrics\"][f\"Validation Accuracy Top {i}\"])\n",
    "                print(loader.results[\"dspro2-predicting-country_full_augmentation_v2_332786_(80, 130)\"][f\"Best Run {j}\"][\"metrics\"][f\"Validation Accuracy Top {i}\"])\n",
    "            except:\n",
    "                print(\"No run found\")"
   ]
  },
  {
   "cell_type": "markdown",
   "metadata": {},
   "source": [
    "## Loading data and creating data loader"
   ]
  },
  {
   "cell_type": "code",
   "execution_count": 13,
   "metadata": {},
   "outputs": [
    {
     "name": "stdout",
     "output_type": "stream",
     "text": [
      "Loaded 138 countries.\n",
      "Loaded 4596 regions.\n",
      "Loaded 4596 region middle points.\n",
      "Loaded 3595 region to country index mappings.\n",
      "Loading test data from test_data.pth\n",
      "Test data loaded from cache.\n"
     ]
    }
   ],
   "source": [
    "cache = True\n",
    "\n",
    "run = None\n",
    "\n",
    "for i in range(min(len(run_data), 5)):\n",
    "    run = run_data[f\"Best Run {i+1}\"]\n",
    "    if run[\"files\"].get(\"test_data\", None) and run[\"files\"].get(\"best_model\", None):\n",
    "        break\n",
    "    else:\n",
    "        run = None\n",
    "        print(f\"Run {i+1} does not contain the necessary files. Trying the next run...\")\n",
    "\n",
    "if run is None:\n",
    "    raise Exception(\"No run with the necessary files found.\")\n",
    "\n",
    "# Creating Dataloaders with the classes\n",
    "test_dataset = run[\"files\"][\"test_data\"]\n",
    "files = run[\"files\"]\n",
    "country_to_index = files.get(\"country_to_index.json\", None)\n",
    "region_to_index = files.get(\"region_to_index.json\", None)\n",
    "region_index_to_middle_point = files.get(\"region_index_to_middle_point.json\", None)\n",
    "region_index_to_country_index = files.get(\"region_index_to_country_index.json\", None)\n",
    "\n",
    "data_handler = TestImageDataHandler(test_dataset, country_to_index, region_to_index, region_index_to_middle_point, region_index_to_country_index, cache=cache)\n",
    "test_dataloader = data_handler.test_loader\n",
    "country_to_index = data_handler.country_to_index\n",
    "region_to_index = data_handler.region_to_index\n",
    "region_index_to_middle_point = data_handler.region_index_to_middle_point\n",
    "region_index_to_country_index = data_handler.region_index_to_country_index\n",
    "\n",
    "num_regions = data_handler.num_regions\n",
    "num_countries = data_handler.num_countries"
   ]
  },
  {
   "cell_type": "markdown",
   "metadata": {},
   "source": [
    "## Evaluating the model"
   ]
  },
  {
   "cell_type": "code",
   "execution_count": 16,
   "metadata": {},
   "outputs": [
    {
     "name": "stderr",
     "output_type": "stream",
     "text": [
      "/Users/lukasstoeckli/GitLabProjects/dspro2/dspro2/5_evaluation/../4_modeling/geo_model_harness.py:37: UserWarning: Creating a tensor from a list of numpy.ndarrays is extremely slow. Please consider converting the list to a single numpy.ndarray with numpy.array() before converting to a tensor. (Triggered internally at /Users/runner/work/pytorch/pytorch/pytorch/torch/csrc/utils/tensor_new.cpp:277.)\n",
      "  self.region_middle_points = torch.tensor([coordinates_to_cartesian(*coordinate) for coordinate in self.region_middle_points], dtype=torch.float32).to(self.device)\n"
     ]
    }
   ],
   "source": [
    "num_classes = 3 if predict_coordinates else (num_regions if predict_regions else num_countries)\n",
    "\n",
    "if num_classes == 0:\n",
    "    raise ValueError(\"No classes detected. Please check the data.\")\n",
    "\n",
    "geo_model_tester = GeoModelTester(test_dataloader=test_dataloader, num_classes=num_classes, predict_coordinates=predict_coordinates, country_to_index=country_to_index, region_to_index=region_to_index, region_index_to_middle_point=region_index_to_middle_point, region_index_to_country_index=region_index_to_country_index, predict_regions=predict_regions if not predict_coordinates else None)"
   ]
  },
  {
   "cell_type": "code",
   "execution_count": 17,
   "metadata": {},
   "outputs": [
    {
     "name": "stderr",
     "output_type": "stream",
     "text": [
      "/Users/lukasstoeckli/GitLabProjects/dspro2/.venv/lib/python3.10/site-packages/sklearn/metrics/_classification.py:2466: UserWarning: y_pred contains classes not in y_true\n",
      "  warnings.warn(\"y_pred contains classes not in y_true\")\n",
      "/Users/lukasstoeckli/GitLabProjects/dspro2/.venv/lib/python3.10/site-packages/sklearn/metrics/_classification.py:2466: UserWarning: y_pred contains classes not in y_true\n",
      "  warnings.warn(\"y_pred contains classes not in y_true\")\n"
     ]
    },
    {
     "name": "stdout",
     "output_type": "stream",
     "text": [
      "Network-Model: efficientnet_b1\n",
      "Project Name: region\n",
      "Run ID: kwlp08u6\n",
      "Test Loss: 43.8764, Test Distance: 1753.0771, Test Distance Median: 385.5583\n",
      "Test Top 1 Accuracy: 0.2005, Test Top 3 Accuracy: 0.3405, Test Top 5 Accuracy: 0.4153\n",
      "Test Top 1 Accuracy (Country): 0.6473, Test Top 3 Accuracy (Country): 0.7085, Test Top 5 Accuracy (Country): 0.7346\n",
      "Test Top 1 Balanced Accuracy: 0.0845, Test Top 1 Balanced Accuracy (Country): 0.5469\n",
      "Network-Model: efficientnet_b1\n",
      "Project Name: region\n",
      "Run ID: kwlp08u6\n",
      "Test Loss: 43.8764, Test Distance: 1753.0771, Test Distance Median: 385.5583\n",
      "Test Top 1 Accuracy: 0.2005, Test Top 3 Accuracy: 0.3405, Test Top 5 Accuracy: 0.4153\n",
      "Test Top 1 Accuracy (Country): 0.6473, Test Top 3 Accuracy (Country): 0.7085, Test Top 5 Accuracy (Country): 0.7346\n",
      "Test Top 1 Balanced Accuracy: 0.0845, Test Top 1 Balanced Accuracy (Country): 0.4161\n",
      "Accuracy per country:\n",
      "Country Faroe Islands: 1.00000\n",
      "Country Qatar: 1.00000\n",
      "Country Rwanda: 0.94737\n",
      "Country India: 0.93060\n",
      "Country Japan: 0.87262\n",
      "Country Senegal: 0.83824\n",
      "Country Ghana: 0.82278\n",
      "Country Lesotho: 0.82203\n",
      "Country United States: 0.81454\n",
      "Country Nigeria: 0.78090\n",
      "Country United Kingdom: 0.78068\n",
      "Country Kyrgyzstan: 0.77586\n",
      "Country Eswatini: 0.76923\n",
      "Country United Arab Emirates: 0.76667\n",
      "Country Singapore: 0.76224\n",
      "Country Kenya: 0.76042\n",
      "Country Pakistan: 0.75000\n",
      "Country Iceland: 0.73469\n",
      "Country Uganda: 0.72917\n",
      "Country Australia: 0.72608\n",
      "Country Bolivia, Plurinational State of: 0.71951\n",
      "Country Indonesia: 0.71535\n",
      "Country Andorra: 0.71429\n",
      "Country Switzerland: 0.71429\n",
      "Country Russian Federation: 0.70869\n",
      "Country Germany: 0.70510\n",
      "Country Malta: 0.68750\n",
      "Country Botswana: 0.68000\n",
      "Country Israel: 0.67742\n",
      "Country Sri Lanka: 0.67213\n",
      "Country Argentina: 0.66606\n",
      "Country Austria: 0.66132\n",
      "Country Brazil: 0.65678\n",
      "Country South Africa: 0.65458\n",
      "Country Finland: 0.64557\n",
      "Country Peru: 0.64398\n",
      "Country Korea, Republic of: 0.64072\n",
      "Country New Zealand: 0.62925\n",
      "Country Puerto Rico: 0.62162\n",
      "Country France: 0.60643\n",
      "Country Ecuador: 0.60630\n",
      "Country Guatemala: 0.60417\n",
      "Country Tunisia: 0.59091\n",
      "Country Uruguay: 0.58407\n",
      "Country Taiwan, Province of China: 0.58079\n",
      "Country Mexico: 0.58011\n",
      "Country Ukraine: 0.56497\n",
      "Country Thailand: 0.56397\n",
      "Country Philippines: 0.55394\n",
      "Country Netherlands: 0.54655\n",
      "Country Poland: 0.54610\n",
      "Country Türkiye: 0.54404\n",
      "Country Dominican Republic: 0.53846\n",
      "Country Chile: 0.53529\n",
      "Country Jordan: 0.53488\n",
      "Country Cambodia: 0.53061\n",
      "Country Egypt: 0.50000\n",
      "Country Guinea-Bissau: 0.50000\n",
      "Country Norway: 0.48223\n",
      "Country Italy: 0.47141\n",
      "Country North Macedonia: 0.46341\n",
      "Country Romania: 0.44444\n",
      "Country Spain: 0.44413\n",
      "Country Greece: 0.42553\n",
      "Country Croatia: 0.41209\n",
      "Country Serbia: 0.40000\n",
      "Country Ireland: 0.39336\n",
      "Country Montenegro: 0.39024\n",
      "Country Bulgaria: 0.38860\n",
      "Country Estonia: 0.38182\n",
      "Country Portugal: 0.35981\n",
      "Country Albania: 0.35821\n",
      "Country Lithuania: 0.33721\n",
      "Country Belgium: 0.33333\n",
      "Country Burkina Faso: 0.33333\n",
      "Country Virgin Islands, U.S.: 0.33333\n",
      "Country Malaysia: 0.32676\n",
      "Country Colombia: 0.31034\n",
      "Country Sweden: 0.30855\n",
      "Country Hong Kong: 0.30769\n",
      "Country Czechia: 0.28986\n",
      "Country Hungary: 0.25281\n",
      "Country Gambia: 0.25000\n",
      "Country Nepal: 0.25000\n",
      "Country Bangladesh: 0.24540\n",
      "Country Denmark: 0.22835\n",
      "Country Lao People's Democratic Republic: 0.22727\n",
      "Country Palestine, State of: 0.21951\n",
      "Country Latvia: 0.21918\n",
      "Country Canada: 0.17836\n",
      "Country Luxembourg: 0.13333\n",
      "Country Slovenia: 0.12903\n",
      "Country Bosnia and Herzegovina: 0.11111\n",
      "Country Jersey: 0.08333\n",
      "Country Slovakia: 0.07895\n",
      "Country Bhutan: 0.07143\n",
      "Country Armenia: 0.00000\n",
      "Country Belarus: 0.00000\n",
      "Country Brunei Darussalam: 0.00000\n",
      "Country China: 0.00000\n",
      "Country Costa Rica: 0.00000\n",
      "Country Curaçao: 0.00000\n",
      "Country Côte d'Ivoire: 0.00000\n",
      "Country Guinea: 0.00000\n",
      "Country Guyana: 0.00000\n",
      "Country Holy See (Vatican City State): 0.00000\n",
      "Country Isle of Man: 0.00000\n",
      "Country Kazakhstan: 0.00000\n",
      "Country Lebanon: 0.00000\n",
      "Country Liechtenstein: 0.00000\n",
      "Country Madagascar: 0.00000\n",
      "Country Monaco: 0.00000\n",
      "Country Namibia: 0.00000\n",
      "Country Panama: 0.00000\n",
      "Country Paraguay: 0.00000\n",
      "Country Réunion: 0.00000\n",
      "Country San Marino: 0.00000\n",
      "Country Syrian Arab Republic: 0.00000\n",
      "Country Tanzania, United Republic of: 0.00000\n",
      "Country Togo: 0.00000\n",
      "Country Viet Nam: 0.00000\n",
      "Country Zimbabwe: 0.00000\n",
      "Country Åland Islands: 0.00000\n"
     ]
    },
    {
     "name": "stderr",
     "output_type": "stream",
     "text": [
      "/Users/lukasstoeckli/GitLabProjects/dspro2/.venv/lib/python3.10/site-packages/sklearn/metrics/_classification.py:2466: UserWarning: y_pred contains classes not in y_true\n",
      "  warnings.warn(\"y_pred contains classes not in y_true\")\n",
      "/Users/lukasstoeckli/GitLabProjects/dspro2/.venv/lib/python3.10/site-packages/sklearn/metrics/_classification.py:2466: UserWarning: y_pred contains classes not in y_true\n",
      "  warnings.warn(\"y_pred contains classes not in y_true\")\n"
     ]
    }
   ],
   "source": [
    "# TODO: Test the model from best runs\n",
    "# TODO: Show the different models with the best results (also do it for different data sizes and mapped/non-mapped data)\n",
    "model_name = run[\"parameters\"][\"model_name\"]\n",
    "pretrained_weights = run[\"files\"][\"best_model\"]\n",
    "\n",
    "# Countries from 81k more mapped dataset, keep in sync with evaluating_models.ipynb\n",
    "countries_only = [\"Albania\", \"Argentina\", \"Australia\", \"Austria\", \"Bangladesh\", \"Belgium\", \"Bolivia, Plurinational State of\", \"Botswana\", \"Brazil\", \"Bulgaria\", \"Cambodia\", \"Canada\", \"Chile\", \"Colombia\", \"Croatia\", \"Czechia\", \"Denmark\", \"Dominican Republic\", \"Ecuador\", \"Estonia\", \"Eswatini\", \"Finland\", \"France\", \"Germany\", \"Ghana\", \"Greece\", \"Guatemala\", \"Hungary\", \"India\", \"Indonesia\", \"Ireland\", \"Israel\", \"Italy\", \"Japan\", \"Kenya\", \"Korea, Republic of\", \"Kyrgyzstan\", \"Lao People's Democratic Republic\", \"Latvia\", \"Lesotho\", \"Lithuania\", \"Malaysia\", \"Malta\", \"Mexico\", \"Montenegro\", \"Netherlands\", \"New Zealand\", \"Nigeria\", \"North Macedonia\", \"Norway\", \"Peru\", \"Philippines\", \"Poland\", \"Portugal\", \"Romania\", \"Russian Federation\", \"Rwanda\", \"Senegal\", \"Serbia\", \"Singapore\", \"Slovakia\", \"Slovenia\", \"South Africa\", \"Spain\", \"Sri Lanka\", \"Sweden\", \"Switzerland\", \"Thailand\", \"T\\u00fcrkiye\", \"Uganda\", \"Ukraine\", \"United Arab Emirates\", \"United Kingdom\", \"United States\", \"Uruguay\"]\n",
    "\n",
    "geo_model_tester.test(model_type=model_name, model_path=pretrained_weights, balanced_on_countries_only=countries_only, accuracy_per_country=False)\n",
    "\n",
    "if not predict_coordinates:\n",
    "    # And over all countries\n",
    "    geo_model_tester.test(model_type=model_name, model_path=pretrained_weights, balanced_on_countries_only=None, accuracy_per_country=True)"
   ]
  }
 ],
 "metadata": {
  "kernelspec": {
   "display_name": "Python 3 (ipykernel)",
   "language": "python",
   "name": "python3"
  },
  "language_info": {
   "codemirror_mode": {
    "name": "ipython",
    "version": 3
   },
   "file_extension": ".py",
   "mimetype": "text/x-python",
   "name": "python",
   "nbconvert_exporter": "python",
   "pygments_lexer": "ipython3",
   "version": "3.10.14"
  }
 },
 "nbformat": 4,
 "nbformat_minor": 4
}
