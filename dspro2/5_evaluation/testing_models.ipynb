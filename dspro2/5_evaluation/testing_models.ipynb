{
 "cells": [
  {
   "cell_type": "code",
   "execution_count": 49,
   "metadata": {
    "scrolled": true
   },
   "outputs": [],
   "source": [
    "# important for gpuhub\n",
    "# !pip install -r ../../requirements.txt --upgrade"
   ]
  },
  {
   "cell_type": "markdown",
   "metadata": {},
   "source": [
    "## Importing Libraries and tokens"
   ]
  },
  {
   "cell_type": "code",
   "execution_count": 50,
   "metadata": {},
   "outputs": [],
   "source": [
    "import os\n",
    "\n",
    "import wandb\n",
    "import torch\n",
    "\n",
    "# load .env file\n",
    "from dotenv import load_dotenv\n",
    "\n",
    "from geo_model_tester import GeoModelTester\n",
    "from image_data_handler_test import TestImageDataHandler\n",
    "from best_run_loader import BestRunLoader\n",
    "from wandb_downloader import WandbDownloader\n",
    "\n",
    "os.environ[\"CUDA_LAUNCH_BLOCKING\"] = \"1\""
   ]
  },
  {
   "cell_type": "code",
   "execution_count": 51,
   "metadata": {},
   "outputs": [],
   "source": [
    "WANDB_TOKEN = os.getenv(\"WANDB_TOKEN\")\n",
    "# Define where to run\n",
    "env_path = \"../../.env\"\n",
    "if not WANDB_TOKEN and os.path.exists(env_path):\n",
    "    load_dotenv(env_path)\n",
    "    WANDB_TOKEN = os.getenv(\"WANDB_TOKEN\")"
   ]
  },
  {
   "cell_type": "code",
   "execution_count": 52,
   "metadata": {},
   "outputs": [
    {
     "name": "stdout",
     "output_type": "stream",
     "text": [
      "No GPU found.\n"
     ]
    }
   ],
   "source": [
    "# Check if GPU is available\n",
    "if torch.cuda.is_available():\n",
    "    print(\"GPU is available.\")\n",
    "\n",
    "    # Print the name of the GPU\n",
    "    print(f\"GPU Name: {torch.cuda.get_device_name(0)}\")\n",
    "\n",
    "    # Print the total and available memory\n",
    "    total_memory = torch.cuda.get_device_properties(0).total_memory / 1e9  # Convert bytes to GB\n",
    "    print(f\"Total Memory: {total_memory:.2f} GB\")\n",
    "\n",
    "    allocated_memory = torch.cuda.memory_allocated(0) / 1e9  # Convert bytes to GB\n",
    "    print(f\"Allocated Memory: {allocated_memory:.2f} GB\")\n",
    "\n",
    "    cached_memory = torch.cuda.memory_reserved(0) / 1e9  # Convert bytes to GB\n",
    "    print(f\"Cached Memory: {cached_memory:.2f} GB\")\n",
    "\n",
    "    # Print other properties\n",
    "    device_properties = torch.cuda.get_device_properties(0)\n",
    "    print(f\"CUDA Capability: {device_properties.major}.{device_properties.minor}\")\n",
    "    print(f\"Multi-Processor Count: {device_properties.multi_processor_count}\")\n",
    "else:\n",
    "    print(\"No GPU found.\")"
   ]
  },
  {
   "cell_type": "markdown",
   "metadata": {},
   "source": [
    "## Loading files from wandb"
   ]
  },
  {
   "cell_type": "code",
   "execution_count": 53,
   "metadata": {},
   "outputs": [
    {
     "data": {
      "text/plain": [
       "True"
      ]
     },
     "execution_count": 53,
     "metadata": {},
     "output_type": "execute_result"
    }
   ],
   "source": [
    "wandb.login(key=WANDB_TOKEN) if WANDB_TOKEN else wandb.login()"
   ]
  },
  {
   "cell_type": "code",
   "execution_count": 54,
   "metadata": {},
   "outputs": [
    {
     "name": "stdout",
     "output_type": "stream",
     "text": [
      "dspro2-predicting-country: Found 5 matching runs for datasize 332786 and full_augmentation_v2.\n"
     ]
    }
   ],
   "source": [
    "# Setting for the right models to test\n",
    "entity = \"nlp_ls\"\n",
    "predict_coordinates = False\n",
    "predict_regions = False\n",
    "datasize = 332786  # 79000, 81505, 332786\n",
    "data_augmentation = \"full_augmentation_v2\"  # or \"base_augmentation\", \"full_augmentation_v2\"\n",
    "\n",
    "# Automatic settings\n",
    "project = \"dspro2-predicting-region\" if predict_regions else (\"dspro2-predicting-coordinates\" if predict_coordinates else \"dspro2-predicting-country\")\n",
    "metric_name = \"Best Validation Accuracy Top 1\" if not predict_coordinates else \"Best Validation Distance (km)\"\n",
    "metric_ascending = False if not predict_coordinates else True\n",
    "file_names_to_download = [\".pth\", \".json\"]\n",
    "image_size = [180, 320] if datasize == 79000 else [80, 130]\n",
    "\n",
    "downloader = WandbDownloader(entity, project, data_augmentation, datasize, image_size)\n",
    "run_data = downloader.get_and_collect_best_runs(metric_name, file_names_to_download, metric_ascending=metric_ascending)"
   ]
  },
  {
   "cell_type": "code",
   "execution_count": 55,
   "metadata": {},
   "outputs": [
    {
     "name": "stdout",
     "output_type": "stream",
     "text": [
      "\n",
      "Best Run 1: bc69qzqh\n",
      "Best Validation Accuracy Top 1:  0.6489625433838665\n",
      "Best Validation Accuracy Top 3:  0.8262391634238322\n",
      "Best Validation Accuracy Top 5:  0.8834382559310066\n",
      "\n",
      "Best Run 2: kth52fnv\n",
      "Best Validation Accuracy Top 1:  0.6403684060279159\n",
      "Best Validation Accuracy Top 3:  0.8207401174932765\n",
      "Best Validation Accuracy Top 5:  0.8790510389590876\n",
      "\n",
      "Best Run 3: 8pqe6jmh\n",
      "Best Validation Accuracy Top 1:  0.6072839821506378\n",
      "Best Validation Accuracy Top 3:  0.8052646603663026\n",
      "Best Validation Accuracy Top 5:  0.8728608561082981\n",
      "\n",
      "Best Run 4: elpusqol\n",
      "Best Validation Accuracy Top 1:  0.605360818546509\n",
      "Best Validation Accuracy Top 3:  0.8047237706026413\n",
      "Best Validation Accuracy Top 5:  0.8710578902294274\n"
     ]
    }
   ],
   "source": [
    "# Print the validation accuracy for the top 1, 3, and 5 predictions\n",
    "for j in range(1, min(len(run_data), 6)):\n",
    "    print(f\"\\nBest Run {j}: {run_data[f'Best Run {j}']['id']}\")\n",
    "    if predict_coordinates:\n",
    "        print(f\"Best Validation Distance (km): \", run_data[f\"Best Run {j}\"][\"metrics\"][\"Best Validation Distance (km)\"])\n",
    "    else:\n",
    "        for i in [1, 3, 5]:\n",
    "            try:\n",
    "                print(f\"Best Validation Accuracy Top {i}: \", run_data[f\"Best Run {j}\"][\"metrics\"][f\"Best Validation Accuracy Top {i}\"])\n",
    "            except KeyError:\n",
    "                print(\"No validation accuracy found.\")"
   ]
  },
  {
   "cell_type": "code",
   "execution_count": 56,
   "metadata": {},
   "outputs": [
    {
     "data": {
      "text/plain": [
       "{'seed': 42,\n",
       " 'epochs': 25,\n",
       " 'optimizer': 'adamW',\n",
       " 'batch_size': 200,\n",
       " 'model_name': 'efficientnet_b1',\n",
       " 'mapped_data': False,\n",
       " 'dataset_size': 332786,\n",
       " 'weight_decay': 0.01,\n",
       " 'learning_rate': 0.01,\n",
       " 'predict_regions': False,\n",
       " 'input_image_size': [80, 130],\n",
       " 'data_augmentation': 'full_augmentation_v2',\n",
       " 'different_regions': 4596,\n",
       " 'dataset_identifier': '22a493044dbe99c1d431b9ee4656792efbb09ece4182274670ba5faec505d9cf',\n",
       " 'different_countries': 138,\n",
       " 'predict_coordinates': False}"
      ]
     },
     "execution_count": 56,
     "metadata": {},
     "output_type": "execute_result"
    }
   ],
   "source": [
    "run_data[\"Best Run 1\"][\"parameters\"]"
   ]
  },
  {
   "cell_type": "code",
   "execution_count": 57,
   "metadata": {},
   "outputs": [
    {
     "data": {
      "text/plain": [
       "{'wandb_manifest.json': 'https://api.wandb.ai/files/nlp_ls/dspro2-predicting-country/bc69qzqh/artifact/931421173/wandb_manifest.json',\n",
       " 'best_model': 'https://api.wandb.ai/files/nlp_ls/dspro2-predicting-country/bc69qzqh/best_model_checkpointmodel_efficientnet_b1_lr_0.01_opt_adamW_weightDecay_0.01_imgSize_[80, 130]_predict_coordinates_False.pth',\n",
       " 'country_to_index.json': 'https://api.wandb.ai/files/nlp_ls/dspro2-predicting-country/bc69qzqh/run-20240627_133143-bc69qzqh/country_to_index.json',\n",
       " 'region_index_to_country_index.json': 'https://api.wandb.ai/files/nlp_ls/dspro2-predicting-country/bc69qzqh/run-20240627_133143-bc69qzqh/region_index_to_country_index.json',\n",
       " 'region_index_to_middle_point.json': 'https://api.wandb.ai/files/nlp_ls/dspro2-predicting-country/bc69qzqh/run-20240627_133143-bc69qzqh/region_index_to_middle_point.json',\n",
       " 'region_to_index.json': 'https://api.wandb.ai/files/nlp_ls/dspro2-predicting-country/bc69qzqh/run-20240627_133143-bc69qzqh/region_to_index.json',\n",
       " 'test_data.pth': 'https://api.wandb.ai/files/nlp_ls/dspro2-predicting-country/bc69qzqh/run-20240627_133143-bc69qzqh/test_data.pth',\n",
       " 'wandb-metadata.json': 'https://api.wandb.ai/files/nlp_ls/dspro2-predicting-country/bc69qzqh/wandb-metadata.json',\n",
       " 'wandb-summary.json': 'https://api.wandb.ai/files/nlp_ls/dspro2-predicting-country/bc69qzqh/wandb-summary.json',\n",
       " 'test_data': 'https://api.wandb.ai/files/nlp_ls/dspro2-predicting-country/bc69qzqh/run-20240627_133143-bc69qzqh/test_data.pth'}"
      ]
     },
     "execution_count": 57,
     "metadata": {},
     "output_type": "execute_result"
    }
   ],
   "source": [
    "run_data[\"Best Run 1\"][\"files\"]"
   ]
  },
  {
   "cell_type": "markdown",
   "metadata": {},
   "source": [
    "## Loading data and creating data loader"
   ]
  },
  {
   "cell_type": "code",
   "execution_count": 58,
   "metadata": {},
   "outputs": [
    {
     "name": "stdout",
     "output_type": "stream",
     "text": [
      "Loaded 138 countries.\n",
      "Loaded 4596 regions.\n",
      "Loaded 4596 region middle points.\n",
      "Loaded 3595 region to country index mappings.\n",
      "Loading test data from test_data.pth\n"
     ]
    },
    {
     "name": "stderr",
     "output_type": "stream",
     "text": [
      "Downloading...: 100%|██████████| 4.17G/4.17G [06:47<00:00, 10.2MB/s] \n"
     ]
    },
    {
     "name": "stdout",
     "output_type": "stream",
     "text": [
      "Test data loaded.\n",
      "Caching test data to run-20240627_133143-bc69qzqh/test_data.pth\n",
      "Test data cached.\n"
     ]
    }
   ],
   "source": [
    "cache = True\n",
    "\n",
    "run = None\n",
    "\n",
    "for i in range(min(len(run_data), 5)):\n",
    "    run = run_data[f\"Best Run {i+1}\"]\n",
    "    if run[\"files\"].get(\"test_data\", None) and run[\"files\"].get(\"best_model\", None):\n",
    "        break\n",
    "    else:\n",
    "        run = None\n",
    "        print(f\"Run {i+1} does not contain the necessary files. Trying the next run...\")\n",
    "\n",
    "if run is None:\n",
    "    raise Exception(\"No run with the necessary files found.\")\n",
    "\n",
    "# Creating Dataloaders with the classes\n",
    "test_dataset = run[\"files\"][\"test_data\"]\n",
    "files = run[\"files\"]\n",
    "country_to_index = files.get(\"country_to_index.json\", None)\n",
    "region_to_index = files.get(\"region_to_index.json\", None)\n",
    "region_index_to_middle_point = files.get(\"region_index_to_middle_point.json\", None)\n",
    "region_index_to_country_index = files.get(\"region_index_to_country_index.json\", None)\n",
    "\n",
    "data_handler = TestImageDataHandler(test_dataset, country_to_index, region_to_index, region_index_to_middle_point, region_index_to_country_index, cache=cache)\n",
    "test_dataloader = data_handler.test_loader\n",
    "country_to_index = data_handler.country_to_index\n",
    "region_to_index = data_handler.region_to_index\n",
    "region_index_to_middle_point = data_handler.region_index_to_middle_point\n",
    "region_index_to_country_index = data_handler.region_index_to_country_index\n",
    "\n",
    "num_regions = data_handler.num_regions\n",
    "num_countries = data_handler.num_countries"
   ]
  },
  {
   "cell_type": "markdown",
   "metadata": {},
   "source": [
    "## Evaluating the model"
   ]
  },
  {
   "cell_type": "code",
   "execution_count": 59,
   "metadata": {},
   "outputs": [],
   "source": [
    "num_classes = 3 if predict_coordinates else (num_regions if predict_regions else num_countries)\n",
    "\n",
    "if num_classes == 0:\n",
    "    raise ValueError(\"No classes detected. Please check the data.\")\n",
    "\n",
    "geo_model_tester = GeoModelTester(test_dataloader=test_dataloader, num_classes=num_classes, predict_coordinates=predict_coordinates, country_to_index=country_to_index, region_to_index=region_to_index, region_index_to_middle_point=region_index_to_middle_point, region_index_to_country_index=region_index_to_country_index, predict_regions=predict_regions if not predict_coordinates else None)"
   ]
  },
  {
   "cell_type": "code",
   "execution_count": 60,
   "metadata": {},
   "outputs": [
    {
     "name": "stderr",
     "output_type": "stream",
     "text": [
      "/Users/lukasstoeckli/GitLabProjects/dspro2/.venv/lib/python3.10/site-packages/sklearn/metrics/_classification.py:2466: UserWarning: y_pred contains classes not in y_true\n",
      "  warnings.warn(\"y_pred contains classes not in y_true\")\n"
     ]
    },
    {
     "name": "stdout",
     "output_type": "stream",
     "text": [
      "Network-Model: efficientnet_b1\n",
      "Project Name: country\n",
      "Run ID: bc69qzqh\n",
      "Test Loss: 2.0048, Test Top 1 Accuracy: 0.6496, Test Top 3 Accuracy: 0.8300, Test Top 5 Accuracy: 0.8839\n",
      "Test Top 1 Balanced Accuracy: 0.5104\n",
      "Network-Model: efficientnet_b1\n",
      "Project Name: country\n",
      "Run ID: bc69qzqh\n",
      "Test Loss: 2.0048, Test Top 1 Accuracy: 0.6496, Test Top 3 Accuracy: 0.8300, Test Top 5 Accuracy: 0.8839\n",
      "Test Top 1 Balanced Accuracy: 0.3973\n",
      "Accuracy per country:\n",
      "Country India: 0.91007\n",
      "Country Japan: 0.84041\n",
      "Country Faroe Islands: 0.83333\n",
      "Country Qatar: 0.83333\n",
      "Country United States: 0.83326\n",
      "Country Bangladesh: 0.80982\n",
      "Country Guatemala: 0.80208\n",
      "Country Indonesia: 0.78987\n",
      "Country Rwanda: 0.78947\n",
      "Country United Kingdom: 0.78022\n",
      "Country Senegal: 0.76471\n",
      "Country Nigeria: 0.76404\n",
      "Country Ghana: 0.74684\n",
      "Country Kenya: 0.73958\n",
      "Country Russian Federation: 0.73866\n",
      "Country Kyrgyzstan: 0.72414\n",
      "Country Lesotho: 0.72034\n",
      "Country Australia: 0.70933\n",
      "Country Finland: 0.70253\n",
      "Country Germany: 0.68736\n",
      "Country Korea, Republic of: 0.67665\n",
      "Country Burkina Faso: 0.66667\n",
      "Country Pakistan: 0.66667\n",
      "Country Virgin Islands, U.S.: 0.66667\n",
      "Country South Africa: 0.65649\n",
      "Country Austria: 0.65531\n",
      "Country Peru: 0.65445\n",
      "Country Sri Lanka: 0.64754\n",
      "Country Netherlands: 0.64264\n",
      "Country Switzerland: 0.63975\n",
      "Country Tunisia: 0.63636\n",
      "Country Eswatini: 0.63077\n",
      "Country Jordan: 0.62791\n",
      "Country Singapore: 0.60839\n",
      "Country Uganda: 0.60417\n",
      "Country Argentina: 0.60000\n",
      "Country France: 0.59036\n",
      "Country Poland: 0.58865\n",
      "Country Brazil: 0.58581\n",
      "Country New Zealand: 0.58503\n",
      "Country Philippines: 0.58309\n",
      "Country Iceland: 0.57143\n",
      "Country Puerto Rico: 0.56757\n",
      "Country Taiwan, Province of China: 0.56332\n",
      "Country Botswana: 0.56000\n",
      "Country Mexico: 0.55801\n",
      "Country United Arab Emirates: 0.55000\n",
      "Country Dominican Republic: 0.53846\n",
      "Country Thailand: 0.53003\n",
      "Country Israel: 0.52258\n",
      "Country Italy: 0.50758\n",
      "Country Norway: 0.50254\n",
      "Country Egypt: 0.50000\n",
      "Country Gambia: 0.50000\n",
      "Country Réunion: 0.50000\n",
      "Country Chile: 0.48824\n",
      "Country Uruguay: 0.47788\n",
      "Country Malaysia: 0.47324\n",
      "Country Greece: 0.47234\n",
      "Country Malta: 0.46875\n",
      "Country Palestine, State of: 0.46341\n",
      "Country Lao People's Democratic Republic: 0.45455\n",
      "Country Ukraine: 0.44068\n",
      "Country Canada: 0.43518\n",
      "Country Spain: 0.43017\n",
      "Country Türkiye: 0.42487\n",
      "Country Cambodia: 0.40816\n",
      "Country Curaçao: 0.40000\n",
      "Country Ecuador: 0.37795\n",
      "Country Bolivia, Plurinational State of: 0.36585\n",
      "Country Bulgaria: 0.35233\n",
      "Country Albania: 0.34328\n",
      "Country Romania: 0.32323\n",
      "Country Hungary: 0.32022\n",
      "Country Belgium: 0.31447\n",
      "Country Sweden: 0.31227\n",
      "Country Croatia: 0.29670\n",
      "Country Ireland: 0.29384\n",
      "Country Andorra: 0.28571\n",
      "Country Serbia: 0.27826\n",
      "Country Portugal: 0.27570\n",
      "Country Lithuania: 0.26744\n",
      "Country Jersey: 0.25000\n",
      "Country Czechia: 0.24155\n",
      "Country Denmark: 0.23622\n",
      "Country Estonia: 0.21818\n",
      "Country Colombia: 0.20690\n",
      "Country Hong Kong: 0.20513\n",
      "Country Montenegro: 0.19512\n",
      "Country Slovenia: 0.17742\n",
      "Country North Macedonia: 0.17073\n",
      "Country Latvia: 0.16438\n",
      "Country Bhutan: 0.14286\n",
      "Country Luxembourg: 0.10000\n",
      "Country Viet Nam: 0.10000\n",
      "Country Slovakia: 0.01316\n",
      "Country Armenia: 0.00000\n",
      "Country Belarus: 0.00000\n",
      "Country Bosnia and Herzegovina: 0.00000\n",
      "Country Brunei Darussalam: 0.00000\n",
      "Country China: 0.00000\n",
      "Country Costa Rica: 0.00000\n",
      "Country Côte d'Ivoire: 0.00000\n",
      "Country Guinea: 0.00000\n",
      "Country Guinea-Bissau: 0.00000\n",
      "Country Guyana: 0.00000\n",
      "Country Holy See (Vatican City State): 0.00000\n",
      "Country Isle of Man: 0.00000\n",
      "Country Kazakhstan: 0.00000\n",
      "Country Lebanon: 0.00000\n",
      "Country Liechtenstein: 0.00000\n",
      "Country Madagascar: 0.00000\n",
      "Country Monaco: 0.00000\n",
      "Country Namibia: 0.00000\n",
      "Country Nepal: 0.00000\n",
      "Country Panama: 0.00000\n",
      "Country Paraguay: 0.00000\n",
      "Country San Marino: 0.00000\n",
      "Country Syrian Arab Republic: 0.00000\n",
      "Country Tanzania, United Republic of: 0.00000\n",
      "Country Togo: 0.00000\n",
      "Country Zimbabwe: 0.00000\n",
      "Country Åland Islands: 0.00000\n"
     ]
    }
   ],
   "source": [
    "# TODO: Test the model from best runs\n",
    "# TODO: Show the different models with the best results (also do it for different data sizes and mapped/non-mapped data)\n",
    "model_name = run[\"parameters\"][\"model_name\"]\n",
    "pretrained_weights = run[\"files\"][\"best_model\"]\n",
    "\n",
    "# Countries from 81k more mapped dataset, keep in sync with evaluating_models.ipynb\n",
    "countries_only = [\"Albania\", \"Argentina\", \"Australia\", \"Austria\", \"Bangladesh\", \"Belgium\", \"Bolivia, Plurinational State of\", \"Botswana\", \"Brazil\", \"Bulgaria\", \"Cambodia\", \"Canada\", \"Chile\", \"Colombia\", \"Croatia\", \"Czechia\", \"Denmark\", \"Dominican Republic\", \"Ecuador\", \"Estonia\", \"Eswatini\", \"Finland\", \"France\", \"Germany\", \"Ghana\", \"Greece\", \"Guatemala\", \"Hungary\", \"India\", \"Indonesia\", \"Ireland\", \"Israel\", \"Italy\", \"Japan\", \"Kenya\", \"Korea, Republic of\", \"Kyrgyzstan\", \"Lao People's Democratic Republic\", \"Latvia\", \"Lesotho\", \"Lithuania\", \"Malaysia\", \"Malta\", \"Mexico\", \"Montenegro\", \"Netherlands\", \"New Zealand\", \"Nigeria\", \"North Macedonia\", \"Norway\", \"Peru\", \"Philippines\", \"Poland\", \"Portugal\", \"Romania\", \"Russian Federation\", \"Rwanda\", \"Senegal\", \"Serbia\", \"Singapore\", \"Slovakia\", \"Slovenia\", \"South Africa\", \"Spain\", \"Sri Lanka\", \"Sweden\", \"Switzerland\", \"Thailand\", \"T\\u00fcrkiye\", \"Uganda\", \"Ukraine\", \"United Arab Emirates\", \"United Kingdom\", \"United States\", \"Uruguay\"]\n",
    "\n",
    "geo_model_tester.test(model_type=model_name, model_path=pretrained_weights, balanced_on_countries_only=countries_only, accuracy_per_country=False)\n",
    "\n",
    "if not predict_coordinates:\n",
    "    # And over all countries\n",
    "    geo_model_tester.test(model_type=model_name, model_path=pretrained_weights, balanced_on_countries_only=None, accuracy_per_country=True)"
   ]
  }
 ],
 "metadata": {
  "kernelspec": {
   "display_name": "Python 3 (ipykernel)",
   "language": "python",
   "name": "python3"
  },
  "language_info": {
   "codemirror_mode": {
    "name": "ipython",
    "version": 3
   },
   "file_extension": ".py",
   "mimetype": "text/x-python",
   "name": "python",
   "nbconvert_exporter": "python",
   "pygments_lexer": "ipython3",
   "version": "3.10.14"
  }
 },
 "nbformat": 4,
 "nbformat_minor": 4
}
