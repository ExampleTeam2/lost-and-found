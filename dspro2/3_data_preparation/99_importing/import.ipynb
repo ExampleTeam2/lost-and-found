{
 "cells": [
  {
   "cell_type": "code",
   "execution_count": 2,
   "metadata": {},
   "outputs": [
    {
     "name": "stdout",
     "output_type": "stream",
     "text": [
      "All local files: 52\n",
      "Filtering out unpaired files\n",
      "Filtered out 10 unpaired files\n",
      "Relevant files: 42\n",
      "42\n",
      "Now commit ../04_data_cleaning/updated_data_list to the repository\n"
     ]
    }
   ],
   "source": [
    "# Run this after importing the files from kaggle, etc. and using the yarn:data:import command\n",
    "\n",
    "# Do not run this when using scraping, but use the previous stages\n",
    "\n",
    "# User settings\n",
    "\n",
    "MAPPED = False  # Set this to true if you are using the \"mapped\" dataset (smaller) (if you previously did the same for the unmapped entire dataset, first clean out the data folder, you may add all the files back after this)\n",
    "\n",
    "import sys\n",
    "import os\n",
    "\n",
    "sys.path.insert(0, \"../../\")\n",
    "from data_loader import get_data_to_load\n",
    "\n",
    "loading_file = \"../04_data_cleaning/updated_data_list\" if not MAPPED else \"../04_data_cleaning/updated_data_list_more\"\n",
    "\n",
    "# Delete loading file if it exists\n",
    "\n",
    "if os.path.exists(loading_file):\n",
    "    os.remove(loading_file)\n",
    "\n",
    "list = get_data_to_load(loading_file=\"../04_data_cleaning/updated_data_list\", file_location=\"../01_enriching/.data/\", image_file_location=\"../../1_data_collection/.data/\", allow_new_file_creation=True, from_remote_only=False, download_link=None, allow_file_location_env=False, allow_image_file_location_env=False, allow_json_file_location_env=False, allow_download_link_env=False)\n",
    "\n",
    "# Number of files\n",
    "print(len(list))\n",
    "\n",
    "print(\"Now commit \" + loading_file + \" to the repository\")"
   ]
  }
 ],
 "metadata": {
  "kernelspec": {
   "display_name": ".venv",
   "language": "python",
   "name": "python3"
  },
  "language_info": {
   "codemirror_mode": {
    "name": "ipython",
    "version": 3
   },
   "file_extension": ".py",
   "mimetype": "text/x-python",
   "name": "python",
   "nbconvert_exporter": "python",
   "pygments_lexer": "ipython3",
   "version": "3.12.3"
  }
 },
 "nbformat": 4,
 "nbformat_minor": 2
}
