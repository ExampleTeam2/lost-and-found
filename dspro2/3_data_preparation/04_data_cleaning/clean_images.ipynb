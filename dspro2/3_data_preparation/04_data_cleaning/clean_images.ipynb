{
 "cells": [
  {
   "cell_type": "code",
   "execution_count": 5,
   "metadata": {},
   "outputs": [
    {
     "name": "stdout",
     "output_type": "stream",
     "text": [
      "4\n"
     ]
    }
   ],
   "source": [
    "import json\n",
    "import sys\n",
    "import os\n",
    "import cv2\n",
    "import numpy as np\n",
    "\n",
    "sys.path.insert(0, '../../')\n",
    "from data_loader import get_data_to_load, update_data_to_load\n",
    "\n",
    "\n",
    "files = get_data_to_load(loading_file='../03_mapping/data_list', image_file_location='../../1_data_collection/data/', allow_new_file_creation=False)\n",
    "\n",
    "images = list(filter(lambda x: x.endswith('.png'), files))\n",
    "\n",
    "filtered_files = []\n",
    "\n",
    "for image_path in images:\n",
    "   # Load an image\n",
    "  image = cv2.imread(image_path)\n",
    "  image = cv2.cvtColor(image, cv2.COLOR_BGR2RGB)\n",
    "\n",
    "  # Compute means and variances\n",
    "  variance_colors = np.var(image, axis=(0, 1))\n",
    "  \n",
    "  max_variance = np.max(variance_colors)\n",
    "  \n",
    "  if max_variance > 50:\n",
    "    filtered_files.append(image_path)\n",
    "  else:\n",
    "    print(\"Too low max RGB variance:\", image_path)\n",
    "    print(\"Max RGB variance:\", max_variance)\n",
    "\n",
    "print(len(files))\n",
    "\n",
    "files = update_data_to_load(files, old_loading_file='../03_mapping/data_list', file_location='../01_enriching/data/', image_file_location='../../1_data_collection/data/')"
   ]
  }
 ],
 "metadata": {
  "kernelspec": {
   "display_name": ".venv",
   "language": "python",
   "name": "python3"
  },
  "language_info": {
   "codemirror_mode": {
    "name": "ipython",
    "version": 3
   },
   "file_extension": ".py",
   "mimetype": "text/x-python",
   "name": "python",
   "nbconvert_exporter": "python",
   "pygments_lexer": "ipython3",
   "version": "3.10.13"
  }
 },
 "nbformat": 4,
 "nbformat_minor": 2
}
