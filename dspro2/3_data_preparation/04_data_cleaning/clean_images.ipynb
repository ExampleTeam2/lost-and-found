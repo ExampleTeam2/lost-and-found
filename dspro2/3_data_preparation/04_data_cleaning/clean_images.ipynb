{
 "cells": [
  {
   "cell_type": "code",
   "execution_count": 1,
   "metadata": {},
   "outputs": [
    {
     "name": "stdout",
     "output_type": "stream",
     "text": [
      "23\n",
      "Too low max RGB variance: ../../1_data_collection/data/geoguessr_location_singleplayer_0AX99V7ji4qZzWyq_0.png\n",
      "Corresponding result: ../01_enriching/data/geoguessr_result_singleplayer_0AX99V7ji4qZzWyq_0.json\n",
      "Max RGB variance: 792.3439031402268\n",
      "22\n"
     ]
    }
   ],
   "source": [
    "import json\n",
    "import sys\n",
    "import os\n",
    "import cv2\n",
    "import numpy as np\n",
    "\n",
    "sys.path.insert(0, '../../')\n",
    "from data_loader import get_data_to_load, update_data_to_load\n",
    "\n",
    "\n",
    "files = get_data_to_load(loading_file='../03_mapping/data_list', file_location='../01_enriching/data/', image_file_location='../../1_data_collection/data/')\n",
    "\n",
    "original_order = files.copy()\n",
    "\n",
    "# sort files by file name\n",
    "files.sort()\n",
    "\n",
    "images = list(filter(lambda x: x.endswith('.png'), files))\n",
    "jsons = list(filter(lambda x: x.endswith('.json'), files))\n",
    "\n",
    "print(len(images))\n",
    "\n",
    "filtered_files = []\n",
    "\n",
    "variance_map = {}\n",
    "# For easier visualization\n",
    "image_to_country_map = {}\n",
    "\n",
    "for image_path, json_path in zip(images, jsons):\n",
    "  # Load an image\n",
    "  image = cv2.imread(image_path)\n",
    "  image = cv2.cvtColor(image, cv2.COLOR_BGR2RGB)\n",
    "  \n",
    "  # For easier visualization\n",
    "  country_name = None\n",
    "  with open(json_path, 'r', encoding='utf8') as f:\n",
    "    data = json.load(f)\n",
    "    country_name = data['country_name']\n",
    "\n",
    "  # Compute means and variances\n",
    "  variance_colors = np.var(image, axis=(0, 1))\n",
    "  \n",
    "  max_variance = np.max(variance_colors)\n",
    "  \n",
    "  variance_map[image_path] = max_variance\n",
    "  # For easier visualization\n",
    "  image_to_country_map[image_path] = country_name\n",
    "  \n",
    "  if max_variance > 500:\n",
    "    filtered_files.append(image_path)\n",
    "    filtered_files.append(json_path)\n",
    "  else:\n",
    "    print(\"Too low max RGB variance:\", image_path)\n",
    "    print(\"Corresponding result:\", json_path)\n",
    "    print(\"Max RGB variance:\", max_variance)\n",
    "    \n",
    "filtered_images = list(filter(lambda x: x.endswith('.png'), filtered_files))\n",
    "print(len(filtered_images))\n",
    "\n",
    "with open('variance_map', 'w', encoding='utf8') as f:\n",
    "    json.dump(variance_map, f, ensure_ascii=False)\n",
    "# For easier visualization\n",
    "with open('image_to_country_map', 'w', encoding='utf8') as f:\n",
    "    json.dump(image_to_country_map, f, ensure_ascii=False)\n",
    "    \n",
    "# Sort back to original order (some files were removed)\n",
    "filtered_files = sorted(filtered_files, key=lambda x: original_order.index(x))\n",
    "\n",
    "update_data_to_load(filtered_files, old_loading_file='../03_mapping/data_list', file_location='../01_enriching/data/', image_file_location='../../1_data_collection/data/')"
   ]
  }
 ],
 "metadata": {
  "kernelspec": {
   "display_name": ".venv",
   "language": "python",
   "name": "python3"
  },
  "language_info": {
   "codemirror_mode": {
    "name": "ipython",
    "version": 3
   },
   "file_extension": ".py",
   "mimetype": "text/x-python",
   "name": "python",
   "nbconvert_exporter": "python",
   "pygments_lexer": "ipython3",
   "version": "3.10.13"
  }
 },
 "nbformat": 4,
 "nbformat_minor": 2
}
