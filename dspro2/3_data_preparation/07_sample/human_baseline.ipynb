{
 "cells": [
  {
   "cell_type": "code",
   "execution_count": 1,
   "metadata": {},
   "outputs": [
    {
     "name": "stderr",
     "output_type": "stream",
     "text": [
      "/Users/linus/gitprojects/dspro2/.venv/lib/python3.10/site-packages/fuzzywuzzy/fuzz.py:11: UserWarning: Using slow pure-python SequenceMatcher. Install python-Levenshtein to remove this warning\n",
      "  warnings.warn('Using slow pure-python SequenceMatcher. Install python-Levenshtein to remove this warning')\n"
     ]
    },
    {
     "name": "stdout",
     "output_type": "stream",
     "text": [
      "Warning: Skipping remote files check\n",
      "All local files: 421768\n",
      "Relevant files: 421768\n",
      "Limited files: 200\n"
     ]
    }
   ],
   "source": [
    "import json\n",
    "import sys\n",
    "import os\n",
    "import random\n",
    "import gradio as gr\n",
    "sys.path.insert(0, '../../')\n",
    "from data_loader import get_data_to_load, split_json_and_image_files, load_json_files, load_image_file_raw\n",
    "from countryconverter import convert_country_to_correct_name\n",
    "\n",
    "list_files = get_data_to_load(loading_file='../04_data_cleaning/updated_data_list', file_location='../01_enriching/.data/', image_file_location='../../1_data_collection/.data/', allow_new_file_creation=False, from_remote_only=True, download_link='default', limit=100, shuffle_seed=33, allow_file_location_env=True, allow_image_file_location_env=True, allow_json_file_location_env=True, allow_download_link_env=True)\n",
    "\n",
    "json_files, image_files = split_json_and_image_files(list_files)\n",
    "\n",
    "labels = load_json_files(json_files)\n",
    "countries = [item['country_name'] for item in labels]\n",
    "coordinates = [item['coordinates'] for item in labels]\n",
    "\n",
    "countries_to_image = list(zip(countries, image_files))"
   ]
  },
  {
   "cell_type": "code",
   "execution_count": 2,
   "metadata": {},
   "outputs": [
    {
     "name": "stdout",
     "output_type": "stream",
     "text": [
      "Running on local URL:  http://127.0.0.1:7860\n",
      "\n",
      "To create a public link, set `share=True` in `launch()`.\n"
     ]
    },
    {
     "data": {
      "text/html": [
       "<div><iframe src=\"http://127.0.0.1:7860/\" width=\"100%\" height=\"500\" allow=\"autoplay; camera; microphone; clipboard-read; clipboard-write;\" frameborder=\"0\" allowfullscreen></iframe></div>"
      ],
      "text/plain": [
       "<IPython.core.display.HTML object>"
      ]
     },
     "metadata": {},
     "output_type": "display_data"
    },
    {
     "data": {
      "text/plain": []
     },
     "execution_count": 2,
     "metadata": {},
     "output_type": "execute_result"
    },
    {
     "name": "stdout",
     "output_type": "stream",
     "text": [
      "SubdivisionHierarchy(code='US-GA', country_code='US', name='Georgia', parent_code=None, type='State')\n",
      "SubdivisionHierarchy(code='MX-MEX', country_code='MX', name='México', parent_code=None, type='State')\n"
     ]
    }
   ],
   "source": [
    "# Seed for randomization\n",
    "seed = 42\n",
    "random.seed(seed)\n",
    "random.shuffle(countries_to_image)\n",
    "\n",
    "# Global index to keep track of the current image\n",
    "current_index = 0\n",
    "# If empty string guesses were already made and we need to load the next image\n",
    "solution = \"\"\n",
    "\n",
    "num_guesses = 0\n",
    "top_1_correct = 0\n",
    "top_3_correct = 0\n",
    "top_5_correct = 0\n",
    "\n",
    "def get_country_name(country):\n",
    "    if not country:\n",
    "        return \"\"\n",
    "    try:\n",
    "        return convert_country_to_correct_name(country).name\n",
    "    except:\n",
    "        return \"\"\n",
    "\n",
    "# Function to handle the input and generate output\n",
    "def process_guesses(image, *inputs):\n",
    "    global solution, top_1_correct, top_3_correct, top_5_correct, num_guesses\n",
    "    # filter out empty inputs\n",
    "    actual_inputs = [input for input in inputs if input]\n",
    "    num_inputs = len(actual_inputs)\n",
    "    num_processed_inputs = 0\n",
    "    \n",
    "    if num_inputs:\n",
    "      # process the inputs to countries\n",
    "      inputs = [get_country_name(input) for input in inputs]\n",
    "      actual_processed_inputs = [input for input in inputs if input]\n",
    "      num_processed_inputs = len(actual_processed_inputs)\n",
    "      \n",
    "    all_found = False\n",
    "    \n",
    "    if num_processed_inputs == num_inputs:\n",
    "      all_found = True\n",
    "      current_solution = solution\n",
    "      solution = \"\"\n",
    "    \n",
    "      num_guesses += 1\n",
    "    \n",
    "      if inputs[0] == current_solution:\n",
    "          top_1_correct += 1\n",
    "          \n",
    "      if current_solution in inputs[:3]:\n",
    "          top_3_correct += 1\n",
    "          \n",
    "      if current_solution in inputs:\n",
    "          top_5_correct += 1\n",
    "          \n",
    "      results = f\"Top 1: {top_1_correct/num_guesses}, Top 3: {top_3_correct/num_guesses}, Top 5: {top_5_correct/num_guesses}, Total guesses: {num_guesses}\"\n",
    "      \n",
    "      # combine with current_solution\n",
    "      output = f\"Correct answer: {current_solution}\\n{results}\"\n",
    "    \n",
    "    return image, output if all_found else \"Invalid guess\", gr.Textbox(label=\"Input 1\", interactive=not all_found), gr.Textbox(label=\"Input 2\", interactive=not all_found), gr.Textbox(label=\"Input 3\", interactive=not all_found), gr.Textbox(label=\"Input 4\", interactive=not all_found), gr.Textbox(label=\"Input 5\", interactive=not all_found), gr.Button(\"Next\") if all_found else gr.Button(\"Guess\")\n",
    "\n",
    "# Function to load the next image\n",
    "def load_next_image():\n",
    "    global current_index, solution\n",
    "    current_index = (current_index + 1) % len(countries_to_image)\n",
    "    next_country, next_image_path = countries_to_image[current_index]\n",
    "    next_image = load_image_file_raw(next_image_path)\n",
    "    solution = next_country\n",
    "    return next_image, f\"Top 1: {top_1_correct/num_guesses}, Top 3: {top_3_correct/num_guesses}, Top 5: {top_5_correct/num_guesses}, Total guesses: {num_guesses}\" if num_guesses else \"\", gr.Textbox(label=\"Input 1\", interactive=True, value=\"\"), gr.Textbox(label=\"Input 2\", interactive=True, value=\"\"), gr.Textbox(label=\"Input 3\", interactive=True, value=\"\"), gr.Textbox(label=\"Input 4\", interactive=True, value=\"\"), gr.Textbox(label=\"Input 5\", interactive=True, value=\"\"), gr.Button(\"Guess\")\n",
    "\n",
    "# Function to load the next image\n",
    "def progress_ui_state(image, *inputs):\n",
    "    global current_index, solution\n",
    "    if solution:\n",
    "      return process_guesses(image, *inputs)\n",
    "    else:\n",
    "      return load_next_image()\n",
    "\n",
    "with gr.Blocks() as demo:\n",
    "    with gr.Row():\n",
    "        with gr.Column():\n",
    "            image_output = gr.Image(type=\"pil\", label=\"Image\", interactive=False)\n",
    "            result_output = gr.Textbox(label=\"Result\", interactive=False)\n",
    "        with gr.Column():\n",
    "            text_inputs = [\n",
    "                gr.Textbox(label=\"Input 1\"),\n",
    "                gr.Textbox(label=\"Input 2\"),\n",
    "                gr.Textbox(label=\"Input 3\"),\n",
    "                gr.Textbox(label=\"Input 4\"),\n",
    "                gr.Textbox(label=\"Input 5\")\n",
    "            ]\n",
    "            submit_button = gr.Button(\"Next\")\n",
    "\n",
    "    # Initial image load\n",
    "    demo.load(progress_ui_state, inputs=[image_output] + text_inputs, outputs=[image_output, result_output] + text_inputs + [submit_button])\n",
    "\n",
    "    # Guessing or loading next image\n",
    "    submit_button.click(progress_ui_state, inputs=[image_output] + text_inputs, outputs=[image_output, result_output] + text_inputs + [submit_button])\n",
    "\n",
    "# Launch the Gradio app\n",
    "demo.launch()"
   ]
  },
  {
   "cell_type": "markdown",
   "metadata": {},
   "source": [
    "### Linus Results\n",
    "\n",
    "Top 1:0.26666666666666666, Top 3:0.43333333333333335, Top 5:0.5666666666666667, Total guesses: 30"
   ]
  }
 ],
 "metadata": {
  "kernelspec": {
   "display_name": ".venv",
   "language": "python",
   "name": "python3"
  },
  "language_info": {
   "codemirror_mode": {
    "name": "ipython",
    "version": 3
   },
   "file_extension": ".py",
   "mimetype": "text/x-python",
   "name": "python",
   "nbconvert_exporter": "python",
   "pygments_lexer": "ipython3",
   "version": "3.10.13"
  }
 },
 "nbformat": 4,
 "nbformat_minor": 2
}
