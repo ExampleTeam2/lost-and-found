{
 "cells": [
  {
   "cell_type": "code",
   "execution_count": 1,
   "metadata": {},
   "outputs": [
    {
     "name": "stdout",
     "output_type": "stream",
     "text": [
      "Warning: Downloading from our server will soon no longer be supported, please use local data (DOWNLOAD_LINK=None and `SKIP_REMOTE=true` in .env), the dataset is accessible at https://www.kaggle.com/datasets/killusions/street-location-images/ (put unzipped files into 1_data_collection/.data and run yarn data:import on a unix based system, then the import.ipynb notebook), provide a different download link (DOWNLOAD_LINK in .env) or the scaping script can be used to collect your own data.\n",
      "Getting files list from remote\n",
      "Got files list from remote\n",
      "Parsed files list from remote\n",
      "All remote files: 705681\n",
      "All local files: 705681\n",
      "Relevant files: 705681\n",
      "Limited files: 200\n",
      "200\n",
      "{'coordinates': [39.54655456542969, 3.2393112182617188], 'duration': 10.057, 'country_name': 'Spain', 'country_code': 'ES', 'regions': [['Spain_Baleares_ESP-5808', 'POINT (2.903061 39.571311)'], ['Spain_Barcelona_ESP-5809', 'POINT (1.984716 41.728661)'], ['Spain_Gerona_ESP-5820', 'POINT (2.679014 42.123252)'], ['Algeria_Boumerdès_DZA-2196', 'POINT (3.6832 36.765474)'], ['Algeria_Alger_DZA-2195', 'POINT (3.090417 36.724378)']], 'is_in_region': 'True'}\n",
      "da60bbda953b4c9712da0315630a09b12a9e92d5151614431b6a24971b0a041c\n"
     ]
    }
   ],
   "source": [
    "import sys\n",
    "\n",
    "sys.path.insert(0, \"../../\")\n",
    "from data_loader import get_data_to_load, split_json_and_image_files, load_json_files, load_image_files, hash_filenames\n",
    "\n",
    "list_files = get_data_to_load(loading_file=\"../04_data_cleaning/updated_data_list\", file_location=\"../01_enriching/.data/\", image_file_location=\"../../1_data_collection/.data/\", allow_new_file_creation=False, from_remote_only=True, download_link=\"default\", limit=100, shuffle_seed=43, allow_file_location_env=True, allow_image_file_location_env=True, allow_json_file_location_env=True, allow_download_link_env=True)\n",
    "\n",
    "# List of data to load\n",
    "print(len(list_files))\n",
    "\n",
    "# Actually load data (parallelized)\n",
    "# Better to do this in batches when getting more files at once\n",
    "json_paths, image_paths = split_json_and_image_files(list_files)\n",
    "loaded_jsons = load_json_files(json_paths)\n",
    "loaded_images = load_image_files(image_paths)\n",
    "\n",
    "# Print out first json file and show the first image\n",
    "print(loaded_jsons[0])\n",
    "loaded_images[0].show()\n",
    "\n",
    "# Get hash of file names for reproducibility/caching\n",
    "print(hash_filenames(list_files))"
   ]
  }
 ],
 "metadata": {
  "kernelspec": {
   "display_name": ".venv",
   "language": "python",
   "name": "python3"
  },
  "language_info": {
   "codemirror_mode": {
    "name": "ipython",
    "version": 3
   },
   "file_extension": ".py",
   "mimetype": "text/x-python",
   "name": "python",
   "nbconvert_exporter": "python",
   "pygments_lexer": "ipython3",
   "version": "3.12.3"
  }
 },
 "nbformat": 4,
 "nbformat_minor": 2
}
