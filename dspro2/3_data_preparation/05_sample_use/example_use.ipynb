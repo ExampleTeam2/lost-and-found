{
 "cells": [
  {
   "cell_type": "code",
   "execution_count": 1,
   "metadata": {},
   "outputs": [
    {
     "name": "stdout",
     "output_type": "stream",
     "text": [
      "Warning: Skipping remote files check\n",
      "All local files: 705681\n",
      "Relevant files: 705681\n",
      "Limited files: 200\n",
      "200\n"
     ]
    }
   ],
   "source": [
    "import json\n",
    "import sys\n",
    "import os\n",
    "sys.path.insert(0, '../../')\n",
    "from data_loader import get_data_to_load\n",
    "\n",
    "list = get_data_to_load(loading_file='../04_data_cleaning/updated_data_list', file_location='../01_enriching/.data/', image_file_location='../../1_data_collection/.data/', allow_new_file_creation=False, from_remote_only=True, download_link='default', limit=100, shuffle_seed=43, allow_file_location_env=True, allow_image_file_location_env=True, allow_json_file_location_env=True, allow_download_link_env=True)\n",
    "\n",
    "# List of data to load\n",
    "print(len(list))"
   ]
  }
 ],
 "metadata": {
  "kernelspec": {
   "display_name": ".venv",
   "language": "python",
   "name": "python3"
  },
  "language_info": {
   "codemirror_mode": {
    "name": "ipython",
    "version": 3
   },
   "file_extension": ".py",
   "mimetype": "text/x-python",
   "name": "python",
   "nbconvert_exporter": "python",
   "pygments_lexer": "ipython3",
   "version": "3.10.13"
  }
 },
 "nbformat": 4,
 "nbformat_minor": 2
}
