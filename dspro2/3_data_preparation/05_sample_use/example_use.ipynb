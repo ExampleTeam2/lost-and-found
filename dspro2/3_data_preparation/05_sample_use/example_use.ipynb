{
 "cells": [
  {
   "cell_type": "code",
   "execution_count": 3,
   "metadata": {},
   "outputs": [
    {
     "name": "stdout",
     "output_type": "stream",
     "text": [
      "['geoguessr_location_singleplayer_00AH3Et9ehwdPYL8_0_resized.png', 'geoguessr_location_singleplayer_00AH3Et9ehwdPYL8_1_resized.png', 'geoguessr_location_singleplayer_00AH3Et9ehwdPYL8_2_resized.png', 'geoguessr_location_singleplayer_00AH3Et9ehwdPYL8_3_resized.png', 'geoguessr_location_singleplayer_00AH3Et9ehwdPYL8_4_resized.png']\n",
      "Found 5 files\n",
      "Downloading 5 files\n",
      "28\n"
     ]
    }
   ],
   "source": [
    "import json\n",
    "import sys\n",
    "import os\n",
    "sys.path.insert(0, '../../')\n",
    "from data_loader import get_data_to_load\n",
    "\n",
    "\n",
    "list = get_data_to_load(loading_file='../03_mapping/data_list', file_location='../01_enriching/.data/', image_file_location='../../1_data_collection/.data/', allow_new_file_creation=False, download_link='env')\n",
    "\n",
    "# List of data to load\n",
    "print(len(list))"
   ]
  }
 ],
 "metadata": {
  "kernelspec": {
   "display_name": ".venv",
   "language": "python",
   "name": "python3"
  },
  "language_info": {
   "codemirror_mode": {
    "name": "ipython",
    "version": 3
   },
   "file_extension": ".py",
   "mimetype": "text/x-python",
   "name": "python",
   "nbconvert_exporter": "python",
   "pygments_lexer": "ipython3",
   "version": "3.10.13"
  }
 },
 "nbformat": 4,
 "nbformat_minor": 2
}
