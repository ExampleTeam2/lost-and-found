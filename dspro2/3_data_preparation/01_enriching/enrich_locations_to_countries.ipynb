{
 "cells": [
  {
   "cell_type": "markdown",
   "metadata": {},
   "source": [
    "# Enriching countries to locations"
   ]
  },
  {
   "cell_type": "markdown",
   "metadata": {},
   "source": [
    "## Enrich the singleplayer json files from the coordinates"
   ]
  },
  {
   "cell_type": "code",
   "execution_count": 7,
   "metadata": {},
   "outputs": [
    {
     "name": "stderr",
     "output_type": "stream",
     "text": [
      "Python(73760) MallocStackLogging: can't turn off malloc stack logging because it was not enabled.\n",
      "Python(73761) MallocStackLogging: can't turn off malloc stack logging because it was not enabled.\n",
      "Python(73762) MallocStackLogging: can't turn off malloc stack logging because it was not enabled.\n",
      "Python(73763) MallocStackLogging: can't turn off malloc stack logging because it was not enabled.\n",
      "Python(73764) MallocStackLogging: can't turn off malloc stack logging because it was not enabled.\n",
      "Python(73765) MallocStackLogging: can't turn off malloc stack logging because it was not enabled.\n",
      "Python(73766) MallocStackLogging: can't turn off malloc stack logging because it was not enabled.\n",
      "Python(73767) MallocStackLogging: can't turn off malloc stack logging because it was not enabled.\n",
      "Python(73774) MallocStackLogging: can't turn off malloc stack logging because it was not enabled.\n",
      "Python(73778) MallocStackLogging: can't turn off malloc stack logging because it was not enabled.\n"
     ]
    }
   ],
   "source": [
    "from countryenricher import CountryEnricher\n",
    "\n",
    "input_dir = '../../1_data_collection/data/'\n",
    "output_dir = '../01_enriching/data/'\n",
    "geo_enricher = CountryEnricher(input_dir, output_dir)"
   ]
  },
  {
   "cell_type": "markdown",
   "metadata": {},
   "source": [
    "## Enrich the multiplayer json files from the coordinates"
   ]
  },
  {
   "cell_type": "code",
   "execution_count": 8,
   "metadata": {},
   "outputs": [
    {
     "name": "stdout",
     "output_type": "stream",
     "text": [
      "SubdivisionHierarchy(code='MX-MEX', country_code='MX', name='México', parent_code=None, type='State')\n",
      "SubdivisionHierarchy(code='GT-GU', country_code='GT', name='Guatemala', parent_code=None, type='Department')\n"
     ]
    }
   ],
   "source": [
    "geo_enricher = CountryEnricher(input_dir, output_dir, from_country=True)"
   ]
  },
  {
   "cell_type": "code",
   "execution_count": null,
   "metadata": {},
   "outputs": [],
   "source": []
  }
 ],
 "metadata": {
  "kernelspec": {
   "display_name": ".venv",
   "language": "python",
   "name": "python3"
  },
  "language_info": {
   "codemirror_mode": {
    "name": "ipython",
    "version": 3
   },
   "file_extension": ".py",
   "mimetype": "text/x-python",
   "name": "python",
   "nbconvert_exporter": "python",
   "pygments_lexer": "ipython3",
   "version": "3.10.13"
  }
 },
 "nbformat": 4,
 "nbformat_minor": 2
}
