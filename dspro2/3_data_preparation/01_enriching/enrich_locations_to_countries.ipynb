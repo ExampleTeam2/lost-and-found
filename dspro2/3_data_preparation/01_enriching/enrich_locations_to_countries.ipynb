{
 "cells": [
  {
   "cell_type": "markdown",
   "metadata": {},
   "source": [
    "# Enriching countries to locations"
   ]
  },
  {
   "cell_type": "markdown",
   "metadata": {},
   "source": [
    "## Enrich the singleplayer json files from the coordinates"
   ]
  },
  {
   "cell_type": "code",
   "execution_count": 1,
   "metadata": {},
   "outputs": [
    {
     "name": "stderr",
     "output_type": "stream",
     "text": [
      "/Users/linus/gitprojects/dspro2/.venv/lib/python3.10/site-packages/fuzzywuzzy/fuzz.py:11: UserWarning: Using slow pure-python SequenceMatcher. Install python-Levenshtein to remove this warning\n",
      "  warnings.warn('Using slow pure-python SequenceMatcher. Install python-Levenshtein to remove this warning')\n"
     ]
    }
   ],
   "source": [
    "from countryenricher import CountryEnricher\n",
    "\n",
    "input_dir = 'E:\\dspro2\\.data'\n",
    "output_dir = '../01_enriching/.data/'"
   ]
  },
  {
   "cell_type": "code",
   "execution_count": 2,
   "metadata": {},
   "outputs": [
    {
     "name": "stdout",
     "output_type": "stream",
     "text": [
      "Loaded 1000 files\n",
      "Loaded 2000 files\n",
      "Loaded 3000 files\n",
      "Loaded 4000 files\n",
      "Loaded 5000 files\n",
      "Loaded 6000 files\n",
      "Loaded 7000 files\n",
      "Loaded 8000 files\n",
      "Loaded 9000 files\n",
      "Loaded 10000 files\n",
      "Loaded 11000 files\n",
      "Loaded 12000 files\n",
      "Loaded 13000 files\n",
      "Loaded 14000 files\n",
      "Loaded 15000 files\n",
      "Loaded 16000 files\n",
      "Loaded 17000 files\n",
      "Loaded 18000 files\n",
      "Loaded 19000 files\n",
      "Loaded 20000 files\n",
      "Loaded 21000 files\n",
      "Loaded 22000 files\n",
      "Loaded 23000 files\n",
      "Loaded 24000 files\n",
      "Loaded 25000 files\n",
      "Loaded 26000 files\n",
      "Loaded 27000 files\n",
      "Loaded 28000 files\n",
      "Loaded 29000 files\n",
      "Loaded 30000 files\n",
      "Loaded 31000 files\n",
      "Loaded 32000 files\n",
      "Loaded 33000 files\n",
      "Loaded 34000 files\n",
      "Loaded 35000 files\n",
      "Loaded 36000 files\n",
      "Loaded 37000 files\n",
      "Loaded 38000 files\n",
      "Loaded 39000 files\n",
      "Loaded 40000 files\n",
      "Loaded 41000 files\n",
      "Loaded 42000 files\n",
      "Loaded 43000 files\n",
      "Loaded 44000 files\n",
      "Loaded 45000 files\n",
      "Loaded 46000 files\n",
      "Loaded 47000 files\n",
      "Loaded 48000 files\n",
      "Loaded 49000 files\n",
      "Loaded 50000 files\n",
      "Loaded 51000 files\n",
      "Loaded 52000 files\n",
      "Loaded 53000 files\n",
      "Loaded 54000 files\n",
      "Loaded 55000 files\n",
      "Loaded 56000 files\n",
      "Loaded 57000 files\n",
      "Loaded 58000 files\n",
      "Loaded 59000 files\n",
      "Loaded 60000 files\n",
      "Loaded 61000 files\n",
      "Loaded 62000 files\n",
      "Loaded 63000 files\n",
      "Loaded 64000 files\n",
      "Loaded 65000 files\n",
      "Loaded 66000 files\n",
      "Loaded 67000 files\n",
      "Loaded 68000 files\n",
      "Loaded 69000 files\n",
      "Loaded 70000 files\n",
      "Loaded 71000 files\n",
      "Loaded 72000 files\n",
      "Loaded 73000 files\n",
      "Loaded 74000 files\n",
      "Loaded 75000 files\n",
      "Loaded 76000 files\n",
      "Loaded 77000 files\n",
      "Loaded 78000 files\n",
      "Loaded 79000 files\n",
      "Loaded 80000 files\n",
      "Loaded 81000 files\n",
      "Loaded 82000 files\n",
      "Loaded 83000 files\n",
      "Loaded 84000 files\n",
      "Loaded 85000 files\n",
      "Loaded 86000 files\n",
      "Loaded 87000 files\n",
      "Loaded 88000 files\n",
      "Loaded 89000 files\n",
      "Loaded 90000 files\n",
      "Loaded 91000 files\n",
      "Loaded 92000 files\n",
      "Loaded 93000 files\n",
      "Loaded 94000 files\n",
      "Loaded 95000 files\n",
      "Loaded 96000 files\n",
      "Loaded 97000 files\n",
      "Loaded 98000 files\n",
      "Loaded 99000 files\n",
      "Loaded 100000 files\n",
      "Loaded 101000 files\n",
      "Loaded 102000 files\n",
      "Loaded 103000 files\n",
      "Loaded 104000 files\n",
      "Loaded 105000 files\n",
      "Loaded 106000 files\n",
      "Loaded 107000 files\n",
      "Loaded 108000 files\n",
      "Loaded 109000 files\n",
      "Loaded 110000 files\n",
      "Loaded 111000 files\n",
      "Loaded 112000 files\n",
      "Loaded 113000 files\n",
      "Loaded 114000 files\n",
      "Loaded 115000 files\n",
      "Loaded 116000 files\n",
      "Loaded 117000 files\n",
      "Loaded 118000 files\n",
      "Loaded 119000 files\n",
      "Loaded 120000 files\n",
      "Loaded 121000 files\n",
      "Loaded 122000 files\n",
      "Loaded 123000 files\n",
      "Loaded 124000 files\n",
      "Loaded 125000 files\n",
      "Loaded 126000 files\n",
      "Loaded 127000 files\n",
      "Loaded 128000 files\n",
      "Loaded 129000 files\n",
      "Loaded 130000 files\n",
      "Loaded 131000 files\n",
      "Loaded 132000 files\n"
     ]
    },
    {
     "ename": "KeyboardInterrupt",
     "evalue": "",
     "output_type": "error",
     "traceback": [
      "\u001b[0;31m---------------------------------------------------------------------------\u001b[0m",
      "\u001b[0;31mKeyboardInterrupt\u001b[0m                         Traceback (most recent call last)",
      "Cell \u001b[0;32mIn[2], line 3\u001b[0m\n\u001b[1;32m      1\u001b[0m \u001b[38;5;66;03m# Only enable if enriching logic did not change\u001b[39;00m\n\u001b[1;32m      2\u001b[0m USE_PREVIOUS \u001b[38;5;241m=\u001b[39m \u001b[38;5;28;01mTrue\u001b[39;00m\n\u001b[0;32m----> 3\u001b[0m geo_enricher \u001b[38;5;241m=\u001b[39m \u001b[43mCountryEnricher\u001b[49m\u001b[43m(\u001b[49m\u001b[43minput_dir\u001b[49m\u001b[43m,\u001b[49m\u001b[43m \u001b[49m\u001b[43moutput_dir\u001b[49m\u001b[43m,\u001b[49m\u001b[43m \u001b[49m\u001b[43mallow_env\u001b[49m\u001b[38;5;241;43m=\u001b[39;49m\u001b[38;5;28;43;01mTrue\u001b[39;49;00m\u001b[43m,\u001b[49m\u001b[43m \u001b[49m\u001b[43muse_previous\u001b[49m\u001b[38;5;241;43m=\u001b[39;49m\u001b[43mUSE_PREVIOUS\u001b[49m\u001b[43m)\u001b[49m\n",
      "File \u001b[0;32m~/gitprojects/dspro2/dspro2/3_data_preparation/01_enriching/countryenricher.py:28\u001b[0m, in \u001b[0;36mCountryEnricher.__init__\u001b[0;34m(self, input_dir, output_dir, from_country, allow_env, use_previous)\u001b[0m\n\u001b[1;32m     26\u001b[0m \u001b[38;5;66;03m# Only use if the mapping logic didn't change\u001b[39;00m\n\u001b[1;32m     27\u001b[0m \u001b[38;5;28mself\u001b[39m\u001b[38;5;241m.\u001b[39muse_previous \u001b[38;5;241m=\u001b[39m use_previous\n\u001b[0;32m---> 28\u001b[0m \u001b[38;5;28;43mself\u001b[39;49m\u001b[38;5;241;43m.\u001b[39;49m\u001b[43mprocess\u001b[49m\u001b[43m(\u001b[49m\u001b[43m)\u001b[49m\n",
      "File \u001b[0;32m~/gitprojects/dspro2/dspro2/3_data_preparation/01_enriching/countryenricher.py:110\u001b[0m, in \u001b[0;36mCountryEnricher.process\u001b[0;34m(self)\u001b[0m\n\u001b[1;32m    109\u001b[0m \u001b[38;5;28;01mdef\u001b[39;00m \u001b[38;5;21mprocess\u001b[39m(\u001b[38;5;28mself\u001b[39m):\n\u001b[0;32m--> 110\u001b[0m     \u001b[38;5;28;43mself\u001b[39;49m\u001b[38;5;241;43m.\u001b[39;49m\u001b[43mload_and_prepare_files\u001b[49m\u001b[43m(\u001b[49m\u001b[43m)\u001b[49m\n\u001b[1;32m    111\u001b[0m     \u001b[38;5;28mself\u001b[39m\u001b[38;5;241m.\u001b[39menrich_with_country_info()\n\u001b[1;32m    112\u001b[0m     \u001b[38;5;28mself\u001b[39m\u001b[38;5;241m.\u001b[39msave_enriched_files()\n",
      "File \u001b[0;32m~/gitprojects/dspro2/dspro2/3_data_preparation/01_enriching/countryenricher.py:78\u001b[0m, in \u001b[0;36mCountryEnricher.load_and_prepare_files\u001b[0;34m(self, num_workers)\u001b[0m\n\u001b[1;32m     76\u001b[0m \u001b[38;5;28;01mwith\u001b[39;00m concurrent\u001b[38;5;241m.\u001b[39mfutures\u001b[38;5;241m.\u001b[39mThreadPoolExecutor(max_workers\u001b[38;5;241m=\u001b[39mnum_workers) \u001b[38;5;28;01mas\u001b[39;00m executor:\n\u001b[1;32m     77\u001b[0m   current_file \u001b[38;5;241m=\u001b[39m \u001b[38;5;241m0\u001b[39m\n\u001b[0;32m---> 78\u001b[0m   \u001b[38;5;28;01mfor\u001b[39;00m _ \u001b[38;5;129;01min\u001b[39;00m executor\u001b[38;5;241m.\u001b[39mmap(process_json_file, json_paths):\n\u001b[1;32m     79\u001b[0m     current_file \u001b[38;5;241m+\u001b[39m\u001b[38;5;241m=\u001b[39m \u001b[38;5;241m1\u001b[39m\n\u001b[1;32m     80\u001b[0m     \u001b[38;5;28;01mif\u001b[39;00m (current_file \u001b[38;5;129;01mand\u001b[39;00m current_file \u001b[38;5;241m%\u001b[39m \u001b[38;5;241m1000\u001b[39m \u001b[38;5;241m==\u001b[39m \u001b[38;5;241m0\u001b[39m) \u001b[38;5;129;01mor\u001b[39;00m current_file \u001b[38;5;241m==\u001b[39m \u001b[38;5;28mlen\u001b[39m(json_paths):\n",
      "File \u001b[0;32m/opt/homebrew/Cellar/python@3.10/3.10.13_1/Frameworks/Python.framework/Versions/3.10/lib/python3.10/concurrent/futures/_base.py:621\u001b[0m, in \u001b[0;36mExecutor.map.<locals>.result_iterator\u001b[0;34m()\u001b[0m\n\u001b[1;32m    618\u001b[0m \u001b[38;5;28;01mwhile\u001b[39;00m fs:\n\u001b[1;32m    619\u001b[0m     \u001b[38;5;66;03m# Careful not to keep a reference to the popped future\u001b[39;00m\n\u001b[1;32m    620\u001b[0m     \u001b[38;5;28;01mif\u001b[39;00m timeout \u001b[38;5;129;01mis\u001b[39;00m \u001b[38;5;28;01mNone\u001b[39;00m:\n\u001b[0;32m--> 621\u001b[0m         \u001b[38;5;28;01myield\u001b[39;00m \u001b[43m_result_or_cancel\u001b[49m\u001b[43m(\u001b[49m\u001b[43mfs\u001b[49m\u001b[38;5;241;43m.\u001b[39;49m\u001b[43mpop\u001b[49m\u001b[43m(\u001b[49m\u001b[43m)\u001b[49m\u001b[43m)\u001b[49m\n\u001b[1;32m    622\u001b[0m     \u001b[38;5;28;01melse\u001b[39;00m:\n\u001b[1;32m    623\u001b[0m         \u001b[38;5;28;01myield\u001b[39;00m _result_or_cancel(fs\u001b[38;5;241m.\u001b[39mpop(), end_time \u001b[38;5;241m-\u001b[39m time\u001b[38;5;241m.\u001b[39mmonotonic())\n",
      "File \u001b[0;32m/opt/homebrew/Cellar/python@3.10/3.10.13_1/Frameworks/Python.framework/Versions/3.10/lib/python3.10/concurrent/futures/_base.py:319\u001b[0m, in \u001b[0;36m_result_or_cancel\u001b[0;34m(***failed resolving arguments***)\u001b[0m\n\u001b[1;32m    317\u001b[0m \u001b[38;5;28;01mtry\u001b[39;00m:\n\u001b[1;32m    318\u001b[0m     \u001b[38;5;28;01mtry\u001b[39;00m:\n\u001b[0;32m--> 319\u001b[0m         \u001b[38;5;28;01mreturn\u001b[39;00m \u001b[43mfut\u001b[49m\u001b[38;5;241;43m.\u001b[39;49m\u001b[43mresult\u001b[49m\u001b[43m(\u001b[49m\u001b[43mtimeout\u001b[49m\u001b[43m)\u001b[49m\n\u001b[1;32m    320\u001b[0m     \u001b[38;5;28;01mfinally\u001b[39;00m:\n\u001b[1;32m    321\u001b[0m         fut\u001b[38;5;241m.\u001b[39mcancel()\n",
      "File \u001b[0;32m/opt/homebrew/Cellar/python@3.10/3.10.13_1/Frameworks/Python.framework/Versions/3.10/lib/python3.10/concurrent/futures/_base.py:453\u001b[0m, in \u001b[0;36mFuture.result\u001b[0;34m(self, timeout)\u001b[0m\n\u001b[1;32m    450\u001b[0m \u001b[38;5;28;01melif\u001b[39;00m \u001b[38;5;28mself\u001b[39m\u001b[38;5;241m.\u001b[39m_state \u001b[38;5;241m==\u001b[39m FINISHED:\n\u001b[1;32m    451\u001b[0m     \u001b[38;5;28;01mreturn\u001b[39;00m \u001b[38;5;28mself\u001b[39m\u001b[38;5;241m.\u001b[39m__get_result()\n\u001b[0;32m--> 453\u001b[0m \u001b[38;5;28;43mself\u001b[39;49m\u001b[38;5;241;43m.\u001b[39;49m\u001b[43m_condition\u001b[49m\u001b[38;5;241;43m.\u001b[39;49m\u001b[43mwait\u001b[49m\u001b[43m(\u001b[49m\u001b[43mtimeout\u001b[49m\u001b[43m)\u001b[49m\n\u001b[1;32m    455\u001b[0m \u001b[38;5;28;01mif\u001b[39;00m \u001b[38;5;28mself\u001b[39m\u001b[38;5;241m.\u001b[39m_state \u001b[38;5;129;01min\u001b[39;00m [CANCELLED, CANCELLED_AND_NOTIFIED]:\n\u001b[1;32m    456\u001b[0m     \u001b[38;5;28;01mraise\u001b[39;00m CancelledError()\n",
      "File \u001b[0;32m/opt/homebrew/Cellar/python@3.10/3.10.13_1/Frameworks/Python.framework/Versions/3.10/lib/python3.10/threading.py:320\u001b[0m, in \u001b[0;36mCondition.wait\u001b[0;34m(self, timeout)\u001b[0m\n\u001b[1;32m    318\u001b[0m \u001b[38;5;28;01mtry\u001b[39;00m:    \u001b[38;5;66;03m# restore state no matter what (e.g., KeyboardInterrupt)\u001b[39;00m\n\u001b[1;32m    319\u001b[0m     \u001b[38;5;28;01mif\u001b[39;00m timeout \u001b[38;5;129;01mis\u001b[39;00m \u001b[38;5;28;01mNone\u001b[39;00m:\n\u001b[0;32m--> 320\u001b[0m         \u001b[43mwaiter\u001b[49m\u001b[38;5;241;43m.\u001b[39;49m\u001b[43macquire\u001b[49m\u001b[43m(\u001b[49m\u001b[43m)\u001b[49m\n\u001b[1;32m    321\u001b[0m         gotit \u001b[38;5;241m=\u001b[39m \u001b[38;5;28;01mTrue\u001b[39;00m\n\u001b[1;32m    322\u001b[0m     \u001b[38;5;28;01melse\u001b[39;00m:\n",
      "\u001b[0;31mKeyboardInterrupt\u001b[0m: "
     ]
    }
   ],
   "source": [
    "# Only enable if enriching logic did not change\n",
    "USE_PREVIOUS = True\n",
    "geo_enricher = CountryEnricher(input_dir, output_dir, allow_env=True, use_previous=USE_PREVIOUS)"
   ]
  },
  {
   "cell_type": "markdown",
   "metadata": {},
   "source": [
    "## Enrich the multiplayer json files from the coordinates"
   ]
  },
  {
   "cell_type": "code",
   "execution_count": null,
   "metadata": {},
   "outputs": [
    {
     "name": "stdout",
     "output_type": "stream",
     "text": [
      "Loaded 1000 files\n",
      "Loaded 2000 files\n",
      "Loaded 3000 files\n",
      "Loaded 4000 files\n",
      "Loaded 5000 files\n",
      "Loaded 6000 files\n",
      "Loaded 7000 files\n",
      "Loaded 8000 files\n",
      "Loaded 9000 files\n",
      "Loaded 10000 files\n",
      "Loaded 11000 files\n",
      "Loaded 12000 files\n",
      "Loaded 13000 files\n",
      "Loaded 14000 files\n",
      "Loaded 15000 files\n",
      "Loaded 16000 files\n",
      "Loaded 17000 files\n",
      "Loaded 18000 files\n",
      "Loaded 18582 files\n",
      "SubdivisionHierarchy(code='GT-GU', country_code='GT', name='Guatemala', parent_code=None, type='Department')\n",
      "SubdivisionHierarchy(code='MX-MEX', country_code='MX', name='México', parent_code=None, type='State')\n",
      "SubdivisionHierarchy(code='PA-8', country_code='PA', name='Panamá', parent_code=None, type='Province')\n",
      "SubdivisionHierarchy(code='BE-WLX', country_code='BE', name='Luxembourg', parent='WAL', parent_code='BE-WAL', type='Province')\n",
      "SubdivisionHierarchy(code='LU-LU', country_code='LU', name='Luxembourg', parent_code=None, type='Canton')\n",
      "Enriched 1000 files\n",
      "Enriched 2000 files\n",
      "Enriched 3000 files\n",
      "Enriched 4000 files\n",
      "Enriched 5000 files\n",
      "Enriched 6000 files\n",
      "Enriched 7000 files\n",
      "Enriched 8000 files\n",
      "Enriched 9000 files\n",
      "Enriched 10000 files\n",
      "Enriched 11000 files\n",
      "Enriched 12000 files\n",
      "Enriched 13000 files\n",
      "Enriched 14000 files\n",
      "Enriched 15000 files\n",
      "Enriched 16000 files\n",
      "Enriched 17000 files\n",
      "Enriched 18000 files\n",
      "Enriched 18582 files\n"
     ]
    }
   ],
   "source": [
    "# Only enable if enriching logic did not change\n",
    "USE_PREVIOUS = True\n",
    "geo_enricher = CountryEnricher(input_dir, output_dir, allow_env=True, from_country=True, use_previous=USE_PREVIOUS)"
   ]
  }
 ],
 "metadata": {
  "kernelspec": {
   "display_name": ".venv",
   "language": "python",
   "name": "python3"
  },
  "language_info": {
   "codemirror_mode": {
    "name": "ipython",
    "version": 3
   },
   "file_extension": ".py",
   "mimetype": "text/x-python",
   "name": "python",
   "nbconvert_exporter": "python",
   "pygments_lexer": "ipython3",
   "version": "3.10.13"
  }
 },
 "nbformat": 4,
 "nbformat_minor": 2
}
