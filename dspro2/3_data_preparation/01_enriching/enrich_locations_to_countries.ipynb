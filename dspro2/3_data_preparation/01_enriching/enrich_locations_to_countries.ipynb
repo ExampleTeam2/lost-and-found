{
 "cells": [
  {
   "cell_type": "markdown",
   "metadata": {},
   "source": [
    "# Enriching countries to locations"
   ]
  },
  {
   "cell_type": "markdown",
   "metadata": {},
   "source": [
    "## Enrich the singleplayer json files from the coordinates"
   ]
  },
  {
   "cell_type": "code",
   "execution_count": 5,
   "metadata": {},
   "outputs": [],
   "source": [
    "from countryenricher import CountryEnricher\n",
    "\n",
    "input_dir = '../../1_data_collection/data/'\n",
    "output_dir = '../01_enriching/data/'\n",
    "geo_enricher = CountryEnricher(input_dir, output_dir)"
   ]
  },
  {
   "cell_type": "markdown",
   "metadata": {},
   "source": [
    "## Enrich the multiplayer json files from the coordinates"
   ]
  },
  {
   "cell_type": "code",
   "execution_count": 6,
   "metadata": {},
   "outputs": [
    {
     "name": "stdout",
     "output_type": "stream",
     "text": [
      "JSONDecodeError in geoguessr_result_multiplayer_221d5cd9-e982-4e62-b84d-58f4bf422899_0.json\n",
      "JSON Data: {'country': 'Mongolia', 'guesses': {'1': {'incorrect': []}, '2': {'incorrect': []}, '3': {'incorrect': []}, '4': {'incorrect': []}, '5': {'incorrect': []}, '6': {'incorrect': []}, '7': {'incorrect': []}, '8': {'incorrect': []}, '9': {'incorrect': []}, '10': {'incorrect': []}, '11': {'incorrect': []}, '12': {'incorrect': []}, '13': {'incorrect': []}, '14': {'incorrect': []}}, 'people': 7, 'duration': 14.256}\n",
      "JSONDecodeError in geoguessr_result_multiplayer_92acc81e-b0f2-4c9d-91e4-bf53e1672e1f_3.json\n",
      "JSON Data: {'country': 'Italy', 'guesses': {'1': {'incorrect': []}, '2': {'incorrect': []}, '3': {'incorrect': []}, '4': {'incorrect': []}, '5': {'incorrect': []}, '6': {'incorrect': []}, '7': {'incorrect': []}, '8': {'incorrect': []}, '9': {'incorrect': []}, '10': {'incorrect': []}, '11': {'incorrect': []}, '12': {'incorrect': []}, '13': {'incorrect': []}, '14': {'incorrect': []}}, 'people': 7, 'duration': 14.935}\n",
      "SubdivisionHierarchy(code='GT-GU', country_code='GT', name='Guatemala', parent_code=None, type='Department')\n",
      "SubdivisionHierarchy(code='PA-8', country_code='PA', name='Panamá', parent_code=None, type='Province')\n",
      "SubdivisionHierarchy(code='MX-MEX', country_code='MX', name='México', parent_code=None, type='State')\n",
      "SubdivisionHierarchy(code='BE-WLX', country_code='BE', name='Luxembourg', parent='WAL', parent_code='BE-WAL', type='Province')\n",
      "SubdivisionHierarchy(code='LU-LU', country_code='LU', name='Luxembourg', parent_code=None, type='Canton')\n"
     ]
    }
   ],
   "source": [
    "geo_enricher = CountryEnricher(input_dir, output_dir, from_country=True)"
   ]
  },
  {
   "cell_type": "code",
   "execution_count": null,
   "metadata": {},
   "outputs": [],
   "source": []
  }
 ],
 "metadata": {
  "kernelspec": {
   "display_name": ".venv",
   "language": "python",
   "name": "python3"
  },
  "language_info": {
   "codemirror_mode": {
    "name": "ipython",
    "version": 3
   },
   "file_extension": ".py",
   "mimetype": "text/x-python",
   "name": "python",
   "nbconvert_exporter": "python",
   "pygments_lexer": "ipython3",
   "version": "3.10.13"
  }
 },
 "nbformat": 4,
 "nbformat_minor": 2
}
