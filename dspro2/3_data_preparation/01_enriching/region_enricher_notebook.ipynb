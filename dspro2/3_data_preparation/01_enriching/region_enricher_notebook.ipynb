{
 "cells": [
  {
   "cell_type": "code",
   "execution_count": 1,
   "metadata": {},
   "outputs": [],
   "source": [
    "from region_enricher import RegionEnricher\n",
    "\n",
    "input_dir = '../../1_data_collection/.data/'\n",
    "output_dir = './.data/'"
   ]
  },
  {
   "cell_type": "code",
   "execution_count": 2,
   "metadata": {},
   "outputs": [
    {
     "name": "stdout",
     "output_type": "stream",
     "text": [
      "0    POINT (-59.20836 -32.03970)\n",
      "1    POINT (-57.34508 -32.08326)\n",
      "2      POINT (116.38401 1.35406)\n",
      "3      POINT (117.13169 5.34605)\n",
      "4    POINT (-69.63882 -18.48703)\n",
      "Name: middle_point, dtype: geometry\n",
      "Loading formatted geocoded file...\n",
      "0    Argentina\n",
      "1      Uruguay\n",
      "2    Indonesia\n",
      "3     Malaysia\n",
      "4        Chile\n",
      "Name: country_name, dtype: object\n",
      "0    AR\n",
      "1    UY\n",
      "2    ID\n",
      "3    MY\n",
      "4    CL\n",
      "Name: country_code, dtype: object\n"
     ]
    }
   ],
   "source": [
    "region_enricher = RegionEnricher()\n",
    "\n",
    "region_enricher.process()"
   ]
  }
 ],
 "metadata": {
  "kernelspec": {
   "display_name": ".venv",
   "language": "python",
   "name": "python3"
  },
  "language_info": {
   "codemirror_mode": {
    "name": "ipython",
    "version": 3
   },
   "file_extension": ".py",
   "mimetype": "text/x-python",
   "name": "python",
   "nbconvert_exporter": "python",
   "pygments_lexer": "ipython3",
   "version": "3.12.3"
  }
 },
 "nbformat": 4,
 "nbformat_minor": 2
}
