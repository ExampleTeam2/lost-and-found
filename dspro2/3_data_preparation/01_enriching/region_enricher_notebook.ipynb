{
 "cells": [
  {
   "cell_type": "code",
   "execution_count": 1,
   "metadata": {},
   "outputs": [],
   "source": [
    "from region_enricher import RegionEnricher\n",
    "\n",
    "input_dir = '../../1_data_collection/.data/'\n",
    "output_dir = './.data/'"
   ]
  },
  {
   "cell_type": "code",
   "execution_count": 2,
   "metadata": {},
   "outputs": [
    {
     "name": "stderr",
     "output_type": "stream",
     "text": [
      "d:\\repos\\dspro2s\\dspro2\\dspro2\\3_data_preparation\\01_enriching\\region_enricher.py:33: UserWarning: Geometry is in a geographic CRS. Results from 'centroid' are likely incorrect. Use 'GeoSeries.to_crs()' to re-project geometries to a projected CRS before this operation.\n",
      "\n",
      "  gdf['middle_point'] = gdf['geometry'].centroid\n"
     ]
    },
    {
     "name": "stdout",
     "output_type": "stream",
     "text": [
      "0    POINT (-59.20836 -32.03970)\n",
      "1    POINT (-57.34508 -32.08326)\n",
      "2      POINT (116.38401 1.35406)\n",
      "3      POINT (117.13169 5.34605)\n",
      "4    POINT (-69.63882 -18.48703)\n",
      "Name: middle_point, dtype: geometry\n",
      "Loading formatted geocoded file...\n",
      "0    Argentina\n",
      "1      Uruguay\n",
      "2    Indonesia\n",
      "3     Malaysia\n",
      "4        Chile\n",
      "Name: country_name, dtype: object\n",
      "0    AR\n",
      "1    UY\n",
      "2    ID\n",
      "3    MY\n",
      "4    CL\n",
      "Name: country_code, dtype: object\n",
      "                 featurecla  scalerank adm1_code  diss_me iso_3166_2  \\\n",
      "0  Admin-1 states provinces          3  ARG-1309     1309       AR-E   \n",
      "1  Admin-1 states provinces          6     URY-8        8      UY-PA   \n",
      "2  Admin-1 states provinces          2  IDN-1185     1185      ID-KI   \n",
      "3  Admin-1 states provinces          6  MYS-1186     1186      MY-12   \n",
      "4  Admin-1 states provinces          3  CHL-2694     2694      CL-AP   \n",
      "\n",
      "  wikipedia iso_a2  adm0_sr                name      name_alt  ... FCLASS_IT  \\\n",
      "0               AR        1          Entre Ríos    Entre-Rios  ...             \n",
      "1               UY        1            Paysandú                ...             \n",
      "2               ID        5    Kalimantan Timur        Kaltim  ...             \n",
      "3               MY        5               Sabah  North Borneo  ...             \n",
      "4               CL        1  Arica y Parinacota                ...             \n",
      "\n",
      "  FCLASS_NL FCLASS_SE FCLASS_BD FCLASS_UA FCLASS_TLC  \\\n",
      "0                                                      \n",
      "1                                                      \n",
      "2                                                      \n",
      "3                                                      \n",
      "4                                                      \n",
      "\n",
      "                                            geometry  \\\n",
      "0  POLYGON ((-58.20012 -32.44720, -58.20011 -32.4...   \n",
      "1  POLYGON ((-58.20012 -32.44720, -58.19742 -32.4...   \n",
      "2  MULTIPOLYGON (((117.70361 4.16341, 117.73943 4...   \n",
      "3  MULTIPOLYGON (((117.70361 4.16341, 117.70361 4...   \n",
      "4  POLYGON ((-69.51009 -17.50659, -69.63832 -17.6...   \n",
      "\n",
      "                  middle_point country_name  country_code  \n",
      "0  POINT (-59.20836 -32.03970)    Argentina            AR  \n",
      "1  POINT (-57.34508 -32.08326)      Uruguay            UY  \n",
      "2    POINT (116.38401 1.35406)    Indonesia            ID  \n",
      "3    POINT (117.13169 5.34605)     Malaysia            MY  \n",
      "4  POINT (-69.63882 -18.48703)        Chile            CL  \n",
      "\n",
      "[5 rows x 125 columns]\n"
     ]
    }
   ],
   "source": [
    "region_enricher = RegionEnricher()"
   ]
  }
 ],
 "metadata": {
  "kernelspec": {
   "display_name": ".venv",
   "language": "python",
   "name": "python3"
  },
  "language_info": {
   "codemirror_mode": {
    "name": "ipython",
    "version": 3
   },
   "file_extension": ".py",
   "mimetype": "text/x-python",
   "name": "python",
   "nbconvert_exporter": "python",
   "pygments_lexer": "ipython3",
   "version": "3.12.3"
  }
 },
 "nbformat": 4,
 "nbformat_minor": 2
}
