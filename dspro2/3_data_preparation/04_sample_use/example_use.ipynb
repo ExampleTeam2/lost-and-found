{
 "cells": [
  {
   "cell_type": "code",
   "execution_count": null,
   "metadata": {},
   "outputs": [],
   "source": [
    "import json\n",
    "import sys\n",
    "import os\n",
    "sys.path.insert(0, '../../')\n",
    "from data_loader import get_data_to_load\n",
    "\n",
    "\n",
    "list = get_data_to_load(loading_file='../03_mapping/data_list', file_location='../01_enriching/data/')\n",
    "\n",
    "# List of data to load\n",
    "print(len(list))"
   ]
  }
 ],
 "metadata": {
  "language_info": {
   "name": "python"
  }
 },
 "nbformat": 4,
 "nbformat_minor": 2
}
