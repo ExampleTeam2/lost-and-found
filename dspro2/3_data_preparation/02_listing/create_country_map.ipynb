{
 "cells": [
  {
   "cell_type": "code",
   "execution_count": 1,
   "metadata": {},
   "outputs": [
    {
     "name": "stdout",
     "output_type": "stream",
     "text": [
      "Loading 38 multiplayer data files...\n",
      "1. Korea, Republic of: 3 games\n",
      "2. Türkiye: 3 games\n",
      "3. Thailand: 2 games\n",
      "4. Ukraine: 2 games\n",
      "5. South Africa: 2 games\n",
      "6. Botswana: 1 games\n",
      "7. Portugal: 1 games\n",
      "8. Pakistan: 1 games\n",
      "9. Chile: 1 games\n",
      "10. Bolivia, Plurinational State of: 1 games\n",
      "11. Bulgaria: 1 games\n",
      "12. Slovakia: 1 games\n",
      "13. Austria: 1 games\n",
      "14. Tunisia: 1 games\n",
      "15. Serbia: 1 games\n",
      "16. Spain: 1 games\n",
      "17. North Macedonia: 1 games\n",
      "18. Romania: 1 games\n",
      "19. San Marino: 1 games\n",
      "20. Latvia: 1 games\n",
      "21. Croatia: 1 games\n",
      "22. Mexico: 1 games\n",
      "23. Ghana: 1 games\n",
      "24. Iceland: 1 games\n",
      "25. Senegal: 1 games\n",
      "26. Philippines: 1 games\n",
      "27. Cambodia: 1 games\n",
      "28. Guatemala: 1 games\n",
      "29. Belgium: 1 games\n",
      "30. Russian Federation: 1 games\n",
      "31. Denmark: 1 games\n"
     ]
    }
   ],
   "source": [
    "import json\n",
    "import sys\n",
    "sys.path.insert(0, '../../')\n",
    "from data_loader import get_countries_occurrences\n",
    "\n",
    "countries, countries_to_files, files_to_countries, num_games = get_countries_occurrences(file_location='../01_enriching/data/')\n",
    "print(f'Loading {num_games} multiplayer data files...')\n",
    "with open('countries_map', 'w') as f:\n",
    "    json.dump(countries, f, ensure_ascii=False)\n",
    "# print countries\n",
    "for i, [country, games] in enumerate(countries.items()):\n",
    "    print(f'{i+1}. {country}: {games} games')"
   ]
  }
 ],
 "metadata": {
  "kernelspec": {
   "display_name": ".venv",
   "language": "python",
   "name": "python3"
  },
  "language_info": {
   "codemirror_mode": {
    "name": "ipython",
    "version": 3
   },
   "file_extension": ".py",
   "mimetype": "text/x-python",
   "name": "python",
   "nbconvert_exporter": "python",
   "pygments_lexer": "ipython3",
   "version": "3.10.13"
  }
 },
 "nbformat": 4,
 "nbformat_minor": 2
}
