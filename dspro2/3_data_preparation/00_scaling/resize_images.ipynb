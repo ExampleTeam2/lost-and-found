{
 "cells": [
  {
   "cell_type": "markdown",
   "metadata": {},
   "source": [
    "# Resize image for training"
   ]
  },
  {
   "cell_type": "code",
   "execution_count": 1,
   "metadata": {},
   "outputs": [],
   "source": [
    "from PIL import Image\n",
    "import os\n",
    "import re"
   ]
  },
  {
   "cell_type": "markdown",
   "metadata": {},
   "source": [
    "Use pillow to resize images to 128x128 for training.\n",
    "(images larger than 128x128 will be resized to 128x128, images smaller than will be ignored)"
   ]
  },
  {
   "cell_type": "code",
   "execution_count": 2,
   "metadata": {},
   "outputs": [],
   "source": [
    "# risize an image using pillow\n",
    "def resize_image(image, size):\n",
    "    return image.resize(size)\n",
    "\n",
    "# open an image using pillow\n",
    "def open_image(image_path):\n",
    "    return Image.open(image_path)\n",
    "\n",
    "# save an image using pillow\n",
    "def save_image(image, image_path):\n",
    "    image.save(image_path)\n",
    "\n",
    "# convert an image to grayscale using pillow\n",
    "def convert_to_grayscale(image):\n",
    "    return image.convert('L')"
   ]
  },
  {
   "cell_type": "code",
   "execution_count": 3,
   "metadata": {},
   "outputs": [],
   "source": [
    "def get_ID(string):\n",
    "    pattern = r\"geoguessr_location_singleplayer_(.*?)\\.png\"\n",
    "    match = re.search(pattern, string)\n",
    "    if match:\n",
    "        return match.group(1)\n",
    "    else:\n",
    "        return None\n",
    "\n",
    "def get_ID_json(string):\n",
    "    pattern = r\"geoguessr_result_singleplayer_(.*?)\\.json\"\n",
    "    match = re.search(pattern, string)\n",
    "    if match:\n",
    "        return match.group(1)\n",
    "    else:\n",
    "        return None\n"
   ]
  },
  {
   "cell_type": "code",
   "execution_count": 4,
   "metadata": {},
   "outputs": [
    {
     "name": "stderr",
     "output_type": "stream",
     "text": [
      "<>:1: SyntaxWarning: invalid escape sequence '\\d'\n",
      "<>:1: SyntaxWarning: invalid escape sequence '\\d'\n",
      "C:\\Users\\yutar\\AppData\\Local\\Temp\\ipykernel_22604\\2154919017.py:1: SyntaxWarning: invalid escape sequence '\\d'\n",
      "  path_to_data = 'D:\\dspro2\\data_newer\\images'\n"
     ]
    }
   ],
   "source": [
    "path_to_data = 'D:\\dspro2\\data_newer\\images'\n",
    "path_to_images = os.path.join(path_to_data, 'data')\n",
    "path_to_jsons = os.path.join(path_to_data, 'json')\n",
    "path_to_processed_images = os.path.join(path_to_data, 'processed_images')"
   ]
  },
  {
   "cell_type": "code",
   "execution_count": 5,
   "metadata": {},
   "outputs": [
    {
     "name": "stdout",
     "output_type": "stream",
     "text": [
      "['00AH3Et9ehwdPYL8_0', '00AH3Et9ehwdPYL8_1', '00AH3Et9ehwdPYL8_2', '00AH3Et9ehwdPYL8_3', '00AH3Et9ehwdPYL8_4', '00KE1nSzH2e10DyJ_0', '00KE1nSzH2e10DyJ_1', '00KE1nSzH2e10DyJ_2', '00KE1nSzH2e10DyJ_3', '00KE1nSzH2e10DyJ_4']\n",
      "146231\n"
     ]
    }
   ],
   "source": [
    "list_of_json_id = []\n",
    "\n",
    "# get all the json files\n",
    "for root, dirs, files in os.walk(path_to_jsons):\n",
    "    for file in files:\n",
    "        if file.endswith('.json'):\n",
    "            id = get_ID_json(file)\n",
    "            if id:\n",
    "                list_of_json_id.append(id)\n",
    "\n",
    "\n",
    "# print first 10\n",
    "print(list_of_json_id[:10])\n",
    "\n",
    "# print length\n",
    "print(len(list_of_json_id))"
   ]
  },
  {
   "cell_type": "code",
   "execution_count": 6,
   "metadata": {},
   "outputs": [],
   "source": [
    "def do_resize(image):\n",
    "    proccessed_image = {}\n",
    "    proccessed_image['image'] = resize_image(image['image'], (image['image'].size[0]//4, image['image'].size[1]//4))\n",
    "    proccessed_image['filename'] = image['filename'].replace('.png', '_resized.png')\n",
    "    proccessed_image['id'] = image['id']\n",
    "    return proccessed_image"
   ]
  },
  {
   "cell_type": "code",
   "execution_count": 7,
   "metadata": {},
   "outputs": [
    {
     "name": "stdout",
     "output_type": "stream",
     "text": [
      "Not found: 111\n",
      "Found: 128565\n"
     ]
    }
   ],
   "source": [
    "# list of images\n",
    "found = 0\n",
    "not_found = 0\n",
    "\n",
    "# open the all png images in the a folder dynamically\n",
    "for image in os.listdir(path_to_images):\n",
    "    if image.endswith('.png'):\n",
    "        # append the image to the list of images and there filename (geoguessr_location_multiplayer_9e10a58f-b6ba-4ead-979b-9e3d7e156a2b_4.png) get the id from the filename\n",
    "        id = get_ID(image)\n",
    "        # check if the id is in the list of json ids\n",
    "        if id in list_of_json_id:\n",
    "          found += 1\n",
    "          image_with_name = {'image': open_image(os.path.join(path_to_images, image)), 'filename': image, 'id': id}\n",
    "          proccessed_image = do_resize(image_with_name)\n",
    "          save_image(proccessed_image['image'], os.path.join(path_to_processed_images, proccessed_image['filename']))\n",
    "        else:\n",
    "          not_found += 1\n",
    "         \n",
    "\n",
    "# print count of not found images\n",
    "print('Not found:', not_found)\n",
    "\n",
    "# print count of found images\n",
    "print('Found:', found)\n"
   ]
  }
 ],
 "metadata": {
  "kernelspec": {
   "display_name": ".venv",
   "language": "python",
   "name": "python3"
  },
  "language_info": {
   "codemirror_mode": {
    "name": "ipython",
    "version": 3
   },
   "file_extension": ".py",
   "mimetype": "text/x-python",
   "name": "python",
   "nbconvert_exporter": "python",
   "pygments_lexer": "ipython3",
   "version": "3.12.3"
  }
 },
 "nbforma
