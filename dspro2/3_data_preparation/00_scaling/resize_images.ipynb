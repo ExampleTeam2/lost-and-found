{
 "cells": [
  {
   "cell_type": "markdown",
   "metadata": {},
   "source": [
    "# Resize image for training"
   ]
  },
  {
   "cell_type": "code",
   "execution_count": 1,
   "metadata": {},
   "outputs": [],
   "source": [
    "from PIL import Image\n",
    "import os\n",
    "import re\n",
    "import sys\n",
    "import concurrent\n",
    "sys.path.insert(0, '../../')\n",
    "from data_loader import resolve_env_variable, load_image_file_raw, get_image_files"
   ]
  },
  {
   "cell_type": "markdown",
   "metadata": {},
   "source": [
    "Use pillow to resize images to 128x128 for training.\n",
    "(images larger than 128x128 will be resized to 128x128, images smaller than will be ignored)"
   ]
  },
  {
   "cell_type": "code",
   "execution_count": 2,
   "metadata": {},
   "outputs": [],
   "source": [
    "# risize an image using pillow\n",
    "def resize_image(image, size, image_path):\n",
    "    try:\n",
    "      return image.resize(size)\n",
    "    except OSError as e:\n",
    "      print(e.strerror)\n",
    "      if 'image file is truncated' in e.__repr__() or (e.strerror is not None and 'image file is truncated' in e.strerror):\n",
    "        print(\"Image file is truncated. Skipping file: \" + os.path.basename(image_path))\n",
    "        return None\n",
    "      raise e\n",
    "\n",
    "# save an image using pillow\n",
    "def save_image(image, image_path):\n",
    "    image.save(image_path)\n",
    "\n",
    "# convert an image to grayscale using pillow\n",
    "def convert_to_grayscale(image):\n",
    "    return image.convert('L')"
   ]
  },
  {
   "cell_type": "code",
   "execution_count": 3,
   "metadata": {},
   "outputs": [],
   "source": [
    "allow_env = True\n",
    "path_to_images = resolve_env_variable('../../1_data_collection/.data', 'FILE_LOCATION', allow_env, 'IMAGE_FILE_LOCATION')\n",
    "path_to_processed_images = resolve_env_variable('../../1_data_collection/.data', 'IMAGE_FILE_LOCATION', allow_env, 'FILE_LOCATION')\n",
    "num_workers = 16"
   ]
  },
  {
   "cell_type": "code",
   "execution_count": 4,
   "metadata": {},
   "outputs": [
    {
     "name": "stdout",
     "output_type": "stream",
     "text": [
      "279272 files\n",
      "None\n",
      "Image file is truncated. Skipping file: geoguessr_location_singleplayer_03MrvgM0hjFtwQVB_3.png\n",
      "Resized -7 files\n",
      "Resized -1 files\n",
      "Resized 0 files\n",
      "Resized -7 files\n",
      "Resized -5 files\n",
      "Resized 1 files\n",
      "Resized -11 files\n",
      "Resized -2 files\n",
      "Resized -3 files\n",
      "Resized 0 files\n",
      "Resized 1 files\n",
      "Resized -8 files\n",
      "Resized 1 files\n",
      "Resized -2 files\n",
      "Resized 0 files\n",
      "Resized -12 files\n",
      "Resized -4 files\n",
      "Resized 1 files\n",
      "Resized -11 files\n",
      "Resized 1 files\n",
      "Resized 1 files\n",
      "Resized 1 files\n",
      "Resized -2 files\n",
      "Resized 0 files\n",
      "Resized -12 files\n",
      "Resized -4 files\n",
      "Resized 1 files\n",
      "Resized -9 files\n",
      "Resized -12 files\n",
      "Resized 1 files\n",
      "Resized 1 files\n",
      "Resized -6 files\n",
      "Resized 0 files\n",
      "Resized -7 files\n",
      "Resized -9 files\n",
      "Resized -6 files\n",
      "Resized 1 files\n",
      "Resized -7 files\n",
      "Resized 1 files\n",
      "Resized -4 files\n",
      "Resized -6 files\n",
      "Resized -2 files\n",
      "Resized 1 files\n",
      "Resized 1 files\n",
      "Resized -2 files\n",
      "Resized 1 files\n",
      "Resized -1 files\n",
      "Resized -6 files\n",
      "Resized -7 files\n",
      "Resized -3 files\n",
      "Resized -1 files\n",
      "Resized -8 files\n",
      "Resized 1 files\n",
      "Resized -8 files\n",
      "Resized -3 files\n",
      "Resized -7 files\n"
     ]
    },
    {
     "ename": "KeyboardInterrupt",
     "evalue": "",
     "output_type": "error",
     "traceback": [
      "\u001b[0;31m---------------------------------------------------------------------------\u001b[0m",
      "\u001b[0;31mKeyboardInterrupt\u001b[0m                         Traceback (most recent call last)",
      "Cell \u001b[0;32mIn[4], line 25\u001b[0m\n\u001b[1;32m     21\u001b[0m \u001b[38;5;28;01mwith\u001b[39;00m concurrent\u001b[38;5;241m.\u001b[39mfutures\u001b[38;5;241m.\u001b[39mThreadPoolExecutor(max_workers\u001b[38;5;241m=\u001b[39mnum_workers) \u001b[38;5;28;01mas\u001b[39;00m executor:\n\u001b[1;32m     22\u001b[0m     \u001b[38;5;66;03m# Download and log every 100 files using a generator\u001b[39;00m\n\u001b[1;32m     23\u001b[0m     \u001b[38;5;66;03m# First initialize the generator\u001b[39;00m\n\u001b[1;32m     24\u001b[0m     current_file \u001b[38;5;241m=\u001b[39m \u001b[38;5;241m0\u001b[39m\n\u001b[0;32m---> 25\u001b[0m     \u001b[38;5;28;01mfor\u001b[39;00m _ \u001b[38;5;129;01min\u001b[39;00m executor\u001b[38;5;241m.\u001b[39mmap(do_resize, image_paths):\n\u001b[1;32m     26\u001b[0m       current_file \u001b[38;5;241m+\u001b[39m\u001b[38;5;241m=\u001b[39m \u001b[38;5;241m1\u001b[39m\n\u001b[1;32m     27\u001b[0m       \u001b[38;5;28;01mif\u001b[39;00m (current_file \u001b[38;5;129;01mand\u001b[39;00m current_file \u001b[38;5;241m%\u001b[39m \u001b[38;5;241m1000\u001b[39m \u001b[38;5;241m==\u001b[39m \u001b[38;5;241m0\u001b[39m) \u001b[38;5;129;01mor\u001b[39;00m current_file \u001b[38;5;241m==\u001b[39m \u001b[38;5;28mlen\u001b[39m(image_paths):\n",
      "File \u001b[0;32m/opt/homebrew/Cellar/python@3.10/3.10.13_1/Frameworks/Python.framework/Versions/3.10/lib/python3.10/concurrent/futures/_base.py:621\u001b[0m, in \u001b[0;36mExecutor.map.<locals>.result_iterator\u001b[0;34m()\u001b[0m\n\u001b[1;32m    618\u001b[0m \u001b[38;5;28;01mwhile\u001b[39;00m fs:\n\u001b[1;32m    619\u001b[0m     \u001b[38;5;66;03m# Careful not to keep a reference to the popped future\u001b[39;00m\n\u001b[1;32m    620\u001b[0m     \u001b[38;5;28;01mif\u001b[39;00m timeout \u001b[38;5;129;01mis\u001b[39;00m \u001b[38;5;28;01mNone\u001b[39;00m:\n\u001b[0;32m--> 621\u001b[0m         \u001b[38;5;28;01myield\u001b[39;00m \u001b[43m_result_or_cancel\u001b[49m\u001b[43m(\u001b[49m\u001b[43mfs\u001b[49m\u001b[38;5;241;43m.\u001b[39;49m\u001b[43mpop\u001b[49m\u001b[43m(\u001b[49m\u001b[43m)\u001b[49m\u001b[43m)\u001b[49m\n\u001b[1;32m    622\u001b[0m     \u001b[38;5;28;01melse\u001b[39;00m:\n\u001b[1;32m    623\u001b[0m         \u001b[38;5;28;01myield\u001b[39;00m _result_or_cancel(fs\u001b[38;5;241m.\u001b[39mpop(), end_time \u001b[38;5;241m-\u001b[39m time\u001b[38;5;241m.\u001b[39mmonotonic())\n",
      "File \u001b[0;32m/opt/homebrew/Cellar/python@3.10/3.10.13_1/Frameworks/Python.framework/Versions/3.10/lib/python3.10/concurrent/futures/_base.py:319\u001b[0m, in \u001b[0;36m_result_or_cancel\u001b[0;34m(***failed resolving arguments***)\u001b[0m\n\u001b[1;32m    317\u001b[0m \u001b[38;5;28;01mtry\u001b[39;00m:\n\u001b[1;32m    318\u001b[0m     \u001b[38;5;28;01mtry\u001b[39;00m:\n\u001b[0;32m--> 319\u001b[0m         \u001b[38;5;28;01mreturn\u001b[39;00m \u001b[43mfut\u001b[49m\u001b[38;5;241;43m.\u001b[39;49m\u001b[43mresult\u001b[49m\u001b[43m(\u001b[49m\u001b[43mtimeout\u001b[49m\u001b[43m)\u001b[49m\n\u001b[1;32m    320\u001b[0m     \u001b[38;5;28;01mfinally\u001b[39;00m:\n\u001b[1;32m    321\u001b[0m         fut\u001b[38;5;241m.\u001b[39mcancel()\n",
      "File \u001b[0;32m/opt/homebrew/Cellar/python@3.10/3.10.13_1/Frameworks/Python.framework/Versions/3.10/lib/python3.10/concurrent/futures/_base.py:453\u001b[0m, in \u001b[0;36mFuture.result\u001b[0;34m(self, timeout)\u001b[0m\n\u001b[1;32m    450\u001b[0m \u001b[38;5;28;01melif\u001b[39;00m \u001b[38;5;28mself\u001b[39m\u001b[38;5;241m.\u001b[39m_state \u001b[38;5;241m==\u001b[39m FINISHED:\n\u001b[1;32m    451\u001b[0m     \u001b[38;5;28;01mreturn\u001b[39;00m \u001b[38;5;28mself\u001b[39m\u001b[38;5;241m.\u001b[39m__get_result()\n\u001b[0;32m--> 453\u001b[0m \u001b[38;5;28;43mself\u001b[39;49m\u001b[38;5;241;43m.\u001b[39;49m\u001b[43m_condition\u001b[49m\u001b[38;5;241;43m.\u001b[39;49m\u001b[43mwait\u001b[49m\u001b[43m(\u001b[49m\u001b[43mtimeout\u001b[49m\u001b[43m)\u001b[49m\n\u001b[1;32m    455\u001b[0m \u001b[38;5;28;01mif\u001b[39;00m \u001b[38;5;28mself\u001b[39m\u001b[38;5;241m.\u001b[39m_state \u001b[38;5;129;01min\u001b[39;00m [CANCELLED, CANCELLED_AND_NOTIFIED]:\n\u001b[1;32m    456\u001b[0m     \u001b[38;5;28;01mraise\u001b[39;00m CancelledError()\n",
      "File \u001b[0;32m/opt/homebrew/Cellar/python@3.10/3.10.13_1/Frameworks/Python.framework/Versions/3.10/lib/python3.10/threading.py:320\u001b[0m, in \u001b[0;36mCondition.wait\u001b[0;34m(self, timeout)\u001b[0m\n\u001b[1;32m    318\u001b[0m \u001b[38;5;28;01mtry\u001b[39;00m:    \u001b[38;5;66;03m# restore state no matter what (e.g., KeyboardInterrupt)\u001b[39;00m\n\u001b[1;32m    319\u001b[0m     \u001b[38;5;28;01mif\u001b[39;00m timeout \u001b[38;5;129;01mis\u001b[39;00m \u001b[38;5;28;01mNone\u001b[39;00m:\n\u001b[0;32m--> 320\u001b[0m         \u001b[43mwaiter\u001b[49m\u001b[38;5;241;43m.\u001b[39;49m\u001b[43macquire\u001b[49m\u001b[43m(\u001b[49m\u001b[43m)\u001b[49m\n\u001b[1;32m    321\u001b[0m         gotit \u001b[38;5;241m=\u001b[39m \u001b[38;5;28;01mTrue\u001b[39;00m\n\u001b[1;32m    322\u001b[0m     \u001b[38;5;28;01melse\u001b[39;00m:\n",
      "\u001b[0;31mKeyboardInterrupt\u001b[0m: "
     ]
    }
   ],
   "source": [
    "image_paths = get_image_files(path_to_images)\n",
    "\n",
    "print(f\"{len(image_paths)} files\")\n",
    "\n",
    "# do not scale images smaller than this threshold\n",
    "size_threshold = 500\n",
    "\n",
    "already_small = 0\n",
    "\n",
    "def do_resize(image_path):\n",
    "  global already_small\n",
    "  with load_image_file_raw(image_path) as image:\n",
    "    if image.size[0] < size_threshold or image.size[1] < size_threshold:\n",
    "      already_small += 1\n",
    "      return\n",
    "    resized_image = resize_image(image, (image.size[0]//4, image.size[1]//4), image_path)\n",
    "    if resized_image is None:\n",
    "      return\n",
    "    # Save the resized image\n",
    "    save_image(resized_image, os.path.join(path_to_processed_images, os.path.basename(image_path)))\n",
    "with concurrent.futures.ThreadPoolExecutor(max_workers=num_workers) as executor:\n",
    "    # Download and log every 100 files using a generator\n",
    "    # First initialize the generator\n",
    "    current_file = 0\n",
    "    for _ in executor.map(do_resize, image_paths):\n",
    "      current_file += 1\n",
    "      if (current_file and current_file % 1000 == 0) or current_file == len(image_paths):\n",
    "        print('Resized ' + str(current_file - already_small) + ' files')\n",
    "\n",
    "print('Skipped ' + str(already_small) + ' already resized files')"
   ]
  }
 ],
 "metadata": {
  "kernelspec": {
   "display_name": ".venv",
   "language": "python",
   "name": "python3"
  },
  "language_info": {
   "codemirror_mode": {
    "name": "ipython",
    "version": 3
   },
   "file_extension": ".py",
   "mimetype": "text/x-python",
   "name": "python",
   "nbconvert_exporter": "python",
   "pygments_lexer": "ipython3",
   "version": "3.10.13"
  }
 },
 "nbformat": 4,
 "nbformat_minor": 2
}
