{
 "cells": [
  {
   "cell_type": "markdown",
   "metadata": {},
   "source": [
    "# Resize image for training"
   ]
  },
  {
   "cell_type": "code",
   "execution_count": 1,
   "metadata": {},
   "outputs": [],
   "source": [
    "from PIL import Image, UnidentifiedImageError\n",
    "import os\n",
    "import re\n",
    "import sys\n",
    "import concurrent\n",
    "sys.path.insert(0, '../../')\n",
    "from data_loader import resolve_env_variable, load_image_file_raw, get_image_files"
   ]
  },
  {
   "cell_type": "markdown",
   "metadata": {},
   "source": [
    "Use pillow to resize images to 128x128 for training.\n",
    "(images larger than 128x128 will be resized to 128x128, images smaller than will be ignored)"
   ]
  },
  {
   "cell_type": "code",
   "execution_count": 2,
   "metadata": {},
   "outputs": [],
   "source": [
    "# risize an image using pillow\n",
    "def resize_image(image, size, image_path):\n",
    "    try:\n",
    "      return image.resize(size)\n",
    "    except OSError as e:\n",
    "      print(e)\n",
    "      if 'image file is truncated' in e.__repr__() or (e.strerror is not None and 'image file is truncated' in e.strerror):\n",
    "        print(\"Image file is truncated. Skipping file: \" + os.path.basename(image_path))\n",
    "        return None\n",
    "      raise e\n",
    "    except SyntaxError as e:\n",
    "      print(e)\n",
    "      if 'broken PNG file' in e.__repr__() or (e.strerror is not None and 'broken PNG file' in e.strerror):\n",
    "        print(\"Broken PNG file. Skipping file: \" + os.path.basename(image_path))\n",
    "        return None\n",
    "      raise e\n",
    "\n",
    "# save an image using pillow\n",
    "def save_image(image, image_path):\n",
    "    image.save(image_path)\n",
    "\n",
    "# convert an image to grayscale using pillow\n",
    "def convert_to_grayscale(image):\n",
    "    return image.convert('L')"
   ]
  },
  {
   "cell_type": "code",
   "execution_count": 3,
   "metadata": {},
   "outputs": [],
   "source": [
    "allow_env = True\n",
    "path_to_images = resolve_env_variable('../../1_data_collection/.data', 'FILE_LOCATION', allow_env, 'IMAGE_FILE_LOCATION')\n",
    "path_to_processed_images = resolve_env_variable('../../1_data_collection/.data', 'IMAGE_FILE_LOCATION', allow_env, 'FILE_LOCATION')\n",
    "num_workers = 16"
   ]
  },
  {
   "cell_type": "code",
   "execution_count": 4,
   "metadata": {},
   "outputs": [
    {
     "name": "stdout",
     "output_type": "stream",
     "text": [
      "66125 files\n",
      "image file is truncated\n",
      "Image file is truncated. Skipping file: geoguessr_location_singleplayer_nq0achulcNHF9VRB_1.png\n",
      "Resized 1000 files\n",
      "Resized 2000 files\n",
      "Resized 3000 files\n",
      "image file is truncated\n",
      "Image file is truncated. Skipping file: geoguessr_location_singleplayer_q80iZf04I90rStSd_3.png\n",
      "Resized 4000 files\n",
      "Resized 5000 files\n",
      "Resized 6000 files\n",
      "Resized 7000 files\n",
      "Resized 8000 files\n",
      "Resized 9000 files\n",
      "Resized 10000 files\n",
      "Resized 11000 files\n",
      "Resized 12000 files\n",
      "Resized 13000 files\n",
      "Resized 14000 files\n",
      "Skipped 0 already resized files\n"
     ]
    }
   ],
   "source": [
    "image_paths = get_image_files(path_to_images)\n",
    "\n",
    "print(f\"{len(image_paths)} files\")\n",
    "\n",
    "# do not scale images smaller than this threshold\n",
    "SIZE_THRESHOLD = 500\n",
    "\n",
    "already_small = 0\n",
    "\n",
    "def do_resize(image_path):\n",
    "  global already_small\n",
    "  try:\n",
    "    with load_image_file_raw(image_path) as image:\n",
    "      if image.size[0] < SIZE_THRESHOLD or image.size[1] < SIZE_THRESHOLD:\n",
    "        already_small += 1\n",
    "        return\n",
    "      resized_image = resize_image(image, (image.size[0]//4, image.size[1]//4), image_path)\n",
    "      if resized_image is None:\n",
    "        return\n",
    "      # Save the resized image\n",
    "      save_image(resized_image, os.path.join(path_to_processed_images, os.path.basename(image_path)))\n",
    "  except UnidentifiedImageError as e:\n",
    "    print(\"Cannot identify image file. Skipping file: \" + os.path.basename(image_path))\n",
    "with concurrent.futures.ThreadPoolExecutor(max_workers=num_workers) as executor:\n",
    "    # Download and log every 100 files using a generator\n",
    "    # First initialize the generator\n",
    "    current_file = 0\n",
    "    for _ in executor.map(do_resize, image_paths):\n",
    "      current_file += 1\n",
    "      if (current_file and current_file % 1000 == 0) or current_file == len(image_paths):\n",
    "        print('Resized ' + str(current_file - already_small) + ' files')\n",
    "\n",
    "print('Skipped ' + str(already_small) + ' already resized files')"
   ]
  }
 ],
 "metadata": {
  "kernelspec": {
   "display_name": ".venv",
   "language": "python",
   "name": "python3"
  },
  "language_info": {
   "codemirror_mode": {
    "name": "ipython",
    "version": 3
   },
   "file_extension": ".py",
   "mimetype": "text/x-python",
   "name": "python",
   "nbconvert_exporter": "python",
   "pygments_lexer": "ipython3",
   "version": "3.10.13"
  }
 },
 "nbformat": 4,
 "nbformat_minor": 2
}
