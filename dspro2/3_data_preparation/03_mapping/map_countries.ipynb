{
 "cells": [
  {
   "cell_type": "code",
   "execution_count": 3,
   "metadata": {},
   "outputs": [
    {
     "name": "stdout",
     "output_type": "stream",
     "text": [
      "Loading 11 singleplayer data files...\n",
      "1. Canada: 2 games\n",
      "2. Mauritius: 1 games\n",
      "3. Egypt: 1 games\n",
      "4. Antigua and Barbuda: 1 games\n",
      "5. Philippines: 1 games\n",
      "6. Saint Helena, Ascension and Tristan da Cunha: 1 games\n",
      "7. Iran, Islamic Republic of: 1 games\n",
      "8. Brazil: 1 games\n",
      "9. Russian Federation: 1 games\n",
      "10. Qatar: 1 games\n",
      "../01_enriching/data/geoguessr_location_singleplayer_mLapM75WZa3399yd_2.png\n",
      "../01_enriching/data/geoguessr_result_singleplayer_mLapM75WZa3399yd_2.json\n",
      "../01_enriching/data/geoguessr_location_singleplayer_5Uf66kmlYZEKGISo_0.png\n",
      "../01_enriching/data/geoguessr_result_singleplayer_5Uf66kmlYZEKGISo_0.json\n",
      "({'Philippines': 1, 'Russian Federation': 1}, {'Philippines': ['../01_enriching/data/geoguessr_result_singleplayer_mLapM75WZa3399yd_2.json'], 'Russian Federation': ['../01_enriching/data/geoguessr_result_singleplayer_5Uf66kmlYZEKGISo_0.json']}, {'../01_enriching/data/geoguessr_result_singleplayer_mLapM75WZa3399yd_2.json': 'Philippines', '../01_enriching/data/geoguessr_result_singleplayer_5Uf66kmlYZEKGISo_0.json': 'Russian Federation'}, 2)\n"
     ]
    }
   ],
   "source": [
    "import json\n",
    "import sys\n",
    "import os\n",
    "sys.path.insert(0, '../../')\n",
    "from data_loader import get_countries_occurrences, get_countries_occurrences_from_files, get_data_to_load\n",
    "\n",
    "# Print initial distribution of countries\n",
    "countries, countries_to_files, files_to_countries, num_games = get_countries_occurrences(loading_file='pre_mapping_data_list', file_location='../01_enriching/data/', filterText='singleplayer')\n",
    "print(f'Loading {num_games} singleplayer data files...')\n",
    "with open('countries_map', 'w') as f:\n",
    "    json.dump(countries, f, ensure_ascii=False)\n",
    "# print countries\n",
    "for i, [country, games] in enumerate(countries.items()):\n",
    "    print(f'{i+1}. {country}: {games} games')\n",
    "\n",
    "# load countries map\n",
    "with open('../02_listing/countries_map', 'r') as f:\n",
    "  countries_map = json.load(f)\n",
    "\n",
    "# allow_missing_in_map=True (unless manually verified for controversial places) and especially passthrough_map=True for testing purposes only !!!\n",
    "list = get_data_to_load(countries_map=countries_map, file_location='../01_enriching/data/', image_file_location='../../1_data_collection/data/')\n",
    "\n",
    "# Sample the first 10 rows\n",
    "for i in range(min(10, len(list))):\n",
    "  print(list[i])\n",
    "  \n",
    "# Confirm it was mapped correctly\n",
    "occurrences = get_countries_occurrences_from_files(list)\n",
    "\n",
    "print(occurrences)"
   ]
  }
 ],
 "metadata": {
  "kernelspec": {
   "display_name": ".venv",
   "language": "python",
   "name": "python3"
  },
  "language_info": {
   "codemirror_mode": {
    "name": "ipython",
    "version": 3
   },
   "file_extension": ".py",
   "mimetype": "text/x-python",
   "name": "python",
   "nbconvert_exporter": "python",
   "pygments_lexer": "ipython3",
   "version": "3.10.13"
  }
 },
 "nbformat": 4,
 "nbformat_minor": 2
}
