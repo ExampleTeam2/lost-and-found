{
 "cells": [
  {
   "cell_type": "code",
   "execution_count": 1,
   "metadata": {},
   "outputs": [
    {
     "name": "stdout",
     "output_type": "stream",
     "text": [
      "../01_enriching/data/geoguessr_result_singleplayer_TDLlq2zNAWhT7fcT_1.json\n",
      "../01_enriching/data/geoguessr_result_singleplayer_xTs4HvuWyys3SzYZ_0.json\n",
      "../01_enriching/data/geoguessr_result_singleplayer_TDLlq2zNAWhT7fcT_0.json\n",
      "../01_enriching/data/geoguessr_result_singleplayer_5Uf66kmlYZEKGISo_3.json\n",
      "../01_enriching/data/geoguessr_result_singleplayer_mLapM75WZa3399yd_2.json\n",
      "../01_enriching/data/geoguessr_result_singleplayer_5Uf66kmlYZEKGISo_0.json\n",
      "({'Canada': 2, 'Mauritius': 1, 'Egypt': 1, 'Philippines': 1, 'Russian Federation': 1}, {'Canada': ['../01_enriching/data/geoguessr_result_singleplayer_TDLlq2zNAWhT7fcT_1.json', '../01_enriching/data/geoguessr_result_singleplayer_xTs4HvuWyys3SzYZ_0.json'], 'Mauritius': ['../01_enriching/data/geoguessr_result_singleplayer_TDLlq2zNAWhT7fcT_0.json'], 'Egypt': ['../01_enriching/data/geoguessr_result_singleplayer_5Uf66kmlYZEKGISo_3.json'], 'Philippines': ['../01_enriching/data/geoguessr_result_singleplayer_mLapM75WZa3399yd_2.json'], 'Russian Federation': ['../01_enriching/data/geoguessr_result_singleplayer_5Uf66kmlYZEKGISo_0.json']}, {'../01_enriching/data/geoguessr_result_singleplayer_TDLlq2zNAWhT7fcT_1.json': 'Canada', '../01_enriching/data/geoguessr_result_singleplayer_xTs4HvuWyys3SzYZ_0.json': 'Canada', '../01_enriching/data/geoguessr_result_singleplayer_TDLlq2zNAWhT7fcT_0.json': 'Mauritius', '../01_enriching/data/geoguessr_result_singleplayer_5Uf66kmlYZEKGISo_3.json': 'Egypt', '../01_enriching/data/geoguessr_result_singleplayer_mLapM75WZa3399yd_2.json': 'Philippines', '../01_enriching/data/geoguessr_result_singleplayer_5Uf66kmlYZEKGISo_0.json': 'Russian Federation'}, 6)\n"
     ]
    }
   ],
   "source": [
    "import json\n",
    "import sys\n",
    "import os\n",
    "sys.path.insert(0, '../../')\n",
    "from data_loader import get_countries_occurrences_from_files, get_data_to_load\n",
    "\n",
    "# load countries map\n",
    "with open('../02_listing/countries_map', 'r') as f:\n",
    "  countries_map = json.load(f)\n",
    "\n",
    "# allow_missing_in_map=True for testing purposes only !!!\n",
    "list = get_data_to_load(countries_map=countries_map, file_location='../01_enriching/data/', type='json')\n",
    "\n",
    "# Sample the first 10 rows\n",
    "for i in range(min(10, len(list))):\n",
    "  print(list[i])\n",
    "  \n",
    "# Confirm it was mapped correctly\n",
    "occurrences = get_countries_occurrences_from_files(list)\n",
    "\n",
    "print(occurrences)"
   ]
  }
 ],
 "metadata": {
  "kernelspec": {
   "display_name": ".venv",
   "language": "python",
   "name": "python3"
  },
  "language_info": {
   "codemirror_mode": {
    "name": "ipython",
    "version": 3
   },
   "file_extension": ".py",
   "mimetype": "text/x-python",
   "name": "python",
   "nbconvert_exporter": "python",
   "pygments_lexer": "ipython3",
   "version": "3.10.13"
  }
 },
 "nbformat": 4,
 "nbformat_minor": 2
}
