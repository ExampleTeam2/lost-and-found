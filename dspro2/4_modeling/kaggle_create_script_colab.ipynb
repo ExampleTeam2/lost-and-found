{
 "cells": [
  {
   "cell_type": "code",
   "execution_count": null,
   "metadata": {},
   "outputs": [],
   "source": [
    "from google.colab import drive, userdata\n",
    "import os\n",
    "import shutil\n",
    "\n",
    "!pip install kaggle\n",
    "\n",
    "# Mount Google Drive\n",
    "drive.mount('/content/drive')\n",
    "\n",
    "# Create tmpzip directory\n",
    "os.makedirs('/content/tmpzip', exist_ok=True)\n",
    "\n",
    "# Copy data.zip, data_mapped.zip, country_to_index.json, region_index_to_country_index.json, region_index_to_country_index_mapped.json, country_to_index_mapped.json, region_to_index.json, region_index_to_middle_point.json from drive to tmpzip\n",
    "shutil.copy('/content/drive/MyDrive/data.zip', '/content/tmpzip/data.zip')\n",
    "shutil.copy('/content/drive/MyDrive/data_mapped.zip', '/content/tmpzip/data_mapped.zip')\n",
    "shutil.copy('/content/drive/MyDrive/country_to_index.json', '/content/tmpzip/country_to_index.json')\n",
    "shutil.copy('/content/drive/MyDrive/region_index_to_country_index.json', '/content/tmpzip/region_index_to_country_index.json')\n",
    "shutil.copy('/content/drive/MyDrive/region_index_to_country_index_mapped.json', '/content/tmpzip/region_index_to_country_index_mapped.json')\n",
    "shutil.copy('/content/drive/MyDrive/country_to_index_mapped.json', '/content/tmpzip/country_to_index_mapped.json')\n",
    "shutil.copy('/content/drive/MyDrive/region_to_index.json', '/content/tmpzip/region_to_index.json')\n",
    "shutil.copy('/content/drive/MyDrive/region_index_to_middle_point.json', '/content/tmpzip/region_index_to_middle_point.json')"
   ]
  },
  {
   "cell_type": "code",
   "execution_count": null,
   "metadata": {},
   "outputs": [],
   "source": [
    "shutil.copy('/content/drive/MyDrive/kaggle.json', '/root/.kaggle/')\n",
    "!kaggle datasets init -p /content/tmpzip"
   ]
  },
  {
   "cell_type": "code",
   "execution_count": null,
   "metadata": {},
   "outputs": [],
   "source": [
    "raise ValueError('Manually update metadata file and run the next cell to upload the dataset to kaggle')"
   ]
  },
  {
   "cell_type": "code",
   "execution_count": null,
   "metadata": {},
   "outputs": [],
   "source": [
    "!kaggle datasets create -p /content/tmpzip"
   ]
  },
  {
   "cell_type": "code",
   "execution_count": null,
   "metadata": {},
   "outputs": [],
   "source": [
    "# Zip into one big zip file (dataset.zip)\n",
    "shutil.make_archive('/content/dataset', 'zip', '/content/tmpzip')\n",
    "\n",
    "# Copy dataset.zip to drive\n",
    "shutil.copy('/content/dataset.zip', '/content/drive/MyDrive/dataset.zip')"
   ]
  }
 ],
 "metadata": {
  "language_info": {
   "name": "python"
  }
 },
 "nbformat": 4,
 "nbformat_minor": 2
}
