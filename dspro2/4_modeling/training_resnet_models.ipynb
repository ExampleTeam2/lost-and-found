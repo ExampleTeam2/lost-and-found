{
 "cells": [
  {
   "cell_type": "code",
   "execution_count": 1,
   "metadata": {
    "scrolled": true
   },
   "outputs": [
    {
     "name": "stdout",
     "output_type": "stream",
     "text": [
      "\u001b[33mWARNING: Ignoring invalid distribution ~orch (/opt/conda/lib/python3.11/site-packages)\u001b[0m\u001b[33m\n",
      "\u001b[0m\u001b[33mWARNING: Ignoring invalid distribution ~orch (/opt/conda/lib/python3.11/site-packages)\u001b[0m\u001b[33m\n",
      "\u001b[0mIgnoring async-timeout: markers 'python_version >= \"3.10\" and python_version < \"3.11\"' don't match your environment\n",
      "Ignoring colorama: markers 'python_version >= \"3.10\" and python_version < \"4.0\" and platform_system == \"Windows\"' don't match your environment\n",
      "Ignoring intel-openmp: markers 'python_version >= \"3.10\" and python_version < \"4.0\" and platform_system == \"Windows\"' don't match your environment\n",
      "Ignoring mkl: markers 'python_version >= \"3.10\" and python_version < \"4.0\" and platform_system == \"Windows\"' don't match your environment\n",
      "Ignoring tbb: markers 'python_version >= \"3.10\" and python_version < \"4.0\" and platform_system == \"Windows\"' don't match your environment\n",
      "Requirement already satisfied: wandb in /opt/conda/lib/python3.11/site-packages (0.16.6)\n",
      "Collecting wandb\n",
      "  Obtaining dependency information for wandb from https://files.pythonhosted.org/packages/b6/49/fd266df341165c7ed94f0e9875bb20cc75a59b1dd9b6f6a51a31db5f8527/wandb-0.17.0-py3-none-manylinux_2_5_x86_64.manylinux1_x86_64.manylinux_2_17_x86_64.manylinux2014_x86_64.whl.metadata\n",
      "  Using cached wandb-0.17.0-py3-none-manylinux_2_5_x86_64.manylinux1_x86_64.manylinux_2_17_x86_64.manylinux2014_x86_64.whl.metadata (10 kB)\n",
      "Requirement already satisfied: absl-py==2.1.0 in /opt/conda/lib/python3.11/site-packages (from -r ../../requirements.txt (line 1)) (2.1.0)\n",
      "Requirement already satisfied: aiohttp==3.9.5 in /opt/conda/lib/python3.11/site-packages (from -r ../../requirements.txt (line 2)) (3.9.5)\n",
      "Requirement already satisfied: aiosignal==1.3.1 in /opt/conda/lib/python3.11/site-packages (from -r ../../requirements.txt (line 3)) (1.3.1)\n",
      "Requirement already satisfied: appdirs==1.4.4 in /opt/conda/lib/python3.11/site-packages (from -r ../../requirements.txt (line 4)) (1.4.4)\n",
      "Requirement already satisfied: attrs==23.2.0 in /opt/conda/lib/python3.11/site-packages (from -r ../../requirements.txt (line 6)) (23.2.0)\n",
      "Requirement already satisfied: bottleneck==1.3.8 in /opt/conda/lib/python3.11/site-packages (from -r ../../requirements.txt (line 7)) (1.3.8)\n",
      "Requirement already satisfied: certifi==2024.2.2 in /opt/conda/lib/python3.11/site-packages (from -r ../../requirements.txt (line 8)) (2024.2.2)\n",
      "Requirement already satisfied: charset-normalizer==3.3.2 in /opt/conda/lib/python3.11/site-packages (from -r ../../requirements.txt (line 9)) (3.3.2)\n",
      "Requirement already satisfied: click==8.1.7 in /opt/conda/lib/python3.11/site-packages (from -r ../../requirements.txt (line 10)) (8.1.7)\n",
      "Requirement already satisfied: contourpy==1.2.1 in /opt/conda/lib/python3.11/site-packages (from -r ../../requirements.txt (line 12)) (1.2.1)\n",
      "Requirement already satisfied: cycler==0.12.1 in /opt/conda/lib/python3.11/site-packages (from -r ../../requirements.txt (line 13)) (0.12.1)\n",
      "Requirement already satisfied: datasets==2.19.0 in /opt/conda/lib/python3.11/site-packages (from -r ../../requirements.txt (line 14)) (2.19.0)\n",
      "Requirement already satisfied: dill==0.3.8 in /opt/conda/lib/python3.11/site-packages (from -r ../../requirements.txt (line 15)) (0.3.8)\n",
      "Requirement already satisfied: docker-pycreds==0.4.0 in /opt/conda/lib/python3.11/site-packages (from -r ../../requirements.txt (line 16)) (0.4.0)\n",
      "Requirement already satisfied: filelock==3.13.4 in /opt/conda/lib/python3.11/site-packages (from -r ../../requirements.txt (line 17)) (3.13.4)\n",
      "Requirement already satisfied: fonttools==4.51.0 in /opt/conda/lib/python3.11/site-packages (from -r ../../requirements.txt (line 18)) (4.51.0)\n",
      "Requirement already satisfied: frozenlist==1.4.1 in /opt/conda/lib/python3.11/site-packages (from -r ../../requirements.txt (line 19)) (1.4.1)\n",
      "Requirement already satisfied: fsspec==2024.3.1 in /opt/conda/lib/python3.11/site-packages (from -r ../../requirements.txt (line 20)) (2024.3.1)\n",
      "Requirement already satisfied: fuzzywuzzy==0.18.0 in /opt/conda/lib/python3.11/site-packages (from -r ../../requirements.txt (line 22)) (0.18.0)\n",
      "Requirement already satisfied: gitdb==4.0.11 in /opt/conda/lib/python3.11/site-packages (from -r ../../requirements.txt (line 23)) (4.0.11)\n",
      "Requirement already satisfied: gitpython==3.1.43 in /opt/conda/lib/python3.11/site-packages (from -r ../../requirements.txt (line 24)) (3.1.43)\n",
      "Requirement already satisfied: h5py==3.11.0 in /opt/conda/lib/python3.11/site-packages (from -r ../../requirements.txt (line 25)) (3.11.0)\n",
      "Requirement already satisfied: huggingface-hub==0.22.2 in /opt/conda/lib/python3.11/site-packages (from -r ../../requirements.txt (line 26)) (0.22.2)\n",
      "Requirement already satisfied: idna==3.6 in /opt/conda/lib/python3.11/site-packages (from -r ../../requirements.txt (line 27)) (3.6)\n",
      "Requirement already satisfied: jinja2==3.1.3 in /opt/conda/lib/python3.11/site-packages (from -r ../../requirements.txt (line 29)) (3.1.3)\n",
      "Requirement already satisfied: kaleido==0.2.1 in /opt/conda/lib/python3.11/site-packages (from -r ../../requirements.txt (line 30)) (0.2.1)\n",
      "Requirement already satisfied: keras==3.3.2 in /opt/conda/lib/python3.11/site-packages (from -r ../../requirements.txt (line 31)) (3.3.2)\n",
      "Requirement already satisfied: kiwisolver==1.4.5 in /opt/conda/lib/python3.11/site-packages (from -r ../../requirements.txt (line 32)) (1.4.5)\n",
      "Requirement already satisfied: markdown-it-py==3.0.0 in /opt/conda/lib/python3.11/site-packages (from -r ../../requirements.txt (line 33)) (3.0.0)\n",
      "Requirement already satisfied: markupsafe==2.1.5 in /opt/conda/lib/python3.11/site-packages (from -r ../../requirements.txt (line 34)) (2.1.5)\n",
      "Requirement already satisfied: matplotlib==3.8.4 in /opt/conda/lib/python3.11/site-packages (from -r ../../requirements.txt (line 35)) (3.8.4)\n",
      "Requirement already satisfied: mdurl==0.1.2 in /opt/conda/lib/python3.11/site-packages (from -r ../../requirements.txt (line 36)) (0.1.2)\n",
      "Requirement already satisfied: ml-dtypes==0.4.0 in /opt/conda/lib/python3.11/site-packages (from -r ../../requirements.txt (line 38)) (0.4.0)\n",
      "Requirement already satisfied: mpmath==1.3.0 in /opt/conda/lib/python3.11/site-packages (from -r ../../requirements.txt (line 39)) (1.3.0)\n",
      "Requirement already satisfied: multidict==6.0.5 in /opt/conda/lib/python3.11/site-packages (from -r ../../requirements.txt (line 40)) (6.0.5)\n",
      "Requirement already satisfied: multiprocess==0.70.16 in /opt/conda/lib/python3.11/site-packages (from -r ../../requirements.txt (line 41)) (0.70.16)\n",
      "Requirement already satisfied: namex==0.0.8 in /opt/conda/lib/python3.11/site-packages (from -r ../../requirements.txt (line 42)) (0.0.8)\n",
      "Requirement already satisfied: networkx==3.3 in /opt/conda/lib/python3.11/site-packages (from -r ../../requirements.txt (line 43)) (3.3)\n",
      "Requirement already satisfied: numpy==1.26.4 in /opt/conda/lib/python3.11/site-packages (from -r ../../requirements.txt (line 44)) (1.26.4)\n",
      "Requirement already satisfied: nvidia-cublas-cu12==12.1.3.1 in /opt/conda/lib/python3.11/site-packages (from -r ../../requirements.txt (line 45)) (12.1.3.1)\n",
      "Requirement already satisfied: nvidia-cuda-cupti-cu12==12.1.105 in /opt/conda/lib/python3.11/site-packages (from -r ../../requirements.txt (line 46)) (12.1.105)\n",
      "Requirement already satisfied: nvidia-cuda-nvrtc-cu12==12.1.105 in /opt/conda/lib/python3.11/site-packages (from -r ../../requirements.txt (line 47)) (12.1.105)\n",
      "Requirement already satisfied: nvidia-cuda-runtime-cu12==12.1.105 in /opt/conda/lib/python3.11/site-packages (from -r ../../requirements.txt (line 48)) (12.1.105)\n",
      "Requirement already satisfied: nvidia-cudnn-cu12==8.9.2.26 in /opt/conda/lib/python3.11/site-packages (from -r ../../requirements.txt (line 49)) (8.9.2.26)\n",
      "Requirement already satisfied: nvidia-cufft-cu12==11.0.2.54 in /opt/conda/lib/python3.11/site-packages (from -r ../../requirements.txt (line 50)) (11.0.2.54)\n",
      "Requirement already satisfied: nvidia-curand-cu12==10.3.2.106 in /opt/conda/lib/python3.11/site-packages (from -r ../../requirements.txt (line 51)) (10.3.2.106)\n",
      "Requirement already satisfied: nvidia-cusolver-cu12==11.4.5.107 in /opt/conda/lib/python3.11/site-packages (from -r ../../requirements.txt (line 52)) (11.4.5.107)\n",
      "Requirement already satisfied: nvidia-cusparse-cu12==12.1.0.106 in /opt/conda/lib/python3.11/site-packages (from -r ../../requirements.txt (line 53)) (12.1.0.106)\n",
      "Requirement already satisfied: nvidia-nccl-cu12==2.20.5 in /opt/conda/lib/python3.11/site-packages (from -r ../../requirements.txt (line 54)) (2.20.5)\n",
      "Requirement already satisfied: nvidia-nvjitlink-cu12==12.4.127 in /opt/conda/lib/python3.11/site-packages (from -r ../../requirements.txt (line 55)) (12.4.127)\n",
      "Requirement already satisfied: nvidia-nvtx-cu12==12.1.105 in /opt/conda/lib/python3.11/site-packages (from -r ../../requirements.txt (line 56)) (12.1.105)\n",
      "Requirement already satisfied: opencv-python==4.9.0.80 in /opt/conda/lib/python3.11/site-packages (from -r ../../requirements.txt (line 57)) (4.9.0.80)\n",
      "Requirement already satisfied: optree==0.11.0 in /opt/conda/lib/python3.11/site-packages (from -r ../../requirements.txt (line 58)) (0.11.0)\n",
      "Requirement already satisfied: packaging==24.0 in /opt/conda/lib/python3.11/site-packages (from -r ../../requirements.txt (line 59)) (24.0)\n",
      "Requirement already satisfied: pandas==2.2.1 in /opt/conda/lib/python3.11/site-packages (from -r ../../requirements.txt (line 60)) (2.2.1)\n",
      "Requirement already satisfied: pillow==10.2.0 in /opt/conda/lib/python3.11/site-packages (from -r ../../requirements.txt (line 61)) (10.2.0)\n",
      "Requirement already satisfied: plotly==5.21.0 in /opt/conda/lib/python3.11/site-packages (from -r ../../requirements.txt (line 62)) (5.21.0)\n",
      "Requirement already satisfied: protobuf==4.25.3 in /opt/conda/lib/python3.11/site-packages (from -r ../../requirements.txt (line 63)) (4.25.3)\n",
      "Requirement already satisfied: psutil==5.9.8 in /opt/conda/lib/python3.11/site-packages (from -r ../../requirements.txt (line 64)) (5.9.8)\n",
      "Requirement already satisfied: pyarrow-hotfix==0.6 in /opt/conda/lib/python3.11/site-packages (from -r ../../requirements.txt (line 65)) (0.6)\n",
      "Requirement already satisfied: pyarrow==16.0.0 in /opt/conda/lib/python3.11/site-packages (from -r ../../requirements.txt (line 66)) (16.0.0)\n",
      "Requirement already satisfied: pycountry==23.12.11 in /opt/conda/lib/python3.11/site-packages (from -r ../../requirements.txt (line 67)) (23.12.11)\n",
      "Requirement already satisfied: pygments==2.17.2 in /opt/conda/lib/python3.11/site-packages (from -r ../../requirements.txt (line 68)) (2.17.2)\n",
      "Requirement already satisfied: pyparsing==3.1.2 in /opt/conda/lib/python3.11/site-packages (from -r ../../requirements.txt (line 69)) (3.1.2)\n",
      "Requirement already satisfied: python-dateutil==2.9.0.post0 in /opt/conda/lib/python3.11/site-packages (from -r ../../requirements.txt (line 70)) (2.9.0.post0)\n",
      "Requirement already satisfied: python-dotenv==1.0.1 in /opt/conda/lib/python3.11/site-packages (from -r ../../requirements.txt (line 71)) (1.0.1)\n",
      "Requirement already satisfied: pytz==2024.1 in /opt/conda/lib/python3.11/site-packages (from -r ../../requirements.txt (line 72)) (2024.1)\n",
      "Requirement already satisfied: pyyaml==6.0.1 in /opt/conda/lib/python3.11/site-packages (from -r ../../requirements.txt (line 73)) (6.0.1)\n",
      "Requirement already satisfied: requests==2.31.0 in /opt/conda/lib/python3.11/site-packages (from -r ../../requirements.txt (line 74)) (2.31.0)\n",
      "Requirement already satisfied: resnet-pytorch==0.2.0 in /opt/conda/lib/python3.11/site-packages (from -r ../../requirements.txt (line 75)) (0.2.0)\n",
      "Requirement already satisfied: resnet==0.1 in /opt/conda/lib/python3.11/site-packages (from -r ../../requirements.txt (line 76)) (0.1)\n",
      "Requirement already satisfied: reverse-geocoder==1.5.1 in /opt/conda/lib/python3.11/site-packages (from -r ../../requirements.txt (line 77)) (1.5.1)\n",
      "Requirement already satisfied: rich==13.7.1 in /opt/conda/lib/python3.11/site-packages (from -r ../../requirements.txt (line 78)) (13.7.1)\n",
      "Requirement already satisfied: scipy==1.13.0 in /opt/conda/lib/python3.11/site-packages (from -r ../../requirements.txt (line 79)) (1.13.0)\n",
      "Requirement already satisfied: sentry-sdk==2.0.1 in /opt/conda/lib/python3.11/site-packages (from -r ../../requirements.txt (line 80)) (2.0.1)\n",
      "Requirement already satisfied: setproctitle==1.3.3 in /opt/conda/lib/python3.11/site-packages (from -r ../../requirements.txt (line 81)) (1.3.3)\n",
      "Requirement already satisfied: setuptools==69.5.1 in /opt/conda/lib/python3.11/site-packages (from -r ../../requirements.txt (line 82)) (69.5.1)\n",
      "Requirement already satisfied: six==1.16.0 in /opt/conda/lib/python3.11/site-packages (from -r ../../requirements.txt (line 83)) (1.16.0)\n",
      "Requirement already satisfied: smmap==5.0.1 in /opt/conda/lib/python3.11/site-packages (from -r ../../requirements.txt (line 84)) (5.0.1)\n",
      "Requirement already satisfied: sympy==1.12 in /opt/conda/lib/python3.11/site-packages (from -r ../../requirements.txt (line 85)) (1.12)\n",
      "Requirement already satisfied: tenacity==8.2.3 in /opt/conda/lib/python3.11/site-packages (from -r ../../requirements.txt (line 87)) (8.2.3)\n",
      "Collecting torch==2.3.0 (from -r ../../requirements.txt (line 88))\n",
      "  Obtaining dependency information for torch==2.3.0 from https://files.pythonhosted.org/packages/35/3a/a39f354fa3119785be87e2f94ffa2620f8a270c8560f7356358ee62fb4c5/torch-2.3.0-cp311-cp311-manylinux1_x86_64.whl.metadata\n",
      "  Using cached torch-2.3.0-cp311-cp311-manylinux1_x86_64.whl.metadata (26 kB)\n",
      "Requirement already satisfied: torchvision==0.18.0 in /opt/conda/lib/python3.11/site-packages (from -r ../../requirements.txt (line 89)) (0.18.0)\n",
      "Requirement already satisfied: tqdm==4.66.2 in /opt/conda/lib/python3.11/site-packages (from -r ../../requirements.txt (line 90)) (4.66.2)\n",
      "Requirement already satisfied: triton==2.3.0 in /opt/conda/lib/python3.11/site-packages (from -r ../../requirements.txt (line 91)) (2.3.0)\n",
      "Requirement already satisfied: typing-extensions==4.10.0 in /opt/conda/lib/python3.11/site-packages (from -r ../../requirements.txt (line 92)) (4.10.0)\n",
      "Requirement already satisfied: tzdata==2024.1 in /opt/conda/lib/python3.11/site-packages (from -r ../../requirements.txt (line 93)) (2024.1)\n",
      "Requirement already satisfied: urllib3==2.2.1 in /opt/conda/lib/python3.11/site-packages (from -r ../../requirements.txt (line 94)) (2.2.1)\n",
      "Requirement already satisfied: uuid==1.30 in /opt/conda/lib/python3.11/site-packages (from -r ../../requirements.txt (line 95)) (1.30)\n",
      "Requirement already satisfied: xxhash==3.4.1 in /opt/conda/lib/python3.11/site-packages (from -r ../../requirements.txt (line 97)) (3.4.1)\n",
      "Requirement already satisfied: yarl==1.9.4 in /opt/conda/lib/python3.11/site-packages (from -r ../../requirements.txt (line 98)) (1.9.4)\n",
      "Using cached torch-2.3.0-cp311-cp311-manylinux1_x86_64.whl (779.2 MB)\n",
      "\u001b[33mWARNING: Ignoring invalid distribution ~orch (/opt/conda/lib/python3.11/site-packages)\u001b[0m\u001b[33m\n",
      "\u001b[0mInstalling collected packages: torch\n",
      "\u001b[33mWARNING: Ignoring invalid distribution ~orch (/opt/conda/lib/python3.11/site-packages)\u001b[0m\u001b[33m\n",
      "\u001b[0mSuccessfully installed torch\n",
      "\u001b[33mWARNING: Ignoring invalid distribution ~orch (/opt/conda/lib/python3.11/site-packages)\u001b[0m\u001b[33m\n",
      "\u001b[0m"
     ]
    }
   ],
   "source": [
    "# important for gpuhub\n",
    "!pip install -r ../../requirements.txt wandb --upgrade"
   ]
  },
  {
   "cell_type": "code",
   "execution_count": 2,
   "metadata": {},
   "outputs": [],
   "source": [
    "import wandb\n",
    "import json\n",
    "import sys\n",
    "\n",
    "import torch\n",
    "import torch.nn as nn\n",
    "from torchvision.models import resnet50\n",
    "from torchvision.models import ResNet50_Weights\n",
    "from torchvision import transforms\n",
    "from PIL import Image\n",
    "\n",
    "# load .env file\n",
    "from dotenv import load_dotenv\n",
    "load_dotenv()\n",
    "\n",
    "from geo_model_trainer import GeoModelTrainer\n",
    "from image_data_handler import ImageDataHandler\n",
    "\n",
    "#torch.backends.cudnn.benchmark = False\n",
    "#torch.backends.cudnn.deterministic = True\n",
    "\n",
    "sys.path.insert(0, '../')\n",
    "from data_loader import get_data_to_load, split_json_and_image_files, load_json_files, load_image_files, load_json_file, load_image_file"
   ]
  },
  {
   "cell_type": "code",
   "execution_count": 3,
   "metadata": {},
   "outputs": [
    {
     "name": "stdout",
     "output_type": "stream",
     "text": [
      "NVIDIA A16\n"
     ]
    }
   ],
   "source": [
    "print(torch.cuda.get_device_name(0))"
   ]
  },
  {
   "cell_type": "code",
   "execution_count": 4,
   "metadata": {},
   "outputs": [
    {
     "name": "stdout",
     "output_type": "stream",
     "text": [
      "GPU is available.\n"
     ]
    }
   ],
   "source": [
    "torch.cuda.empty_cache()\n",
    "\n",
    "if torch.cuda.is_available():\n",
    "    print(\"GPU is available.\")\n",
    "else:\n",
    "    print(\"GPU is not available.\")"
   ]
  },
  {
   "cell_type": "code",
   "execution_count": 5,
   "metadata": {},
   "outputs": [
    {
     "name": "stdout",
     "output_type": "stream",
     "text": [
      "GPU is available.\n",
      "GPU Name: NVIDIA A16\n",
      "Total Memory: 15.83 GB\n",
      "Allocated Memory: 0.00 GB\n",
      "Cached Memory: 0.00 GB\n",
      "CUDA Capability: 8.6\n",
      "Multi-Processor Count: 10\n"
     ]
    }
   ],
   "source": [
    "# Check if GPU is available\n",
    "if torch.cuda.is_available():\n",
    "    print(\"GPU is available.\")\n",
    "    \n",
    "    # Print the name of the GPU\n",
    "    print(f\"GPU Name: {torch.cuda.get_device_name(0)}\")\n",
    "    \n",
    "    # Print the total and available memory\n",
    "    total_memory = torch.cuda.get_device_properties(0).total_memory / 1e9  # Convert bytes to GB\n",
    "    print(f\"Total Memory: {total_memory:.2f} GB\")\n",
    "\n",
    "    allocated_memory = torch.cuda.memory_allocated(0) / 1e9  # Convert bytes to GB\n",
    "    print(f\"Allocated Memory: {allocated_memory:.2f} GB\")\n",
    "\n",
    "    cached_memory = torch.cuda.memory_reserved(0) / 1e9  # Convert bytes to GB\n",
    "    print(f\"Cached Memory: {cached_memory:.2f} GB\")\n",
    "\n",
    "    # Print other properties\n",
    "    device_properties = torch.cuda.get_device_properties(0)\n",
    "    print(f\"CUDA Capability: {device_properties.major}.{device_properties.minor}\")\n",
    "    print(f\"Multi-Processor Count: {device_properties.multi_processor_count}\")\n",
    "else:\n",
    "    print(\"No GPU found.\")"
   ]
  },
  {
   "cell_type": "markdown",
   "metadata": {},
   "source": [
    "## Loading data"
   ]
  },
  {
   "cell_type": "code",
   "execution_count": null,
   "metadata": {},
   "outputs": [
    {
     "name": "stdout",
     "output_type": "stream",
     "text": [
      "Getting files list from remote\n",
      "Got files list from remote\n",
      "Parsed files list from remote\n",
      "All remote files: 575904\n"
     ]
    }
   ],
   "source": [
    "# set number of files to load\n",
    "NUMBER_OF_FILES = 75000 # 100000\n",
    "# Set to False to use non-mapped data (singleplayer distribution), has more data\n",
    "USE_MAPPED = True\n",
    "\n",
    "# get list with local data and file paths\n",
    "list_files = get_data_to_load(loading_file='../3_data_preparation/04_data_cleaning/updated_data_list' if USE_MAPPED else '../3_data_preparation/04_data_cleaning/updated_data_list_non_mapped', \n",
    "                              file_location='../3_data_preparation/01_enriching/.data', image_file_location='../1_data_collection/.data', allow_new_file_creation=False, \n",
    "                              from_remote_only=True, download_link='default', limit=NUMBER_OF_FILES, shuffle_seed=42, allow_file_location_env=True, allow_json_file_location_env=True, \n",
    "                              allow_image_file_location_env=True, allow_download_link_env=True)\n",
    "\n",
    "json_files, image_files = split_json_and_image_files(list_files)\n",
    "paired_files = list(zip(json_files, image_files))"
   ]
  },
  {
   "cell_type": "code",
   "execution_count": 7,
   "metadata": {},
   "outputs": [
    {
     "name": "stdout",
     "output_type": "stream",
     "text": [
      "Corrupted image found and skipped: /home/jovyan/dspro2/dspro2/.data/geoguessr_location_singleplayer_FjbsHTUCjCEjccK3_3.png\n",
      "Total non-corrupted pairs: 74999\n"
     ]
    }
   ],
   "source": [
    "def filter_corrupted_pairs(paired_files):\n",
    "    non_corrupted_pairs = []\n",
    "    \n",
    "    for json_path, image_path in paired_files:\n",
    "        try:\n",
    "            with Image.open(image_path) as img:\n",
    "                img.verify()  # verify that it's a readable image\n",
    "            non_corrupted_pairs.append((json_path, image_path))\n",
    "        except (IOError, OSError):\n",
    "            print(f\"Corrupted image found and skipped: {image_path}\")\n",
    "\n",
    "    return non_corrupted_pairs\n",
    "\n",
    "# Filter the paired_files list to remove any corrupted entries\n",
    "filtered_paired_files = filter_corrupted_pairs(paired_files)\n",
    "print(f\"Total non-corrupted pairs: {len(filtered_paired_files)}\")\n",
    "\n",
    "def split_json_and_image_files(paired_files):\n",
    "    json_files = [json_file for json_file, _ in paired_files if json_file.endswith('.json')]\n",
    "    image_files = [image_file for _, image_file in paired_files if image_file.endswith('.png')]\n",
    "    return json_files, image_files\n",
    "\n",
    "json_files, image_files = split_json_and_image_files(filtered_paired_files)\n",
    "paired_files = filtered_paired_files"
   ]
  },
  {
   "cell_type": "code",
   "execution_count": 8,
   "metadata": {},
   "outputs": [
    {
     "data": {
      "text/plain": [
       "(74999, 74999, 74999)"
      ]
     },
     "execution_count": 8,
     "metadata": {},
     "output_type": "execute_result"
    }
   ],
   "source": [
    "len(json_files), len(image_files), len(paired_files)"
   ]
  },
  {
   "cell_type": "markdown",
   "metadata": {},
   "source": [
    "## Processing and loading data"
   ]
  },
  {
   "cell_type": "code",
   "execution_count": 9,
   "metadata": {},
   "outputs": [],
   "source": [
    "# Default was 50, 50\n",
    "data_augmentation = \"base_augmentation\"\n",
    "image_size = [80, 130]\n",
    "# Original size is  pixelHeight: 180, pixelWidth: 320\n",
    "#image_size = [180, 320]\n",
    "\n",
    "if data_augmentation == \"base_augmentation\":\n",
    "    transform = transforms.Compose([\n",
    "        transforms.ToTensor(),\n",
    "        transforms.Normalize((0.5, 0.5, 0.5), (0.5, 0.5, 0.5)),\n",
    "        ])\n",
    "elif data_augmentation == \"full_augmentation\":\n",
    "    transform = transforms.Compose([\n",
    "        transforms.Resize((image_size[0], image_size[1])),\n",
    "        transforms.RandomHorizontalFlip(),      # Randomly flip the image horizontally\n",
    "        transforms.RandomRotation(10),          # Randomly rotate the image by up to 10 degrees\n",
    "        transforms.RandomAffine(degrees=0, shear=5),   # Apply random shear\n",
    "        transforms.ColorJitter(\n",
    "            brightness=(0.5, 1.5),  # Randomly change brightness (lower limit to simulate night, upper limit for bright daylight)\n",
    "            contrast=(0.5, 1.5),    # Randomly change contrast\n",
    "            saturation=(0.5, 1.5),  # Randomly change saturation\n",
    "            hue=(-0.1, 0.1)         # Randomly change hue\n",
    "        ),\n",
    "        transforms.ToTensor(),                  # Convert the image to a tensor\n",
    "        transforms.Normalize((0.5, 0.5, 0.5), (0.5, 0.5, 0.5)), # Normalize the image\n",
    "    ])"
   ]
  },
  {
   "cell_type": "code",
   "execution_count": 10,
   "metadata": {},
   "outputs": [
    {
     "name": "stderr",
     "output_type": "stream",
     "text": [
      "Loading images and labels:   0%|          | 17/15000 [04:03<59:39:42, 14.34s/it]\n"
     ]
    },
    {
     "ename": "KeyboardInterrupt",
     "evalue": "",
     "output_type": "error",
     "traceback": [
      "\u001b[0;31m---------------------------------------------------------------------------\u001b[0m",
      "\u001b[0;31mKeyboardInterrupt\u001b[0m                         Traceback (most recent call last)",
      "Cell \u001b[0;32mIn[10], line 2\u001b[0m\n\u001b[1;32m      1\u001b[0m \u001b[38;5;66;03m# Creating Dataloasders with the classes\u001b[39;00m\n\u001b[0;32m----> 2\u001b[0m data_handler \u001b[38;5;241m=\u001b[39m \u001b[43mImageDataHandler\u001b[49m\u001b[43m(\u001b[49m\u001b[43mimage_files\u001b[49m\u001b[43m,\u001b[49m\u001b[43m \u001b[49m\u001b[43mjson_files\u001b[49m\u001b[43m,\u001b[49m\u001b[43m \u001b[49m\u001b[43mtransform\u001b[49m\u001b[43m,\u001b[49m\u001b[43m \u001b[49m\u001b[43mNUMBER_OF_FILES\u001b[49m\u001b[43m,\u001b[49m\u001b[43m \u001b[49m\u001b[43mbatch_size\u001b[49m\u001b[38;5;241;43m=\u001b[39;49m\u001b[38;5;241;43m5\u001b[39;49m\u001b[43m)\u001b[49m\n\u001b[1;32m      3\u001b[0m train_dataloader \u001b[38;5;241m=\u001b[39m data_handler\u001b[38;5;241m.\u001b[39mtrain_loader\n\u001b[1;32m      4\u001b[0m val_dataloader \u001b[38;5;241m=\u001b[39m data_handler\u001b[38;5;241m.\u001b[39mval_loader\n",
      "File \u001b[0;32m~/dspro2/dspro2/4_modeling/image_data_handler.py:35\u001b[0m, in \u001b[0;36mImageDataHandler.__init__\u001b[0;34m(self, image_paths, json_paths, transform, datasize, batch_size, train_ratio, val_ratio, test_ratio)\u001b[0m\n\u001b[1;32m     33\u001b[0m     \u001b[38;5;66;03m#self.coordinates.extend([item.get('coordinates', 'Unknown') for item in labels])\u001b[39;00m\n\u001b[1;32m     34\u001b[0m     \u001b[38;5;28;01mfor\u001b[39;00m image \u001b[38;5;129;01min\u001b[39;00m images:\n\u001b[0;32m---> 35\u001b[0m         \u001b[38;5;28mself\u001b[39m\u001b[38;5;241m.\u001b[39mimages\u001b[38;5;241m.\u001b[39mappend(\u001b[43mtransform\u001b[49m\u001b[43m(\u001b[49m\u001b[43mimage\u001b[49m\u001b[43m)\u001b[49m)\n\u001b[1;32m     36\u001b[0m         \u001b[38;5;66;03m#self.images.append(transform(image).to(device))\u001b[39;00m\n\u001b[1;32m     37\u001b[0m \n\u001b[1;32m     38\u001b[0m \u001b[38;5;66;03m# Initialize datasets and loaders\u001b[39;00m\n\u001b[1;32m     39\u001b[0m \u001b[38;5;28mself\u001b[39m\u001b[38;5;241m.\u001b[39mtrain_loader, \u001b[38;5;28mself\u001b[39m\u001b[38;5;241m.\u001b[39mval_loader, \u001b[38;5;28mself\u001b[39m\u001b[38;5;241m.\u001b[39mtest_loader \u001b[38;5;241m=\u001b[39m \u001b[38;5;28mself\u001b[39m\u001b[38;5;241m.\u001b[39mcreate_loaders(train_ratio, val_ratio, test_ratio)\n",
      "File \u001b[0;32m/opt/conda/lib/python3.11/site-packages/torchvision/transforms/transforms.py:95\u001b[0m, in \u001b[0;36mCompose.__call__\u001b[0;34m(self, img)\u001b[0m\n\u001b[1;32m     93\u001b[0m \u001b[38;5;28;01mdef\u001b[39;00m \u001b[38;5;21m__call__\u001b[39m(\u001b[38;5;28mself\u001b[39m, img):\n\u001b[1;32m     94\u001b[0m     \u001b[38;5;28;01mfor\u001b[39;00m t \u001b[38;5;129;01min\u001b[39;00m \u001b[38;5;28mself\u001b[39m\u001b[38;5;241m.\u001b[39mtransforms:\n\u001b[0;32m---> 95\u001b[0m         img \u001b[38;5;241m=\u001b[39m \u001b[43mt\u001b[49m\u001b[43m(\u001b[49m\u001b[43mimg\u001b[49m\u001b[43m)\u001b[49m\n\u001b[1;32m     96\u001b[0m     \u001b[38;5;28;01mreturn\u001b[39;00m img\n",
      "File \u001b[0;32m/opt/conda/lib/python3.11/site-packages/torchvision/transforms/transforms.py:137\u001b[0m, in \u001b[0;36mToTensor.__call__\u001b[0;34m(self, pic)\u001b[0m\n\u001b[1;32m    129\u001b[0m \u001b[38;5;28;01mdef\u001b[39;00m \u001b[38;5;21m__call__\u001b[39m(\u001b[38;5;28mself\u001b[39m, pic):\n\u001b[1;32m    130\u001b[0m \u001b[38;5;250m    \u001b[39m\u001b[38;5;124;03m\"\"\"\u001b[39;00m\n\u001b[1;32m    131\u001b[0m \u001b[38;5;124;03m    Args:\u001b[39;00m\n\u001b[1;32m    132\u001b[0m \u001b[38;5;124;03m        pic (PIL Image or numpy.ndarray): Image to be converted to tensor.\u001b[39;00m\n\u001b[0;32m   (...)\u001b[0m\n\u001b[1;32m    135\u001b[0m \u001b[38;5;124;03m        Tensor: Converted image.\u001b[39;00m\n\u001b[1;32m    136\u001b[0m \u001b[38;5;124;03m    \"\"\"\u001b[39;00m\n\u001b[0;32m--> 137\u001b[0m     \u001b[38;5;28;01mreturn\u001b[39;00m \u001b[43mF\u001b[49m\u001b[38;5;241;43m.\u001b[39;49m\u001b[43mto_tensor\u001b[49m\u001b[43m(\u001b[49m\u001b[43mpic\u001b[49m\u001b[43m)\u001b[49m\n",
      "File \u001b[0;32m/opt/conda/lib/python3.11/site-packages/torchvision/transforms/functional.py:176\u001b[0m, in \u001b[0;36mto_tensor\u001b[0;34m(pic)\u001b[0m\n\u001b[1;32m    174\u001b[0m img \u001b[38;5;241m=\u001b[39m img\u001b[38;5;241m.\u001b[39mpermute((\u001b[38;5;241m2\u001b[39m, \u001b[38;5;241m0\u001b[39m, \u001b[38;5;241m1\u001b[39m))\u001b[38;5;241m.\u001b[39mcontiguous()\n\u001b[1;32m    175\u001b[0m \u001b[38;5;28;01mif\u001b[39;00m \u001b[38;5;28misinstance\u001b[39m(img, torch\u001b[38;5;241m.\u001b[39mByteTensor):\n\u001b[0;32m--> 176\u001b[0m     \u001b[38;5;28;01mreturn\u001b[39;00m \u001b[43mimg\u001b[49m\u001b[38;5;241;43m.\u001b[39;49m\u001b[43mto\u001b[49m\u001b[43m(\u001b[49m\u001b[43mdtype\u001b[49m\u001b[38;5;241;43m=\u001b[39;49m\u001b[43mdefault_float_dtype\u001b[49m\u001b[43m)\u001b[49m\u001b[38;5;241;43m.\u001b[39;49m\u001b[43mdiv\u001b[49m\u001b[43m(\u001b[49m\u001b[38;5;241;43m255\u001b[39;49m\u001b[43m)\u001b[49m\n\u001b[1;32m    177\u001b[0m \u001b[38;5;28;01melse\u001b[39;00m:\n\u001b[1;32m    178\u001b[0m     \u001b[38;5;28;01mreturn\u001b[39;00m img\n",
      "\u001b[0;31mKeyboardInterrupt\u001b[0m: "
     ]
    }
   ],
   "source": [
    "# Creating Dataloasders with the classes\n",
    "data_handler = ImageDataHandler(image_files, json_files, transform, NUMBER_OF_FILES, batch_size=5)\n",
    "train_dataloader = data_handler.train_loader\n",
    "val_dataloader = data_handler.val_loader\n",
    "test_dataloader = data_handler.test_loader\n",
    "\n",
    "# Load the country_to_index mapping and print the count of different countries\n",
    "with open(f\"models/datasize_{NUMBER_OF_FILES}_country_to_index.json\", \"r\") as file:\n",
    "  country_to_index = json.load(file)\n",
    "print(f\"Count of different countries: {len(country_to_index)}\")"
   ]
  },
  {
   "cell_type": "code",
   "execution_count": null,
   "metadata": {},
   "outputs": [],
   "source": [
    "print(\"Number of train batches:\", len(train_dataloader.dataset), \"\")\n",
    "\n",
    "PRINT_FIRST = True\n",
    "\n",
    "# Print first batch as an example, to see the structure\n",
    "for images, coordinates, country_indices in train_dataloader:\n",
    "    if PRINT_FIRST:\n",
    "      print(\"Images batch shape:\", images.shape)\n",
    "      print(\"Coordinates batch shape:\", coordinates.shape)\n",
    "      print(coordinates[0])\n",
    "      print(\"Country indices:\", country_indices.shape)\n",
    "      print(country_indices[0])\n",
    "      PRINT_FIRST = False\n",
    "    #break"
   ]
  },
  {
   "cell_type": "markdown",
   "metadata": {},
   "source": [
    "## Model"
   ]
  },
  {
   "cell_type": "code",
   "execution_count": null,
   "metadata": {},
   "outputs": [],
   "source": [
    "\"\"\"# Load the pre-trained ResNet50 model with updated approach\n",
    "model = resnet50(weights=ResNet50_Weights.DEFAULT)\n",
    "\n",
    "# Change the output features of the last layer to 2 for binary classification\n",
    "model.fc = nn.Linear(model.fc.in_features, 2)\n",
    "\n",
    "# Initialize the new last layer with random weights\n",
    "nn.init.kaiming_normal_(model.fc.weight, mode='fan_out', nonlinearity='relu')\n",
    "nn.init.constant_(model.fc.bias, 0)\"\"\""
   ]
  },
  {
   "cell_type": "markdown",
   "metadata": {},
   "source": [
    "## Training"
   ]
  },
  {
   "cell_type": "code",
   "execution_count": null,
   "metadata": {
    "editable": true,
    "slideshow": {
     "slide_type": ""
    },
    "tags": []
   },
   "outputs": [],
   "source": [
    "model_types = [\"resnet18\", \"resnet50\", \"resnet34\", \"resnet101\", \"resnet152\"]\n",
    "#model_types = [\"resnet18\"]\n",
    "predict_coordinates=False\n",
    "wandb.login()\n",
    "\n",
    "for model_type in model_types:\n",
    "    if predict_coordinates:\n",
    "        project_name = \"predicting-coordinates\"\n",
    "        num_classes = 2\n",
    "        sweep_goal = \"minimize\"\n",
    "        sweep_metric_name = \"Validation Distance (km)\"\n",
    "    else:\n",
    "        with open(f\"models/datasize_{NUMBER_OF_FILES}_country_to_index.json\", \"r\") as file:\n",
    "            country_to_index = json.load(file)\n",
    "        num_classes = len(country_to_index)\n",
    "        project_name = \"predicting-country\"\n",
    "        sweep_goal = \"maximize\"\n",
    "        sweep_metric_name = \"Validation Accuracy Top 1\"\n",
    "    \n",
    "    sweep_config = {\n",
    "        \"name\": f\"dspro2-basemodel-{model_type}-datasize-{NUMBER_OF_FILES}-input_imagesize-{image_size[0]}x{image_size[1]}\",\n",
    "        \"method\": \"grid\",\n",
    "        \"metric\": {\"goal\": sweep_goal, \"name\": sweep_metric_name},\n",
    "        \"parameters\": {\n",
    "            \"learning_rate\": {\"values\": [1e-2, 1e-3, 1e-4]},\n",
    "            \"optimizer\": {\"values\": [\"adamW\"]},\n",
    "            \"weight_decay\": {\"values\": [1e-3]},\n",
    "            \"epochs\": {\"values\": [100]},\n",
    "            \"dataset_size\": {\"values\": [NUMBER_OF_FILES]},\n",
    "            \"seed\": {\"values\": [42]},\n",
    "            \"model_name\": {\"values\": [model_type]},\n",
    "            \"input_image_size\": {\"values\": [image_size]},\n",
    "            \"predict_coordinates\": {\"values\": [predict_coordinates]},\n",
    "            \"mapped_data\": {\"values\": [USE_MAPPED]},\n",
    "            \"different_countries\": {\"values\": [len(country_to_index)]},\n",
    "            \"data_augmentation\": {\"values\": [data_augmentation]}\n",
    "        },\n",
    "    }\n",
    "    \n",
    "    sweep_id = wandb.sweep(sweep=sweep_config, project=f\"dspro2-basemodel-{project_name}\")\n",
    "    trainer = GeoModelTrainer(datasize=NUMBER_OF_FILES, train_dataloader=train_dataloader, val_dataloader=val_dataloader, \n",
    "                              num_classes=num_classes, predict_coordinates=predict_coordinates)\n",
    "    torch.cuda.empty_cache()\n",
    "    wandb.agent(sweep_id, function=trainer.train)"
   ]
  }
 ],
 "metadata": {
  "kernelspec": {
   "display_name": "Python 3 (ipykernel)",
   "language": "python",
   "name": "python3"
  },
  "language_info": {
   "codemirror_mode": {
    "name": "ipython",
    "version": 3
   },
   "file_extension": ".py",
   "mimetype": "text/x-python",
   "name": "python",
   "nbconvert_exporter": "python",
   "pygments_lexer": "ipython3",
   "version": "3.12.3"
  }
 },
 "nbformat": 4,
 "nbformat_minor": 4
}
