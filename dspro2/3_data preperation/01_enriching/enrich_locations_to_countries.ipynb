{
 "cells": [
  {
   "cell_type": "markdown",
   "metadata": {},
   "source": [
    "# Enriching countries to locations"
   ]
  },
  {
   "cell_type": "markdown",
   "metadata": {},
   "source": [
    "## Importing libraries"
   ]
  },
  {
   "cell_type": "code",
   "execution_count": 2,
   "metadata": {},
   "outputs": [],
   "source": [
    "import os\n",
    "import re\n",
    "import json\n",
    "import pandas as pd\n",
    "import pycountry\n",
    "import reverse_geocoder as rg"
   ]
  },
  {
   "cell_type": "markdown",
   "metadata": {},
   "source": [
    "## Testing the libraries"
   ]
  },
  {
   "cell_type": "code",
   "execution_count": 3,
   "metadata": {},
   "outputs": [
    {
     "name": "stdout",
     "output_type": "stream",
     "text": [
      "Loading formatted geocoded file...\n"
     ]
    },
    {
     "data": {
      "text/plain": [
       "[{'lat': '51.51116',\n",
       "  'lon': '-0.18426',\n",
       "  'name': 'Bayswater',\n",
       "  'admin1': 'England',\n",
       "  'admin2': 'Greater London',\n",
       "  'cc': 'GB'}]"
      ]
     },
     "execution_count": 3,
     "metadata": {},
     "output_type": "execute_result"
    }
   ],
   "source": [
    "# Testing the reverse_geocoder library\n",
    "coordinates = (51.5214588,-0.1729636)\n",
    "rg.search(coordinates)"
   ]
  },
  {
   "cell_type": "code",
   "execution_count": 4,
   "metadata": {},
   "outputs": [
    {
     "data": {
      "text/plain": [
       "Country(alpha_2='GB', alpha_3='GBR', flag='🇬🇧', name='United Kingdom', numeric='826', official_name='United Kingdom of Great Britain and Northern Ireland')"
      ]
     },
     "execution_count": 4,
     "metadata": {},
     "output_type": "execute_result"
    }
   ],
   "source": [
    "# Testing the pycountry library\n",
    "pycountry.countries.get(alpha_2='GB')"
   ]
  },
  {
   "cell_type": "markdown",
   "metadata": {},
   "source": [
    "## Class for enriching countries to locations"
   ]
  },
  {
   "cell_type": "code",
   "execution_count": 5,
   "metadata": {},
   "outputs": [],
   "source": [
    "class CountryEnricher:\n",
    "    \"\"\"Enriches JSON files with country information based on coordinates.\"\"\"\n",
    "    def __init__(self, input_dir, output_dir):\n",
    "        self.input_dir = input_dir\n",
    "        self.output_dir = output_dir\n",
    "        self.json_files = {}\n",
    "        self.coordinates = [] # Batching for faster results, 5 x times faster now\n",
    "        self.file_map = {} # Batching for faster results, 5 x times faster now\n",
    "        self.pattern = r'singleplayer_(.+?)\\.json'\n",
    "    \n",
    "    def load_and_prepare_files(self):\n",
    "        json_paths = [f for f in os.listdir(self.input_dir) if f.endswith('.json') and 'singleplayer' in f]\n",
    "        for file in json_paths:\n",
    "            match = re.search(self.pattern, file)\n",
    "            if match:\n",
    "                image_id = match.group(1)\n",
    "                with open(os.path.join(self.input_dir, file), 'r') as f:\n",
    "                    json_data = json.load(f)\n",
    "                self.json_files[image_id] = json_data\n",
    "                if 'coordinates' in json_data:\n",
    "                    coord = tuple(json_data['coordinates'])\n",
    "                    self.coordinates.append(coord)\n",
    "                    self.file_map[coord] = image_id\n",
    "    \n",
    "    def enrich_with_country_info(self):\n",
    "        results = rg.search(self.coordinates)\n",
    "        for result, coord in zip(results, self.coordinates):\n",
    "            image_id = self.file_map[coord]\n",
    "            country_code = result['cc']\n",
    "            country = pycountry.countries.get(alpha_2=country_code)\n",
    "            country_name = country.name if country else 'Unknown'\n",
    "            self.json_files[image_id]['country_code'] = country_code\n",
    "            self.json_files[image_id]['country_name'] = country_name\n",
    "    \n",
    "    def save_enriched_files(self):\n",
    "        os.makedirs(self.output_dir, exist_ok=True)\n",
    "        for image_id, data in self.json_files.items():\n",
    "            file_name = \"geoguessr_result_singleplayer_\" + image_id + \".json\"\n",
    "            file_path = os.path.join(self.output_dir, file_name)\n",
    "            with open(file_path, 'w') as f:\n",
    "                json.dump(data, f, indent=4)\n",
    "    \n",
    "    def process(self):\n",
    "        self.load_and_prepare_files()\n",
    "        self.enrich_with_country_info()\n",
    "        self.save_enriched_files()\n"
   ]
  },
  {
   "cell_type": "markdown",
   "metadata": {},
   "source": [
    "## Enrich the json files with the class"
   ]
  },
  {
   "cell_type": "code",
   "execution_count": 6,
   "metadata": {},
   "outputs": [],
   "source": [
    "input_dir = '../../1_data collection/data/'\n",
    "output_dir = '../01_enriching/data/'\n",
    "geo_enricher = CountryEnricher(input_dir, output_dir)\n",
    "geo_enricher.process()"
   ]
  }
 ],
 "metadata": {
  "kernelspec": {
   "display_name": ".venv",
   "language": "python",
   "name": "python3"
  },
  "language_info": {
   "codemirror_mode": {
    "name": "ipython",
    "version": 3
   },
   "file_extension": ".py",
   "mimetype": "text/x-python",
   "name": "python",
   "nbconvert_exporter": "python",
   "pygments_lexer": "ipython3",
   "version": "3.12.2"
  }
 },
 "nbformat": 4,
 "nbformat_minor": 2
}
