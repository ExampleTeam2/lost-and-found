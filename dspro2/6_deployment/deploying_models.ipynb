{
 "cells": [
  {
   "cell_type": "code",
   "execution_count": 1,
   "metadata": {
    "scrolled": true
   },
   "outputs": [],
   "source": [
    "# important for gpuhub\n",
    "# !pip install -r ../../requirements.txt --upgrade"
   ]
  },
  {
   "cell_type": "markdown",
   "metadata": {},
   "source": [
    "## Importing Libraries and tokens"
   ]
  },
  {
   "cell_type": "code",
   "execution_count": 2,
   "metadata": {},
   "outputs": [],
   "source": [
    "import wandb\n",
    "import os\n",
    "import torch\n",
    "import sys\n",
    "from torchvision import transforms\n",
    "\n",
    "# load .env file\n",
    "from dotenv import load_dotenv\n",
    "from geo_model_deployer import GeoModelDeployer\n",
    "from image_data_handler_deploy import DeployImageDataHandler\n",
    "\n",
    "sys.path.insert(0, \"../5_evaluation\")\n",
    "from wandb_downloader import WandbDownloader\n",
    "\n",
    "os.environ[\"CUDA_LAUNCH_BLOCKING\"] = \"1\""
   ]
  },
  {
   "cell_type": "code",
   "execution_count": 3,
   "metadata": {},
   "outputs": [],
   "source": [
    "WANDB_TOKEN = os.getenv(\"WANDB_TOKEN\")\n",
    "# Define where to run\n",
    "env_path = \"../../.env\"\n",
    "if not WANDB_TOKEN and os.path.exists(env_path):\n",
    "    load_dotenv(env_path)\n",
    "    WANDB_TOKEN = os.getenv(\"WANDB_TOKEN\")"
   ]
  },
  {
   "cell_type": "code",
   "execution_count": 4,
   "metadata": {},
   "outputs": [
    {
     "name": "stdout",
     "output_type": "stream",
     "text": [
      "No GPU found.\n"
     ]
    }
   ],
   "source": [
    "# Check if GPU is available\n",
    "if torch.cuda.is_available():\n",
    "    print(\"GPU is available.\")\n",
    "\n",
    "    # Print the name of the GPU\n",
    "    print(f\"GPU Name: {torch.cuda.get_device_name(0)}\")\n",
    "\n",
    "    # Print the total and available memory\n",
    "    total_memory = torch.cuda.get_device_properties(0).total_memory / 1e9  # Convert bytes to GB\n",
    "    print(f\"Total Memory: {total_memory:.2f} GB\")\n",
    "\n",
    "    allocated_memory = torch.cuda.memory_allocated(0) / 1e9  # Convert bytes to GB\n",
    "    print(f\"Allocated Memory: {allocated_memory:.2f} GB\")\n",
    "\n",
    "    cached_memory = torch.cuda.memory_reserved(0) / 1e9  # Convert bytes to GB\n",
    "    print(f\"Cached Memory: {cached_memory:.2f} GB\")\n",
    "\n",
    "    # Print other properties\n",
    "    device_properties = torch.cuda.get_device_properties(0)\n",
    "    print(f\"CUDA Capability: {device_properties.major}.{device_properties.minor}\")\n",
    "    print(f\"Multi-Processor Count: {device_properties.multi_processor_count}\")\n",
    "else:\n",
    "    print(\"No GPU found.\")"
   ]
  },
  {
   "cell_type": "markdown",
   "metadata": {},
   "source": [
    "## Loading files from wandb"
   ]
  },
  {
   "cell_type": "code",
   "execution_count": 5,
   "metadata": {},
   "outputs": [
    {
     "name": "stderr",
     "output_type": "stream",
     "text": [
      "Failed to detect the name of this notebook, you can set it manually with the WANDB_NOTEBOOK_NAME environment variable to enable code saving.\n",
      "\u001b[34m\u001b[1mwandb\u001b[0m: Currently logged in as: \u001b[33mkillusions\u001b[0m. Use \u001b[1m`wandb login --relogin`\u001b[0m to force relogin\n"
     ]
    },
    {
     "data": {
      "text/plain": [
       "True"
      ]
     },
     "execution_count": 5,
     "metadata": {},
     "output_type": "execute_result"
    }
   ],
   "source": [
    "wandb.login(key=WANDB_TOKEN) if WANDB_TOKEN else wandb.login()"
   ]
  },
  {
   "cell_type": "code",
   "execution_count": 6,
   "metadata": {},
   "outputs": [
    {
     "name": "stdout",
     "output_type": "stream",
     "text": [
      "dspro2-predicting-country: Found 5 matching runs for datasize 332786 and full_augmentation_v2.\n",
      "{'Best Run 1': {'files': {'best_model': 'https://api.wandb.ai/files/nlp_ls/dspro2-predicting-country/bc69qzqh/best_model_checkpointmodel_efficientnet_b1_lr_0.01_opt_adamW_weightDecay_0.01_imgSize_[80, '\n",
      "                                        '130]_predict_coordinates_False.pth',\n",
      "                          'country_to_index.json': 'https://api.wandb.ai/files/nlp_ls/dspro2-predicting-country/bc69qzqh/run-20240627_133143-bc69qzqh/country_to_index.json',\n",
      "                          'region_index_to_country_index.json': 'https://api.wandb.ai/files/nlp_ls/dspro2-predicting-country/bc69qzqh/run-20240627_133143-bc69qzqh/region_index_to_country_index.json',\n",
      "                          'region_index_to_middle_point.json': 'https://api.wandb.ai/files/nlp_ls/dspro2-predicting-country/bc69qzqh/run-20240627_133143-bc69qzqh/region_index_to_middle_point.json',\n",
      "                          'region_to_index.json': 'https://api.wandb.ai/files/nlp_ls/dspro2-predicting-country/bc69qzqh/run-20240627_133143-bc69qzqh/region_to_index.json',\n",
      "                          'test_data': 'https://api.wandb.ai/files/nlp_ls/dspro2-predicting-country/bc69qzqh/run-20240627_133143-bc69qzqh/test_data.pth',\n",
      "                          'test_data.pth': 'https://api.wandb.ai/files/nlp_ls/dspro2-predicting-country/bc69qzqh/run-20240627_133143-bc69qzqh/test_data.pth',\n",
      "                          'wandb-metadata.json': 'https://api.wandb.ai/files/nlp_ls/dspro2-predicting-country/bc69qzqh/wandb-metadata.json',\n",
      "                          'wandb-summary.json': 'https://api.wandb.ai/files/nlp_ls/dspro2-predicting-country/bc69qzqh/wandb-summary.json',\n",
      "                          'wandb_manifest.json': 'https://api.wandb.ai/files/nlp_ls/dspro2-predicting-country/bc69qzqh/artifact/931421173/wandb_manifest.json'},\n",
      "                'id': 'bc69qzqh',\n",
      "                'metrics': {'Best Validation Accuracy Top 1': 0.6489625433838665, 'Best Validation Loss': 1.4016193326946662, 'Train Accuracy Top 3': 0.9974157544537454, 'Best Validation Accuracy Top 3': 0.8262391634238322, 'Train Loss': 0.07516248585357638, 'Validation Loss': 2.5554883730537443, 'Validation Accuracy Top 1': 0.6398575656955692, 'Validation Accuracy Top 5': 0.8735670177441892, '_step': 19, 'Best Validation Accuracy Top 5': 0.8834382559310066, '_wandb': {'runtime': 16699}, '_runtime': 15900.360654354095, '_timestamp': 1719511004.1802742, 'Train Accuracy Top 1': 0.975990555913286, 'Train Accuracy Top 5': 0.9990684696286756, 'Validation Accuracy Top 3': 0.8168336914223898},\n",
      "                'parameters': {'batch_size': 200,\n",
      "                               'data_augmentation': 'full_augmentation_v2',\n",
      "                               'dataset_identifier': '22a493044dbe99c1d431b9ee4656792efbb09ece4182274670ba5faec505d9cf',\n",
      "                               'dataset_size': 332786,\n",
      "                               'different_countries': 138,\n",
      "                               'different_regions': 4596,\n",
      "                               'epochs': 25,\n",
      "                               'input_image_size': [80, 130],\n",
      "                               'learning_rate': 0.01,\n",
      "                               'mapped_data': False,\n",
      "                               'model_name': 'efficientnet_b1',\n",
      "                               'optimizer': 'adamW',\n",
      "                               'predict_coordinates': False,\n",
      "                               'predict_regions': False,\n",
      "                               'seed': 42,\n",
      "                               'weight_decay': 0.01}},\n",
      " 'Best Run 2': {'files': {'best_model': 'https://api.wandb.ai/files/nlp_ls/dspro2-predicting-country/kth52fnv/best_model_checkpointmodel_efficientnet_b1_lr_0.01_opt_adamW_weightDecay_0_imgSize_[80, '\n",
      "                                        '130]_predict_coordinates_False.pth',\n",
      "                          'country_to_index.json': 'https://api.wandb.ai/files/nlp_ls/dspro2-predicting-country/kth52fnv/run-20240627_182628-kth52fnv/country_to_index.json',\n",
      "                          'region_index_to_country_index.json': 'https://api.wandb.ai/files/nlp_ls/dspro2-predicting-country/kth52fnv/run-20240627_182628-kth52fnv/region_index_to_country_index.json',\n",
      "                          'region_index_to_middle_point.json': 'https://api.wandb.ai/files/nlp_ls/dspro2-predicting-country/kth52fnv/run-20240627_182628-kth52fnv/region_index_to_middle_point.json',\n",
      "                          'region_to_index.json': 'https://api.wandb.ai/files/nlp_ls/dspro2-predicting-country/kth52fnv/run-20240627_182628-kth52fnv/region_to_index.json',\n",
      "                          'test_data': 'https://api.wandb.ai/files/nlp_ls/dspro2-predicting-country/bc69qzqh/run-20240627_133143-bc69qzqh/test_data.pth',\n",
      "                          'wandb-metadata.json': 'https://api.wandb.ai/files/nlp_ls/dspro2-predicting-country/kth52fnv/wandb-metadata.json',\n",
      "                          'wandb-summary.json': 'https://api.wandb.ai/files/nlp_ls/dspro2-predicting-country/kth52fnv/wandb-summary.json',\n",
      "                          'wandb_manifest.json': 'https://api.wandb.ai/files/nlp_ls/dspro2-predicting-country/kth52fnv/artifact/931710932/wandb_manifest.json'},\n",
      "                'id': 'kth52fnv',\n",
      "                'metrics': {'Best Validation Accuracy Top 1': 0.6403684060279159, 'test_data_run_id': 'bc69qzqh', '_runtime': 19044.43738603592, 'Train Loss': 0.058918900667092246, 'Train Accuracy Top 1': 0.9814466623739, 'Train Accuracy Top 5': 0.9993861343635974, 'Validation Accuracy Top 5': 0.8746187478401971, 'Best Validation Accuracy Top 5': 0.8790510389590876, '_wandb': {'runtime': 19838}, 'Train Accuracy Top 3': 0.9982099162910496, 'Validation Accuracy Top 1': 0.6363117328004567, 'Validation Accuracy Top 3': 0.8167735925597608, '_timestamp': 1719531832.850501, 'Best Validation Accuracy Top 3': 0.8207401174932765, 'Validation Loss': 2.7142486257177834, 'Best Validation Loss': 1.430667449249582, '_step': 24},\n",
      "                'parameters': {'batch_size': 200,\n",
      "                               'data_augmentation': 'full_augmentation_v2',\n",
      "                               'dataset_identifier': '22a493044dbe99c1d431b9ee4656792efbb09ece4182274670ba5faec505d9cf',\n",
      "                               'dataset_size': 332786,\n",
      "                               'different_countries': 138,\n",
      "                               'different_regions': 4596,\n",
      "                               'epochs': 25,\n",
      "                               'input_image_size': [80, 130],\n",
      "                               'learning_rate': 0.01,\n",
      "                               'mapped_data': False,\n",
      "                               'model_name': 'efficientnet_b1',\n",
      "                               'optimizer': 'adamW',\n",
      "                               'predict_coordinates': False,\n",
      "                               'predict_regions': False,\n",
      "                               'seed': 42,\n",
      "                               'weight_decay': 0}},\n",
      " 'Best Run 3': {'files': {'best_model': 'https://api.wandb.ai/files/nlp_ls/dspro2-predicting-country/8pqe6jmh/best_model_checkpointmodel_efficientnet_b1_lr_0.001_opt_adamW_weightDecay_0.01_imgSize_[80, '\n",
      "                                        '130]_predict_coordinates_False.pth',\n",
      "                          'country_to_index.json': 'https://api.wandb.ai/files/nlp_ls/dspro2-predicting-country/8pqe6jmh/run-20240627_181204-8pqe6jmh/country_to_index.json',\n",
      "                          'region_index_to_country_index.json': 'https://api.wandb.ai/files/nlp_ls/dspro2-predicting-country/8pqe6jmh/run-20240627_181204-8pqe6jmh/region_index_to_country_index.json',\n",
      "                          'region_index_to_middle_point.json': 'https://api.wandb.ai/files/nlp_ls/dspro2-predicting-country/8pqe6jmh/run-20240627_181204-8pqe6jmh/region_index_to_middle_point.json',\n",
      "                          'region_to_index.json': 'https://api.wandb.ai/files/nlp_ls/dspro2-predicting-country/8pqe6jmh/run-20240627_181204-8pqe6jmh/region_to_index.json',\n",
      "                          'test_data': 'https://api.wandb.ai/files/nlp_ls/dspro2-predicting-country/bc69qzqh/run-20240627_133143-bc69qzqh/test_data.pth',\n",
      "                          'wandb-metadata.json': 'https://api.wandb.ai/files/nlp_ls/dspro2-predicting-country/8pqe6jmh/wandb-metadata.json',\n",
      "                          'wandb-summary.json': 'https://api.wandb.ai/files/nlp_ls/dspro2-predicting-country/8pqe6jmh/wandb-summary.json',\n",
      "                          'wandb_manifest.json': 'https://api.wandb.ai/files/nlp_ls/dspro2-predicting-country/8pqe6jmh/artifact/931719570/wandb_manifest.json'},\n",
      "                'id': '8pqe6jmh',\n",
      "                'metrics': {'Best Validation Accuracy Top 1': 0.6072839821506378, 'test_data_run_id': 'bc69qzqh', 'Validation Accuracy Top 1': 0.6054659915561098, 'Validation Accuracy Top 3': 0.803356521477831, 'Train Accuracy Top 1': 0.7450096587250483, '_wandb': {'runtime': 19827}, 'Train Loss': 0.8466105593020989, 'Validation Accuracy Top 5': 0.8711780879546854, '_step': 25, 'Best Validation Accuracy Top 5': 0.8728608561082981, 'Train Accuracy Top 3': 0.904082421120412, '_timestamp': 1719531751.7694952, 'Validation Loss': 1.5018295102325276, 'Best Validation Loss': 1.4597630012418126, 'Train Accuracy Top 5': 0.945653573728268, 'Best Validation Accuracy Top 3': 0.8052646603663026, '_runtime': 19826.95408630371},\n",
      "                'parameters': {'batch_size': 200,\n",
      "                               'data_augmentation': 'full_augmentation_v2',\n",
      "                               'dataset_identifier': '22a493044dbe99c1d431b9ee4656792efbb09ece4182274670ba5faec505d9cf',\n",
      "                               'dataset_size': 332786,\n",
      "                               'different_countries': 138,\n",
      "                               'different_regions': 4596,\n",
      "                               'epochs': 25,\n",
      "                               'input_image_size': [80, 130],\n",
      "                               'learning_rate': 0.001,\n",
      "                               'mapped_data': False,\n",
      "                               'model_name': 'efficientnet_b1',\n",
      "                               'optimizer': 'adamW',\n",
      "                               'predict_coordinates': False,\n",
      "                               'predict_regions': False,\n",
      "                               'seed': 42,\n",
      "                               'weight_decay': 0.01}},\n",
      " 'Best Run 4': {'files': {'best_model': 'https://api.wandb.ai/files/nlp_ls/dspro2-predicting-country/elpusqol/best_model_checkpointmodel_efficientnet_b1_lr_0.001_opt_adamW_weightDecay_0_imgSize_[80, '\n",
      "                                        '130]_predict_coordinates_False.pth',\n",
      "                          'country_to_index.json': 'https://api.wandb.ai/files/nlp_ls/dspro2-predicting-country/elpusqol/run-20240627_235715-elpusqol/country_to_index.json',\n",
      "                          'region_index_to_country_index.json': 'https://api.wandb.ai/files/nlp_ls/dspro2-predicting-country/elpusqol/run-20240627_235715-elpusqol/region_index_to_country_index.json',\n",
      "                          'region_index_to_middle_point.json': 'https://api.wandb.ai/files/nlp_ls/dspro2-predicting-country/elpusqol/run-20240627_235715-elpusqol/region_index_to_middle_point.json',\n",
      "                          'region_to_index.json': 'https://api.wandb.ai/files/nlp_ls/dspro2-predicting-country/elpusqol/run-20240627_235715-elpusqol/region_to_index.json',\n",
      "                          'test_data': 'https://api.wandb.ai/files/nlp_ls/dspro2-predicting-country/bc69qzqh/run-20240627_133143-bc69qzqh/test_data.pth',\n",
      "                          'wandb-metadata.json': 'https://api.wandb.ai/files/nlp_ls/dspro2-predicting-country/elpusqol/wandb-metadata.json',\n",
      "                          'wandb-summary.json': 'https://api.wandb.ai/files/nlp_ls/dspro2-predicting-country/elpusqol/wandb-summary.json',\n",
      "                          'wandb_manifest.json': 'https://api.wandb.ai/files/nlp_ls/dspro2-predicting-country/elpusqol/artifact/932010211/wandb_manifest.json'},\n",
      "                'id': 'elpusqol',\n",
      "                'metrics': {'Best Validation Accuracy Top 1': 0.605360818546509, 'test_data_run_id': 'bc69qzqh', '_runtime': 19709.159447669983, '_timestamp': 1719552344.8335717, 'Train Loss': 0.8514326108860647, 'Train Accuracy Top 3': 0.9032410388495384, 'Train Accuracy Top 5': 0.94486799742434, 'Validation Accuracy Top 3': 0.8028757305767988, 'Validation Accuracy Top 5': 0.8695704433793591, '_step': 25, '_wandb': {'runtime': 19709}, 'Validation Loss': 1.5097175397424722, 'Validation Accuracy Top 1': 0.6046546569106179, 'Best Validation Loss': 1.4573854786584872, 'Train Accuracy Top 1': 0.7443571581884525, 'Best Validation Accuracy Top 3': 0.8047237706026413, 'Best Validation Accuracy Top 5': 0.8710578902294274},\n",
      "                'parameters': {'batch_size': 200,\n",
      "                               'data_augmentation': 'full_augmentation_v2',\n",
      "                               'dataset_identifier': '22a493044dbe99c1d431b9ee4656792efbb09ece4182274670ba5faec505d9cf',\n",
      "                               'dataset_size': 332786,\n",
      "                               'different_countries': 138,\n",
      "                               'different_regions': 4596,\n",
      "                               'epochs': 25,\n",
      "                               'input_image_size': [80, 130],\n",
      "                               'learning_rate': 0.001,\n",
      "                               'mapped_data': False,\n",
      "                               'model_name': 'efficientnet_b1',\n",
      "                               'optimizer': 'adamW',\n",
      "                               'predict_coordinates': False,\n",
      "                               'predict_regions': False,\n",
      "                               'seed': 42,\n",
      "                               'weight_decay': 0}},\n",
      " 'Best Run 5': {'files': {'wandb-metadata.json': 'https://api.wandb.ai/files/nlp_ls/dspro2-predicting-country/ewnspxxj/wandb-metadata.json',\n",
      "                          'wandb-summary.json': 'https://api.wandb.ai/files/nlp_ls/dspro2-predicting-country/ewnspxxj/wandb-summary.json',\n",
      "                          'wandb_manifest.json': 'https://api.wandb.ai/files/nlp_ls/dspro2-predicting-country/ewnspxxj/artifact/931435802/wandb_manifest.json'},\n",
      "                'id': 'ewnspxxj',\n",
      "                'metrics': {'Best Validation Accuracy Top 1': 0.5754616343885692, 'Best Validation Loss': 1.5119558592918878, '_step': 1, '_wandb': {'runtime': 2053}, '_timestamp': 1719511889.5966072, 'Train Accuracy Top 1': 0.5576690276883451, 'Validation Accuracy Top 1': 0.5754616343885692, 'Validation Accuracy Top 5': 0.8547710984569618, '_runtime': 1585.6814250946045, 'Validation Loss': 1.5119558592918878, 'Validation Accuracy Top 3': 0.7823369442733297, 'Best Validation Accuracy Top 3': 0.7823369442733297, 'Train Loss': 1.6017776283999834, 'Train Accuracy Top 3': 0.7636917793517922, 'Train Accuracy Top 5': 0.8377720540888602, 'Best Validation Accuracy Top 5': 0.8547710984569618},\n",
      "                'parameters': {'batch_size': 200,\n",
      "                               'data_augmentation': 'full_augmentation_v2',\n",
      "                               'dataset_identifier': '22a493044dbe99c1d431b9ee4656792efbb09ece4182274670ba5faec505d9cf',\n",
      "                               'dataset_size': 332786,\n",
      "                               'different_countries': 138,\n",
      "                               'different_regions': 4596,\n",
      "                               'epochs': 25,\n",
      "                               'input_image_size': [80, 130],\n",
      "                               'learning_rate': 0.01,\n",
      "                               'mapped_data': False,\n",
      "                               'model_name': 'efficientnet_b1',\n",
      "                               'optimizer': 'adamW',\n",
      "                               'predict_coordinates': False,\n",
      "                               'predict_regions': False,\n",
      "                               'seed': 42,\n",
      "                               'weight_decay': 0}}}\n"
     ]
    }
   ],
   "source": [
    "entity = \"nlp_ls\"\n",
    "predict_coordinates = False\n",
    "predict_regions = False\n",
    "project = \"dspro2-predicting-region\" if predict_regions else (\"dspro2-predicting-coordinates\" if predict_coordinates else \"dspro2-predicting-country\")\n",
    "metric_name = \"Best Validation Accuracy Top 1\" if not predict_coordinates else \"Best Validation Distance (km)\"\n",
    "data_augmentation = \"full_augmentation_v2\"  # or \"base_augmentation\"\n",
    "datasize = 332786  # Replace with the desired datasize\n",
    "file_names_to_download = [\".pth\", \".json\"]\n",
    "image_size = [80, 130]\n",
    "\n",
    "downloader = WandbDownloader(entity, project, data_augmentation, datasize, image_size)\n",
    "run_data = downloader.get_and_collect_best_runs(metric_name, file_names_to_download)\n",
    "\n",
    "# Now run_data contains all necessary information for further processing\n",
    "import pprint\n",
    "\n",
    "pprint.pprint(run_data)"
   ]
  },
  {
   "cell_type": "code",
   "execution_count": 7,
   "metadata": {},
   "outputs": [
    {
     "data": {
      "text/plain": [
       "dict_keys(['Best Run 1', 'Best Run 2', 'Best Run 3', 'Best Run 4', 'Best Run 5'])"
      ]
     },
     "execution_count": 7,
     "metadata": {},
     "output_type": "execute_result"
    }
   ],
   "source": [
    "run_data.keys()"
   ]
  },
  {
   "cell_type": "code",
   "execution_count": 8,
   "metadata": {},
   "outputs": [
    {
     "name": "stdout",
     "output_type": "stream",
     "text": [
      "Best Validation Accuracy Top 1:  0.6489625433838665\n",
      "Best Validation Accuracy Top 3:  0.8262391634238322\n",
      "Best Validation Accuracy Top 5:  0.8834382559310066\n"
     ]
    }
   ],
   "source": [
    "# Print the validation accuracy for the top 1, 3, and 5 predictions\n",
    "if predict_coordinates:\n",
    "    print(f\"Best Validation Distance (km): \", run_data[\"Best Run 1\"][\"metrics\"][\"Best Validation Distance (km)\"])\n",
    "else:\n",
    "    for i in [1, 3, 5]:\n",
    "        print(f\"Best Validation Accuracy Top {i}: \", run_data[\"Best Run 1\"][\"metrics\"][f\"Best Validation Accuracy Top {i}\"])"
   ]
  },
  {
   "cell_type": "code",
   "execution_count": 9,
   "metadata": {},
   "outputs": [
    {
     "data": {
      "text/plain": [
       "{'seed': 42,\n",
       " 'epochs': 25,\n",
       " 'optimizer': 'adamW',\n",
       " 'batch_size': 200,\n",
       " 'model_name': 'efficientnet_b1',\n",
       " 'mapped_data': False,\n",
       " 'dataset_size': 332786,\n",
       " 'weight_decay': 0.01,\n",
       " 'learning_rate': 0.01,\n",
       " 'predict_regions': False,\n",
       " 'input_image_size': [80, 130],\n",
       " 'data_augmentation': 'full_augmentation_v2',\n",
       " 'different_regions': 4596,\n",
       " 'dataset_identifier': '22a493044dbe99c1d431b9ee4656792efbb09ece4182274670ba5faec505d9cf',\n",
       " 'different_countries': 138,\n",
       " 'predict_coordinates': False}"
      ]
     },
     "execution_count": 9,
     "metadata": {},
     "output_type": "execute_result"
    }
   ],
   "source": [
    "run_data[\"Best Run 1\"][\"parameters\"]"
   ]
  },
  {
   "cell_type": "code",
   "execution_count": 10,
   "metadata": {},
   "outputs": [
    {
     "data": {
      "text/plain": [
       "{'wandb_manifest.json': 'https://api.wandb.ai/files/nlp_ls/dspro2-predicting-country/bc69qzqh/artifact/931421173/wandb_manifest.json',\n",
       " 'best_model': 'https://api.wandb.ai/files/nlp_ls/dspro2-predicting-country/bc69qzqh/best_model_checkpointmodel_efficientnet_b1_lr_0.01_opt_adamW_weightDecay_0.01_imgSize_[80, 130]_predict_coordinates_False.pth',\n",
       " 'country_to_index.json': 'https://api.wandb.ai/files/nlp_ls/dspro2-predicting-country/bc69qzqh/run-20240627_133143-bc69qzqh/country_to_index.json',\n",
       " 'region_index_to_country_index.json': 'https://api.wandb.ai/files/nlp_ls/dspro2-predicting-country/bc69qzqh/run-20240627_133143-bc69qzqh/region_index_to_country_index.json',\n",
       " 'region_index_to_middle_point.json': 'https://api.wandb.ai/files/nlp_ls/dspro2-predicting-country/bc69qzqh/run-20240627_133143-bc69qzqh/region_index_to_middle_point.json',\n",
       " 'region_to_index.json': 'https://api.wandb.ai/files/nlp_ls/dspro2-predicting-country/bc69qzqh/run-20240627_133143-bc69qzqh/region_to_index.json',\n",
       " 'test_data.pth': 'https://api.wandb.ai/files/nlp_ls/dspro2-predicting-country/bc69qzqh/run-20240627_133143-bc69qzqh/test_data.pth',\n",
       " 'wandb-metadata.json': 'https://api.wandb.ai/files/nlp_ls/dspro2-predicting-country/bc69qzqh/wandb-metadata.json',\n",
       " 'wandb-summary.json': 'https://api.wandb.ai/files/nlp_ls/dspro2-predicting-country/bc69qzqh/wandb-summary.json',\n",
       " 'test_data': 'https://api.wandb.ai/files/nlp_ls/dspro2-predicting-country/bc69qzqh/run-20240627_133143-bc69qzqh/test_data.pth'}"
      ]
     },
     "execution_count": 10,
     "metadata": {},
     "output_type": "execute_result"
    }
   ],
   "source": [
    "run_data[\"Best Run 1\"][\"files\"]"
   ]
  },
  {
   "cell_type": "markdown",
   "metadata": {},
   "source": [
    "## Loading data and creating data loader"
   ]
  },
  {
   "cell_type": "code",
   "execution_count": 11,
   "metadata": {},
   "outputs": [
    {
     "name": "stdout",
     "output_type": "stream",
     "text": [
      "Loaded 138 countries.\n",
      "Loaded 4596 regions.\n",
      "Loaded 4596 region middle points.\n",
      "Loaded 3595 region to country index mappings.\n"
     ]
    }
   ],
   "source": [
    "run = None\n",
    "\n",
    "for i in range(5):\n",
    "    run = run_data[f\"Best Run {i+1}\"]\n",
    "    if run[\"files\"].get(\"best_model\", None):\n",
    "        break\n",
    "    else:\n",
    "        run = None\n",
    "        print(f\"Run {i+1} does not contain the necessary files. Trying the next run...\")\n",
    "\n",
    "if run is None:\n",
    "    raise Exception(\"No run with the necessary files found.\")\n",
    "\n",
    "augmented_transform = None  # Never used for test data\n",
    "base_transform = transforms.Compose([transforms.Resize((image_size[0], image_size[1])), transforms.ToTensor(), transforms.Normalize((0.5, 0.5, 0.5), (0.5, 0.5, 0.5))])\n",
    "\n",
    "# Creating Dataloaders with the classes\n",
    "files = run[\"files\"]\n",
    "country_to_index = files.get(\"country_to_index.json\", None)\n",
    "region_to_index = files.get(\"region_to_index.json\", None)\n",
    "region_index_to_middle_point = files.get(\"region_index_to_middle_point.json\", None)\n",
    "region_index_to_country_index = files.get(\"region_index_to_country_index.json\", None)\n",
    "\n",
    "data_handler = DeployImageDataHandler(country_to_index, region_to_index, region_index_to_middle_point, region_index_to_country_index, base_transform)\n",
    "country_to_index = data_handler.country_to_index\n",
    "region_to_index = data_handler.region_to_index\n",
    "region_index_to_middle_point = data_handler.region_index_to_middle_point\n",
    "region_index_to_country_index = data_handler.region_index_to_country_index\n",
    "\n",
    "num_regions = data_handler.num_regions\n",
    "num_countries = data_handler.num_countries"
   ]
  },
  {
   "cell_type": "markdown",
   "metadata": {},
   "source": [
    "## Evaluating the model"
   ]
  },
  {
   "cell_type": "code",
   "execution_count": 12,
   "metadata": {},
   "outputs": [],
   "source": [
    "num_classes = 3 if predict_coordinates else (num_regions if predict_regions else num_countries)\n",
    "\n",
    "if num_classes == 0:\n",
    "    raise ValueError(\"No classes detected. Please check the data.\")\n",
    "\n",
    "geo_model = GeoModelDeployer(num_classes=num_classes, predict_coordinates=predict_coordinates, country_to_index=country_to_index, region_to_index=region_to_index, region_index_to_middle_point=region_index_to_middle_point, region_index_to_country_index=region_index_to_country_index, predict_regions=predict_regions if not predict_coordinates else None)"
   ]
  },
  {
   "cell_type": "code",
   "execution_count": 13,
   "metadata": {},
   "outputs": [],
   "source": [
    "model_name = run[\"parameters\"][\"model_name\"]\n",
    "pretrained_weights = run[\"files\"][\"best_model\"]\n",
    "\n",
    "geo_model.prepare(model_type=model_name, model_path=pretrained_weights)"
   ]
  },
  {
   "cell_type": "code",
   "execution_count": 18,
   "metadata": {},
   "outputs": [
    {
     "name": "stdout",
     "output_type": "stream",
     "text": [
      "\n",
      "./test_street_germany.png\n",
      "\n",
      "Country 1: Germany (40) with Probability: 1.00\n",
      "Country 2: France (38) with Probability: 0.00\n",
      "Country 3: Netherlands (86) with Probability: 0.00\n",
      "Country 4: Czechia (28) with Probability: 0.00\n",
      "Country 5: Luxembourg (72) with Probability: 0.00\n",
      "\n",
      "./test_mexico.jpg\n",
      "Cropping image to 16:9 aspect ratio.\n",
      "\n",
      "Country 1: Mexico (79) with Probability: 0.75\n",
      "Country 2: Colombia (23) with Probability: 0.09\n",
      "Country 3: Guatemala (43) with Probability: 0.04\n",
      "Country 4: Brazil (15) with Probability: 0.04\n",
      "Country 5: Serbia (109) with Probability: 0.03\n"
     ]
    }
   ],
   "source": [
    "test_file_names = [\"./test_street_germany.png\", \"./test_mexico.jpg\"]\n",
    "\n",
    "for test_file_name in test_file_names:\n",
    "\n",
    "    # new line\n",
    "    print()\n",
    "\n",
    "    print(test_file_name)\n",
    "\n",
    "    if predict_coordinates:\n",
    "        coordinates, cartesian = geo_model.predict_single(data_handler.load_single_image(test_file_name), top_n=5)\n",
    "\n",
    "        # new line\n",
    "        print()\n",
    "\n",
    "        print(f\"Predicted Coordinates: {coordinates} (Cartesian: {cartesian})\")\n",
    "    else:\n",
    "        if predict_regions:\n",
    "            regions, region_indices, region_probabilities, countries, country_indices, country_probabilities, corresponding_countries, corresponding_country_indices = geo_model.predict_single(data_handler.load_single_image(test_file_name), top_n=5)\n",
    "\n",
    "            # new line\n",
    "            print()\n",
    "\n",
    "            # Print the top 5 regions\n",
    "            for i, (region, region_index, region_probability, corresponding_country, corresponding_country_index) in enumerate(zip(regions, region_indices, region_probabilities, corresponding_countries, corresponding_country_indices)):\n",
    "                print(f\"Region {i+1}: {region} ({region_index}) with Probability: {region_probability:.3f}, in Country: {corresponding_country} ({corresponding_country_index})\")\n",
    "        else:\n",
    "            countries, country_indices, country_probabilities = geo_model.predict_single(data_handler.load_single_image(test_file_name), top_n=5)\n",
    "\n",
    "        # new line\n",
    "        print()\n",
    "\n",
    "        # Print the top 5 countries\n",
    "        for i, (country, country_index, country_probability) in enumerate(zip(countries, country_indices, country_probabilities)):\n",
    "            print(f\"Country {i+1}: {country} ({country_index}) with Probability: {country_probability:.2f}\")\n",
    "\n",
    "# Multiple would be like this, every value is returned as a list, zip them to iterate over samples\n",
    "# geo_model.predict(data_handler.load_images(['./test1.png', './test2.png']), top_n=5)"
   ]
  }
 ],
 "metadata": {
  "kernelspec": {
   "display_name": "Python 3 (ipykernel)",
   "language": "python",
   "name": "python3"
  },
  "language_info": {
   "codemirror_mode": {
    "name": "ipython",
    "version": 3
   },
   "file_extension": ".py",
   "mimetype": "text/x-python",
   "name": "python",
   "nbconvert_exporter": "python",
   "pygments_lexer": "ipython3",
   "version": "3.12.3"
  }
 },
 "nbformat": 4,
 "nbformat_minor": 4
}
