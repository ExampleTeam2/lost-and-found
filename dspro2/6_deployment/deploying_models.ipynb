{
 "cells": [
  {
   "cell_type": "code",
   "execution_count": 1,
   "metadata": {
    "scrolled": true
   },
   "outputs": [],
   "source": [
    "# important for gpuhub\n",
    "# !pip install -r ../../requirements.txt --upgrade"
   ]
  },
  {
   "cell_type": "markdown",
   "metadata": {},
   "source": [
    "## Importing Libraries and tokens"
   ]
  },
  {
   "cell_type": "code",
   "execution_count": 9,
   "metadata": {},
   "outputs": [],
   "source": [
    "import os\n",
    "import sys\n",
    "\n",
    "import wandb\n",
    "import torch\n",
    "from torchvision import transforms\n",
    "\n",
    "# load .env file\n",
    "from dotenv import load_dotenv\n",
    "from geo_model_deployer import GeoModelDeployer\n",
    "from image_data_handler_deploy import DeployImageDataHandler\n",
    "\n",
    "sys.path.insert(0, \"../5_evaluation\")\n",
    "from wandb_downloader import WandbDownloader\n",
    "\n",
    "sys.path.insert(0, \"../\")\n",
    "from data_loader import resolve_env_variable\n",
    "\n",
    "os.environ[\"CUDA_LAUNCH_BLOCKING\"] = \"1\""
   ]
  },
  {
   "cell_type": "code",
   "execution_count": 2,
   "metadata": {},
   "outputs": [],
   "source": [
    "WANDB_TOKEN = os.getenv(\"WANDB_TOKEN\")\n",
    "# Define where to run\n",
    "env_path = \"../../.env\"\n",
    "if not WANDB_TOKEN and os.path.exists(env_path):\n",
    "    load_dotenv(env_path)\n",
    "    WANDB_TOKEN = os.getenv(\"WANDB_TOKEN\")"
   ]
  },
  {
   "cell_type": "code",
   "execution_count": 3,
   "metadata": {},
   "outputs": [
    {
     "name": "stdout",
     "output_type": "stream",
     "text": [
      "No GPU found.\n"
     ]
    }
   ],
   "source": [
    "# Check if GPU is available\n",
    "if torch.cuda.is_available():\n",
    "    print(\"GPU is available.\")\n",
    "\n",
    "    # Print the name of the GPU\n",
    "    print(f\"GPU Name: {torch.cuda.get_device_name(0)}\")\n",
    "\n",
    "    # Print the total and available memory\n",
    "    total_memory = torch.cuda.get_device_properties(0).total_memory / 1e9  # Convert bytes to GB\n",
    "    print(f\"Total Memory: {total_memory:.2f} GB\")\n",
    "\n",
    "    allocated_memory = torch.cuda.memory_allocated(0) / 1e9  # Convert bytes to GB\n",
    "    print(f\"Allocated Memory: {allocated_memory:.2f} GB\")\n",
    "\n",
    "    cached_memory = torch.cuda.memory_reserved(0) / 1e9  # Convert bytes to GB\n",
    "    print(f\"Cached Memory: {cached_memory:.2f} GB\")\n",
    "\n",
    "    # Print other properties\n",
    "    device_properties = torch.cuda.get_device_properties(0)\n",
    "    print(f\"CUDA Capability: {device_properties.major}.{device_properties.minor}\")\n",
    "    print(f\"Multi-Processor Count: {device_properties.multi_processor_count}\")\n",
    "else:\n",
    "    print(\"No GPU found.\")"
   ]
  },
  {
   "cell_type": "markdown",
   "metadata": {},
   "source": [
    "## Loading files from wandb"
   ]
  },
  {
   "cell_type": "code",
   "execution_count": 5,
   "metadata": {},
   "outputs": [
    {
     "name": "stderr",
     "output_type": "stream",
     "text": [
      "Failed to detect the name of this notebook, you can set it manually with the WANDB_NOTEBOOK_NAME environment variable to enable code saving.\n",
      "\u001b[34m\u001b[1mwandb\u001b[0m: Currently logged in as: \u001b[33mkillusions\u001b[0m. Use \u001b[1m`wandb login --relogin`\u001b[0m to force relogin\n"
     ]
    },
    {
     "data": {
      "text/plain": [
       "True"
      ]
     },
     "execution_count": 5,
     "metadata": {},
     "output_type": "execute_result"
    }
   ],
   "source": [
    "wandb.login(key=WANDB_TOKEN) if WANDB_TOKEN else wandb.login()"
   ]
  },
  {
   "cell_type": "code",
   "execution_count": 10,
   "metadata": {},
   "outputs": [
    {
     "name": "stdout",
     "output_type": "stream",
     "text": [
      "Please provide your own wandb entity if you are not part of our project.\n",
      "dspro2-predicting-country: Found 4 matching runs for datasize 332786 and full_augmentation_v2.\n",
      "{'Best Run 1': {'files': {'best_model': 'https://api.wandb.ai/files/nlp_ls/dspro2-predicting-country/bc69qzqh/best_model_checkpointmodel_efficientnet_b1_lr_0.01_opt_adamW_weightDecay_0.01_imgSize_[80, '\n",
      "                                        '130]_predict_coordinates_False.pth',\n",
      "                          'country_to_index.json': 'https://api.wandb.ai/files/nlp_ls/dspro2-predicting-country/bc69qzqh/run-20240627_133143-bc69qzqh/country_to_index.json',\n",
      "                          'region_index_to_country_index.json': 'https://api.wandb.ai/files/nlp_ls/dspro2-predicting-country/bc69qzqh/run-20240627_133143-bc69qzqh/region_index_to_country_index.json',\n",
      "                          'region_index_to_middle_point.json': 'https://api.wandb.ai/files/nlp_ls/dspro2-predicting-country/bc69qzqh/run-20240627_133143-bc69qzqh/region_index_to_middle_point.json',\n",
      "                          'region_to_index.json': 'https://api.wandb.ai/files/nlp_ls/dspro2-predicting-country/bc69qzqh/run-20240627_133143-bc69qzqh/region_to_index.json',\n",
      "                          'test_data': 'https://api.wandb.ai/files/nlp_ls/dspro2-predicting-country/bc69qzqh/run-20240627_133143-bc69qzqh/test_data.pth',\n",
      "                          'test_data.pth': 'https://api.wandb.ai/files/nlp_ls/dspro2-predicting-country/bc69qzqh/run-20240627_133143-bc69qzqh/test_data.pth',\n",
      "                          'wandb-metadata.json': 'https://api.wandb.ai/files/nlp_ls/dspro2-predicting-country/bc69qzqh/wandb-metadata.json',\n",
      "                          'wandb-summary.json': 'https://api.wandb.ai/files/nlp_ls/dspro2-predicting-country/bc69qzqh/wandb-summary.json',\n",
      "                          'wandb_manifest.json': 'https://api.wandb.ai/files/nlp_ls/dspro2-predicting-country/bc69qzqh/artifact/931421173/wandb_manifest.json'},\n",
      "                'id': 'bc69qzqh',\n",
      "                'metrics': {'Best Validation Accuracy Top 1': 0.6489625433838665, '_runtime': 15900.360654354095, 'Validation Accuracy Top 1': 0.6398575656955692, 'Best Validation Accuracy Per Country': {'Jersey': 0.2777777777777778, 'Mexico': 0.5845122859270291, 'Austria': 0.64272030651341, 'Belgium': 0.2695417789757412, 'Türkiye': 0.4363177805800757, 'Moldova, Republic of': 0, 'Norway': 0.49076517150395776, 'Rwanda': 0.7931034482758621, 'Pakistan': 0.71875, 'Singapore': 0.6666666666666666, 'Faroe Islands': 0.5454545454545454, 'Korea, Republic of': 0.6646525679758308, 'China': 0, 'Qatar': 0.8076923076923077, 'Paraguay': 0, 'Costa Rica': 0, 'Puerto Rico': 0.5051546391752577, 'Panama': 0, 'Montenegro': 0.19791666666666663, 'United Kingdom': 0.775134126428738, 'Bosnia and Herzegovina': 0.15, 'Poland': 0.5471311475409836, 'Albania': 0.2408759124087591, 'Lesotho': 0.8027522935779816, 'Colombia': 0.28272251308900526, 'Maldives': 0, 'Eswatini': 0.536, 'Malaysia': 0.5363881401617251, 'Thailand': 0.5119047619047619, 'Hong Kong': 0.379746835443038, 'Spain': 0.4225739848589126, 'Czechia': 0.24817518248175183, 'Belize': 0, 'Argentina': 0.608411214953271, 'France': 0.5815013404825737, 'Monaco': 0.3333333333333333, 'Andorra': 0.21739130434782608, 'Botswana': 0.6273291925465838, 'Bulgaria': 0.3388235294117647, 'Kyrgyzstan': 0.7395833333333334, 'Netherlands': 0.6111888111888112, 'South Africa': 0.6749256689791873, 'United Arab Emirates': 0.5490196078431373, 'Bolivia, Plurinational State of': 0.44075829383886256, 'Japan': 0.8424556213017751, 'Greece': 0.4055299539170507, 'Slovakia': 0.06060606060606061, 'Togo': 0.25, 'Armenia': 0, 'Nigeria': 0.7346938775510204, 'Viet Nam': 0.10526315789473684, 'Isle of Man': 0, 'United States': 0.8358935674118777, \"Côte d'Ivoire\": 0, 'Kenya': 0.7887700534759359, 'Canada': 0.4452495974235105, 'Serbia': 0.2901960784313726, 'Sri Lanka': 0.6571428571428571, 'Russian Federation': 0.7163173652694611, 'North Macedonia': 0.1308411214953271, 'Virgin Islands, U.S.': 0.5, 'Italy': 0.49687677455990914, 'Nepal': 0.2, 'Tunisia': 0.6153846153846154, 'Cambodia': 0.4368932038834951, 'Bangladesh': 0.8034682080924855, 'Guinea-Bissau': 0.2857142857142857, 'Belarus': 0, 'Croatia': 0.233983286908078, 'Iceland': 0.6419753086419753, 'Slovenia': 0.1834862385321101, 'San Marino': 0.07692307692307693, 'New Zealand': 0.573228346456693, 'Burkina Faso': 0.4444444444444444, 'Uzbekistan': 0, 'Palestine, State of': 0.2602739726027397, 'Tanzania, United Republic of': 0.1, 'Holy See (Vatican City State)': 0.08333333333333333, 'Denmark': 0.23046875, 'Mongolia': 0.6666666666666666, 'Brazil': 0.5967741935483871, 'Finland': 0.7005813953488372, 'Syrian Arab Republic': 0, 'Sweden': 0.3223938223938224, 'Uruguay': 0.5, 'Luxembourg': 0.0625, 'Hungary': 0.3100303951367781, 'Romania': 0.2959558823529412, 'Réunion': 0.6304347826086957, 'Ghana': 0.797979797979798, 'Uganda': 0.7375, 'Estonia': 0.3333333333333333, 'Ukraine': 0.43526170798898073, 'Kazakhstan': 0, 'Mauritania': 0.75, 'Timor-Leste': 0, 'Taiwan, Province of China': 0.5823389021479713, 'Malta': 0.4534883720930232, 'Lebanon': 0, 'Senegal': 0.8251748251748252, 'Madagascar': 0.16666666666666666, 'Switzerland': 0.6666666666666666, 'Åland Islands': 0, \"Lao People's Democratic Republic\": 0.3611111111111111, 'Gambia': 0.4634146341463415, 'Latvia': 0.17333333333333334, 'Ireland': 0.3501259445843829, 'Portugal': 0.3348314606741573, 'Bhutan': 0.2, 'Jordan': 0.5866666666666667, 'Philippines': 0.563564875491481, 'Israel': 0.4968553459119497, 'Zimbabwe': 0, 'Lithuania': 0.20224719101123595, 'Venezuela, Bolivarian Republic of': 0, 'Chile': 0.4859335038363171, 'India': 0.919, 'Ecuador': 0.3914590747330961, 'Germany': 0.7327586206896551, 'Curaçao': 0.3448275862068966, 'Guatemala': 0.7142857142857143, 'Peru': 0.592391304347826, 'Indonesia': 0.7587822014051522, 'Egypt': 0.8333333333333334, 'Azerbaijan': 0, 'Australia': 0.693491124260355, 'Dominican Republic': 0.6438356164383562}, 'Best Validation Balanced Accuracy Top 1 (Mapped)': 0.5141663619040253, '_step': 19, '_wandb': {'runtime': 17145}, 'Validation Loss': 2.5554883730537443, 'Train Accuracy Top 5': 0.9990684696286756, 'Best Validation Accuracy Top 5': 0.8824466246976276, 'Train Loss': 0.07516248585357638, 'Best Validation Loss': 2.018448315949595, 'Train Accuracy Top 3': 0.9974157544537454, 'Validation Accuracy Top 3': 0.8168336914223898, '_timestamp': 1719511004.1802742, 'Train Accuracy Top 1': 0.975990555913286, 'Validation Accuracy Top 5': 0.8735670177441892, 'Best Validation Accuracy Top 3': 0.8256832489445137, 'Best Validation Balanced Accuracy Top 1': 0.408363036860728},\n",
      "                'parameters': {'batch_size': 200,\n",
      "                               'data_augmentation': 'full_augmentation_v2',\n",
      "                               'dataset_identifier': '22a493044dbe99c1d431b9ee4656792efbb09ece4182274670ba5faec505d9cf',\n",
      "                               'dataset_size': 332786,\n",
      "                               'different_countries': 138,\n",
      "                               'different_regions': 4596,\n",
      "                               'epochs': 25,\n",
      "                               'input_image_size': [80, 130],\n",
      "                               'learning_rate': 0.01,\n",
      "                               'mapped_data': False,\n",
      "                               'model_name': 'efficientnet_b1',\n",
      "                               'optimizer': 'adamW',\n",
      "                               'predict_coordinates': False,\n",
      "                               'predict_regions': False,\n",
      "                               'seed': 42,\n",
      "                               'weight_decay': 0.01}},\n",
      " 'Best Run 2': {'files': {'best_model': 'https://api.wandb.ai/files/nlp_ls/dspro2-predicting-country/kth52fnv/best_model_checkpointmodel_efficientnet_b1_lr_0.01_opt_adamW_weightDecay_0_imgSize_[80, '\n",
      "                                        '130]_predict_coordinates_False.pth',\n",
      "                          'country_to_index.json': 'https://api.wandb.ai/files/nlp_ls/dspro2-predicting-country/kth52fnv/run-20240627_182628-kth52fnv/country_to_index.json',\n",
      "                          'region_index_to_country_index.json': 'https://api.wandb.ai/files/nlp_ls/dspro2-predicting-country/kth52fnv/run-20240627_182628-kth52fnv/region_index_to_country_index.json',\n",
      "                          'region_index_to_middle_point.json': 'https://api.wandb.ai/files/nlp_ls/dspro2-predicting-country/kth52fnv/run-20240627_182628-kth52fnv/region_index_to_middle_point.json',\n",
      "                          'region_to_index.json': 'https://api.wandb.ai/files/nlp_ls/dspro2-predicting-country/kth52fnv/run-20240627_182628-kth52fnv/region_to_index.json',\n",
      "                          'test_data': 'https://api.wandb.ai/files/nlp_ls/dspro2-predicting-country/bc69qzqh/run-20240627_133143-bc69qzqh/test_data.pth',\n",
      "                          'wandb-metadata.json': 'https://api.wandb.ai/files/nlp_ls/dspro2-predicting-country/kth52fnv/wandb-metadata.json',\n",
      "                          'wandb-summary.json': 'https://api.wandb.ai/files/nlp_ls/dspro2-predicting-country/kth52fnv/wandb-summary.json',\n",
      "                          'wandb_manifest.json': 'https://api.wandb.ai/files/nlp_ls/dspro2-predicting-country/kth52fnv/artifact/931710932/wandb_manifest.json'},\n",
      "                'id': 'kth52fnv',\n",
      "                'metrics': {'Best Validation Accuracy Top 1': 0.6403684060279159, 'test_data_run_id': 'bc69qzqh', '_runtime': 19044.43738603592, 'Validation Accuracy Top 1': 0.6363117328004567, 'Best Validation Balanced Accuracy Top 1': 0.387266856817203, '_step': 24, '_timestamp': 1719531832.850501, 'Best Validation Accuracy Top 3': 0.8195531649563532, 'Best Validation Balanced Accuracy Top 1 (Mapped)': 0.5039533483828926, 'Best Validation Loss': 2.490942936647715, 'Train Accuracy Top 5': 0.9993861343635974, 'Validation Accuracy Top 5': 0.8746187478401971, 'Train Accuracy Top 1': 0.9814466623739, 'Train Accuracy Top 3': 0.9982099162910496, 'Validation Accuracy Top 3': 0.8167735925597608, 'Best Validation Accuracy Top 5': 0.8782847784605676, 'Best Validation Accuracy Per Country': {'Mongolia': 0.3333333333333333, 'Pakistan': 0.6875, 'Viet Nam': 0.05263157894736842, 'United States': 0.8302701961322178, 'Ghana': 0.7777777777777778, 'Austria': 0.6264367816091954, 'Virgin Islands, U.S.': 0.2, \"Lao People's Democratic Republic\": 0.25, 'Azerbaijan': 0, 'Holy See (Vatican City State)': 0.08333333333333333, 'Greece': 0.4009216589861751, 'Czechia': 0.22384428223844283, 'Türkiye': 0.4930643127364439, 'Zimbabwe': 0, 'Korea, Republic of': 0.6374622356495468, 'Indonesia': 0.7517564402810304, 'Sri Lanka': 0.673469387755102, 'Madagascar': 0, 'Peru': 0.4891304347826087, 'Kenya': 0.7914438502673797, 'Spain': 0.4239504473503097, 'Estonia': 0.2845528455284553, 'Paraguay': 0, 'Dominican Republic': 0.6575342465753424, 'Tanzania, United Republic of': 0.1, 'Bolivia, Plurinational State of': 0.3981042654028436, 'Norway': 0.49076517150395776, 'Croatia': 0.27019498607242337, 'Germany': 0.6867816091954023, 'South Africa': 0.6897918731417245, 'Tunisia': 0.4615384615384616, 'Kazakhstan': 0, 'Philippines': 0.509829619921363, 'Taiwan, Province of China': 0.5704057279236276, 'Canada': 0.431964573268921, 'Brazil': 0.5875576036866359, 'Switzerland': 0.6483516483516484, 'United Arab Emirates': 0.696078431372549, 'Qatar': 0.7692307692307693, 'France': 0.5683646112600537, 'Romania': 0.29044117647058826, 'Faroe Islands': 0.4545454545454546, \"Côte d'Ivoire\": 0, 'Jordan': 0.5466666666666666, 'Belgium': 0.2884097035040431, 'Malaysia': 0.4811320754716981, 'Slovenia': 0.2018348623853211, 'Finland': 0.6831395348837209, 'Réunion': 0.6521739130434783, 'Luxembourg': 0.046875, 'Bhutan': 0.26666666666666666, 'Russian Federation': 0.7331586826347305, 'Mexico': 0.5197319434102755, 'Slovakia': 0.06818181818181818, 'Guatemala': 0.7586206896551724, 'North Macedonia': 0.1588785046728972, 'Syrian Arab Republic': 0, 'Belarus': 0, 'Ukraine': 0.39944903581267216, 'Curaçao': 0.3793103448275862, 'Netherlands': 0.5944055944055944, 'Puerto Rico': 0.5154639175257731, 'China': 0, 'Serbia': 0.2901960784313726, 'Nigeria': 0.6676384839650146, 'Maldives': 0, 'Bangladesh': 0.8236994219653179, 'Malta': 0.5, 'Andorra': 0.2608695652173913, 'Lesotho': 0.6697247706422018, 'Denmark': 0.21484375, 'Ireland': 0.3425692695214106, 'Singapore': 0.7003367003367004, 'Uzbekistan': 0, 'Isle of Man': 0, 'Japan': 0.849112426035503, 'Armenia': 0, 'Costa Rica': 0.25, 'Australia': 0.6727810650887573, 'Timor-Leste': 0, 'Togo': 0.25, 'Jersey': 0.2222222222222222, 'Albania': 0.2335766423357664, 'Lebanon': 0, 'Argentina': 0.6037383177570094, 'Thailand': 0.5224867724867724, 'United Kingdom': 0.7821320270585491, 'Nepal': 0.2, 'Belize': 0, 'Uganda': 0.7875, 'Iceland': 0.6049382716049383, 'Kyrgyzstan': 0.7604166666666666, 'Monaco': 0.3333333333333333, 'Gambia': 0.5121951219512195, 'Ecuador': 0.3594306049822064, 'Hungary': 0.303951367781155, 'Mauritania': 0, 'Burkina Faso': 0.6666666666666666, 'Montenegro': 0.2708333333333333, 'Chile': 0.4961636828644501, 'Italy': 0.4832481544576945, 'Panama': 0, 'Uruguay': 0.42272727272727273, 'Lithuania': 0.19101123595505615, 'Eswatini': 0.464, 'New Zealand': 0.5779527559055118, 'Åland Islands': 0, 'Sweden': 0.333976833976834, 'Senegal': 0.8111888111888111, 'Botswana': 0.577639751552795, 'Colombia': 0.27486910994764396, 'Latvia': 0.15333333333333332, 'Rwanda': 0.7413793103448276, 'Portugal': 0.3415730337078652, 'San Marino': 0.15384615384615383, 'Venezuela, Bolivarian Republic of': 0, 'Egypt': 0.5, 'Israel': 0.5220125786163522, 'Poland': 0.5112704918032787, 'Bulgaria': 0.3388235294117647, 'Guinea-Bissau': 0.2857142857142857, 'India': 0.922, 'Palestine, State of': 0.2191780821917808, 'Bosnia and Herzegovina': 0, 'Cambodia': 0.3155339805825243, 'Hong Kong': 0.3037974683544304, 'Moldova, Republic of': 0}, '_wandb': {'runtime': 20073}, 'Train Loss': 0.058918900667092246, 'Validation Loss': 2.7142486257177834},\n",
      "                'parameters': {'batch_size': 200,\n",
      "                               'data_augmentation': 'full_augmentation_v2',\n",
      "                               'dataset_identifier': '22a493044dbe99c1d431b9ee4656792efbb09ece4182274670ba5faec505d9cf',\n",
      "                               'dataset_size': 332786,\n",
      "                               'different_countries': 138,\n",
      "                               'different_regions': 4596,\n",
      "                               'epochs': 25,\n",
      "                               'input_image_size': [80, 130],\n",
      "                               'learning_rate': 0.01,\n",
      "                               'mapped_data': False,\n",
      "                               'model_name': 'efficientnet_b1',\n",
      "                               'optimizer': 'adamW',\n",
      "                               'predict_coordinates': False,\n",
      "                               'predict_regions': False,\n",
      "                               'seed': 42,\n",
      "                               'weight_decay': 0}},\n",
      " 'Best Run 3': {'files': {'best_model': 'https://api.wandb.ai/files/nlp_ls/dspro2-predicting-country/8pqe6jmh/best_model_checkpointmodel_efficientnet_b1_lr_0.001_opt_adamW_weightDecay_0.01_imgSize_[80, '\n",
      "                                        '130]_predict_coordinates_False.pth',\n",
      "                          'country_to_index.json': 'https://api.wandb.ai/files/nlp_ls/dspro2-predicting-country/8pqe6jmh/run-20240627_181204-8pqe6jmh/country_to_index.json',\n",
      "                          'region_index_to_country_index.json': 'https://api.wandb.ai/files/nlp_ls/dspro2-predicting-country/8pqe6jmh/run-20240627_181204-8pqe6jmh/region_index_to_country_index.json',\n",
      "                          'region_index_to_middle_point.json': 'https://api.wandb.ai/files/nlp_ls/dspro2-predicting-country/8pqe6jmh/run-20240627_181204-8pqe6jmh/region_index_to_middle_point.json',\n",
      "                          'region_to_index.json': 'https://api.wandb.ai/files/nlp_ls/dspro2-predicting-country/8pqe6jmh/run-20240627_181204-8pqe6jmh/region_to_index.json',\n",
      "                          'test_data': 'https://api.wandb.ai/files/nlp_ls/dspro2-predicting-country/bc69qzqh/run-20240627_133143-bc69qzqh/test_data.pth',\n",
      "                          'wandb-metadata.json': 'https://api.wandb.ai/files/nlp_ls/dspro2-predicting-country/8pqe6jmh/wandb-metadata.json',\n",
      "                          'wandb-summary.json': 'https://api.wandb.ai/files/nlp_ls/dspro2-predicting-country/8pqe6jmh/wandb-summary.json',\n",
      "                          'wandb_manifest.json': 'https://api.wandb.ai/files/nlp_ls/dspro2-predicting-country/8pqe6jmh/artifact/931719570/wandb_manifest.json'},\n",
      "                'id': '8pqe6jmh',\n",
      "                'metrics': {'Best Validation Accuracy Top 1': 0.6072839821506378, 'test_data_run_id': 'bc69qzqh', 'Best Validation Accuracy Top 3': 0.8048890424748711, 'Best Validation Accuracy Top 5': 0.8722899169133224, 'Best Validation Accuracy Per Country': {'Gambia': 0.2926829268292683, 'Slovakia': 0, 'Bhutan': 0.16666666666666666, 'Guinea-Bissau': 0.5714285714285714, \"Lao People's Democratic Republic\": 0.3888888888888889, 'Andorra': 0.21739130434782608, 'Qatar': 0.6923076923076923, 'Israel': 0.4937106918238994, 'Monaco': 0.16666666666666666, 'Mauritania': 0, 'Kenya': 0.7513368983957219, 'Singapore': 0.5993265993265994, 'San Marino': 0.15384615384615383, 'United Kingdom': 0.7781665500349895, 'Japan': 0.816198224852071, 'Cambodia': 0.35436893203883496, 'Botswana': 0.5652173913043478, 'North Macedonia': 0.07476635514018691, 'Tanzania, United Republic of': 0.2, 'India': 0.9055, 'Germany': 0.6867816091954023, 'Senegal': 0.7832167832167832, 'Eswatini': 0.544, 'Faroe Islands': 0.7272727272727273, 'Bosnia and Herzegovina': 0, 'Sweden': 0.2722007722007722, 'United States': 0.7972843231381155, 'Indonesia': 0.6978922716627635, 'Azerbaijan': 0, 'Uganda': 0.6, 'Serbia': 0.2196078431372549, 'Croatia': 0.22284122562674097, 'Czechia': 0.15815085158150852, 'Tunisia': 0.5384615384615384, 'Thailand': 0.5264550264550265, 'Kazakhstan': 0, 'Spain': 0.3888506538196834, 'Armenia': 0, 'Romania': 0.24816176470588236, 'Uruguay': 0.35454545454545455, 'Portugal': 0.24719101123595505, 'Costa Rica': 0, 'Belize': 0, 'Estonia': 0.3089430894308943, 'Paraguay': 0, 'Virgin Islands, U.S.': 0.5, 'Venezuela, Bolivarian Republic of': 0, 'Norway': 0.5013192612137203, 'Ireland': 0.181360201511335, 'Malaysia': 0.4164420485175202, 'Timor-Leste': 0, 'Holy See (Vatican City State)': 0, 'Greece': 0.35944700460829493, 'Puerto Rico': 0.31958762886597936, 'Lesotho': 0.7431192660550459, 'Australia': 0.6278106508875739, 'Korea, Republic of': 0.6858006042296072, 'Latvia': 0.05333333333333334, 'Canada': 0.3824476650563607, 'Ukraine': 0.3608815426997245, 'Maldives': 0, 'United Arab Emirates': 0.5392156862745098, 'Peru': 0.49184782608695654, 'Jersey': 0.16666666666666666, 'Denmark': 0.1015625, 'Colombia': 0.19895287958115185, 'Türkiye': 0.42118537200504413, 'Bangladesh': 0.7341040462427746, 'South Africa': 0.5986124876114965, \"Côte d'Ivoire\": 0, 'France': 0.5737265415549598, 'Moldova, Republic of': 0, 'Italy': 0.4576944917660421, 'Rwanda': 0.6206896551724138, 'Ecuador': 0.3309608540925267, 'Finland': 0.6569767441860465, 'Hong Kong': 0.2278481012658228, 'Switzerland': 0.6007326007326007, 'Egypt': 0.6666666666666666, 'Dominican Republic': 0.589041095890411, 'Austria': 0.6283524904214559, 'Curaçao': 0.41379310344827586, 'Réunion': 0.5, 'Sri Lanka': 0.4653061224489795, 'Netherlands': 0.5622377622377622, 'Poland': 0.5225409836065574, 'Albania': 0.1605839416058394, 'Iceland': 0.49382716049382713, 'Viet Nam': 0, 'Syrian Arab Republic': 0, 'Brazil': 0.5529953917050692, 'Nigeria': 0.6326530612244898, 'Pakistan': 0.65625, 'Argentina': 0.5401869158878505, 'Bolivia, Plurinational State of': 0.36492890995260663, 'Belgium': 0.1752021563342318, 'Nepal': 0.2, 'Lebanon': 0, 'Bulgaria': 0.2611764705882353, 'Lithuania': 0.1797752808988764, 'Isle of Man': 0, 'Togo': 0, 'Panama': 0, 'Malta': 0.4534883720930232, 'Guatemala': 0.6600985221674877, 'Uzbekistan': 0, 'Åland Islands': 0, 'Belarus': 0, 'Montenegro': 0.25, 'New Zealand': 0.5244094488188976, 'Russian Federation': 0.7301646706586826, 'Zimbabwe': 0, 'Slovenia': 0.1834862385321101, 'Luxembourg': 0.015625, 'Burkina Faso': 0.4444444444444444, 'Palestine, State of': 0.1780821917808219, 'Jordan': 0.4666666666666667, 'China': 0, 'Mongolia': 0.3333333333333333, 'Chile': 0.4296675191815857, 'Philippines': 0.43119266055045874, 'Taiwan, Province of China': 0.5155131264916468, 'Madagascar': 0, 'Mexico': 0.526433358153388, 'Hungary': 0.2158054711246201, 'Kyrgyzstan': 0.6875, 'Ghana': 0.702020202020202}, 'Train Accuracy Top 5': 0.945653573728268, 'Validation Loss': 1.5018295102325276, 'Train Accuracy Top 3': 0.904082421120412, 'Train Accuracy Top 1': 0.7450096587250483, 'Validation Accuracy Top 3': 0.803356521477831, 'Best Validation Balanced Accuracy Top 1 (Mapped)': 0.4585667568589425, '_step': 25, '_timestamp': 1719531751.7694952, 'Train Loss': 0.8466105593020989, 'Best Validation Loss': 1.4942729336633285, 'Validation Accuracy Top 1': 0.6054659915561098, 'Validation Accuracy Top 5': 0.8711780879546854, 'Best Validation Balanced Accuracy Top 1': 0.35178032960024325, '_wandb': {'runtime': 20060}, '_runtime': 19826.95408630371},\n",
      "                'parameters': {'batch_size': 200,\n",
      "                               'data_augmentation': 'full_augmentation_v2',\n",
      "                               'dataset_identifier': '22a493044dbe99c1d431b9ee4656792efbb09ece4182274670ba5faec505d9cf',\n",
      "                               'dataset_size': 332786,\n",
      "                               'different_countries': 138,\n",
      "                               'different_regions': 4596,\n",
      "                               'epochs': 25,\n",
      "                               'input_image_size': [80, 130],\n",
      "                               'learning_rate': 0.001,\n",
      "                               'mapped_data': False,\n",
      "                               'model_name': 'efficientnet_b1',\n",
      "                               'optimizer': 'adamW',\n",
      "                               'predict_coordinates': False,\n",
      "                               'predict_regions': False,\n",
      "                               'seed': 42,\n",
      "                               'weight_decay': 0.01}},\n",
      " 'Best Run 4': {'files': {'best_model': 'https://api.wandb.ai/files/nlp_ls/dspro2-predicting-country/elpusqol/best_model_checkpointmodel_efficientnet_b1_lr_0.001_opt_adamW_weightDecay_0_imgSize_[80, '\n",
      "                                        '130]_predict_coordinates_False.pth',\n",
      "                          'country_to_index.json': 'https://api.wandb.ai/files/nlp_ls/dspro2-predicting-country/elpusqol/run-20240627_235715-elpusqol/country_to_index.json',\n",
      "                          'region_index_to_country_index.json': 'https://api.wandb.ai/files/nlp_ls/dspro2-predicting-country/elpusqol/run-20240627_235715-elpusqol/region_index_to_country_index.json',\n",
      "                          'region_index_to_middle_point.json': 'https://api.wandb.ai/files/nlp_ls/dspro2-predicting-country/elpusqol/run-20240627_235715-elpusqol/region_index_to_middle_point.json',\n",
      "                          'region_to_index.json': 'https://api.wandb.ai/files/nlp_ls/dspro2-predicting-country/elpusqol/run-20240627_235715-elpusqol/region_to_index.json',\n",
      "                          'test_data': 'https://api.wandb.ai/files/nlp_ls/dspro2-predicting-country/bc69qzqh/run-20240627_133143-bc69qzqh/test_data.pth',\n",
      "                          'wandb-metadata.json': 'https://api.wandb.ai/files/nlp_ls/dspro2-predicting-country/elpusqol/wandb-metadata.json',\n",
      "                          'wandb-summary.json': 'https://api.wandb.ai/files/nlp_ls/dspro2-predicting-country/elpusqol/wandb-summary.json',\n",
      "                          'wandb_manifest.json': 'https://api.wandb.ai/files/nlp_ls/dspro2-predicting-country/elpusqol/artifact/932010211/wandb_manifest.json'},\n",
      "                'id': 'elpusqol',\n",
      "                'metrics': {'Best Validation Accuracy Top 1': 0.605360818546509, 'test_data_run_id': 'bc69qzqh', 'Train Accuracy Top 1': 0.7443571581884525, 'Train Accuracy Top 3': 0.9032410388495384, 'Validation Accuracy Top 1': 0.6046546569106179, 'Validation Accuracy Top 3': 0.8028757305767988, 'Best Validation Accuracy Per Country': {'Austria': 0.6369731800766284, 'Netherlands': 0.5692307692307692, 'Guinea-Bissau': 0.5714285714285714, 'United Arab Emirates': 0.5490196078431373, 'Venezuela, Bolivarian Republic of': 0, 'Ghana': 0.696969696969697, 'Greece': 0.35714285714285715, 'Australia': 0.6384615384615384, 'Hong Kong': 0.3037974683544304, 'Faroe Islands': 0.7272727272727273, 'Peru': 0.4809782608695653, 'Kenya': 0.7513368983957219, 'Pakistan': 0.71875, 'China': 0, 'Mongolia': 0.3333333333333333, 'Slovakia': 0, 'Viet Nam': 0, 'Holy See (Vatican City State)': 0, 'Bhutan': 0.23333333333333336, 'Sri Lanka': 0.5061224489795918, \"Côte d'Ivoire\": 0, 'Lesotho': 0.7385321100917431, 'Réunion': 0.5, 'Slovenia': 0.1743119266055046, 'Norway': 0.49076517150395776, 'Botswana': 0.5590062111801242, 'Puerto Rico': 0.38144329896907214, 'Switzerland': 0.6007326007326007, 'Moldova, Republic of': 0, 'Brazil': 0.5616359447004609, 'Armenia': 0, 'Estonia': 0.3008130081300813, 'San Marino': 0.15384615384615383, 'Dominican Republic': 0.6027397260273972, \"Lao People's Democratic Republic\": 0.4166666666666667, 'Sweden': 0.2799227799227799, 'Romania': 0.25, 'Maldives': 0, 'Guatemala': 0.6157635467980296, 'Bolivia, Plurinational State of': 0.3412322274881517, 'Germany': 0.6948275862068966, 'Japan': 0.8195266272189349, 'Israel': 0.49056603773584906, 'Denmark': 0.11328125, 'Virgin Islands, U.S.': 0.5, 'Czechia': 0.14841849148418493, 'Colombia': 0.20418848167539264, 'Kazakhstan': 0, 'Jordan': 0.44, 'Ireland': 0.163727959697733, 'Uzbekistan': 0, 'United Kingdom': 0.7758339164917192, 'Korea, Republic of': 0.6797583081570997, 'Jersey': 0.1111111111111111, 'Cambodia': 0.33495145631067963, 'Luxembourg': 0.015625, 'Ecuador': 0.3096085409252669, 'Hungary': 0.2066869300911854, 'Curaçao': 0.3448275862068966, 'Eswatini': 0.512, 'Timor-Leste': 0, 'Åland Islands': 0.25, 'Taiwan, Province of China': 0.5298329355608592, 'Chile': 0.4296675191815857, 'Belize': 0, 'Tunisia': 0.5192307692307693, 'Syrian Arab Republic': 0, 'Uganda': 0.65, 'Senegal': 0.7797202797202797, 'Latvia': 0.05333333333333334, 'Belarus': 0, 'Türkiye': 0.41488020176544765, 'Azerbaijan': 0, 'Russian Federation': 0.7264221556886228, 'Lebanon': 0, 'Paraguay': 0, 'Kyrgyzstan': 0.6979166666666666, 'Tanzania, United Republic of': 0.3, 'Egypt': 0.6666666666666666, 'Belgium': 0.18059299191374664, 'Zimbabwe': 0, 'Mauritania': 0, 'United States': 0.7875462899465094, 'Italy': 0.462237365133447, 'Malta': 0.4186046511627907, 'France': 0.5672922252010724, 'Panama': 0, 'North Macedonia': 0.06542056074766354, 'Poland': 0.5194672131147541, 'Finland': 0.6569767441860465, 'Iceland': 0.5308641975308642, 'Ukraine': 0.3856749311294766, 'Singapore': 0.5892255892255892, 'Costa Rica': 0, 'Palestine, State of': 0.1643835616438356, 'Serbia': 0.20784313725490197, 'Philippines': 0.4298820445609437, 'Monaco': 0.3333333333333333, 'Uruguay': 0.3636363636363637, 'Argentina': 0.5355140186915888, 'Lithuania': 0.16292134831460675, 'Bangladesh': 0.7514450867052023, 'India': 0.9105, 'Albania': 0.1678832116788321, 'Croatia': 0.2172701949860724, 'Thailand': 0.5, 'New Zealand': 0.5291338582677165, 'Nepal': 0.2, 'Qatar': 0.6538461538461539, 'Madagascar': 0, 'Bulgaria': 0.2611764705882353, 'Spain': 0.3812801101169993, 'Gambia': 0.24390243902439024, 'Mexico': 0.526433358153388, 'Andorra': 0.2608695652173913, 'Indonesia': 0.7072599531615925, 'Isle of Man': 0, 'South Africa': 0.6105054509415263, 'Togo': 0, 'Canada': 0.3836553945249597, 'Rwanda': 0.6379310344827587, 'Nigeria': 0.60932944606414, 'Malaysia': 0.42183288409703507, 'Portugal': 0.23595505617977527, 'Montenegro': 0.2604166666666667, 'Burkina Faso': 0.4444444444444444, 'Bosnia and Herzegovina': 0}, '_runtime': 19709.159447669983, '_timestamp': 1719552344.8335717, 'Validation Loss': 1.5097175397424722, 'Best Validation Balanced Accuracy Top 1 (Mapped)': 0.45748048119739854, 'Best Validation Balanced Accuracy Top 1': 0.3559107025303671, '_wandb': {'runtime': 19942}, 'Train Loss': 0.8514326108860647, 'Train Accuracy Top 5': 0.94486799742434, 'Best Validation Accuracy Top 3': 0.8036870652222907, '_step': 25, 'Best Validation Loss': 1.5026756183318437, 'Validation Accuracy Top 5': 0.8695704433793591, 'Best Validation Accuracy Top 5': 0.8696305422419881},\n",
      "                'parameters': {'batch_size': 200,\n",
      "                               'data_augmentation': 'full_augmentation_v2',\n",
      "                               'dataset_identifier': '22a493044dbe99c1d431b9ee4656792efbb09ece4182274670ba5faec505d9cf',\n",
      "                               'dataset_size': 332786,\n",
      "                               'different_countries': 138,\n",
      "                               'different_regions': 4596,\n",
      "                               'epochs': 25,\n",
      "                               'input_image_size': [80, 130],\n",
      "                               'learning_rate': 0.001,\n",
      "                               'mapped_data': False,\n",
      "                               'model_name': 'efficientnet_b1',\n",
      "                               'optimizer': 'adamW',\n",
      "                               'predict_coordinates': False,\n",
      "                               'predict_regions': False,\n",
      "                               'seed': 42,\n",
      "                               'weight_decay': 0}}}\n"
     ]
    }
   ],
   "source": [
    "entity = resolve_env_variable(\"nlp_ls\", \"WANDB_ENTITY\", True)  # Please provide your own entity\n",
    "if entity == \"nlp_ls\":\n",
    "    print(\"Please provide your own wandb entity if you are not part of our project, add WANDB_ENTITY to your .env.\")\n",
    "\n",
    "predict_coordinates = False\n",
    "predict_regions = False\n",
    "run_id = None  # Only get specific run if needed\n",
    "project = \"dspro2-predicting-region\" if predict_regions else (\"dspro2-predicting-coordinates\" if predict_coordinates else \"dspro2-predicting-country\")\n",
    "metric_name = \"Best Validation Accuracy Top 1\" if not predict_coordinates else \"Best Validation Distance (km)\"\n",
    "data_augmentation = \"full_augmentation_v2\"  # or \"base_augmentation\"\n",
    "datasize = 332786  # Replace with the desired datasize\n",
    "file_names_to_download = [\".pth\", \".json\"]\n",
    "image_size = [80, 130]\n",
    "\n",
    "downloader = WandbDownloader(entity, project, data_augmentation, datasize, image_size)\n",
    "try:\n",
    "    run_data = downloader.get_and_collect_best_runs(metric_name, file_names_to_download, run_id=run_id)\n",
    "except Exception as e:\n",
    "    if entity == \"nlp_ls\":\n",
    "        print(\"Using our wandb entity publicly is not supported, please either provide your own entity, download the files manually or correctly authenticate.\")\n",
    "        raise ConnectionError(\"Using our wandb entity publicly is not supported, please either provide your own entity (add WANDB_ENTITY to your .env), download the files manually or correctly authenticate.\")\n",
    "    raise e"
   ]
  },
  {
   "cell_type": "code",
   "execution_count": 26,
   "metadata": {},
   "outputs": [
    {
     "name": "stdout",
     "output_type": "stream",
     "text": [
      "Best Validation Accuracy Top 1:  0.6489625433838665\n",
      "Best Validation Accuracy Top 3:  0.8256832489445137\n",
      "Best Validation Accuracy Top 5:  0.8824466246976276\n"
     ]
    }
   ],
   "source": [
    "# Print the validation accuracy for the top 1, 3, and 5 predictions\n",
    "if predict_coordinates:\n",
    "    print(f\"Best Validation Distance (km): \", run_data[\"Best Run 1\"][\"metrics\"][\"Best Validation Distance (km)\"])\n",
    "else:\n",
    "    for i in [1, 3, 5]:\n",
    "        print(f\"Best Validation Accuracy Top {i}: \", run_data[\"Best Run 1\"][\"metrics\"][f\"Best Validation Accuracy Top {i}\"])"
   ]
  },
  {
   "cell_type": "code",
   "execution_count": 27,
   "metadata": {},
   "outputs": [
    {
     "data": {
      "text/plain": [
       "{'seed': 42,\n",
       " 'epochs': 25,\n",
       " 'optimizer': 'adamW',\n",
       " 'batch_size': 200,\n",
       " 'model_name': 'efficientnet_b1',\n",
       " 'mapped_data': False,\n",
       " 'dataset_size': 332786,\n",
       " 'weight_decay': 0.01,\n",
       " 'learning_rate': 0.01,\n",
       " 'predict_regions': False,\n",
       " 'input_image_size': [80, 130],\n",
       " 'data_augmentation': 'full_augmentation_v2',\n",
       " 'different_regions': 4596,\n",
       " 'dataset_identifier': '22a493044dbe99c1d431b9ee4656792efbb09ece4182274670ba5faec505d9cf',\n",
       " 'different_countries': 138,\n",
       " 'predict_coordinates': False}"
      ]
     },
     "execution_count": 27,
     "metadata": {},
     "output_type": "execute_result"
    }
   ],
   "source": [
    "run_data[\"Best Run 1\"][\"parameters\"]"
   ]
  },
  {
   "cell_type": "code",
   "execution_count": 28,
   "metadata": {},
   "outputs": [
    {
     "data": {
      "text/plain": [
       "{'wandb_manifest.json': 'https://api.wandb.ai/files/nlp_ls/dspro2-predicting-country/bc69qzqh/artifact/931421173/wandb_manifest.json',\n",
       " 'best_model': 'https://api.wandb.ai/files/nlp_ls/dspro2-predicting-country/bc69qzqh/best_model_checkpointmodel_efficientnet_b1_lr_0.01_opt_adamW_weightDecay_0.01_imgSize_[80, 130]_predict_coordinates_False.pth',\n",
       " 'country_to_index.json': 'https://api.wandb.ai/files/nlp_ls/dspro2-predicting-country/bc69qzqh/run-20240627_133143-bc69qzqh/country_to_index.json',\n",
       " 'region_index_to_country_index.json': 'https://api.wandb.ai/files/nlp_ls/dspro2-predicting-country/bc69qzqh/run-20240627_133143-bc69qzqh/region_index_to_country_index.json',\n",
       " 'region_index_to_middle_point.json': 'https://api.wandb.ai/files/nlp_ls/dspro2-predicting-country/bc69qzqh/run-20240627_133143-bc69qzqh/region_index_to_middle_point.json',\n",
       " 'region_to_index.json': 'https://api.wandb.ai/files/nlp_ls/dspro2-predicting-country/bc69qzqh/run-20240627_133143-bc69qzqh/region_to_index.json',\n",
       " 'test_data.pth': 'https://api.wandb.ai/files/nlp_ls/dspro2-predicting-country/bc69qzqh/run-20240627_133143-bc69qzqh/test_data.pth',\n",
       " 'wandb-metadata.json': 'https://api.wandb.ai/files/nlp_ls/dspro2-predicting-country/bc69qzqh/wandb-metadata.json',\n",
       " 'wandb-summary.json': 'https://api.wandb.ai/files/nlp_ls/dspro2-predicting-country/bc69qzqh/wandb-summary.json',\n",
       " 'test_data': 'https://api.wandb.ai/files/nlp_ls/dspro2-predicting-country/bc69qzqh/run-20240627_133143-bc69qzqh/test_data.pth'}"
      ]
     },
     "execution_count": 28,
     "metadata": {},
     "output_type": "execute_result"
    }
   ],
   "source": [
    "run_data[\"Best Run 1\"][\"files\"]"
   ]
  },
  {
   "cell_type": "markdown",
   "metadata": {},
   "source": [
    "## Loading data and creating data loader"
   ]
  },
  {
   "cell_type": "code",
   "execution_count": 29,
   "metadata": {},
   "outputs": [
    {
     "name": "stdout",
     "output_type": "stream",
     "text": [
      "Loaded 138 countries.\n",
      "Loaded 4596 regions.\n",
      "Loaded 4596 region middle points.\n",
      "Loaded 3595 region to country index mappings.\n"
     ]
    }
   ],
   "source": [
    "run = None\n",
    "\n",
    "for i in range(min(len(run_data.keys()), 5)):\n",
    "    run = run_data[f\"Best Run {i+1}\"]\n",
    "    if run[\"files\"].get(\"best_model\", None):\n",
    "        break\n",
    "    else:\n",
    "        run = None\n",
    "        print(f\"Run {i+1} does not contain the necessary files. Trying the next run...\")\n",
    "\n",
    "if run is None:\n",
    "    raise Exception(\"No run with the necessary files found.\")\n",
    "\n",
    "augmented_transform = None  # Never used for test data\n",
    "base_transform = transforms.Compose([transforms.Resize((image_size[0], image_size[1])), transforms.ToTensor(), transforms.Normalize((0.5, 0.5, 0.5), (0.5, 0.5, 0.5))])\n",
    "\n",
    "# Creating Dataloaders with the classes\n",
    "files = run[\"files\"]\n",
    "country_to_index = files.get(\"country_to_index.json\", None)\n",
    "region_to_index = files.get(\"region_to_index.json\", None)\n",
    "region_index_to_middle_point = files.get(\"region_index_to_middle_point.json\", None)\n",
    "region_index_to_country_index = files.get(\"region_index_to_country_index.json\", None)\n",
    "\n",
    "data_handler = DeployImageDataHandler(country_to_index, region_to_index, region_index_to_middle_point, region_index_to_country_index, base_transform)\n",
    "country_to_index = data_handler.country_to_index\n",
    "region_to_index = data_handler.region_to_index\n",
    "region_index_to_middle_point = data_handler.region_index_to_middle_point\n",
    "region_index_to_country_index = data_handler.region_index_to_country_index\n",
    "\n",
    "num_regions = data_handler.num_regions\n",
    "num_countries = data_handler.num_countries"
   ]
  },
  {
   "cell_type": "markdown",
   "metadata": {},
   "source": [
    "## Deploying the model"
   ]
  },
  {
   "cell_type": "code",
   "execution_count": 30,
   "metadata": {},
   "outputs": [],
   "source": [
    "num_classes = 3 if predict_coordinates else (num_regions if predict_regions else num_countries)\n",
    "\n",
    "if num_classes == 0:\n",
    "    raise ValueError(\"No classes detected. Please check the data.\")\n",
    "\n",
    "geo_model = GeoModelDeployer(num_classes=num_classes, predict_coordinates=predict_coordinates, country_to_index=country_to_index, region_to_index=region_to_index, region_index_to_middle_point=region_index_to_middle_point, region_index_to_country_index=region_index_to_country_index, predict_regions=predict_regions if not predict_coordinates else None)"
   ]
  },
  {
   "cell_type": "code",
   "execution_count": 31,
   "metadata": {},
   "outputs": [],
   "source": [
    "model_name = run[\"parameters\"][\"model_name\"]\n",
    "pretrained_weights = run[\"files\"][\"best_model\"]\n",
    "\n",
    "geo_model.prepare(model_type=model_name, model_path=pretrained_weights)"
   ]
  },
  {
   "cell_type": "code",
   "execution_count": 32,
   "metadata": {},
   "outputs": [
    {
     "name": "stdout",
     "output_type": "stream",
     "text": [
      "\n",
      "./test_street_germany.png\n",
      "\n",
      "Country 1: Germany (40) with Probability: 1.00\n",
      "Country 2: France (38) with Probability: 0.00\n",
      "Country 3: Netherlands (86) with Probability: 0.00\n",
      "Country 4: Czechia (28) with Probability: 0.00\n",
      "Country 5: Luxembourg (72) with Probability: 0.00\n",
      "\n",
      "./test_mexico.jpg\n",
      "Cropping image to 16:9 aspect ratio.\n",
      "\n",
      "Country 1: Mexico (79) with Probability: 0.75\n",
      "Country 2: Colombia (23) with Probability: 0.09\n",
      "Country 3: Guatemala (43) with Probability: 0.04\n",
      "Country 4: Brazil (15) with Probability: 0.04\n",
      "Country 5: Serbia (109) with Probability: 0.03\n"
     ]
    }
   ],
   "source": [
    "test_file_names = [\"./test_street_germany.png\", \"./test_mexico.jpg\"]\n",
    "\n",
    "for test_file_name in test_file_names:\n",
    "\n",
    "    # new line\n",
    "    print()\n",
    "\n",
    "    print(test_file_name)\n",
    "\n",
    "    if predict_coordinates:\n",
    "        coordinates, cartesian = geo_model.predict_single(data_handler.load_single_image(test_file_name), top_n=5)\n",
    "\n",
    "        # new line\n",
    "        print()\n",
    "\n",
    "        print(f\"Predicted Coordinates: {coordinates} (Cartesian: {cartesian})\")\n",
    "    else:\n",
    "        if predict_regions:\n",
    "            regions, region_indices, region_probabilities, countries, country_indices, country_probabilities, corresponding_countries, corresponding_country_indices = geo_model.predict_single(data_handler.load_single_image(test_file_name), top_n=5)\n",
    "\n",
    "            # new line\n",
    "            print()\n",
    "\n",
    "            # Print the top 5 regions\n",
    "            for i, (region, region_index, region_probability, corresponding_country, corresponding_country_index) in enumerate(zip(regions, region_indices, region_probabilities, corresponding_countries, corresponding_country_indices)):\n",
    "                print(f\"Region {i+1}: {region} ({region_index}) with Probability: {region_probability:.3f}, in Country: {corresponding_country} ({corresponding_country_index})\")\n",
    "        else:\n",
    "            countries, country_indices, country_probabilities = geo_model.predict_single(data_handler.load_single_image(test_file_name), top_n=5)\n",
    "\n",
    "        # new line\n",
    "        print()\n",
    "\n",
    "        # Print the top 5 countries\n",
    "        for i, (country, country_index, country_probability) in enumerate(zip(countries, country_indices, country_probabilities)):\n",
    "            print(f\"Country {i+1}: {country} ({country_index}) with Probability: {country_probability:.2f}\")\n",
    "\n",
    "# Multiple would be like this, every value is returned as a list, zip them to iterate over samples\n",
    "# geo_model.predict(data_handler.load_images(['./test1.png', './test2.png']), top_n=5)"
   ]
  }
 ],
 "metadata": {
  "kernelspec": {
   "display_name": "Python 3 (ipykernel)",
   "language": "python",
   "name": "python3"
  },
  "language_info": {
   "codemirror_mode": {
    "name": "ipython",
    "version": 3
   },
   "file_extension": ".py",
   "mimetype": "text/x-python",
   "name": "python",
   "nbconvert_exporter": "python",
   "pygments_lexer": "ipython3",
   "version": "3.12.3"
  }
 },
 "nbformat": 4,
 "nbformat_minor": 4
}
